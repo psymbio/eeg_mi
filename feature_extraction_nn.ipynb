{
 "cells": [
  {
   "cell_type": "code",
   "execution_count": 1,
   "metadata": {},
   "outputs": [],
   "source": [
    "import os\n",
    "import chardet\n",
    "from pathlib import Path\n",
    "import pyeeg\n",
    "\n",
    "import mne\n",
    "import numpy as np\n",
    "import pandas as pd\n",
    "\n",
    "from sklearn.model_selection import train_test_split\n",
    "from sklearn.preprocessing import MinMaxScaler, StandardScaler\n",
    "from sklearn.decomposition import PCA\n",
    "from sklearn.metrics import r2_score\n",
    "from sklearn.metrics import confusion_matrix\n",
    "from sklearn.svm import SVC\n",
    "\n",
    "import tensorflow as tf\n",
    "from tensorflow import keras\n",
    "from tensorflow.keras import layers\n",
    "\n",
    "import matplotlib.pyplot as plt"
   ]
  },
  {
   "cell_type": "markdown",
   "metadata": {},
   "source": [
    "Worked on after eeg_motor_imagery_nn.ipynb to extract various features and then model. \n",
    "\n",
    "Changes needed:\n",
    "edit 27th July, 2022\n",
    "1. for each of the epochs break into various bands [break into 5 bands alpha, beta...] start calculating the features\n",
    "2. features: psd, attention (alpha band/beta band), frontal assymetery (difference between the left hemisphere and right)\n",
    "3. average of time_series_data (just take the average of epoch)\n",
    "\n",
    "\n",
    "Sources used:\n",
    "https://mne.tools/stable/generated/mne.time_frequency.psd_welch.html (visited: 05/08/2022)\n",
    "https://mne.tools/stable/auto_tutorials/time-freq/20_sensors_time_frequency.html#sphx-glr-auto-tutorials-time-freq-20-sensors-time-frequency-py (visited: 05/08/2022)"
   ]
  },
  {
   "cell_type": "code",
   "execution_count": 2,
   "metadata": {},
   "outputs": [],
   "source": [
    "def load_subjects_task(subject, task, run_number_left = 0, run_number_right = 3):\n",
    "    event_id = dict(hands=2, feet=3)\n",
    "    runs = [[3, 7, 11], [4, 8, 12], [5, 9, 13], [6, 10, 14]]   \n",
    "    # runs[0] open and close left or right fist\n",
    "    # runs[1] imagine opening and closing left or right fist\n",
    "    # runs[2] open and close both fists or both feet\n",
    "    # runs[3] imagine opening and closing both fists or both feet\n",
    "\n",
    "    \"\"\"\n",
    "        T0 corresponds to rest\n",
    "        T1 corresponds to onset of motion (real or imagined) of\n",
    "            the left fist (in runs 3, 4, 7, 8, 11, and 12)\n",
    "            both fists (in runs 5, 6, 9, 10, 13, and 14)\n",
    "        T2 corresponds to onset of motion (real or imagined) of\n",
    "            the right fist (in runs 3, 4, 7, 8, 11, and 12)\n",
    "            both feet (in runs 5, 6, 9, 10, 13, and 14)\n",
    "    \"\"\"\n",
    "    raw_fnames = mne.datasets.eegbci.load_data(subject, runs[task][run_number_left:run_number_right])\n",
    "    raw = mne.io.concatenate_raws([mne.io.read_raw_edf(f, preload=True) for f in raw_fnames])\n",
    "    channel_rename_dict = {'Fc5.':'FC5', 'Fc3.':'FC3', 'Fc1.':'FC1', 'Fcz.':'FCz', \n",
    "                      'Fc2.':'FC2', 'Fc4.':'FC4', 'Fc6.':'FC6', 'C5..':'C5', \n",
    "                      'C3..':'C3', 'C1..':'C1', 'Cz..':'Cz', 'C2..':'C2', \n",
    "                      'C4..':'C4', 'C6..':'C6', 'Cp5.':'CP5', 'Cp3.':'CP3', \n",
    "                      'Cp1.':'CP1', 'Cpz.':'CPz', 'Cp2.':'CP2', 'Cp4.':'CP4', \n",
    "                      'Cp6.':'CP6', 'Fp1.':'Fp1', 'Fpz.':'Fpz', 'Fp2.':'Fp2', \n",
    "                      'Af7.':'AF7', 'Af3.':'AF3', 'Afz.':'AFz', 'Af4.':'AF4', \n",
    "                      'Af8.':'AF8', 'F7..':'F7', 'F5..':'F5', 'F3..':'F3', \n",
    "                      'F1..':'F1', 'Fz..':'Fz', 'F2..':'F2', 'F4..':'F4', \n",
    "                      'F6..':'F6', 'F8..':'F8', 'Ft7.':'FT7', 'Ft8.':'FT8', \n",
    "                      'T7..':'T7', 'T8..':'T8', 'T9..':'T9', 'T10.':'T10', \n",
    "                      'Tp7.':'TP7', 'Tp8.':'TP8', 'P7..':'P7', 'P5..':'P5', \n",
    "                      'P3..':'P3', 'P1..':'P1', 'Pz..':'Pz', 'P2..':'P2', \n",
    "                      'P4..':'P4', 'P6..':'P6', 'P8..':'P8', 'Po7.':'PO7', \n",
    "                      'Po3.':'PO3', 'Poz.':'POz', 'Po4.':'PO4', 'Po8.':'PO8', \n",
    "                      'O1..':'O1', 'Oz..':'Oz', 'O2..':'O2', 'Iz..':'Iz'}\n",
    "    raw.rename_channels(channel_rename_dict)\n",
    "    montage = mne.channels.make_standard_montage('standard_1005')\n",
    "    raw.set_montage(montage)\n",
    "    events, _ = mne.events_from_annotations(raw, event_id=dict(T0=1, T1=2, T2=3))\n",
    "    return raw, events"
   ]
  },
  {
   "cell_type": "code",
   "execution_count": 3,
   "metadata": {},
   "outputs": [],
   "source": [
    "def fft_mean(data, fs, plotting = 0):\n",
    "    \"\"\"\n",
    "    Parameters\n",
    "    ----------\n",
    "    data : is 1d list/np.array\n",
    "        of the signal\n",
    "    fs : int\n",
    "        sampling frequency\n",
    "    plotting : int | 0 or 1\n",
    "        plots the eeg band values\n",
    "    \n",
    "    Returns\n",
    "    -------\n",
    "    eeg_band_fft : dict \n",
    "        mean of power of signal in that band\n",
    "    \"\"\"\n",
    "    # data is 1d\n",
    "    # Get real amplitudes of FFT (only in postive frequencies)\n",
    "    fft_vals = np.absolute(np.fft.rfft(data))\n",
    "    # Get frequencies for amplitudes in Hz\n",
    "    fft_freq = np.fft.rfftfreq(len(data), 1.0/fs)\n",
    "    # print(fft_vals.shape, fft_freq.shape)\n",
    "    \n",
    "    # Define EEG bands\n",
    "    eeg_bands = {'Delta': (0, 4),\n",
    "                 'Theta': (4, 8),\n",
    "                 'Alpha': (8, 12),\n",
    "                 'Beta': (12, 30),\n",
    "                 'Gamma': (30, 45)}\n",
    "\n",
    "    # Take the mean of the fft amplitude for each EEG band\n",
    "    # TODO: doubt should I take mean of this or not\n",
    "    eeg_band_fft = dict()\n",
    "    for band in eeg_bands:  \n",
    "        freq_ix = np.where((fft_freq >= eeg_bands[band][0]) & \n",
    "                           (fft_freq <= eeg_bands[band][1]))[0]\n",
    "        eeg_band_fft[band] = np.mean(fft_vals[freq_ix])\n",
    "        # eeg_band_fft[band] = fft_vals[freq_ix]\n",
    "    \n",
    "    # print(\"PRINTING EEG_BAND_FFT\", eeg_band_fft)\n",
    "    # Plot the data (using pandas here cause it's easy)\n",
    "    if plotting == 1:\n",
    "        df = pd.DataFrame(columns=['band', 'val'])\n",
    "        df['band'] = eeg_bands.keys()\n",
    "        df['val'] = [eeg_band_fft[band] for band in eeg_bands]\n",
    "        for band in eeg_bands:\n",
    "            print(eeg_band_fft[band])\n",
    "        ax = df.plot.bar(x='band', y='val', legend=False)\n",
    "        ax.set_xlabel(\"EEG band\")\n",
    "        ax.set_ylabel(\"Mean band Amplitude\")\n",
    "    return eeg_band_fft"
   ]
  },
  {
   "cell_type": "code",
   "execution_count": 4,
   "metadata": {},
   "outputs": [],
   "source": [
    "def preprocess_raw_data_2d_extract_features(raw, events, participant_id, df_eeg_features, plotting=0):\n",
    "    # edit 27th July, 2022\n",
    "    # for each of the epochs break into various bands [break into 5 bands alpha, beta...]\n",
    "    # start calculating the features\n",
    "    # features: psd, attention (alpha band/beta band), frontal assymetery (difference between the left hemisphere and right)\n",
    "    # average of time_series_data (just take the average of epoch)\n",
    "    raw.filter(7., 30., fir_design='firwin', skip_by_annotation='edge')\n",
    "    event_id = dict(hands=2, feet=3)\n",
    "    tmin, tmax = -1., 4.\n",
    "    picks = mne.pick_types(raw.info, meg=False, eeg=True, stim=False, eog=False)\n",
    "    epochs = mne.Epochs(raw, events, event_id, tmin, tmax, proj=True, picks=picks,\n",
    "                baseline=None, preload=True)\n",
    "    epochs_train = epochs.copy().crop(tmin=1., tmax=2.)\n",
    "    labels = epochs.events[:, -1] - 2\n",
    "    i = 0\n",
    "    for epoch in epochs_train:\n",
    "        \n",
    "        # bands\n",
    "        eeg_band_fft = fft_mean(epoch, epochs.info['sfreq'])\n",
    "        # print(eeg_band_fft)\n",
    "        eeg_band_fft[\"label\"] = labels[i]\n",
    "        eeg_band_fft[\"participant_id\"] = participant_id\n",
    "        \n",
    "        # epoch average\n",
    "        epoch_avg = np.average(epoch)\n",
    "        eeg_band_fft[\"epoch_avg\"] = epoch_avg\n",
    "        \n",
    "        # psd\n",
    "        # TODO: DOUBT how to add this to dataset\n",
    "        # what should n_fft be: 161, 100, or 99\n",
    "        kwargs = dict(fmin=2, fmax=40)\n",
    "        psds_welch_mean, freqs_mean = mne.time_frequency.psd_welch(epochs_train[i], n_fft=99, average='mean', **kwargs)\n",
    "        psds_welch_median, freqs_median = mne.time_frequency.psd_welch(epochs_train[i], n_fft=99, average='median', **kwargs)\n",
    "        \n",
    "        \n",
    "        if plotting == 1:\n",
    "            # We will only plot the PSD for a single sensor in the first epoch.\n",
    "            ch_name = 'Fp1'\n",
    "            ch_idx = epochs.info['ch_names'].index(ch_name)\n",
    "            print(\"PRINTING CH_IDX\", ch_idx)\n",
    "            epo_idx = 0\n",
    "            _, ax = plt.subplots()\n",
    "            ax.plot(freqs_mean, psds_welch_mean[epo_idx, ch_idx, :], color='k',\n",
    "                    ls='-', label='mean of segments')\n",
    "            ax.plot(freqs_median, psds_welch_median[epo_idx, ch_idx, :], color='k',\n",
    "                    ls='--', label='median of segments')\n",
    "\n",
    "            ax.set(title='Welch PSD ({}, Epoch {})'.format(ch_name, epo_idx),\n",
    "                   xlabel='Frequency (Hz)', ylabel='Power Spectral Density (dB)')\n",
    "            ax.legend(loc='upper right')\n",
    "            plt.show()\n",
    "\n",
    "        \n",
    "        df_eeg_features = df_eeg_features.append(eeg_band_fft, ignore_index=True)\n",
    "        i += 1\n",
    "    return df_eeg_features"
   ]
  },
  {
   "cell_type": "code",
   "execution_count": 5,
   "metadata": {},
   "outputs": [],
   "source": [
    "def load_participant_data_extract_features(num_of_participants = 109):\n",
    "    training_data_of_participants = []\n",
    "    labels_of_participants = []\n",
    "    df_eeg_features = pd.DataFrame()\n",
    "    for i in range(1, num_of_participants + 1):\n",
    "        subject_raw, subject_events = load_subjects_task(i, 0)\n",
    "        df_eeg_features = preprocess_raw_data_2d_extract_features(subject_raw, subject_events, i, df_eeg_features, plotting = 0)\n",
    "    return df_eeg_features"
   ]
  },
  {
   "cell_type": "code",
   "execution_count": 6,
   "metadata": {},
   "outputs": [
    {
     "name": "stdout",
     "output_type": "stream",
     "text": [
      "Extracting EDF parameters from /home/vanilla_skies/mne_data/MNE-eegbci-data/files/eegmmidb/1.0.0/S001/S001R03.edf...\n",
      "EDF file detected\n",
      "Setting channel info structure...\n",
      "Creating raw.info structure...\n",
      "Reading 0 ... 19999  =      0.000 ...   124.994 secs...\n",
      "Extracting EDF parameters from /home/vanilla_skies/mne_data/MNE-eegbci-data/files/eegmmidb/1.0.0/S001/S001R07.edf...\n",
      "EDF file detected\n",
      "Setting channel info structure...\n",
      "Creating raw.info structure...\n",
      "Reading 0 ... 19999  =      0.000 ...   124.994 secs...\n",
      "Extracting EDF parameters from /home/vanilla_skies/mne_data/MNE-eegbci-data/files/eegmmidb/1.0.0/S001/S001R11.edf...\n",
      "EDF file detected\n",
      "Setting channel info structure...\n",
      "Creating raw.info structure...\n",
      "Reading 0 ... 19999  =      0.000 ...   124.994 secs...\n",
      "Used Annotations descriptions: ['T0', 'T1', 'T2']\n",
      "Filtering raw data in 3 contiguous segments\n",
      "Setting up band-pass filter from 7 - 30 Hz\n",
      "\n",
      "FIR filter parameters\n",
      "---------------------\n",
      "Designing a one-pass, zero-phase, non-causal bandpass filter:\n",
      "- Windowed time-domain design (firwin) method\n",
      "- Hamming window with 0.0194 passband ripple and 53 dB stopband attenuation\n",
      "- Lower passband edge: 7.00\n",
      "- Lower transition bandwidth: 2.00 Hz (-6 dB cutoff frequency: 6.00 Hz)\n",
      "- Upper passband edge: 30.00 Hz\n",
      "- Upper transition bandwidth: 7.50 Hz (-6 dB cutoff frequency: 33.75 Hz)\n",
      "- Filter length: 265 samples (1.656 sec)\n",
      "\n",
      "Not setting metadata\n",
      "45 matching events found\n",
      "No baseline correction applied\n",
      "0 projection items activated\n",
      "Using data from preloaded Raw for 45 events and 801 original time points ...\n",
      "0 bad epochs dropped\n",
      "Effective window size : 0.619 (s)\n",
      "Effective window size : 0.619 (s)\n",
      "Effective window size : 0.619 (s)\n",
      "Effective window size : 0.619 (s)\n",
      "Effective window size : 0.619 (s)\n",
      "Effective window size : 0.619 (s)\n",
      "Effective window size : 0.619 (s)\n",
      "Effective window size : 0.619 (s)\n"
     ]
    },
    {
     "name": "stderr",
     "output_type": "stream",
     "text": [
      "/tmp/ipykernel_18001/1951054575.py:54: FutureWarning: The frame.append method is deprecated and will be removed from pandas in a future version. Use pandas.concat instead.\n",
      "  df_eeg_features = df_eeg_features.append(eeg_band_fft, ignore_index=True)\n",
      "/tmp/ipykernel_18001/1951054575.py:54: FutureWarning: The frame.append method is deprecated and will be removed from pandas in a future version. Use pandas.concat instead.\n",
      "  df_eeg_features = df_eeg_features.append(eeg_band_fft, ignore_index=True)\n",
      "/tmp/ipykernel_18001/1951054575.py:54: FutureWarning: The frame.append method is deprecated and will be removed from pandas in a future version. Use pandas.concat instead.\n",
      "  df_eeg_features = df_eeg_features.append(eeg_band_fft, ignore_index=True)\n"
     ]
    },
    {
     "name": "stdout",
     "output_type": "stream",
     "text": [
      "Effective window size : 0.619 (s)\n",
      "Effective window size : 0.619 (s)\n",
      "Effective window size : 0.619 (s)\n",
      "Effective window size : 0.619 (s)\n",
      "Effective window size : 0.619 (s)\n",
      "Effective window size : 0.619 (s)\n"
     ]
    },
    {
     "name": "stderr",
     "output_type": "stream",
     "text": [
      "/tmp/ipykernel_18001/1951054575.py:54: FutureWarning: The frame.append method is deprecated and will be removed from pandas in a future version. Use pandas.concat instead.\n",
      "  df_eeg_features = df_eeg_features.append(eeg_band_fft, ignore_index=True)\n",
      "/tmp/ipykernel_18001/1951054575.py:54: FutureWarning: The frame.append method is deprecated and will be removed from pandas in a future version. Use pandas.concat instead.\n",
      "  df_eeg_features = df_eeg_features.append(eeg_band_fft, ignore_index=True)\n",
      "/tmp/ipykernel_18001/1951054575.py:54: FutureWarning: The frame.append method is deprecated and will be removed from pandas in a future version. Use pandas.concat instead.\n",
      "  df_eeg_features = df_eeg_features.append(eeg_band_fft, ignore_index=True)\n"
     ]
    },
    {
     "name": "stdout",
     "output_type": "stream",
     "text": [
      "Effective window size : 0.619 (s)\n",
      "Effective window size : 0.619 (s)\n",
      "Effective window size : 0.619 (s)\n",
      "Effective window size : 0.619 (s)\n",
      "Effective window size : 0.619 (s)\n",
      "Effective window size : 0.619 (s)\n"
     ]
    },
    {
     "name": "stderr",
     "output_type": "stream",
     "text": [
      "/tmp/ipykernel_18001/1951054575.py:54: FutureWarning: The frame.append method is deprecated and will be removed from pandas in a future version. Use pandas.concat instead.\n",
      "  df_eeg_features = df_eeg_features.append(eeg_band_fft, ignore_index=True)\n",
      "/tmp/ipykernel_18001/1951054575.py:54: FutureWarning: The frame.append method is deprecated and will be removed from pandas in a future version. Use pandas.concat instead.\n",
      "  df_eeg_features = df_eeg_features.append(eeg_band_fft, ignore_index=True)\n",
      "/tmp/ipykernel_18001/1951054575.py:54: FutureWarning: The frame.append method is deprecated and will be removed from pandas in a future version. Use pandas.concat instead.\n",
      "  df_eeg_features = df_eeg_features.append(eeg_band_fft, ignore_index=True)\n"
     ]
    },
    {
     "name": "stdout",
     "output_type": "stream",
     "text": [
      "Effective window size : 0.619 (s)\n",
      "Effective window size : 0.619 (s)\n",
      "Effective window size : 0.619 (s)\n",
      "Effective window size : 0.619 (s)\n",
      "Effective window size : 0.619 (s)\n"
     ]
    },
    {
     "name": "stderr",
     "output_type": "stream",
     "text": [
      "/tmp/ipykernel_18001/1951054575.py:54: FutureWarning: The frame.append method is deprecated and will be removed from pandas in a future version. Use pandas.concat instead.\n",
      "  df_eeg_features = df_eeg_features.append(eeg_band_fft, ignore_index=True)\n",
      "/tmp/ipykernel_18001/1951054575.py:54: FutureWarning: The frame.append method is deprecated and will be removed from pandas in a future version. Use pandas.concat instead.\n",
      "  df_eeg_features = df_eeg_features.append(eeg_band_fft, ignore_index=True)\n",
      "/tmp/ipykernel_18001/1951054575.py:54: FutureWarning: The frame.append method is deprecated and will be removed from pandas in a future version. Use pandas.concat instead.\n",
      "  df_eeg_features = df_eeg_features.append(eeg_band_fft, ignore_index=True)\n"
     ]
    },
    {
     "name": "stdout",
     "output_type": "stream",
     "text": [
      "Effective window size : 0.619 (s)\n",
      "Effective window size : 0.619 (s)\n",
      "Effective window size : 0.619 (s)\n",
      "Effective window size : 0.619 (s)\n",
      "Effective window size : 0.619 (s)\n",
      "Effective window size : 0.619 (s)\n",
      "Effective window size : 0.619 (s)\n"
     ]
    },
    {
     "name": "stderr",
     "output_type": "stream",
     "text": [
      "/tmp/ipykernel_18001/1951054575.py:54: FutureWarning: The frame.append method is deprecated and will be removed from pandas in a future version. Use pandas.concat instead.\n",
      "  df_eeg_features = df_eeg_features.append(eeg_band_fft, ignore_index=True)\n",
      "/tmp/ipykernel_18001/1951054575.py:54: FutureWarning: The frame.append method is deprecated and will be removed from pandas in a future version. Use pandas.concat instead.\n",
      "  df_eeg_features = df_eeg_features.append(eeg_band_fft, ignore_index=True)\n",
      "/tmp/ipykernel_18001/1951054575.py:54: FutureWarning: The frame.append method is deprecated and will be removed from pandas in a future version. Use pandas.concat instead.\n",
      "  df_eeg_features = df_eeg_features.append(eeg_band_fft, ignore_index=True)\n"
     ]
    },
    {
     "name": "stdout",
     "output_type": "stream",
     "text": [
      "Effective window size : 0.619 (s)\n",
      "Effective window size : 0.619 (s)\n",
      "Effective window size : 0.619 (s)\n",
      "Effective window size : 0.619 (s)\n",
      "Effective window size : 0.619 (s)\n",
      "Effective window size : 0.619 (s)\n"
     ]
    },
    {
     "name": "stderr",
     "output_type": "stream",
     "text": [
      "/tmp/ipykernel_18001/1951054575.py:54: FutureWarning: The frame.append method is deprecated and will be removed from pandas in a future version. Use pandas.concat instead.\n",
      "  df_eeg_features = df_eeg_features.append(eeg_band_fft, ignore_index=True)\n",
      "/tmp/ipykernel_18001/1951054575.py:54: FutureWarning: The frame.append method is deprecated and will be removed from pandas in a future version. Use pandas.concat instead.\n",
      "  df_eeg_features = df_eeg_features.append(eeg_band_fft, ignore_index=True)\n",
      "/tmp/ipykernel_18001/1951054575.py:54: FutureWarning: The frame.append method is deprecated and will be removed from pandas in a future version. Use pandas.concat instead.\n",
      "  df_eeg_features = df_eeg_features.append(eeg_band_fft, ignore_index=True)\n"
     ]
    },
    {
     "name": "stdout",
     "output_type": "stream",
     "text": [
      "Effective window size : 0.619 (s)\n",
      "Effective window size : 0.619 (s)\n",
      "Effective window size : 0.619 (s)\n",
      "Effective window size : 0.619 (s)\n",
      "Effective window size : 0.619 (s)\n",
      "Effective window size : 0.619 (s)\n"
     ]
    },
    {
     "name": "stderr",
     "output_type": "stream",
     "text": [
      "/tmp/ipykernel_18001/1951054575.py:54: FutureWarning: The frame.append method is deprecated and will be removed from pandas in a future version. Use pandas.concat instead.\n",
      "  df_eeg_features = df_eeg_features.append(eeg_band_fft, ignore_index=True)\n",
      "/tmp/ipykernel_18001/1951054575.py:54: FutureWarning: The frame.append method is deprecated and will be removed from pandas in a future version. Use pandas.concat instead.\n",
      "  df_eeg_features = df_eeg_features.append(eeg_band_fft, ignore_index=True)\n",
      "/tmp/ipykernel_18001/1951054575.py:54: FutureWarning: The frame.append method is deprecated and will be removed from pandas in a future version. Use pandas.concat instead.\n",
      "  df_eeg_features = df_eeg_features.append(eeg_band_fft, ignore_index=True)\n"
     ]
    },
    {
     "name": "stdout",
     "output_type": "stream",
     "text": [
      "Effective window size : 0.619 (s)\n",
      "Effective window size : 0.619 (s)\n",
      "Effective window size : 0.619 (s)\n",
      "Effective window size : 0.619 (s)\n",
      "Effective window size : 0.619 (s)\n",
      "Effective window size : 0.619 (s)\n"
     ]
    },
    {
     "name": "stderr",
     "output_type": "stream",
     "text": [
      "/tmp/ipykernel_18001/1951054575.py:54: FutureWarning: The frame.append method is deprecated and will be removed from pandas in a future version. Use pandas.concat instead.\n",
      "  df_eeg_features = df_eeg_features.append(eeg_band_fft, ignore_index=True)\n",
      "/tmp/ipykernel_18001/1951054575.py:54: FutureWarning: The frame.append method is deprecated and will be removed from pandas in a future version. Use pandas.concat instead.\n",
      "  df_eeg_features = df_eeg_features.append(eeg_band_fft, ignore_index=True)\n",
      "/tmp/ipykernel_18001/1951054575.py:54: FutureWarning: The frame.append method is deprecated and will be removed from pandas in a future version. Use pandas.concat instead.\n",
      "  df_eeg_features = df_eeg_features.append(eeg_band_fft, ignore_index=True)\n"
     ]
    },
    {
     "name": "stdout",
     "output_type": "stream",
     "text": [
      "Effective window size : 0.619 (s)\n",
      "Effective window size : 0.619 (s)\n",
      "Effective window size : 0.619 (s)\n",
      "Effective window size : 0.619 (s)\n",
      "Effective window size : 0.619 (s)\n",
      "Effective window size : 0.619 (s)\n"
     ]
    },
    {
     "name": "stderr",
     "output_type": "stream",
     "text": [
      "/tmp/ipykernel_18001/1951054575.py:54: FutureWarning: The frame.append method is deprecated and will be removed from pandas in a future version. Use pandas.concat instead.\n",
      "  df_eeg_features = df_eeg_features.append(eeg_band_fft, ignore_index=True)\n",
      "/tmp/ipykernel_18001/1951054575.py:54: FutureWarning: The frame.append method is deprecated and will be removed from pandas in a future version. Use pandas.concat instead.\n",
      "  df_eeg_features = df_eeg_features.append(eeg_band_fft, ignore_index=True)\n",
      "/tmp/ipykernel_18001/1951054575.py:54: FutureWarning: The frame.append method is deprecated and will be removed from pandas in a future version. Use pandas.concat instead.\n",
      "  df_eeg_features = df_eeg_features.append(eeg_band_fft, ignore_index=True)\n"
     ]
    },
    {
     "name": "stdout",
     "output_type": "stream",
     "text": [
      "Effective window size : 0.619 (s)\n",
      "Effective window size : 0.619 (s)\n",
      "Effective window size : 0.619 (s)\n",
      "Effective window size : 0.619 (s)\n",
      "Effective window size : 0.619 (s)\n",
      "Effective window size : 0.619 (s)\n"
     ]
    },
    {
     "name": "stderr",
     "output_type": "stream",
     "text": [
      "/tmp/ipykernel_18001/1951054575.py:54: FutureWarning: The frame.append method is deprecated and will be removed from pandas in a future version. Use pandas.concat instead.\n",
      "  df_eeg_features = df_eeg_features.append(eeg_band_fft, ignore_index=True)\n",
      "/tmp/ipykernel_18001/1951054575.py:54: FutureWarning: The frame.append method is deprecated and will be removed from pandas in a future version. Use pandas.concat instead.\n",
      "  df_eeg_features = df_eeg_features.append(eeg_band_fft, ignore_index=True)\n",
      "/tmp/ipykernel_18001/1951054575.py:54: FutureWarning: The frame.append method is deprecated and will be removed from pandas in a future version. Use pandas.concat instead.\n",
      "  df_eeg_features = df_eeg_features.append(eeg_band_fft, ignore_index=True)\n"
     ]
    },
    {
     "name": "stdout",
     "output_type": "stream",
     "text": [
      "Effective window size : 0.619 (s)\n",
      "Effective window size : 0.619 (s)\n",
      "Effective window size : 0.619 (s)\n",
      "Effective window size : 0.619 (s)\n",
      "Effective window size : 0.619 (s)\n",
      "Effective window size : 0.619 (s)\n"
     ]
    },
    {
     "name": "stderr",
     "output_type": "stream",
     "text": [
      "/tmp/ipykernel_18001/1951054575.py:54: FutureWarning: The frame.append method is deprecated and will be removed from pandas in a future version. Use pandas.concat instead.\n",
      "  df_eeg_features = df_eeg_features.append(eeg_band_fft, ignore_index=True)\n",
      "/tmp/ipykernel_18001/1951054575.py:54: FutureWarning: The frame.append method is deprecated and will be removed from pandas in a future version. Use pandas.concat instead.\n",
      "  df_eeg_features = df_eeg_features.append(eeg_band_fft, ignore_index=True)\n",
      "/tmp/ipykernel_18001/1951054575.py:54: FutureWarning: The frame.append method is deprecated and will be removed from pandas in a future version. Use pandas.concat instead.\n",
      "  df_eeg_features = df_eeg_features.append(eeg_band_fft, ignore_index=True)\n"
     ]
    },
    {
     "name": "stdout",
     "output_type": "stream",
     "text": [
      "Effective window size : 0.619 (s)\n",
      "Effective window size : 0.619 (s)\n",
      "Effective window size : 0.619 (s)\n",
      "Effective window size : 0.619 (s)\n",
      "Effective window size : 0.619 (s)\n",
      "Effective window size : 0.619 (s)\n"
     ]
    },
    {
     "name": "stderr",
     "output_type": "stream",
     "text": [
      "/tmp/ipykernel_18001/1951054575.py:54: FutureWarning: The frame.append method is deprecated and will be removed from pandas in a future version. Use pandas.concat instead.\n",
      "  df_eeg_features = df_eeg_features.append(eeg_band_fft, ignore_index=True)\n",
      "/tmp/ipykernel_18001/1951054575.py:54: FutureWarning: The frame.append method is deprecated and will be removed from pandas in a future version. Use pandas.concat instead.\n",
      "  df_eeg_features = df_eeg_features.append(eeg_band_fft, ignore_index=True)\n",
      "/tmp/ipykernel_18001/1951054575.py:54: FutureWarning: The frame.append method is deprecated and will be removed from pandas in a future version. Use pandas.concat instead.\n",
      "  df_eeg_features = df_eeg_features.append(eeg_band_fft, ignore_index=True)\n"
     ]
    },
    {
     "name": "stdout",
     "output_type": "stream",
     "text": [
      "Effective window size : 0.619 (s)\n",
      "Effective window size : 0.619 (s)\n",
      "Effective window size : 0.619 (s)\n",
      "Effective window size : 0.619 (s)\n",
      "Effective window size : 0.619 (s)\n",
      "Effective window size : 0.619 (s)\n"
     ]
    },
    {
     "name": "stderr",
     "output_type": "stream",
     "text": [
      "/tmp/ipykernel_18001/1951054575.py:54: FutureWarning: The frame.append method is deprecated and will be removed from pandas in a future version. Use pandas.concat instead.\n",
      "  df_eeg_features = df_eeg_features.append(eeg_band_fft, ignore_index=True)\n",
      "/tmp/ipykernel_18001/1951054575.py:54: FutureWarning: The frame.append method is deprecated and will be removed from pandas in a future version. Use pandas.concat instead.\n",
      "  df_eeg_features = df_eeg_features.append(eeg_band_fft, ignore_index=True)\n",
      "/tmp/ipykernel_18001/1951054575.py:54: FutureWarning: The frame.append method is deprecated and will be removed from pandas in a future version. Use pandas.concat instead.\n",
      "  df_eeg_features = df_eeg_features.append(eeg_band_fft, ignore_index=True)\n"
     ]
    },
    {
     "name": "stdout",
     "output_type": "stream",
     "text": [
      "Effective window size : 0.619 (s)\n",
      "Effective window size : 0.619 (s)\n",
      "Effective window size : 0.619 (s)\n",
      "Effective window size : 0.619 (s)\n",
      "Effective window size : 0.619 (s)\n",
      "Effective window size : 0.619 (s)\n"
     ]
    },
    {
     "name": "stderr",
     "output_type": "stream",
     "text": [
      "/tmp/ipykernel_18001/1951054575.py:54: FutureWarning: The frame.append method is deprecated and will be removed from pandas in a future version. Use pandas.concat instead.\n",
      "  df_eeg_features = df_eeg_features.append(eeg_band_fft, ignore_index=True)\n",
      "/tmp/ipykernel_18001/1951054575.py:54: FutureWarning: The frame.append method is deprecated and will be removed from pandas in a future version. Use pandas.concat instead.\n",
      "  df_eeg_features = df_eeg_features.append(eeg_band_fft, ignore_index=True)\n",
      "/tmp/ipykernel_18001/1951054575.py:54: FutureWarning: The frame.append method is deprecated and will be removed from pandas in a future version. Use pandas.concat instead.\n",
      "  df_eeg_features = df_eeg_features.append(eeg_band_fft, ignore_index=True)\n"
     ]
    },
    {
     "name": "stdout",
     "output_type": "stream",
     "text": [
      "Effective window size : 0.619 (s)\n",
      "Effective window size : 0.619 (s)\n",
      "Effective window size : 0.619 (s)\n",
      "Effective window size : 0.619 (s)\n"
     ]
    },
    {
     "name": "stderr",
     "output_type": "stream",
     "text": [
      "/tmp/ipykernel_18001/1951054575.py:54: FutureWarning: The frame.append method is deprecated and will be removed from pandas in a future version. Use pandas.concat instead.\n",
      "  df_eeg_features = df_eeg_features.append(eeg_band_fft, ignore_index=True)\n",
      "/tmp/ipykernel_18001/1951054575.py:54: FutureWarning: The frame.append method is deprecated and will be removed from pandas in a future version. Use pandas.concat instead.\n",
      "  df_eeg_features = df_eeg_features.append(eeg_band_fft, ignore_index=True)\n",
      "/tmp/ipykernel_18001/1951054575.py:54: FutureWarning: The frame.append method is deprecated and will be removed from pandas in a future version. Use pandas.concat instead.\n",
      "  df_eeg_features = df_eeg_features.append(eeg_band_fft, ignore_index=True)\n"
     ]
    },
    {
     "name": "stdout",
     "output_type": "stream",
     "text": [
      "Extracting EDF parameters from /home/vanilla_skies/mne_data/MNE-eegbci-data/files/eegmmidb/1.0.0/S002/S002R03.edf...\n",
      "EDF file detected\n",
      "Setting channel info structure...\n",
      "Creating raw.info structure...\n",
      "Reading 0 ... 19679  =      0.000 ...   122.994 secs...\n",
      "Extracting EDF parameters from /home/vanilla_skies/mne_data/MNE-eegbci-data/files/eegmmidb/1.0.0/S002/S002R07.edf...\n",
      "EDF file detected\n",
      "Setting channel info structure...\n",
      "Creating raw.info structure...\n",
      "Reading 0 ... 19679  =      0.000 ...   122.994 secs...\n",
      "Extracting EDF parameters from /home/vanilla_skies/mne_data/MNE-eegbci-data/files/eegmmidb/1.0.0/S002/S002R11.edf...\n",
      "EDF file detected\n",
      "Setting channel info structure...\n",
      "Creating raw.info structure...\n",
      "Reading 0 ... 19679  =      0.000 ...   122.994 secs...\n",
      "Used Annotations descriptions: ['T0', 'T1', 'T2']\n",
      "Filtering raw data in 3 contiguous segments\n",
      "Setting up band-pass filter from 7 - 30 Hz\n",
      "\n",
      "FIR filter parameters\n",
      "---------------------\n",
      "Designing a one-pass, zero-phase, non-causal bandpass filter:\n",
      "- Windowed time-domain design (firwin) method\n",
      "- Hamming window with 0.0194 passband ripple and 53 dB stopband attenuation\n",
      "- Lower passband edge: 7.00\n",
      "- Lower transition bandwidth: 2.00 Hz (-6 dB cutoff frequency: 6.00 Hz)\n",
      "- Upper passband edge: 30.00 Hz\n",
      "- Upper transition bandwidth: 7.50 Hz (-6 dB cutoff frequency: 33.75 Hz)\n",
      "- Filter length: 265 samples (1.656 sec)\n",
      "\n",
      "Not setting metadata\n",
      "45 matching events found\n",
      "No baseline correction applied\n",
      "0 projection items activated\n",
      "Using data from preloaded Raw for 45 events and 801 original time points ...\n",
      "0 bad epochs dropped\n",
      "Effective window size : 0.619 (s)\n",
      "Effective window size : 0.619 (s)\n",
      "Effective window size : 0.619 (s)\n",
      "Effective window size : 0.619 (s)\n",
      "Effective window size : 0.619 (s)\n",
      "Effective window size : 0.619 (s)\n",
      "Effective window size : 0.619 (s)\n",
      "Effective window size : 0.619 (s)\n"
     ]
    },
    {
     "name": "stderr",
     "output_type": "stream",
     "text": [
      "/tmp/ipykernel_18001/1951054575.py:54: FutureWarning: The frame.append method is deprecated and will be removed from pandas in a future version. Use pandas.concat instead.\n",
      "  df_eeg_features = df_eeg_features.append(eeg_band_fft, ignore_index=True)\n",
      "/tmp/ipykernel_18001/1951054575.py:54: FutureWarning: The frame.append method is deprecated and will be removed from pandas in a future version. Use pandas.concat instead.\n",
      "  df_eeg_features = df_eeg_features.append(eeg_band_fft, ignore_index=True)\n",
      "/tmp/ipykernel_18001/1951054575.py:54: FutureWarning: The frame.append method is deprecated and will be removed from pandas in a future version. Use pandas.concat instead.\n",
      "  df_eeg_features = df_eeg_features.append(eeg_band_fft, ignore_index=True)\n"
     ]
    },
    {
     "name": "stdout",
     "output_type": "stream",
     "text": [
      "Effective window size : 0.619 (s)\n",
      "Effective window size : 0.619 (s)\n",
      "Effective window size : 0.619 (s)\n",
      "Effective window size : 0.619 (s)\n",
      "Effective window size : 0.619 (s)\n"
     ]
    },
    {
     "name": "stderr",
     "output_type": "stream",
     "text": [
      "/tmp/ipykernel_18001/1951054575.py:54: FutureWarning: The frame.append method is deprecated and will be removed from pandas in a future version. Use pandas.concat instead.\n",
      "  df_eeg_features = df_eeg_features.append(eeg_band_fft, ignore_index=True)\n",
      "/tmp/ipykernel_18001/1951054575.py:54: FutureWarning: The frame.append method is deprecated and will be removed from pandas in a future version. Use pandas.concat instead.\n",
      "  df_eeg_features = df_eeg_features.append(eeg_band_fft, ignore_index=True)\n",
      "/tmp/ipykernel_18001/1951054575.py:54: FutureWarning: The frame.append method is deprecated and will be removed from pandas in a future version. Use pandas.concat instead.\n",
      "  df_eeg_features = df_eeg_features.append(eeg_band_fft, ignore_index=True)\n"
     ]
    },
    {
     "name": "stdout",
     "output_type": "stream",
     "text": [
      "Effective window size : 0.619 (s)\n",
      "Effective window size : 0.619 (s)\n",
      "Effective window size : 0.619 (s)\n",
      "Effective window size : 0.619 (s)\n",
      "Effective window size : 0.619 (s)\n",
      "Effective window size : 0.619 (s)\n"
     ]
    },
    {
     "name": "stderr",
     "output_type": "stream",
     "text": [
      "/tmp/ipykernel_18001/1951054575.py:54: FutureWarning: The frame.append method is deprecated and will be removed from pandas in a future version. Use pandas.concat instead.\n",
      "  df_eeg_features = df_eeg_features.append(eeg_band_fft, ignore_index=True)\n",
      "/tmp/ipykernel_18001/1951054575.py:54: FutureWarning: The frame.append method is deprecated and will be removed from pandas in a future version. Use pandas.concat instead.\n",
      "  df_eeg_features = df_eeg_features.append(eeg_band_fft, ignore_index=True)\n",
      "/tmp/ipykernel_18001/1951054575.py:54: FutureWarning: The frame.append method is deprecated and will be removed from pandas in a future version. Use pandas.concat instead.\n",
      "  df_eeg_features = df_eeg_features.append(eeg_band_fft, ignore_index=True)\n"
     ]
    },
    {
     "name": "stdout",
     "output_type": "stream",
     "text": [
      "Effective window size : 0.619 (s)\n",
      "Effective window size : 0.619 (s)\n",
      "Effective window size : 0.619 (s)\n",
      "Effective window size : 0.619 (s)\n",
      "Effective window size : 0.619 (s)\n",
      "Effective window size : 0.619 (s)\n",
      "Effective window size : 0.619 (s)\n"
     ]
    },
    {
     "name": "stderr",
     "output_type": "stream",
     "text": [
      "/tmp/ipykernel_18001/1951054575.py:54: FutureWarning: The frame.append method is deprecated and will be removed from pandas in a future version. Use pandas.concat instead.\n",
      "  df_eeg_features = df_eeg_features.append(eeg_band_fft, ignore_index=True)\n",
      "/tmp/ipykernel_18001/1951054575.py:54: FutureWarning: The frame.append method is deprecated and will be removed from pandas in a future version. Use pandas.concat instead.\n",
      "  df_eeg_features = df_eeg_features.append(eeg_band_fft, ignore_index=True)\n",
      "/tmp/ipykernel_18001/1951054575.py:54: FutureWarning: The frame.append method is deprecated and will be removed from pandas in a future version. Use pandas.concat instead.\n",
      "  df_eeg_features = df_eeg_features.append(eeg_band_fft, ignore_index=True)\n"
     ]
    },
    {
     "name": "stdout",
     "output_type": "stream",
     "text": [
      "Effective window size : 0.619 (s)\n",
      "Effective window size : 0.619 (s)\n",
      "Effective window size : 0.619 (s)\n",
      "Effective window size : 0.619 (s)\n",
      "Effective window size : 0.619 (s)\n",
      "Effective window size : 0.619 (s)\n"
     ]
    },
    {
     "name": "stderr",
     "output_type": "stream",
     "text": [
      "/tmp/ipykernel_18001/1951054575.py:54: FutureWarning: The frame.append method is deprecated and will be removed from pandas in a future version. Use pandas.concat instead.\n",
      "  df_eeg_features = df_eeg_features.append(eeg_band_fft, ignore_index=True)\n",
      "/tmp/ipykernel_18001/1951054575.py:54: FutureWarning: The frame.append method is deprecated and will be removed from pandas in a future version. Use pandas.concat instead.\n",
      "  df_eeg_features = df_eeg_features.append(eeg_band_fft, ignore_index=True)\n",
      "/tmp/ipykernel_18001/1951054575.py:54: FutureWarning: The frame.append method is deprecated and will be removed from pandas in a future version. Use pandas.concat instead.\n",
      "  df_eeg_features = df_eeg_features.append(eeg_band_fft, ignore_index=True)\n"
     ]
    },
    {
     "name": "stdout",
     "output_type": "stream",
     "text": [
      "Effective window size : 0.619 (s)\n",
      "Effective window size : 0.619 (s)\n",
      "Effective window size : 0.619 (s)\n",
      "Effective window size : 0.619 (s)\n",
      "Effective window size : 0.619 (s)\n"
     ]
    },
    {
     "name": "stderr",
     "output_type": "stream",
     "text": [
      "/tmp/ipykernel_18001/1951054575.py:54: FutureWarning: The frame.append method is deprecated and will be removed from pandas in a future version. Use pandas.concat instead.\n",
      "  df_eeg_features = df_eeg_features.append(eeg_band_fft, ignore_index=True)\n",
      "/tmp/ipykernel_18001/1951054575.py:54: FutureWarning: The frame.append method is deprecated and will be removed from pandas in a future version. Use pandas.concat instead.\n",
      "  df_eeg_features = df_eeg_features.append(eeg_band_fft, ignore_index=True)\n",
      "/tmp/ipykernel_18001/1951054575.py:54: FutureWarning: The frame.append method is deprecated and will be removed from pandas in a future version. Use pandas.concat instead.\n",
      "  df_eeg_features = df_eeg_features.append(eeg_band_fft, ignore_index=True)\n"
     ]
    },
    {
     "name": "stdout",
     "output_type": "stream",
     "text": [
      "Effective window size : 0.619 (s)\n",
      "Effective window size : 0.619 (s)\n",
      "Effective window size : 0.619 (s)\n",
      "Effective window size : 0.619 (s)\n",
      "Effective window size : 0.619 (s)\n",
      "Effective window size : 0.619 (s)\n",
      "Effective window size : 0.619 (s)\n"
     ]
    },
    {
     "name": "stderr",
     "output_type": "stream",
     "text": [
      "/tmp/ipykernel_18001/1951054575.py:54: FutureWarning: The frame.append method is deprecated and will be removed from pandas in a future version. Use pandas.concat instead.\n",
      "  df_eeg_features = df_eeg_features.append(eeg_band_fft, ignore_index=True)\n",
      "/tmp/ipykernel_18001/1951054575.py:54: FutureWarning: The frame.append method is deprecated and will be removed from pandas in a future version. Use pandas.concat instead.\n",
      "  df_eeg_features = df_eeg_features.append(eeg_band_fft, ignore_index=True)\n",
      "/tmp/ipykernel_18001/1951054575.py:54: FutureWarning: The frame.append method is deprecated and will be removed from pandas in a future version. Use pandas.concat instead.\n",
      "  df_eeg_features = df_eeg_features.append(eeg_band_fft, ignore_index=True)\n"
     ]
    },
    {
     "name": "stdout",
     "output_type": "stream",
     "text": [
      "Effective window size : 0.619 (s)\n",
      "Effective window size : 0.619 (s)\n",
      "Effective window size : 0.619 (s)\n",
      "Effective window size : 0.619 (s)\n",
      "Effective window size : 0.619 (s)\n",
      "Effective window size : 0.619 (s)\n"
     ]
    },
    {
     "name": "stderr",
     "output_type": "stream",
     "text": [
      "/tmp/ipykernel_18001/1951054575.py:54: FutureWarning: The frame.append method is deprecated and will be removed from pandas in a future version. Use pandas.concat instead.\n",
      "  df_eeg_features = df_eeg_features.append(eeg_band_fft, ignore_index=True)\n",
      "/tmp/ipykernel_18001/1951054575.py:54: FutureWarning: The frame.append method is deprecated and will be removed from pandas in a future version. Use pandas.concat instead.\n",
      "  df_eeg_features = df_eeg_features.append(eeg_band_fft, ignore_index=True)\n",
      "/tmp/ipykernel_18001/1951054575.py:54: FutureWarning: The frame.append method is deprecated and will be removed from pandas in a future version. Use pandas.concat instead.\n",
      "  df_eeg_features = df_eeg_features.append(eeg_band_fft, ignore_index=True)\n"
     ]
    },
    {
     "name": "stdout",
     "output_type": "stream",
     "text": [
      "Effective window size : 0.619 (s)\n",
      "Effective window size : 0.619 (s)\n",
      "Effective window size : 0.619 (s)\n",
      "Effective window size : 0.619 (s)\n"
     ]
    },
    {
     "name": "stderr",
     "output_type": "stream",
     "text": [
      "/tmp/ipykernel_18001/1951054575.py:54: FutureWarning: The frame.append method is deprecated and will be removed from pandas in a future version. Use pandas.concat instead.\n",
      "  df_eeg_features = df_eeg_features.append(eeg_band_fft, ignore_index=True)\n",
      "/tmp/ipykernel_18001/1951054575.py:54: FutureWarning: The frame.append method is deprecated and will be removed from pandas in a future version. Use pandas.concat instead.\n",
      "  df_eeg_features = df_eeg_features.append(eeg_band_fft, ignore_index=True)\n"
     ]
    },
    {
     "name": "stdout",
     "output_type": "stream",
     "text": [
      "Effective window size : 0.619 (s)\n",
      "Effective window size : 0.619 (s)\n",
      "Effective window size : 0.619 (s)\n",
      "Effective window size : 0.619 (s)\n"
     ]
    },
    {
     "name": "stderr",
     "output_type": "stream",
     "text": [
      "/tmp/ipykernel_18001/1951054575.py:54: FutureWarning: The frame.append method is deprecated and will be removed from pandas in a future version. Use pandas.concat instead.\n",
      "  df_eeg_features = df_eeg_features.append(eeg_band_fft, ignore_index=True)\n",
      "/tmp/ipykernel_18001/1951054575.py:54: FutureWarning: The frame.append method is deprecated and will be removed from pandas in a future version. Use pandas.concat instead.\n",
      "  df_eeg_features = df_eeg_features.append(eeg_band_fft, ignore_index=True)\n"
     ]
    },
    {
     "name": "stdout",
     "output_type": "stream",
     "text": [
      "Effective window size : 0.619 (s)\n",
      "Effective window size : 0.619 (s)\n",
      "Effective window size : 0.619 (s)\n",
      "Effective window size : 0.619 (s)\n",
      "Effective window size : 0.619 (s)\n"
     ]
    },
    {
     "name": "stderr",
     "output_type": "stream",
     "text": [
      "/tmp/ipykernel_18001/1951054575.py:54: FutureWarning: The frame.append method is deprecated and will be removed from pandas in a future version. Use pandas.concat instead.\n",
      "  df_eeg_features = df_eeg_features.append(eeg_band_fft, ignore_index=True)\n",
      "/tmp/ipykernel_18001/1951054575.py:54: FutureWarning: The frame.append method is deprecated and will be removed from pandas in a future version. Use pandas.concat instead.\n",
      "  df_eeg_features = df_eeg_features.append(eeg_band_fft, ignore_index=True)\n",
      "/tmp/ipykernel_18001/1951054575.py:54: FutureWarning: The frame.append method is deprecated and will be removed from pandas in a future version. Use pandas.concat instead.\n",
      "  df_eeg_features = df_eeg_features.append(eeg_band_fft, ignore_index=True)\n"
     ]
    },
    {
     "name": "stdout",
     "output_type": "stream",
     "text": [
      "Effective window size : 0.619 (s)\n",
      "Effective window size : 0.619 (s)\n",
      "Effective window size : 0.619 (s)\n",
      "Effective window size : 0.619 (s)\n",
      "Effective window size : 0.619 (s)\n"
     ]
    },
    {
     "name": "stderr",
     "output_type": "stream",
     "text": [
      "/tmp/ipykernel_18001/1951054575.py:54: FutureWarning: The frame.append method is deprecated and will be removed from pandas in a future version. Use pandas.concat instead.\n",
      "  df_eeg_features = df_eeg_features.append(eeg_band_fft, ignore_index=True)\n",
      "/tmp/ipykernel_18001/1951054575.py:54: FutureWarning: The frame.append method is deprecated and will be removed from pandas in a future version. Use pandas.concat instead.\n",
      "  df_eeg_features = df_eeg_features.append(eeg_band_fft, ignore_index=True)\n",
      "/tmp/ipykernel_18001/1951054575.py:54: FutureWarning: The frame.append method is deprecated and will be removed from pandas in a future version. Use pandas.concat instead.\n",
      "  df_eeg_features = df_eeg_features.append(eeg_band_fft, ignore_index=True)\n"
     ]
    },
    {
     "name": "stdout",
     "output_type": "stream",
     "text": [
      "Effective window size : 0.619 (s)\n",
      "Effective window size : 0.619 (s)\n",
      "Effective window size : 0.619 (s)\n",
      "Effective window size : 0.619 (s)\n",
      "Effective window size : 0.619 (s)\n",
      "Effective window size : 0.619 (s)\n",
      "Effective window size : 0.619 (s)\n",
      "Effective window size : 0.619 (s)\n"
     ]
    },
    {
     "name": "stderr",
     "output_type": "stream",
     "text": [
      "/tmp/ipykernel_18001/1951054575.py:54: FutureWarning: The frame.append method is deprecated and will be removed from pandas in a future version. Use pandas.concat instead.\n",
      "  df_eeg_features = df_eeg_features.append(eeg_band_fft, ignore_index=True)\n",
      "/tmp/ipykernel_18001/1951054575.py:54: FutureWarning: The frame.append method is deprecated and will be removed from pandas in a future version. Use pandas.concat instead.\n",
      "  df_eeg_features = df_eeg_features.append(eeg_band_fft, ignore_index=True)\n",
      "/tmp/ipykernel_18001/1951054575.py:54: FutureWarning: The frame.append method is deprecated and will be removed from pandas in a future version. Use pandas.concat instead.\n",
      "  df_eeg_features = df_eeg_features.append(eeg_band_fft, ignore_index=True)\n"
     ]
    },
    {
     "name": "stdout",
     "output_type": "stream",
     "text": [
      "Effective window size : 0.619 (s)\n",
      "Effective window size : 0.619 (s)\n",
      "Effective window size : 0.619 (s)\n",
      "Effective window size : 0.619 (s)\n"
     ]
    },
    {
     "name": "stderr",
     "output_type": "stream",
     "text": [
      "/tmp/ipykernel_18001/1951054575.py:54: FutureWarning: The frame.append method is deprecated and will be removed from pandas in a future version. Use pandas.concat instead.\n",
      "  df_eeg_features = df_eeg_features.append(eeg_band_fft, ignore_index=True)\n",
      "/tmp/ipykernel_18001/1951054575.py:54: FutureWarning: The frame.append method is deprecated and will be removed from pandas in a future version. Use pandas.concat instead.\n",
      "  df_eeg_features = df_eeg_features.append(eeg_band_fft, ignore_index=True)\n"
     ]
    },
    {
     "name": "stdout",
     "output_type": "stream",
     "text": [
      "Effective window size : 0.619 (s)\n",
      "Effective window size : 0.619 (s)\n",
      "Effective window size : 0.619 (s)\n",
      "Effective window size : 0.619 (s)\n"
     ]
    },
    {
     "name": "stderr",
     "output_type": "stream",
     "text": [
      "/tmp/ipykernel_18001/1951054575.py:54: FutureWarning: The frame.append method is deprecated and will be removed from pandas in a future version. Use pandas.concat instead.\n",
      "  df_eeg_features = df_eeg_features.append(eeg_band_fft, ignore_index=True)\n",
      "/tmp/ipykernel_18001/1951054575.py:54: FutureWarning: The frame.append method is deprecated and will be removed from pandas in a future version. Use pandas.concat instead.\n",
      "  df_eeg_features = df_eeg_features.append(eeg_band_fft, ignore_index=True)\n"
     ]
    },
    {
     "name": "stdout",
     "output_type": "stream",
     "text": [
      "Effective window size : 0.619 (s)\n",
      "Effective window size : 0.619 (s)\n",
      "Effective window size : 0.619 (s)\n",
      "Effective window size : 0.619 (s)\n",
      "Effective window size : 0.619 (s)\n",
      "Effective window size : 0.619 (s)\n"
     ]
    },
    {
     "name": "stderr",
     "output_type": "stream",
     "text": [
      "/tmp/ipykernel_18001/1951054575.py:54: FutureWarning: The frame.append method is deprecated and will be removed from pandas in a future version. Use pandas.concat instead.\n",
      "  df_eeg_features = df_eeg_features.append(eeg_band_fft, ignore_index=True)\n",
      "/tmp/ipykernel_18001/1951054575.py:54: FutureWarning: The frame.append method is deprecated and will be removed from pandas in a future version. Use pandas.concat instead.\n",
      "  df_eeg_features = df_eeg_features.append(eeg_band_fft, ignore_index=True)\n",
      "/tmp/ipykernel_18001/1951054575.py:54: FutureWarning: The frame.append method is deprecated and will be removed from pandas in a future version. Use pandas.concat instead.\n",
      "  df_eeg_features = df_eeg_features.append(eeg_band_fft, ignore_index=True)\n"
     ]
    },
    {
     "name": "stdout",
     "output_type": "stream",
     "text": [
      "Extracting EDF parameters from /home/vanilla_skies/mne_data/MNE-eegbci-data/files/eegmmidb/1.0.0/S003/S003R03.edf...\n",
      "EDF file detected\n",
      "Setting channel info structure...\n",
      "Creating raw.info structure...\n",
      "Reading 0 ... 19999  =      0.000 ...   124.994 secs...\n",
      "Extracting EDF parameters from /home/vanilla_skies/mne_data/MNE-eegbci-data/files/eegmmidb/1.0.0/S003/S003R07.edf...\n",
      "EDF file detected\n",
      "Setting channel info structure...\n",
      "Creating raw.info structure...\n",
      "Reading 0 ... 19999  =      0.000 ...   124.994 secs...\n",
      "Extracting EDF parameters from /home/vanilla_skies/mne_data/MNE-eegbci-data/files/eegmmidb/1.0.0/S003/S003R11.edf...\n",
      "EDF file detected\n",
      "Setting channel info structure...\n",
      "Creating raw.info structure...\n",
      "Reading 0 ... 19999  =      0.000 ...   124.994 secs...\n"
     ]
    },
    {
     "name": "stderr",
     "output_type": "stream",
     "text": [
      "/tmp/ipykernel_18001/1951054575.py:54: FutureWarning: The frame.append method is deprecated and will be removed from pandas in a future version. Use pandas.concat instead.\n",
      "  df_eeg_features = df_eeg_features.append(eeg_band_fft, ignore_index=True)\n"
     ]
    },
    {
     "name": "stdout",
     "output_type": "stream",
     "text": [
      "Used Annotations descriptions: ['T0', 'T1', 'T2']\n",
      "Filtering raw data in 3 contiguous segments\n",
      "Setting up band-pass filter from 7 - 30 Hz\n",
      "\n",
      "FIR filter parameters\n",
      "---------------------\n",
      "Designing a one-pass, zero-phase, non-causal bandpass filter:\n",
      "- Windowed time-domain design (firwin) method\n",
      "- Hamming window with 0.0194 passband ripple and 53 dB stopband attenuation\n",
      "- Lower passband edge: 7.00\n",
      "- Lower transition bandwidth: 2.00 Hz (-6 dB cutoff frequency: 6.00 Hz)\n",
      "- Upper passband edge: 30.00 Hz\n",
      "- Upper transition bandwidth: 7.50 Hz (-6 dB cutoff frequency: 33.75 Hz)\n",
      "- Filter length: 265 samples (1.656 sec)\n",
      "\n",
      "Not setting metadata\n",
      "45 matching events found\n",
      "No baseline correction applied\n",
      "0 projection items activated\n",
      "Using data from preloaded Raw for 45 events and 801 original time points ...\n",
      "0 bad epochs dropped\n",
      "Effective window size : 0.619 (s)\n",
      "Effective window size : 0.619 (s)\n",
      "Effective window size : 0.619 (s)\n",
      "Effective window size : 0.619 (s)\n",
      "Effective window size : 0.619 (s)\n",
      "Effective window size : 0.619 (s)\n",
      "Effective window size : 0.619 (s)\n",
      "Effective window size : 0.619 (s)\n"
     ]
    },
    {
     "name": "stderr",
     "output_type": "stream",
     "text": [
      "/tmp/ipykernel_18001/1951054575.py:54: FutureWarning: The frame.append method is deprecated and will be removed from pandas in a future version. Use pandas.concat instead.\n",
      "  df_eeg_features = df_eeg_features.append(eeg_band_fft, ignore_index=True)\n",
      "/tmp/ipykernel_18001/1951054575.py:54: FutureWarning: The frame.append method is deprecated and will be removed from pandas in a future version. Use pandas.concat instead.\n",
      "  df_eeg_features = df_eeg_features.append(eeg_band_fft, ignore_index=True)\n",
      "/tmp/ipykernel_18001/1951054575.py:54: FutureWarning: The frame.append method is deprecated and will be removed from pandas in a future version. Use pandas.concat instead.\n",
      "  df_eeg_features = df_eeg_features.append(eeg_band_fft, ignore_index=True)\n"
     ]
    },
    {
     "name": "stdout",
     "output_type": "stream",
     "text": [
      "Effective window size : 0.619 (s)\n",
      "Effective window size : 0.619 (s)\n",
      "Effective window size : 0.619 (s)\n",
      "Effective window size : 0.619 (s)\n",
      "Effective window size : 0.619 (s)\n"
     ]
    },
    {
     "name": "stderr",
     "output_type": "stream",
     "text": [
      "/tmp/ipykernel_18001/1951054575.py:54: FutureWarning: The frame.append method is deprecated and will be removed from pandas in a future version. Use pandas.concat instead.\n",
      "  df_eeg_features = df_eeg_features.append(eeg_band_fft, ignore_index=True)\n",
      "/tmp/ipykernel_18001/1951054575.py:54: FutureWarning: The frame.append method is deprecated and will be removed from pandas in a future version. Use pandas.concat instead.\n",
      "  df_eeg_features = df_eeg_features.append(eeg_band_fft, ignore_index=True)\n",
      "/tmp/ipykernel_18001/1951054575.py:54: FutureWarning: The frame.append method is deprecated and will be removed from pandas in a future version. Use pandas.concat instead.\n",
      "  df_eeg_features = df_eeg_features.append(eeg_band_fft, ignore_index=True)\n"
     ]
    },
    {
     "name": "stdout",
     "output_type": "stream",
     "text": [
      "Effective window size : 0.619 (s)\n",
      "Effective window size : 0.619 (s)\n",
      "Effective window size : 0.619 (s)\n",
      "Effective window size : 0.619 (s)\n",
      "Effective window size : 0.619 (s)\n",
      "Effective window size : 0.619 (s)\n",
      "Effective window size : 0.619 (s)\n"
     ]
    },
    {
     "name": "stderr",
     "output_type": "stream",
     "text": [
      "/tmp/ipykernel_18001/1951054575.py:54: FutureWarning: The frame.append method is deprecated and will be removed from pandas in a future version. Use pandas.concat instead.\n",
      "  df_eeg_features = df_eeg_features.append(eeg_band_fft, ignore_index=True)\n",
      "/tmp/ipykernel_18001/1951054575.py:54: FutureWarning: The frame.append method is deprecated and will be removed from pandas in a future version. Use pandas.concat instead.\n",
      "  df_eeg_features = df_eeg_features.append(eeg_band_fft, ignore_index=True)\n",
      "/tmp/ipykernel_18001/1951054575.py:54: FutureWarning: The frame.append method is deprecated and will be removed from pandas in a future version. Use pandas.concat instead.\n",
      "  df_eeg_features = df_eeg_features.append(eeg_band_fft, ignore_index=True)\n"
     ]
    },
    {
     "name": "stdout",
     "output_type": "stream",
     "text": [
      "Effective window size : 0.619 (s)\n",
      "Effective window size : 0.619 (s)\n",
      "Effective window size : 0.619 (s)\n",
      "Effective window size : 0.619 (s)\n",
      "Effective window size : 0.619 (s)\n",
      "Effective window size : 0.619 (s)\n"
     ]
    },
    {
     "name": "stderr",
     "output_type": "stream",
     "text": [
      "/tmp/ipykernel_18001/1951054575.py:54: FutureWarning: The frame.append method is deprecated and will be removed from pandas in a future version. Use pandas.concat instead.\n",
      "  df_eeg_features = df_eeg_features.append(eeg_band_fft, ignore_index=True)\n",
      "/tmp/ipykernel_18001/1951054575.py:54: FutureWarning: The frame.append method is deprecated and will be removed from pandas in a future version. Use pandas.concat instead.\n",
      "  df_eeg_features = df_eeg_features.append(eeg_band_fft, ignore_index=True)\n",
      "/tmp/ipykernel_18001/1951054575.py:54: FutureWarning: The frame.append method is deprecated and will be removed from pandas in a future version. Use pandas.concat instead.\n",
      "  df_eeg_features = df_eeg_features.append(eeg_band_fft, ignore_index=True)\n"
     ]
    },
    {
     "name": "stdout",
     "output_type": "stream",
     "text": [
      "Effective window size : 0.619 (s)\n",
      "Effective window size : 0.619 (s)\n",
      "Effective window size : 0.619 (s)\n",
      "Effective window size : 0.619 (s)\n",
      "Effective window size : 0.619 (s)\n",
      "Effective window size : 0.619 (s)\n"
     ]
    },
    {
     "name": "stderr",
     "output_type": "stream",
     "text": [
      "/tmp/ipykernel_18001/1951054575.py:54: FutureWarning: The frame.append method is deprecated and will be removed from pandas in a future version. Use pandas.concat instead.\n",
      "  df_eeg_features = df_eeg_features.append(eeg_band_fft, ignore_index=True)\n",
      "/tmp/ipykernel_18001/1951054575.py:54: FutureWarning: The frame.append method is deprecated and will be removed from pandas in a future version. Use pandas.concat instead.\n",
      "  df_eeg_features = df_eeg_features.append(eeg_band_fft, ignore_index=True)\n",
      "/tmp/ipykernel_18001/1951054575.py:54: FutureWarning: The frame.append method is deprecated and will be removed from pandas in a future version. Use pandas.concat instead.\n",
      "  df_eeg_features = df_eeg_features.append(eeg_band_fft, ignore_index=True)\n"
     ]
    },
    {
     "name": "stdout",
     "output_type": "stream",
     "text": [
      "Effective window size : 0.619 (s)\n",
      "Effective window size : 0.619 (s)\n",
      "Effective window size : 0.619 (s)\n",
      "Effective window size : 0.619 (s)\n",
      "Effective window size : 0.619 (s)\n",
      "Effective window size : 0.619 (s)\n"
     ]
    },
    {
     "name": "stderr",
     "output_type": "stream",
     "text": [
      "/tmp/ipykernel_18001/1951054575.py:54: FutureWarning: The frame.append method is deprecated and will be removed from pandas in a future version. Use pandas.concat instead.\n",
      "  df_eeg_features = df_eeg_features.append(eeg_band_fft, ignore_index=True)\n",
      "/tmp/ipykernel_18001/1951054575.py:54: FutureWarning: The frame.append method is deprecated and will be removed from pandas in a future version. Use pandas.concat instead.\n",
      "  df_eeg_features = df_eeg_features.append(eeg_band_fft, ignore_index=True)\n",
      "/tmp/ipykernel_18001/1951054575.py:54: FutureWarning: The frame.append method is deprecated and will be removed from pandas in a future version. Use pandas.concat instead.\n",
      "  df_eeg_features = df_eeg_features.append(eeg_band_fft, ignore_index=True)\n"
     ]
    },
    {
     "name": "stdout",
     "output_type": "stream",
     "text": [
      "Effective window size : 0.619 (s)\n",
      "Effective window size : 0.619 (s)\n",
      "Effective window size : 0.619 (s)\n",
      "Effective window size : 0.619 (s)\n"
     ]
    },
    {
     "name": "stderr",
     "output_type": "stream",
     "text": [
      "/tmp/ipykernel_18001/1951054575.py:54: FutureWarning: The frame.append method is deprecated and will be removed from pandas in a future version. Use pandas.concat instead.\n",
      "  df_eeg_features = df_eeg_features.append(eeg_band_fft, ignore_index=True)\n",
      "/tmp/ipykernel_18001/1951054575.py:54: FutureWarning: The frame.append method is deprecated and will be removed from pandas in a future version. Use pandas.concat instead.\n",
      "  df_eeg_features = df_eeg_features.append(eeg_band_fft, ignore_index=True)\n"
     ]
    },
    {
     "name": "stdout",
     "output_type": "stream",
     "text": [
      "Effective window size : 0.619 (s)\n",
      "Effective window size : 0.619 (s)\n",
      "Effective window size : 0.619 (s)\n",
      "Effective window size : 0.619 (s)\n"
     ]
    },
    {
     "name": "stderr",
     "output_type": "stream",
     "text": [
      "/tmp/ipykernel_18001/1951054575.py:54: FutureWarning: The frame.append method is deprecated and will be removed from pandas in a future version. Use pandas.concat instead.\n",
      "  df_eeg_features = df_eeg_features.append(eeg_band_fft, ignore_index=True)\n",
      "/tmp/ipykernel_18001/1951054575.py:54: FutureWarning: The frame.append method is deprecated and will be removed from pandas in a future version. Use pandas.concat instead.\n",
      "  df_eeg_features = df_eeg_features.append(eeg_band_fft, ignore_index=True)\n"
     ]
    },
    {
     "name": "stdout",
     "output_type": "stream",
     "text": [
      "Effective window size : 0.619 (s)\n",
      "Effective window size : 0.619 (s)\n",
      "Effective window size : 0.619 (s)\n",
      "Effective window size : 0.619 (s)\n"
     ]
    },
    {
     "name": "stderr",
     "output_type": "stream",
     "text": [
      "/tmp/ipykernel_18001/1951054575.py:54: FutureWarning: The frame.append method is deprecated and will be removed from pandas in a future version. Use pandas.concat instead.\n",
      "  df_eeg_features = df_eeg_features.append(eeg_band_fft, ignore_index=True)\n",
      "/tmp/ipykernel_18001/1951054575.py:54: FutureWarning: The frame.append method is deprecated and will be removed from pandas in a future version. Use pandas.concat instead.\n",
      "  df_eeg_features = df_eeg_features.append(eeg_band_fft, ignore_index=True)\n"
     ]
    },
    {
     "name": "stdout",
     "output_type": "stream",
     "text": [
      "Effective window size : 0.619 (s)\n",
      "Effective window size : 0.619 (s)\n",
      "Effective window size : 0.619 (s)\n",
      "Effective window size : 0.619 (s)\n"
     ]
    },
    {
     "name": "stderr",
     "output_type": "stream",
     "text": [
      "/tmp/ipykernel_18001/1951054575.py:54: FutureWarning: The frame.append method is deprecated and will be removed from pandas in a future version. Use pandas.concat instead.\n",
      "  df_eeg_features = df_eeg_features.append(eeg_band_fft, ignore_index=True)\n",
      "/tmp/ipykernel_18001/1951054575.py:54: FutureWarning: The frame.append method is deprecated and will be removed from pandas in a future version. Use pandas.concat instead.\n",
      "  df_eeg_features = df_eeg_features.append(eeg_band_fft, ignore_index=True)\n"
     ]
    },
    {
     "name": "stdout",
     "output_type": "stream",
     "text": [
      "Effective window size : 0.619 (s)\n",
      "Effective window size : 0.619 (s)\n",
      "Effective window size : 0.619 (s)\n",
      "Effective window size : 0.619 (s)\n"
     ]
    },
    {
     "name": "stderr",
     "output_type": "stream",
     "text": [
      "/tmp/ipykernel_18001/1951054575.py:54: FutureWarning: The frame.append method is deprecated and will be removed from pandas in a future version. Use pandas.concat instead.\n",
      "  df_eeg_features = df_eeg_features.append(eeg_band_fft, ignore_index=True)\n",
      "/tmp/ipykernel_18001/1951054575.py:54: FutureWarning: The frame.append method is deprecated and will be removed from pandas in a future version. Use pandas.concat instead.\n",
      "  df_eeg_features = df_eeg_features.append(eeg_band_fft, ignore_index=True)\n",
      "/tmp/ipykernel_18001/1951054575.py:54: FutureWarning: The frame.append method is deprecated and will be removed from pandas in a future version. Use pandas.concat instead.\n",
      "  df_eeg_features = df_eeg_features.append(eeg_band_fft, ignore_index=True)\n"
     ]
    },
    {
     "name": "stdout",
     "output_type": "stream",
     "text": [
      "Effective window size : 0.619 (s)\n",
      "Effective window size : 0.619 (s)\n",
      "Effective window size : 0.619 (s)\n",
      "Effective window size : 0.619 (s)\n",
      "Effective window size : 0.619 (s)\n",
      "Effective window size : 0.619 (s)\n"
     ]
    },
    {
     "name": "stderr",
     "output_type": "stream",
     "text": [
      "/tmp/ipykernel_18001/1951054575.py:54: FutureWarning: The frame.append method is deprecated and will be removed from pandas in a future version. Use pandas.concat instead.\n",
      "  df_eeg_features = df_eeg_features.append(eeg_band_fft, ignore_index=True)\n",
      "/tmp/ipykernel_18001/1951054575.py:54: FutureWarning: The frame.append method is deprecated and will be removed from pandas in a future version. Use pandas.concat instead.\n",
      "  df_eeg_features = df_eeg_features.append(eeg_band_fft, ignore_index=True)\n"
     ]
    },
    {
     "name": "stdout",
     "output_type": "stream",
     "text": [
      "Effective window size : 0.619 (s)\n",
      "Effective window size : 0.619 (s)\n",
      "Effective window size : 0.619 (s)\n",
      "Effective window size : 0.619 (s)\n"
     ]
    },
    {
     "name": "stderr",
     "output_type": "stream",
     "text": [
      "/tmp/ipykernel_18001/1951054575.py:54: FutureWarning: The frame.append method is deprecated and will be removed from pandas in a future version. Use pandas.concat instead.\n",
      "  df_eeg_features = df_eeg_features.append(eeg_band_fft, ignore_index=True)\n",
      "/tmp/ipykernel_18001/1951054575.py:54: FutureWarning: The frame.append method is deprecated and will be removed from pandas in a future version. Use pandas.concat instead.\n",
      "  df_eeg_features = df_eeg_features.append(eeg_band_fft, ignore_index=True)\n",
      "/tmp/ipykernel_18001/1951054575.py:54: FutureWarning: The frame.append method is deprecated and will be removed from pandas in a future version. Use pandas.concat instead.\n",
      "  df_eeg_features = df_eeg_features.append(eeg_band_fft, ignore_index=True)\n"
     ]
    },
    {
     "name": "stdout",
     "output_type": "stream",
     "text": [
      "Effective window size : 0.619 (s)\n",
      "Effective window size : 0.619 (s)\n",
      "Effective window size : 0.619 (s)\n",
      "Effective window size : 0.619 (s)\n",
      "Effective window size : 0.619 (s)\n",
      "Effective window size : 0.619 (s)\n"
     ]
    },
    {
     "name": "stderr",
     "output_type": "stream",
     "text": [
      "/tmp/ipykernel_18001/1951054575.py:54: FutureWarning: The frame.append method is deprecated and will be removed from pandas in a future version. Use pandas.concat instead.\n",
      "  df_eeg_features = df_eeg_features.append(eeg_band_fft, ignore_index=True)\n",
      "/tmp/ipykernel_18001/1951054575.py:54: FutureWarning: The frame.append method is deprecated and will be removed from pandas in a future version. Use pandas.concat instead.\n",
      "  df_eeg_features = df_eeg_features.append(eeg_band_fft, ignore_index=True)\n",
      "/tmp/ipykernel_18001/1951054575.py:54: FutureWarning: The frame.append method is deprecated and will be removed from pandas in a future version. Use pandas.concat instead.\n",
      "  df_eeg_features = df_eeg_features.append(eeg_band_fft, ignore_index=True)\n"
     ]
    },
    {
     "name": "stdout",
     "output_type": "stream",
     "text": [
      "Effective window size : 0.619 (s)\n",
      "Effective window size : 0.619 (s)\n",
      "Effective window size : 0.619 (s)\n",
      "Effective window size : 0.619 (s)\n",
      "Effective window size : 0.619 (s)\n",
      "Effective window size : 0.619 (s)\n",
      "Effective window size : 0.619 (s)\n"
     ]
    },
    {
     "name": "stderr",
     "output_type": "stream",
     "text": [
      "/tmp/ipykernel_18001/1951054575.py:54: FutureWarning: The frame.append method is deprecated and will be removed from pandas in a future version. Use pandas.concat instead.\n",
      "  df_eeg_features = df_eeg_features.append(eeg_band_fft, ignore_index=True)\n",
      "/tmp/ipykernel_18001/1951054575.py:54: FutureWarning: The frame.append method is deprecated and will be removed from pandas in a future version. Use pandas.concat instead.\n",
      "  df_eeg_features = df_eeg_features.append(eeg_band_fft, ignore_index=True)\n",
      "/tmp/ipykernel_18001/1951054575.py:54: FutureWarning: The frame.append method is deprecated and will be removed from pandas in a future version. Use pandas.concat instead.\n",
      "  df_eeg_features = df_eeg_features.append(eeg_band_fft, ignore_index=True)\n"
     ]
    },
    {
     "name": "stdout",
     "output_type": "stream",
     "text": [
      "Effective window size : 0.619 (s)\n",
      "Effective window size : 0.619 (s)\n",
      "Effective window size : 0.619 (s)\n",
      "Effective window size : 0.619 (s)\n",
      "Effective window size : 0.619 (s)\n",
      "Effective window size : 0.619 (s)\n",
      "Effective window size : 0.619 (s)\n"
     ]
    },
    {
     "name": "stderr",
     "output_type": "stream",
     "text": [
      "/tmp/ipykernel_18001/1951054575.py:54: FutureWarning: The frame.append method is deprecated and will be removed from pandas in a future version. Use pandas.concat instead.\n",
      "  df_eeg_features = df_eeg_features.append(eeg_band_fft, ignore_index=True)\n",
      "/tmp/ipykernel_18001/1951054575.py:54: FutureWarning: The frame.append method is deprecated and will be removed from pandas in a future version. Use pandas.concat instead.\n",
      "  df_eeg_features = df_eeg_features.append(eeg_band_fft, ignore_index=True)\n",
      "/tmp/ipykernel_18001/1951054575.py:54: FutureWarning: The frame.append method is deprecated and will be removed from pandas in a future version. Use pandas.concat instead.\n",
      "  df_eeg_features = df_eeg_features.append(eeg_band_fft, ignore_index=True)\n"
     ]
    },
    {
     "name": "stdout",
     "output_type": "stream",
     "text": [
      "Effective window size : 0.619 (s)\n",
      "Effective window size : 0.619 (s)\n",
      "Extracting EDF parameters from /home/vanilla_skies/mne_data/MNE-eegbci-data/files/eegmmidb/1.0.0/S004/S004R03.edf...\n",
      "EDF file detected\n",
      "Setting channel info structure...\n",
      "Creating raw.info structure...\n",
      "Reading 0 ... 19679  =      0.000 ...   122.994 secs...\n",
      "Extracting EDF parameters from /home/vanilla_skies/mne_data/MNE-eegbci-data/files/eegmmidb/1.0.0/S004/S004R07.edf...\n",
      "EDF file detected\n",
      "Setting channel info structure...\n",
      "Creating raw.info structure...\n",
      "Reading 0 ... 19679  =      0.000 ...   122.994 secs...\n"
     ]
    },
    {
     "name": "stderr",
     "output_type": "stream",
     "text": [
      "/tmp/ipykernel_18001/1951054575.py:54: FutureWarning: The frame.append method is deprecated and will be removed from pandas in a future version. Use pandas.concat instead.\n",
      "  df_eeg_features = df_eeg_features.append(eeg_band_fft, ignore_index=True)\n",
      "/tmp/ipykernel_18001/1951054575.py:54: FutureWarning: The frame.append method is deprecated and will be removed from pandas in a future version. Use pandas.concat instead.\n",
      "  df_eeg_features = df_eeg_features.append(eeg_band_fft, ignore_index=True)\n"
     ]
    },
    {
     "name": "stdout",
     "output_type": "stream",
     "text": [
      "Extracting EDF parameters from /home/vanilla_skies/mne_data/MNE-eegbci-data/files/eegmmidb/1.0.0/S004/S004R11.edf...\n",
      "EDF file detected\n",
      "Setting channel info structure...\n",
      "Creating raw.info structure...\n",
      "Reading 0 ... 19679  =      0.000 ...   122.994 secs...\n",
      "Used Annotations descriptions: ['T0', 'T1', 'T2']\n",
      "Filtering raw data in 3 contiguous segments\n",
      "Setting up band-pass filter from 7 - 30 Hz\n",
      "\n",
      "FIR filter parameters\n",
      "---------------------\n",
      "Designing a one-pass, zero-phase, non-causal bandpass filter:\n",
      "- Windowed time-domain design (firwin) method\n",
      "- Hamming window with 0.0194 passband ripple and 53 dB stopband attenuation\n",
      "- Lower passband edge: 7.00\n",
      "- Lower transition bandwidth: 2.00 Hz (-6 dB cutoff frequency: 6.00 Hz)\n",
      "- Upper passband edge: 30.00 Hz\n",
      "- Upper transition bandwidth: 7.50 Hz (-6 dB cutoff frequency: 33.75 Hz)\n",
      "- Filter length: 265 samples (1.656 sec)\n",
      "\n",
      "Not setting metadata\n",
      "45 matching events found\n",
      "No baseline correction applied\n",
      "0 projection items activated\n",
      "Using data from preloaded Raw for 45 events and 801 original time points ...\n",
      "0 bad epochs dropped\n",
      "Effective window size : 0.619 (s)\n",
      "Effective window size : 0.619 (s)\n",
      "Effective window size : 0.619 (s)\n",
      "Effective window size : 0.619 (s)\n",
      "Effective window size : 0.619 (s)\n",
      "Effective window size : 0.619 (s)\n",
      "Effective window size : 0.619 (s)\n",
      "Effective window size : 0.619 (s)\n"
     ]
    },
    {
     "name": "stderr",
     "output_type": "stream",
     "text": [
      "/tmp/ipykernel_18001/1951054575.py:54: FutureWarning: The frame.append method is deprecated and will be removed from pandas in a future version. Use pandas.concat instead.\n",
      "  df_eeg_features = df_eeg_features.append(eeg_band_fft, ignore_index=True)\n",
      "/tmp/ipykernel_18001/1951054575.py:54: FutureWarning: The frame.append method is deprecated and will be removed from pandas in a future version. Use pandas.concat instead.\n",
      "  df_eeg_features = df_eeg_features.append(eeg_band_fft, ignore_index=True)\n",
      "/tmp/ipykernel_18001/1951054575.py:54: FutureWarning: The frame.append method is deprecated and will be removed from pandas in a future version. Use pandas.concat instead.\n",
      "  df_eeg_features = df_eeg_features.append(eeg_band_fft, ignore_index=True)\n"
     ]
    },
    {
     "name": "stdout",
     "output_type": "stream",
     "text": [
      "Effective window size : 0.619 (s)\n",
      "Effective window size : 0.619 (s)\n",
      "Effective window size : 0.619 (s)\n",
      "Effective window size : 0.619 (s)\n",
      "Effective window size : 0.619 (s)\n",
      "Effective window size : 0.619 (s)\n"
     ]
    },
    {
     "name": "stderr",
     "output_type": "stream",
     "text": [
      "/tmp/ipykernel_18001/1951054575.py:54: FutureWarning: The frame.append method is deprecated and will be removed from pandas in a future version. Use pandas.concat instead.\n",
      "  df_eeg_features = df_eeg_features.append(eeg_band_fft, ignore_index=True)\n",
      "/tmp/ipykernel_18001/1951054575.py:54: FutureWarning: The frame.append method is deprecated and will be removed from pandas in a future version. Use pandas.concat instead.\n",
      "  df_eeg_features = df_eeg_features.append(eeg_band_fft, ignore_index=True)\n",
      "/tmp/ipykernel_18001/1951054575.py:54: FutureWarning: The frame.append method is deprecated and will be removed from pandas in a future version. Use pandas.concat instead.\n",
      "  df_eeg_features = df_eeg_features.append(eeg_band_fft, ignore_index=True)\n"
     ]
    },
    {
     "name": "stdout",
     "output_type": "stream",
     "text": [
      "Effective window size : 0.619 (s)\n",
      "Effective window size : 0.619 (s)\n",
      "Effective window size : 0.619 (s)\n",
      "Effective window size : 0.619 (s)\n",
      "Effective window size : 0.619 (s)\n",
      "Effective window size : 0.619 (s)\n"
     ]
    },
    {
     "name": "stderr",
     "output_type": "stream",
     "text": [
      "/tmp/ipykernel_18001/1951054575.py:54: FutureWarning: The frame.append method is deprecated and will be removed from pandas in a future version. Use pandas.concat instead.\n",
      "  df_eeg_features = df_eeg_features.append(eeg_band_fft, ignore_index=True)\n",
      "/tmp/ipykernel_18001/1951054575.py:54: FutureWarning: The frame.append method is deprecated and will be removed from pandas in a future version. Use pandas.concat instead.\n",
      "  df_eeg_features = df_eeg_features.append(eeg_band_fft, ignore_index=True)\n",
      "/tmp/ipykernel_18001/1951054575.py:54: FutureWarning: The frame.append method is deprecated and will be removed from pandas in a future version. Use pandas.concat instead.\n",
      "  df_eeg_features = df_eeg_features.append(eeg_band_fft, ignore_index=True)\n"
     ]
    },
    {
     "name": "stdout",
     "output_type": "stream",
     "text": [
      "Effective window size : 0.619 (s)\n",
      "Effective window size : 0.619 (s)\n",
      "Effective window size : 0.619 (s)\n",
      "Effective window size : 0.619 (s)\n",
      "Effective window size : 0.619 (s)\n",
      "Effective window size : 0.619 (s)\n"
     ]
    },
    {
     "name": "stderr",
     "output_type": "stream",
     "text": [
      "/tmp/ipykernel_18001/1951054575.py:54: FutureWarning: The frame.append method is deprecated and will be removed from pandas in a future version. Use pandas.concat instead.\n",
      "  df_eeg_features = df_eeg_features.append(eeg_band_fft, ignore_index=True)\n",
      "/tmp/ipykernel_18001/1951054575.py:54: FutureWarning: The frame.append method is deprecated and will be removed from pandas in a future version. Use pandas.concat instead.\n",
      "  df_eeg_features = df_eeg_features.append(eeg_band_fft, ignore_index=True)\n",
      "/tmp/ipykernel_18001/1951054575.py:54: FutureWarning: The frame.append method is deprecated and will be removed from pandas in a future version. Use pandas.concat instead.\n",
      "  df_eeg_features = df_eeg_features.append(eeg_band_fft, ignore_index=True)\n"
     ]
    },
    {
     "name": "stdout",
     "output_type": "stream",
     "text": [
      "Effective window size : 0.619 (s)\n",
      "Effective window size : 0.619 (s)\n",
      "Effective window size : 0.619 (s)\n",
      "Effective window size : 0.619 (s)\n",
      "Effective window size : 0.619 (s)\n",
      "Effective window size : 0.619 (s)\n"
     ]
    },
    {
     "name": "stderr",
     "output_type": "stream",
     "text": [
      "/tmp/ipykernel_18001/1951054575.py:54: FutureWarning: The frame.append method is deprecated and will be removed from pandas in a future version. Use pandas.concat instead.\n",
      "  df_eeg_features = df_eeg_features.append(eeg_band_fft, ignore_index=True)\n",
      "/tmp/ipykernel_18001/1951054575.py:54: FutureWarning: The frame.append method is deprecated and will be removed from pandas in a future version. Use pandas.concat instead.\n",
      "  df_eeg_features = df_eeg_features.append(eeg_band_fft, ignore_index=True)\n",
      "/tmp/ipykernel_18001/1951054575.py:54: FutureWarning: The frame.append method is deprecated and will be removed from pandas in a future version. Use pandas.concat instead.\n",
      "  df_eeg_features = df_eeg_features.append(eeg_band_fft, ignore_index=True)\n"
     ]
    },
    {
     "name": "stdout",
     "output_type": "stream",
     "text": [
      "Effective window size : 0.619 (s)\n",
      "Effective window size : 0.619 (s)\n",
      "Effective window size : 0.619 (s)\n",
      "Effective window size : 0.619 (s)\n",
      "Effective window size : 0.619 (s)\n"
     ]
    },
    {
     "name": "stderr",
     "output_type": "stream",
     "text": [
      "/tmp/ipykernel_18001/1951054575.py:54: FutureWarning: The frame.append method is deprecated and will be removed from pandas in a future version. Use pandas.concat instead.\n",
      "  df_eeg_features = df_eeg_features.append(eeg_band_fft, ignore_index=True)\n",
      "/tmp/ipykernel_18001/1951054575.py:54: FutureWarning: The frame.append method is deprecated and will be removed from pandas in a future version. Use pandas.concat instead.\n",
      "  df_eeg_features = df_eeg_features.append(eeg_band_fft, ignore_index=True)\n",
      "/tmp/ipykernel_18001/1951054575.py:54: FutureWarning: The frame.append method is deprecated and will be removed from pandas in a future version. Use pandas.concat instead.\n",
      "  df_eeg_features = df_eeg_features.append(eeg_band_fft, ignore_index=True)\n"
     ]
    },
    {
     "name": "stdout",
     "output_type": "stream",
     "text": [
      "Effective window size : 0.619 (s)\n",
      "Effective window size : 0.619 (s)\n",
      "Effective window size : 0.619 (s)\n",
      "Effective window size : 0.619 (s)\n",
      "Effective window size : 0.619 (s)\n"
     ]
    },
    {
     "name": "stderr",
     "output_type": "stream",
     "text": [
      "/tmp/ipykernel_18001/1951054575.py:54: FutureWarning: The frame.append method is deprecated and will be removed from pandas in a future version. Use pandas.concat instead.\n",
      "  df_eeg_features = df_eeg_features.append(eeg_band_fft, ignore_index=True)\n",
      "/tmp/ipykernel_18001/1951054575.py:54: FutureWarning: The frame.append method is deprecated and will be removed from pandas in a future version. Use pandas.concat instead.\n",
      "  df_eeg_features = df_eeg_features.append(eeg_band_fft, ignore_index=True)\n",
      "/tmp/ipykernel_18001/1951054575.py:54: FutureWarning: The frame.append method is deprecated and will be removed from pandas in a future version. Use pandas.concat instead.\n",
      "  df_eeg_features = df_eeg_features.append(eeg_band_fft, ignore_index=True)\n"
     ]
    },
    {
     "name": "stdout",
     "output_type": "stream",
     "text": [
      "Effective window size : 0.619 (s)\n",
      "Effective window size : 0.619 (s)\n",
      "Effective window size : 0.619 (s)\n",
      "Effective window size : 0.619 (s)\n",
      "Effective window size : 0.619 (s)\n",
      "Effective window size : 0.619 (s)\n",
      "Effective window size : 0.619 (s)\n",
      "Effective window size : 0.619 (s)\n"
     ]
    },
    {
     "name": "stderr",
     "output_type": "stream",
     "text": [
      "/tmp/ipykernel_18001/1951054575.py:54: FutureWarning: The frame.append method is deprecated and will be removed from pandas in a future version. Use pandas.concat instead.\n",
      "  df_eeg_features = df_eeg_features.append(eeg_band_fft, ignore_index=True)\n",
      "/tmp/ipykernel_18001/1951054575.py:54: FutureWarning: The frame.append method is deprecated and will be removed from pandas in a future version. Use pandas.concat instead.\n",
      "  df_eeg_features = df_eeg_features.append(eeg_band_fft, ignore_index=True)\n",
      "/tmp/ipykernel_18001/1951054575.py:54: FutureWarning: The frame.append method is deprecated and will be removed from pandas in a future version. Use pandas.concat instead.\n",
      "  df_eeg_features = df_eeg_features.append(eeg_band_fft, ignore_index=True)\n"
     ]
    },
    {
     "name": "stdout",
     "output_type": "stream",
     "text": [
      "Effective window size : 0.619 (s)\n",
      "Effective window size : 0.619 (s)\n",
      "Effective window size : 0.619 (s)\n",
      "Effective window size : 0.619 (s)\n"
     ]
    },
    {
     "name": "stderr",
     "output_type": "stream",
     "text": [
      "/tmp/ipykernel_18001/1951054575.py:54: FutureWarning: The frame.append method is deprecated and will be removed from pandas in a future version. Use pandas.concat instead.\n",
      "  df_eeg_features = df_eeg_features.append(eeg_band_fft, ignore_index=True)\n",
      "/tmp/ipykernel_18001/1951054575.py:54: FutureWarning: The frame.append method is deprecated and will be removed from pandas in a future version. Use pandas.concat instead.\n",
      "  df_eeg_features = df_eeg_features.append(eeg_band_fft, ignore_index=True)\n",
      "/tmp/ipykernel_18001/1951054575.py:54: FutureWarning: The frame.append method is deprecated and will be removed from pandas in a future version. Use pandas.concat instead.\n",
      "  df_eeg_features = df_eeg_features.append(eeg_band_fft, ignore_index=True)\n"
     ]
    },
    {
     "name": "stdout",
     "output_type": "stream",
     "text": [
      "Effective window size : 0.619 (s)\n",
      "Effective window size : 0.619 (s)\n",
      "Effective window size : 0.619 (s)\n",
      "Effective window size : 0.619 (s)\n",
      "Effective window size : 0.619 (s)\n",
      "Effective window size : 0.619 (s)\n"
     ]
    },
    {
     "name": "stderr",
     "output_type": "stream",
     "text": [
      "/tmp/ipykernel_18001/1951054575.py:54: FutureWarning: The frame.append method is deprecated and will be removed from pandas in a future version. Use pandas.concat instead.\n",
      "  df_eeg_features = df_eeg_features.append(eeg_band_fft, ignore_index=True)\n",
      "/tmp/ipykernel_18001/1951054575.py:54: FutureWarning: The frame.append method is deprecated and will be removed from pandas in a future version. Use pandas.concat instead.\n",
      "  df_eeg_features = df_eeg_features.append(eeg_band_fft, ignore_index=True)\n",
      "/tmp/ipykernel_18001/1951054575.py:54: FutureWarning: The frame.append method is deprecated and will be removed from pandas in a future version. Use pandas.concat instead.\n",
      "  df_eeg_features = df_eeg_features.append(eeg_band_fft, ignore_index=True)\n"
     ]
    },
    {
     "name": "stdout",
     "output_type": "stream",
     "text": [
      "Effective window size : 0.619 (s)\n",
      "Effective window size : 0.619 (s)\n",
      "Effective window size : 0.619 (s)\n",
      "Effective window size : 0.619 (s)\n",
      "Effective window size : 0.619 (s)\n",
      "Effective window size : 0.619 (s)\n",
      "Effective window size : 0.619 (s)\n",
      "Effective window size : 0.619 (s)\n"
     ]
    },
    {
     "name": "stderr",
     "output_type": "stream",
     "text": [
      "/tmp/ipykernel_18001/1951054575.py:54: FutureWarning: The frame.append method is deprecated and will be removed from pandas in a future version. Use pandas.concat instead.\n",
      "  df_eeg_features = df_eeg_features.append(eeg_band_fft, ignore_index=True)\n",
      "/tmp/ipykernel_18001/1951054575.py:54: FutureWarning: The frame.append method is deprecated and will be removed from pandas in a future version. Use pandas.concat instead.\n",
      "  df_eeg_features = df_eeg_features.append(eeg_band_fft, ignore_index=True)\n",
      "/tmp/ipykernel_18001/1951054575.py:54: FutureWarning: The frame.append method is deprecated and will be removed from pandas in a future version. Use pandas.concat instead.\n",
      "  df_eeg_features = df_eeg_features.append(eeg_band_fft, ignore_index=True)\n"
     ]
    },
    {
     "name": "stdout",
     "output_type": "stream",
     "text": [
      "Effective window size : 0.619 (s)\n",
      "Effective window size : 0.619 (s)\n",
      "Effective window size : 0.619 (s)\n",
      "Effective window size : 0.619 (s)\n",
      "Effective window size : 0.619 (s)\n",
      "Effective window size : 0.619 (s)\n"
     ]
    },
    {
     "name": "stderr",
     "output_type": "stream",
     "text": [
      "/tmp/ipykernel_18001/1951054575.py:54: FutureWarning: The frame.append method is deprecated and will be removed from pandas in a future version. Use pandas.concat instead.\n",
      "  df_eeg_features = df_eeg_features.append(eeg_band_fft, ignore_index=True)\n",
      "/tmp/ipykernel_18001/1951054575.py:54: FutureWarning: The frame.append method is deprecated and will be removed from pandas in a future version. Use pandas.concat instead.\n",
      "  df_eeg_features = df_eeg_features.append(eeg_band_fft, ignore_index=True)\n",
      "/tmp/ipykernel_18001/1951054575.py:54: FutureWarning: The frame.append method is deprecated and will be removed from pandas in a future version. Use pandas.concat instead.\n",
      "  df_eeg_features = df_eeg_features.append(eeg_band_fft, ignore_index=True)\n"
     ]
    },
    {
     "name": "stdout",
     "output_type": "stream",
     "text": [
      "Effective window size : 0.619 (s)\n",
      "Effective window size : 0.619 (s)\n",
      "Effective window size : 0.619 (s)\n",
      "Effective window size : 0.619 (s)\n",
      "Effective window size : 0.619 (s)\n"
     ]
    },
    {
     "name": "stderr",
     "output_type": "stream",
     "text": [
      "/tmp/ipykernel_18001/1951054575.py:54: FutureWarning: The frame.append method is deprecated and will be removed from pandas in a future version. Use pandas.concat instead.\n",
      "  df_eeg_features = df_eeg_features.append(eeg_band_fft, ignore_index=True)\n",
      "/tmp/ipykernel_18001/1951054575.py:54: FutureWarning: The frame.append method is deprecated and will be removed from pandas in a future version. Use pandas.concat instead.\n",
      "  df_eeg_features = df_eeg_features.append(eeg_band_fft, ignore_index=True)\n",
      "/tmp/ipykernel_18001/1951054575.py:54: FutureWarning: The frame.append method is deprecated and will be removed from pandas in a future version. Use pandas.concat instead.\n",
      "  df_eeg_features = df_eeg_features.append(eeg_band_fft, ignore_index=True)\n"
     ]
    },
    {
     "name": "stdout",
     "output_type": "stream",
     "text": [
      "Effective window size : 0.619 (s)\n",
      "Effective window size : 0.619 (s)\n",
      "Effective window size : 0.619 (s)\n",
      "Effective window size : 0.619 (s)\n",
      "Effective window size : 0.619 (s)\n",
      "Effective window size : 0.619 (s)\n",
      "Effective window size : 0.619 (s)\n"
     ]
    },
    {
     "name": "stderr",
     "output_type": "stream",
     "text": [
      "/tmp/ipykernel_18001/1951054575.py:54: FutureWarning: The frame.append method is deprecated and will be removed from pandas in a future version. Use pandas.concat instead.\n",
      "  df_eeg_features = df_eeg_features.append(eeg_band_fft, ignore_index=True)\n",
      "/tmp/ipykernel_18001/1951054575.py:54: FutureWarning: The frame.append method is deprecated and will be removed from pandas in a future version. Use pandas.concat instead.\n",
      "  df_eeg_features = df_eeg_features.append(eeg_band_fft, ignore_index=True)\n",
      "/tmp/ipykernel_18001/1951054575.py:54: FutureWarning: The frame.append method is deprecated and will be removed from pandas in a future version. Use pandas.concat instead.\n",
      "  df_eeg_features = df_eeg_features.append(eeg_band_fft, ignore_index=True)\n"
     ]
    },
    {
     "name": "stdout",
     "output_type": "stream",
     "text": [
      "Effective window size : 0.619 (s)\n",
      "Effective window size : 0.619 (s)\n",
      "Effective window size : 0.619 (s)\n",
      "Effective window size : 0.619 (s)\n"
     ]
    },
    {
     "name": "stderr",
     "output_type": "stream",
     "text": [
      "/tmp/ipykernel_18001/1951054575.py:54: FutureWarning: The frame.append method is deprecated and will be removed from pandas in a future version. Use pandas.concat instead.\n",
      "  df_eeg_features = df_eeg_features.append(eeg_band_fft, ignore_index=True)\n",
      "/tmp/ipykernel_18001/1951054575.py:54: FutureWarning: The frame.append method is deprecated and will be removed from pandas in a future version. Use pandas.concat instead.\n",
      "  df_eeg_features = df_eeg_features.append(eeg_band_fft, ignore_index=True)\n",
      "/tmp/ipykernel_18001/1951054575.py:54: FutureWarning: The frame.append method is deprecated and will be removed from pandas in a future version. Use pandas.concat instead.\n",
      "  df_eeg_features = df_eeg_features.append(eeg_band_fft, ignore_index=True)\n"
     ]
    },
    {
     "name": "stdout",
     "output_type": "stream",
     "text": [
      "Extracting EDF parameters from /home/vanilla_skies/mne_data/MNE-eegbci-data/files/eegmmidb/1.0.0/S005/S005R03.edf...\n",
      "EDF file detected\n",
      "Setting channel info structure...\n",
      "Creating raw.info structure...\n",
      "Reading 0 ... 19679  =      0.000 ...   122.994 secs...\n",
      "Extracting EDF parameters from /home/vanilla_skies/mne_data/MNE-eegbci-data/files/eegmmidb/1.0.0/S005/S005R07.edf...\n",
      "EDF file detected\n",
      "Setting channel info structure...\n",
      "Creating raw.info structure...\n",
      "Reading 0 ... 19679  =      0.000 ...   122.994 secs...\n",
      "Extracting EDF parameters from /home/vanilla_skies/mne_data/MNE-eegbci-data/files/eegmmidb/1.0.0/S005/S005R11.edf...\n",
      "EDF file detected\n",
      "Setting channel info structure...\n",
      "Creating raw.info structure...\n",
      "Reading 0 ... 19679  =      0.000 ...   122.994 secs...\n",
      "Used Annotations descriptions: ['T0', 'T1', 'T2']\n",
      "Filtering raw data in 3 contiguous segments\n",
      "Setting up band-pass filter from 7 - 30 Hz\n",
      "\n",
      "FIR filter parameters\n",
      "---------------------\n",
      "Designing a one-pass, zero-phase, non-causal bandpass filter:\n",
      "- Windowed time-domain design (firwin) method\n",
      "- Hamming window with 0.0194 passband ripple and 53 dB stopband attenuation\n",
      "- Lower passband edge: 7.00\n",
      "- Lower transition bandwidth: 2.00 Hz (-6 dB cutoff frequency: 6.00 Hz)\n",
      "- Upper passband edge: 30.00 Hz\n",
      "- Upper transition bandwidth: 7.50 Hz (-6 dB cutoff frequency: 33.75 Hz)\n",
      "- Filter length: 265 samples (1.656 sec)\n",
      "\n",
      "Not setting metadata\n",
      "45 matching events found\n",
      "No baseline correction applied\n",
      "0 projection items activated\n",
      "Using data from preloaded Raw for 45 events and 801 original time points ...\n",
      "0 bad epochs dropped\n",
      "Effective window size : 0.619 (s)\n",
      "Effective window size : 0.619 (s)\n",
      "Effective window size : 0.619 (s)\n",
      "Effective window size : 0.619 (s)\n",
      "Effective window size : 0.619 (s)\n",
      "Effective window size : 0.619 (s)\n",
      "Effective window size : 0.619 (s)\n",
      "Effective window size : 0.619 (s)\n"
     ]
    },
    {
     "name": "stderr",
     "output_type": "stream",
     "text": [
      "/tmp/ipykernel_18001/1951054575.py:54: FutureWarning: The frame.append method is deprecated and will be removed from pandas in a future version. Use pandas.concat instead.\n",
      "  df_eeg_features = df_eeg_features.append(eeg_band_fft, ignore_index=True)\n",
      "/tmp/ipykernel_18001/1951054575.py:54: FutureWarning: The frame.append method is deprecated and will be removed from pandas in a future version. Use pandas.concat instead.\n",
      "  df_eeg_features = df_eeg_features.append(eeg_band_fft, ignore_index=True)\n",
      "/tmp/ipykernel_18001/1951054575.py:54: FutureWarning: The frame.append method is deprecated and will be removed from pandas in a future version. Use pandas.concat instead.\n",
      "  df_eeg_features = df_eeg_features.append(eeg_band_fft, ignore_index=True)\n"
     ]
    },
    {
     "name": "stdout",
     "output_type": "stream",
     "text": [
      "Effective window size : 0.619 (s)\n",
      "Effective window size : 0.619 (s)\n",
      "Effective window size : 0.619 (s)\n",
      "Effective window size : 0.619 (s)\n",
      "Effective window size : 0.619 (s)\n",
      "Effective window size : 0.619 (s)\n"
     ]
    },
    {
     "name": "stderr",
     "output_type": "stream",
     "text": [
      "/tmp/ipykernel_18001/1951054575.py:54: FutureWarning: The frame.append method is deprecated and will be removed from pandas in a future version. Use pandas.concat instead.\n",
      "  df_eeg_features = df_eeg_features.append(eeg_band_fft, ignore_index=True)\n",
      "/tmp/ipykernel_18001/1951054575.py:54: FutureWarning: The frame.append method is deprecated and will be removed from pandas in a future version. Use pandas.concat instead.\n",
      "  df_eeg_features = df_eeg_features.append(eeg_band_fft, ignore_index=True)\n",
      "/tmp/ipykernel_18001/1951054575.py:54: FutureWarning: The frame.append method is deprecated and will be removed from pandas in a future version. Use pandas.concat instead.\n",
      "  df_eeg_features = df_eeg_features.append(eeg_band_fft, ignore_index=True)\n"
     ]
    },
    {
     "name": "stdout",
     "output_type": "stream",
     "text": [
      "Effective window size : 0.619 (s)\n",
      "Effective window size : 0.619 (s)\n",
      "Effective window size : 0.619 (s)\n",
      "Effective window size : 0.619 (s)\n",
      "Effective window size : 0.619 (s)\n",
      "Effective window size : 0.619 (s)\n"
     ]
    },
    {
     "name": "stderr",
     "output_type": "stream",
     "text": [
      "/tmp/ipykernel_18001/1951054575.py:54: FutureWarning: The frame.append method is deprecated and will be removed from pandas in a future version. Use pandas.concat instead.\n",
      "  df_eeg_features = df_eeg_features.append(eeg_band_fft, ignore_index=True)\n",
      "/tmp/ipykernel_18001/1951054575.py:54: FutureWarning: The frame.append method is deprecated and will be removed from pandas in a future version. Use pandas.concat instead.\n",
      "  df_eeg_features = df_eeg_features.append(eeg_band_fft, ignore_index=True)\n",
      "/tmp/ipykernel_18001/1951054575.py:54: FutureWarning: The frame.append method is deprecated and will be removed from pandas in a future version. Use pandas.concat instead.\n",
      "  df_eeg_features = df_eeg_features.append(eeg_band_fft, ignore_index=True)\n"
     ]
    },
    {
     "name": "stdout",
     "output_type": "stream",
     "text": [
      "Effective window size : 0.619 (s)\n",
      "Effective window size : 0.619 (s)\n",
      "Effective window size : 0.619 (s)\n",
      "Effective window size : 0.619 (s)\n",
      "Effective window size : 0.619 (s)\n",
      "Effective window size : 0.619 (s)\n"
     ]
    },
    {
     "name": "stderr",
     "output_type": "stream",
     "text": [
      "/tmp/ipykernel_18001/1951054575.py:54: FutureWarning: The frame.append method is deprecated and will be removed from pandas in a future version. Use pandas.concat instead.\n",
      "  df_eeg_features = df_eeg_features.append(eeg_band_fft, ignore_index=True)\n",
      "/tmp/ipykernel_18001/1951054575.py:54: FutureWarning: The frame.append method is deprecated and will be removed from pandas in a future version. Use pandas.concat instead.\n",
      "  df_eeg_features = df_eeg_features.append(eeg_band_fft, ignore_index=True)\n",
      "/tmp/ipykernel_18001/1951054575.py:54: FutureWarning: The frame.append method is deprecated and will be removed from pandas in a future version. Use pandas.concat instead.\n",
      "  df_eeg_features = df_eeg_features.append(eeg_band_fft, ignore_index=True)\n"
     ]
    },
    {
     "name": "stdout",
     "output_type": "stream",
     "text": [
      "Effective window size : 0.619 (s)\n",
      "Effective window size : 0.619 (s)\n",
      "Effective window size : 0.619 (s)\n",
      "Effective window size : 0.619 (s)\n",
      "Effective window size : 0.619 (s)\n",
      "Effective window size : 0.619 (s)\n"
     ]
    },
    {
     "name": "stderr",
     "output_type": "stream",
     "text": [
      "/tmp/ipykernel_18001/1951054575.py:54: FutureWarning: The frame.append method is deprecated and will be removed from pandas in a future version. Use pandas.concat instead.\n",
      "  df_eeg_features = df_eeg_features.append(eeg_band_fft, ignore_index=True)\n",
      "/tmp/ipykernel_18001/1951054575.py:54: FutureWarning: The frame.append method is deprecated and will be removed from pandas in a future version. Use pandas.concat instead.\n",
      "  df_eeg_features = df_eeg_features.append(eeg_band_fft, ignore_index=True)\n",
      "/tmp/ipykernel_18001/1951054575.py:54: FutureWarning: The frame.append method is deprecated and will be removed from pandas in a future version. Use pandas.concat instead.\n",
      "  df_eeg_features = df_eeg_features.append(eeg_band_fft, ignore_index=True)\n"
     ]
    },
    {
     "name": "stdout",
     "output_type": "stream",
     "text": [
      "Effective window size : 0.619 (s)\n",
      "Effective window size : 0.619 (s)\n",
      "Effective window size : 0.619 (s)\n",
      "Effective window size : 0.619 (s)\n",
      "Effective window size : 0.619 (s)\n"
     ]
    },
    {
     "name": "stderr",
     "output_type": "stream",
     "text": [
      "/tmp/ipykernel_18001/1951054575.py:54: FutureWarning: The frame.append method is deprecated and will be removed from pandas in a future version. Use pandas.concat instead.\n",
      "  df_eeg_features = df_eeg_features.append(eeg_band_fft, ignore_index=True)\n",
      "/tmp/ipykernel_18001/1951054575.py:54: FutureWarning: The frame.append method is deprecated and will be removed from pandas in a future version. Use pandas.concat instead.\n",
      "  df_eeg_features = df_eeg_features.append(eeg_band_fft, ignore_index=True)\n",
      "/tmp/ipykernel_18001/1951054575.py:54: FutureWarning: The frame.append method is deprecated and will be removed from pandas in a future version. Use pandas.concat instead.\n",
      "  df_eeg_features = df_eeg_features.append(eeg_band_fft, ignore_index=True)\n"
     ]
    },
    {
     "name": "stdout",
     "output_type": "stream",
     "text": [
      "Effective window size : 0.619 (s)\n",
      "Effective window size : 0.619 (s)\n",
      "Effective window size : 0.619 (s)\n",
      "Effective window size : 0.619 (s)\n",
      "Effective window size : 0.619 (s)\n",
      "Effective window size : 0.619 (s)\n",
      "Effective window size : 0.619 (s)\n"
     ]
    },
    {
     "name": "stderr",
     "output_type": "stream",
     "text": [
      "/tmp/ipykernel_18001/1951054575.py:54: FutureWarning: The frame.append method is deprecated and will be removed from pandas in a future version. Use pandas.concat instead.\n",
      "  df_eeg_features = df_eeg_features.append(eeg_band_fft, ignore_index=True)\n",
      "/tmp/ipykernel_18001/1951054575.py:54: FutureWarning: The frame.append method is deprecated and will be removed from pandas in a future version. Use pandas.concat instead.\n",
      "  df_eeg_features = df_eeg_features.append(eeg_band_fft, ignore_index=True)\n",
      "/tmp/ipykernel_18001/1951054575.py:54: FutureWarning: The frame.append method is deprecated and will be removed from pandas in a future version. Use pandas.concat instead.\n",
      "  df_eeg_features = df_eeg_features.append(eeg_band_fft, ignore_index=True)\n"
     ]
    },
    {
     "name": "stdout",
     "output_type": "stream",
     "text": [
      "Effective window size : 0.619 (s)\n",
      "Effective window size : 0.619 (s)\n",
      "Effective window size : 0.619 (s)\n",
      "Effective window size : 0.619 (s)\n",
      "Effective window size : 0.619 (s)\n",
      "Effective window size : 0.619 (s)\n"
     ]
    },
    {
     "name": "stderr",
     "output_type": "stream",
     "text": [
      "/tmp/ipykernel_18001/1951054575.py:54: FutureWarning: The frame.append method is deprecated and will be removed from pandas in a future version. Use pandas.concat instead.\n",
      "  df_eeg_features = df_eeg_features.append(eeg_band_fft, ignore_index=True)\n",
      "/tmp/ipykernel_18001/1951054575.py:54: FutureWarning: The frame.append method is deprecated and will be removed from pandas in a future version. Use pandas.concat instead.\n",
      "  df_eeg_features = df_eeg_features.append(eeg_band_fft, ignore_index=True)\n",
      "/tmp/ipykernel_18001/1951054575.py:54: FutureWarning: The frame.append method is deprecated and will be removed from pandas in a future version. Use pandas.concat instead.\n",
      "  df_eeg_features = df_eeg_features.append(eeg_band_fft, ignore_index=True)\n"
     ]
    },
    {
     "name": "stdout",
     "output_type": "stream",
     "text": [
      "Effective window size : 0.619 (s)\n",
      "Effective window size : 0.619 (s)\n",
      "Effective window size : 0.619 (s)\n",
      "Effective window size : 0.619 (s)\n",
      "Effective window size : 0.619 (s)\n",
      "Effective window size : 0.619 (s)\n"
     ]
    },
    {
     "name": "stderr",
     "output_type": "stream",
     "text": [
      "/tmp/ipykernel_18001/1951054575.py:54: FutureWarning: The frame.append method is deprecated and will be removed from pandas in a future version. Use pandas.concat instead.\n",
      "  df_eeg_features = df_eeg_features.append(eeg_band_fft, ignore_index=True)\n",
      "/tmp/ipykernel_18001/1951054575.py:54: FutureWarning: The frame.append method is deprecated and will be removed from pandas in a future version. Use pandas.concat instead.\n",
      "  df_eeg_features = df_eeg_features.append(eeg_band_fft, ignore_index=True)\n",
      "/tmp/ipykernel_18001/1951054575.py:54: FutureWarning: The frame.append method is deprecated and will be removed from pandas in a future version. Use pandas.concat instead.\n",
      "  df_eeg_features = df_eeg_features.append(eeg_band_fft, ignore_index=True)\n"
     ]
    },
    {
     "name": "stdout",
     "output_type": "stream",
     "text": [
      "Effective window size : 0.619 (s)\n",
      "Effective window size : 0.619 (s)\n",
      "Effective window size : 0.619 (s)\n",
      "Effective window size : 0.619 (s)\n",
      "Effective window size : 0.619 (s)\n",
      "Effective window size : 0.619 (s)\n"
     ]
    },
    {
     "name": "stderr",
     "output_type": "stream",
     "text": [
      "/tmp/ipykernel_18001/1951054575.py:54: FutureWarning: The frame.append method is deprecated and will be removed from pandas in a future version. Use pandas.concat instead.\n",
      "  df_eeg_features = df_eeg_features.append(eeg_band_fft, ignore_index=True)\n",
      "/tmp/ipykernel_18001/1951054575.py:54: FutureWarning: The frame.append method is deprecated and will be removed from pandas in a future version. Use pandas.concat instead.\n",
      "  df_eeg_features = df_eeg_features.append(eeg_band_fft, ignore_index=True)\n",
      "/tmp/ipykernel_18001/1951054575.py:54: FutureWarning: The frame.append method is deprecated and will be removed from pandas in a future version. Use pandas.concat instead.\n",
      "  df_eeg_features = df_eeg_features.append(eeg_band_fft, ignore_index=True)\n"
     ]
    },
    {
     "name": "stdout",
     "output_type": "stream",
     "text": [
      "Effective window size : 0.619 (s)\n",
      "Effective window size : 0.619 (s)\n",
      "Effective window size : 0.619 (s)\n",
      "Effective window size : 0.619 (s)\n",
      "Effective window size : 0.619 (s)\n",
      "Effective window size : 0.619 (s)\n"
     ]
    },
    {
     "name": "stderr",
     "output_type": "stream",
     "text": [
      "/tmp/ipykernel_18001/1951054575.py:54: FutureWarning: The frame.append method is deprecated and will be removed from pandas in a future version. Use pandas.concat instead.\n",
      "  df_eeg_features = df_eeg_features.append(eeg_band_fft, ignore_index=True)\n",
      "/tmp/ipykernel_18001/1951054575.py:54: FutureWarning: The frame.append method is deprecated and will be removed from pandas in a future version. Use pandas.concat instead.\n",
      "  df_eeg_features = df_eeg_features.append(eeg_band_fft, ignore_index=True)\n",
      "/tmp/ipykernel_18001/1951054575.py:54: FutureWarning: The frame.append method is deprecated and will be removed from pandas in a future version. Use pandas.concat instead.\n",
      "  df_eeg_features = df_eeg_features.append(eeg_band_fft, ignore_index=True)\n"
     ]
    },
    {
     "name": "stdout",
     "output_type": "stream",
     "text": [
      "Effective window size : 0.619 (s)\n",
      "Effective window size : 0.619 (s)\n",
      "Effective window size : 0.619 (s)\n",
      "Effective window size : 0.619 (s)\n",
      "Effective window size : 0.619 (s)\n",
      "Effective window size : 0.619 (s)\n"
     ]
    },
    {
     "name": "stderr",
     "output_type": "stream",
     "text": [
      "/tmp/ipykernel_18001/1951054575.py:54: FutureWarning: The frame.append method is deprecated and will be removed from pandas in a future version. Use pandas.concat instead.\n",
      "  df_eeg_features = df_eeg_features.append(eeg_band_fft, ignore_index=True)\n",
      "/tmp/ipykernel_18001/1951054575.py:54: FutureWarning: The frame.append method is deprecated and will be removed from pandas in a future version. Use pandas.concat instead.\n",
      "  df_eeg_features = df_eeg_features.append(eeg_band_fft, ignore_index=True)\n",
      "/tmp/ipykernel_18001/1951054575.py:54: FutureWarning: The frame.append method is deprecated and will be removed from pandas in a future version. Use pandas.concat instead.\n",
      "  df_eeg_features = df_eeg_features.append(eeg_band_fft, ignore_index=True)\n"
     ]
    },
    {
     "name": "stdout",
     "output_type": "stream",
     "text": [
      "Effective window size : 0.619 (s)\n",
      "Effective window size : 0.619 (s)\n",
      "Effective window size : 0.619 (s)\n",
      "Effective window size : 0.619 (s)\n",
      "Effective window size : 0.619 (s)\n",
      "Effective window size : 0.619 (s)\n"
     ]
    },
    {
     "name": "stderr",
     "output_type": "stream",
     "text": [
      "/tmp/ipykernel_18001/1951054575.py:54: FutureWarning: The frame.append method is deprecated and will be removed from pandas in a future version. Use pandas.concat instead.\n",
      "  df_eeg_features = df_eeg_features.append(eeg_band_fft, ignore_index=True)\n",
      "/tmp/ipykernel_18001/1951054575.py:54: FutureWarning: The frame.append method is deprecated and will be removed from pandas in a future version. Use pandas.concat instead.\n",
      "  df_eeg_features = df_eeg_features.append(eeg_band_fft, ignore_index=True)\n",
      "/tmp/ipykernel_18001/1951054575.py:54: FutureWarning: The frame.append method is deprecated and will be removed from pandas in a future version. Use pandas.concat instead.\n",
      "  df_eeg_features = df_eeg_features.append(eeg_band_fft, ignore_index=True)\n"
     ]
    },
    {
     "name": "stdout",
     "output_type": "stream",
     "text": [
      "Effective window size : 0.619 (s)\n",
      "Effective window size : 0.619 (s)\n",
      "Effective window size : 0.619 (s)\n",
      "Effective window size : 0.619 (s)\n",
      "Effective window size : 0.619 (s)\n",
      "Effective window size : 0.619 (s)\n"
     ]
    },
    {
     "name": "stderr",
     "output_type": "stream",
     "text": [
      "/tmp/ipykernel_18001/1951054575.py:54: FutureWarning: The frame.append method is deprecated and will be removed from pandas in a future version. Use pandas.concat instead.\n",
      "  df_eeg_features = df_eeg_features.append(eeg_band_fft, ignore_index=True)\n",
      "/tmp/ipykernel_18001/1951054575.py:54: FutureWarning: The frame.append method is deprecated and will be removed from pandas in a future version. Use pandas.concat instead.\n",
      "  df_eeg_features = df_eeg_features.append(eeg_band_fft, ignore_index=True)\n",
      "/tmp/ipykernel_18001/1951054575.py:54: FutureWarning: The frame.append method is deprecated and will be removed from pandas in a future version. Use pandas.concat instead.\n",
      "  df_eeg_features = df_eeg_features.append(eeg_band_fft, ignore_index=True)\n"
     ]
    },
    {
     "name": "stdout",
     "output_type": "stream",
     "text": [
      "Effective window size : 0.619 (s)\n",
      "Effective window size : 0.619 (s)\n",
      "Effective window size : 0.619 (s)\n",
      "Effective window size : 0.619 (s)\n",
      "Extracting EDF parameters from /home/vanilla_skies/mne_data/MNE-eegbci-data/files/eegmmidb/1.0.0/S006/S006R03.edf...\n",
      "EDF file detected\n",
      "Setting channel info structure...\n",
      "Creating raw.info structure...\n",
      "Reading 0 ... 19679  =      0.000 ...   122.994 secs...\n"
     ]
    },
    {
     "name": "stderr",
     "output_type": "stream",
     "text": [
      "/tmp/ipykernel_18001/1951054575.py:54: FutureWarning: The frame.append method is deprecated and will be removed from pandas in a future version. Use pandas.concat instead.\n",
      "  df_eeg_features = df_eeg_features.append(eeg_band_fft, ignore_index=True)\n",
      "/tmp/ipykernel_18001/1951054575.py:54: FutureWarning: The frame.append method is deprecated and will be removed from pandas in a future version. Use pandas.concat instead.\n",
      "  df_eeg_features = df_eeg_features.append(eeg_band_fft, ignore_index=True)\n",
      "/tmp/ipykernel_18001/1951054575.py:54: FutureWarning: The frame.append method is deprecated and will be removed from pandas in a future version. Use pandas.concat instead.\n",
      "  df_eeg_features = df_eeg_features.append(eeg_band_fft, ignore_index=True)\n"
     ]
    },
    {
     "name": "stdout",
     "output_type": "stream",
     "text": [
      "Extracting EDF parameters from /home/vanilla_skies/mne_data/MNE-eegbci-data/files/eegmmidb/1.0.0/S006/S006R07.edf...\n",
      "EDF file detected\n",
      "Setting channel info structure...\n",
      "Creating raw.info structure...\n",
      "Reading 0 ... 19679  =      0.000 ...   122.994 secs...\n",
      "Extracting EDF parameters from /home/vanilla_skies/mne_data/MNE-eegbci-data/files/eegmmidb/1.0.0/S006/S006R11.edf...\n",
      "EDF file detected\n",
      "Setting channel info structure...\n",
      "Creating raw.info structure...\n",
      "Reading 0 ... 19679  =      0.000 ...   122.994 secs...\n",
      "Used Annotations descriptions: ['T0', 'T1', 'T2']\n",
      "Filtering raw data in 3 contiguous segments\n",
      "Setting up band-pass filter from 7 - 30 Hz\n",
      "\n",
      "FIR filter parameters\n",
      "---------------------\n",
      "Designing a one-pass, zero-phase, non-causal bandpass filter:\n",
      "- Windowed time-domain design (firwin) method\n",
      "- Hamming window with 0.0194 passband ripple and 53 dB stopband attenuation\n",
      "- Lower passband edge: 7.00\n",
      "- Lower transition bandwidth: 2.00 Hz (-6 dB cutoff frequency: 6.00 Hz)\n",
      "- Upper passband edge: 30.00 Hz\n",
      "- Upper transition bandwidth: 7.50 Hz (-6 dB cutoff frequency: 33.75 Hz)\n",
      "- Filter length: 265 samples (1.656 sec)\n",
      "\n",
      "Not setting metadata\n",
      "45 matching events found\n",
      "No baseline correction applied\n",
      "0 projection items activated\n",
      "Using data from preloaded Raw for 45 events and 801 original time points ...\n",
      "0 bad epochs dropped\n",
      "Effective window size : 0.619 (s)\n",
      "Effective window size : 0.619 (s)\n",
      "Effective window size : 0.619 (s)\n",
      "Effective window size : 0.619 (s)\n",
      "Effective window size : 0.619 (s)\n",
      "Effective window size : 0.619 (s)\n",
      "Effective window size : 0.619 (s)\n"
     ]
    },
    {
     "name": "stderr",
     "output_type": "stream",
     "text": [
      "/tmp/ipykernel_18001/1951054575.py:54: FutureWarning: The frame.append method is deprecated and will be removed from pandas in a future version. Use pandas.concat instead.\n",
      "  df_eeg_features = df_eeg_features.append(eeg_band_fft, ignore_index=True)\n",
      "/tmp/ipykernel_18001/1951054575.py:54: FutureWarning: The frame.append method is deprecated and will be removed from pandas in a future version. Use pandas.concat instead.\n",
      "  df_eeg_features = df_eeg_features.append(eeg_band_fft, ignore_index=True)\n",
      "/tmp/ipykernel_18001/1951054575.py:54: FutureWarning: The frame.append method is deprecated and will be removed from pandas in a future version. Use pandas.concat instead.\n",
      "  df_eeg_features = df_eeg_features.append(eeg_band_fft, ignore_index=True)\n"
     ]
    },
    {
     "name": "stdout",
     "output_type": "stream",
     "text": [
      "Effective window size : 0.619 (s)\n",
      "Effective window size : 0.619 (s)\n",
      "Effective window size : 0.619 (s)\n",
      "Effective window size : 0.619 (s)\n",
      "Effective window size : 0.619 (s)\n",
      "Effective window size : 0.619 (s)\n",
      "Effective window size : 0.619 (s)\n"
     ]
    },
    {
     "name": "stderr",
     "output_type": "stream",
     "text": [
      "/tmp/ipykernel_18001/1951054575.py:54: FutureWarning: The frame.append method is deprecated and will be removed from pandas in a future version. Use pandas.concat instead.\n",
      "  df_eeg_features = df_eeg_features.append(eeg_band_fft, ignore_index=True)\n",
      "/tmp/ipykernel_18001/1951054575.py:54: FutureWarning: The frame.append method is deprecated and will be removed from pandas in a future version. Use pandas.concat instead.\n",
      "  df_eeg_features = df_eeg_features.append(eeg_band_fft, ignore_index=True)\n",
      "/tmp/ipykernel_18001/1951054575.py:54: FutureWarning: The frame.append method is deprecated and will be removed from pandas in a future version. Use pandas.concat instead.\n",
      "  df_eeg_features = df_eeg_features.append(eeg_band_fft, ignore_index=True)\n"
     ]
    },
    {
     "name": "stdout",
     "output_type": "stream",
     "text": [
      "Effective window size : 0.619 (s)\n",
      "Effective window size : 0.619 (s)\n",
      "Effective window size : 0.619 (s)\n",
      "Effective window size : 0.619 (s)\n",
      "Effective window size : 0.619 (s)\n",
      "Effective window size : 0.619 (s)\n"
     ]
    },
    {
     "name": "stderr",
     "output_type": "stream",
     "text": [
      "/tmp/ipykernel_18001/1951054575.py:54: FutureWarning: The frame.append method is deprecated and will be removed from pandas in a future version. Use pandas.concat instead.\n",
      "  df_eeg_features = df_eeg_features.append(eeg_band_fft, ignore_index=True)\n",
      "/tmp/ipykernel_18001/1951054575.py:54: FutureWarning: The frame.append method is deprecated and will be removed from pandas in a future version. Use pandas.concat instead.\n",
      "  df_eeg_features = df_eeg_features.append(eeg_band_fft, ignore_index=True)\n",
      "/tmp/ipykernel_18001/1951054575.py:54: FutureWarning: The frame.append method is deprecated and will be removed from pandas in a future version. Use pandas.concat instead.\n",
      "  df_eeg_features = df_eeg_features.append(eeg_band_fft, ignore_index=True)\n"
     ]
    },
    {
     "name": "stdout",
     "output_type": "stream",
     "text": [
      "Effective window size : 0.619 (s)\n",
      "Effective window size : 0.619 (s)\n",
      "Effective window size : 0.619 (s)\n",
      "Effective window size : 0.619 (s)\n"
     ]
    },
    {
     "name": "stderr",
     "output_type": "stream",
     "text": [
      "/tmp/ipykernel_18001/1951054575.py:54: FutureWarning: The frame.append method is deprecated and will be removed from pandas in a future version. Use pandas.concat instead.\n",
      "  df_eeg_features = df_eeg_features.append(eeg_band_fft, ignore_index=True)\n",
      "/tmp/ipykernel_18001/1951054575.py:54: FutureWarning: The frame.append method is deprecated and will be removed from pandas in a future version. Use pandas.concat instead.\n",
      "  df_eeg_features = df_eeg_features.append(eeg_band_fft, ignore_index=True)\n"
     ]
    },
    {
     "name": "stdout",
     "output_type": "stream",
     "text": [
      "Effective window size : 0.619 (s)\n",
      "Effective window size : 0.619 (s)\n",
      "Effective window size : 0.619 (s)\n",
      "Effective window size : 0.619 (s)\n"
     ]
    },
    {
     "name": "stderr",
     "output_type": "stream",
     "text": [
      "/tmp/ipykernel_18001/1951054575.py:54: FutureWarning: The frame.append method is deprecated and will be removed from pandas in a future version. Use pandas.concat instead.\n",
      "  df_eeg_features = df_eeg_features.append(eeg_band_fft, ignore_index=True)\n",
      "/tmp/ipykernel_18001/1951054575.py:54: FutureWarning: The frame.append method is deprecated and will be removed from pandas in a future version. Use pandas.concat instead.\n",
      "  df_eeg_features = df_eeg_features.append(eeg_band_fft, ignore_index=True)\n"
     ]
    },
    {
     "name": "stdout",
     "output_type": "stream",
     "text": [
      "Effective window size : 0.619 (s)\n",
      "Effective window size : 0.619 (s)\n",
      "Effective window size : 0.619 (s)\n",
      "Effective window size : 0.619 (s)\n"
     ]
    },
    {
     "name": "stderr",
     "output_type": "stream",
     "text": [
      "/tmp/ipykernel_18001/1951054575.py:54: FutureWarning: The frame.append method is deprecated and will be removed from pandas in a future version. Use pandas.concat instead.\n",
      "  df_eeg_features = df_eeg_features.append(eeg_band_fft, ignore_index=True)\n",
      "/tmp/ipykernel_18001/1951054575.py:54: FutureWarning: The frame.append method is deprecated and will be removed from pandas in a future version. Use pandas.concat instead.\n",
      "  df_eeg_features = df_eeg_features.append(eeg_band_fft, ignore_index=True)\n",
      "/tmp/ipykernel_18001/1951054575.py:54: FutureWarning: The frame.append method is deprecated and will be removed from pandas in a future version. Use pandas.concat instead.\n",
      "  df_eeg_features = df_eeg_features.append(eeg_band_fft, ignore_index=True)\n"
     ]
    },
    {
     "name": "stdout",
     "output_type": "stream",
     "text": [
      "Effective window size : 0.619 (s)\n",
      "Effective window size : 0.619 (s)\n",
      "Effective window size : 0.619 (s)\n",
      "Effective window size : 0.619 (s)\n",
      "Effective window size : 0.619 (s)\n",
      "Effective window size : 0.619 (s)\n",
      "Effective window size : 0.619 (s)\n",
      "Effective window size : 0.619 (s)\n"
     ]
    },
    {
     "name": "stderr",
     "output_type": "stream",
     "text": [
      "/tmp/ipykernel_18001/1951054575.py:54: FutureWarning: The frame.append method is deprecated and will be removed from pandas in a future version. Use pandas.concat instead.\n",
      "  df_eeg_features = df_eeg_features.append(eeg_band_fft, ignore_index=True)\n",
      "/tmp/ipykernel_18001/1951054575.py:54: FutureWarning: The frame.append method is deprecated and will be removed from pandas in a future version. Use pandas.concat instead.\n",
      "  df_eeg_features = df_eeg_features.append(eeg_band_fft, ignore_index=True)\n",
      "/tmp/ipykernel_18001/1951054575.py:54: FutureWarning: The frame.append method is deprecated and will be removed from pandas in a future version. Use pandas.concat instead.\n",
      "  df_eeg_features = df_eeg_features.append(eeg_band_fft, ignore_index=True)\n"
     ]
    },
    {
     "name": "stdout",
     "output_type": "stream",
     "text": [
      "Effective window size : 0.619 (s)\n",
      "Effective window size : 0.619 (s)\n",
      "Effective window size : 0.619 (s)\n",
      "Effective window size : 0.619 (s)\n",
      "Effective window size : 0.619 (s)\n"
     ]
    },
    {
     "name": "stderr",
     "output_type": "stream",
     "text": [
      "/tmp/ipykernel_18001/1951054575.py:54: FutureWarning: The frame.append method is deprecated and will be removed from pandas in a future version. Use pandas.concat instead.\n",
      "  df_eeg_features = df_eeg_features.append(eeg_band_fft, ignore_index=True)\n",
      "/tmp/ipykernel_18001/1951054575.py:54: FutureWarning: The frame.append method is deprecated and will be removed from pandas in a future version. Use pandas.concat instead.\n",
      "  df_eeg_features = df_eeg_features.append(eeg_band_fft, ignore_index=True)\n",
      "/tmp/ipykernel_18001/1951054575.py:54: FutureWarning: The frame.append method is deprecated and will be removed from pandas in a future version. Use pandas.concat instead.\n",
      "  df_eeg_features = df_eeg_features.append(eeg_band_fft, ignore_index=True)\n"
     ]
    },
    {
     "name": "stdout",
     "output_type": "stream",
     "text": [
      "Effective window size : 0.619 (s)\n",
      "Effective window size : 0.619 (s)\n",
      "Effective window size : 0.619 (s)\n",
      "Effective window size : 0.619 (s)\n",
      "Effective window size : 0.619 (s)\n"
     ]
    },
    {
     "name": "stderr",
     "output_type": "stream",
     "text": [
      "/tmp/ipykernel_18001/1951054575.py:54: FutureWarning: The frame.append method is deprecated and will be removed from pandas in a future version. Use pandas.concat instead.\n",
      "  df_eeg_features = df_eeg_features.append(eeg_band_fft, ignore_index=True)\n",
      "/tmp/ipykernel_18001/1951054575.py:54: FutureWarning: The frame.append method is deprecated and will be removed from pandas in a future version. Use pandas.concat instead.\n",
      "  df_eeg_features = df_eeg_features.append(eeg_band_fft, ignore_index=True)\n"
     ]
    },
    {
     "name": "stdout",
     "output_type": "stream",
     "text": [
      "Effective window size : 0.619 (s)\n",
      "Effective window size : 0.619 (s)\n",
      "Effective window size : 0.619 (s)\n",
      "Effective window size : 0.619 (s)\n"
     ]
    },
    {
     "name": "stderr",
     "output_type": "stream",
     "text": [
      "/tmp/ipykernel_18001/1951054575.py:54: FutureWarning: The frame.append method is deprecated and will be removed from pandas in a future version. Use pandas.concat instead.\n",
      "  df_eeg_features = df_eeg_features.append(eeg_band_fft, ignore_index=True)\n",
      "/tmp/ipykernel_18001/1951054575.py:54: FutureWarning: The frame.append method is deprecated and will be removed from pandas in a future version. Use pandas.concat instead.\n",
      "  df_eeg_features = df_eeg_features.append(eeg_band_fft, ignore_index=True)\n"
     ]
    },
    {
     "name": "stdout",
     "output_type": "stream",
     "text": [
      "Effective window size : 0.619 (s)\n",
      "Effective window size : 0.619 (s)\n",
      "Effective window size : 0.619 (s)\n",
      "Effective window size : 0.619 (s)\n",
      "Effective window size : 0.619 (s)\n"
     ]
    },
    {
     "name": "stderr",
     "output_type": "stream",
     "text": [
      "/tmp/ipykernel_18001/1951054575.py:54: FutureWarning: The frame.append method is deprecated and will be removed from pandas in a future version. Use pandas.concat instead.\n",
      "  df_eeg_features = df_eeg_features.append(eeg_band_fft, ignore_index=True)\n",
      "/tmp/ipykernel_18001/1951054575.py:54: FutureWarning: The frame.append method is deprecated and will be removed from pandas in a future version. Use pandas.concat instead.\n",
      "  df_eeg_features = df_eeg_features.append(eeg_band_fft, ignore_index=True)\n",
      "/tmp/ipykernel_18001/1951054575.py:54: FutureWarning: The frame.append method is deprecated and will be removed from pandas in a future version. Use pandas.concat instead.\n",
      "  df_eeg_features = df_eeg_features.append(eeg_band_fft, ignore_index=True)\n"
     ]
    },
    {
     "name": "stdout",
     "output_type": "stream",
     "text": [
      "Effective window size : 0.619 (s)\n",
      "Effective window size : 0.619 (s)\n",
      "Effective window size : 0.619 (s)\n",
      "Effective window size : 0.619 (s)\n",
      "Effective window size : 0.619 (s)\n",
      "Effective window size : 0.619 (s)\n",
      "Effective window size : 0.619 (s)\n"
     ]
    },
    {
     "name": "stderr",
     "output_type": "stream",
     "text": [
      "/tmp/ipykernel_18001/1951054575.py:54: FutureWarning: The frame.append method is deprecated and will be removed from pandas in a future version. Use pandas.concat instead.\n",
      "  df_eeg_features = df_eeg_features.append(eeg_band_fft, ignore_index=True)\n",
      "/tmp/ipykernel_18001/1951054575.py:54: FutureWarning: The frame.append method is deprecated and will be removed from pandas in a future version. Use pandas.concat instead.\n",
      "  df_eeg_features = df_eeg_features.append(eeg_band_fft, ignore_index=True)\n",
      "/tmp/ipykernel_18001/1951054575.py:54: FutureWarning: The frame.append method is deprecated and will be removed from pandas in a future version. Use pandas.concat instead.\n",
      "  df_eeg_features = df_eeg_features.append(eeg_band_fft, ignore_index=True)\n"
     ]
    },
    {
     "name": "stdout",
     "output_type": "stream",
     "text": [
      "Effective window size : 0.619 (s)\n",
      "Effective window size : 0.619 (s)\n",
      "Effective window size : 0.619 (s)\n",
      "Effective window size : 0.619 (s)\n"
     ]
    },
    {
     "name": "stderr",
     "output_type": "stream",
     "text": [
      "/tmp/ipykernel_18001/1951054575.py:54: FutureWarning: The frame.append method is deprecated and will be removed from pandas in a future version. Use pandas.concat instead.\n",
      "  df_eeg_features = df_eeg_features.append(eeg_band_fft, ignore_index=True)\n",
      "/tmp/ipykernel_18001/1951054575.py:54: FutureWarning: The frame.append method is deprecated and will be removed from pandas in a future version. Use pandas.concat instead.\n",
      "  df_eeg_features = df_eeg_features.append(eeg_band_fft, ignore_index=True)\n"
     ]
    },
    {
     "name": "stdout",
     "output_type": "stream",
     "text": [
      "Effective window size : 0.619 (s)\n",
      "Effective window size : 0.619 (s)\n",
      "Effective window size : 0.619 (s)\n",
      "Effective window size : 0.619 (s)\n",
      "Effective window size : 0.619 (s)\n",
      "Effective window size : 0.619 (s)\n"
     ]
    },
    {
     "name": "stderr",
     "output_type": "stream",
     "text": [
      "/tmp/ipykernel_18001/1951054575.py:54: FutureWarning: The frame.append method is deprecated and will be removed from pandas in a future version. Use pandas.concat instead.\n",
      "  df_eeg_features = df_eeg_features.append(eeg_band_fft, ignore_index=True)\n",
      "/tmp/ipykernel_18001/1951054575.py:54: FutureWarning: The frame.append method is deprecated and will be removed from pandas in a future version. Use pandas.concat instead.\n",
      "  df_eeg_features = df_eeg_features.append(eeg_band_fft, ignore_index=True)\n",
      "/tmp/ipykernel_18001/1951054575.py:54: FutureWarning: The frame.append method is deprecated and will be removed from pandas in a future version. Use pandas.concat instead.\n",
      "  df_eeg_features = df_eeg_features.append(eeg_band_fft, ignore_index=True)\n"
     ]
    },
    {
     "name": "stdout",
     "output_type": "stream",
     "text": [
      "Effective window size : 0.619 (s)\n",
      "Effective window size : 0.619 (s)\n",
      "Effective window size : 0.619 (s)\n",
      "Effective window size : 0.619 (s)\n",
      "Effective window size : 0.619 (s)\n",
      "Effective window size : 0.619 (s)\n"
     ]
    },
    {
     "name": "stderr",
     "output_type": "stream",
     "text": [
      "/tmp/ipykernel_18001/1951054575.py:54: FutureWarning: The frame.append method is deprecated and will be removed from pandas in a future version. Use pandas.concat instead.\n",
      "  df_eeg_features = df_eeg_features.append(eeg_band_fft, ignore_index=True)\n",
      "/tmp/ipykernel_18001/1951054575.py:54: FutureWarning: The frame.append method is deprecated and will be removed from pandas in a future version. Use pandas.concat instead.\n",
      "  df_eeg_features = df_eeg_features.append(eeg_band_fft, ignore_index=True)\n",
      "/tmp/ipykernel_18001/1951054575.py:54: FutureWarning: The frame.append method is deprecated and will be removed from pandas in a future version. Use pandas.concat instead.\n",
      "  df_eeg_features = df_eeg_features.append(eeg_band_fft, ignore_index=True)\n"
     ]
    },
    {
     "name": "stdout",
     "output_type": "stream",
     "text": [
      "Effective window size : 0.619 (s)\n",
      "Effective window size : 0.619 (s)\n",
      "Effective window size : 0.619 (s)\n",
      "Effective window size : 0.619 (s)\n"
     ]
    },
    {
     "name": "stderr",
     "output_type": "stream",
     "text": [
      "/tmp/ipykernel_18001/1951054575.py:54: FutureWarning: The frame.append method is deprecated and will be removed from pandas in a future version. Use pandas.concat instead.\n",
      "  df_eeg_features = df_eeg_features.append(eeg_band_fft, ignore_index=True)\n",
      "/tmp/ipykernel_18001/1951054575.py:54: FutureWarning: The frame.append method is deprecated and will be removed from pandas in a future version. Use pandas.concat instead.\n",
      "  df_eeg_features = df_eeg_features.append(eeg_band_fft, ignore_index=True)\n",
      "/tmp/ipykernel_18001/1951054575.py:54: FutureWarning: The frame.append method is deprecated and will be removed from pandas in a future version. Use pandas.concat instead.\n",
      "  df_eeg_features = df_eeg_features.append(eeg_band_fft, ignore_index=True)\n"
     ]
    },
    {
     "name": "stdout",
     "output_type": "stream",
     "text": [
      "Effective window size : 0.619 (s)\n",
      "Effective window size : 0.619 (s)\n",
      "Effective window size : 0.619 (s)\n",
      "Effective window size : 0.619 (s)\n",
      "Extracting EDF parameters from /home/vanilla_skies/mne_data/MNE-eegbci-data/files/eegmmidb/1.0.0/S007/S007R03.edf...\n",
      "EDF file detected\n",
      "Setting channel info structure...\n",
      "Creating raw.info structure...\n",
      "Reading 0 ... 19999  =      0.000 ...   124.994 secs...\n",
      "Extracting EDF parameters from /home/vanilla_skies/mne_data/MNE-eegbci-data/files/eegmmidb/1.0.0/S007/S007R07.edf...\n",
      "EDF file detected\n",
      "Setting channel info structure...\n",
      "Creating raw.info structure...\n",
      "Reading 0 ... 19999  =      0.000 ...   124.994 secs...\n",
      "Extracting EDF parameters from /home/vanilla_skies/mne_data/MNE-eegbci-data/files/eegmmidb/1.0.0/S007/S007R11.edf...\n",
      "EDF file detected\n",
      "Setting channel info structure...\n",
      "Creating raw.info structure...\n"
     ]
    },
    {
     "name": "stderr",
     "output_type": "stream",
     "text": [
      "/tmp/ipykernel_18001/1951054575.py:54: FutureWarning: The frame.append method is deprecated and will be removed from pandas in a future version. Use pandas.concat instead.\n",
      "  df_eeg_features = df_eeg_features.append(eeg_band_fft, ignore_index=True)\n",
      "/tmp/ipykernel_18001/1951054575.py:54: FutureWarning: The frame.append method is deprecated and will be removed from pandas in a future version. Use pandas.concat instead.\n",
      "  df_eeg_features = df_eeg_features.append(eeg_band_fft, ignore_index=True)\n"
     ]
    },
    {
     "name": "stdout",
     "output_type": "stream",
     "text": [
      "Reading 0 ... 19999  =      0.000 ...   124.994 secs...\n",
      "Used Annotations descriptions: ['T0', 'T1', 'T2']\n",
      "Filtering raw data in 3 contiguous segments\n",
      "Setting up band-pass filter from 7 - 30 Hz\n",
      "\n",
      "FIR filter parameters\n",
      "---------------------\n",
      "Designing a one-pass, zero-phase, non-causal bandpass filter:\n",
      "- Windowed time-domain design (firwin) method\n",
      "- Hamming window with 0.0194 passband ripple and 53 dB stopband attenuation\n",
      "- Lower passband edge: 7.00\n",
      "- Lower transition bandwidth: 2.00 Hz (-6 dB cutoff frequency: 6.00 Hz)\n",
      "- Upper passband edge: 30.00 Hz\n",
      "- Upper transition bandwidth: 7.50 Hz (-6 dB cutoff frequency: 33.75 Hz)\n",
      "- Filter length: 265 samples (1.656 sec)\n",
      "\n",
      "Not setting metadata\n",
      "45 matching events found\n",
      "No baseline correction applied\n",
      "0 projection items activated\n",
      "Using data from preloaded Raw for 45 events and 801 original time points ...\n",
      "0 bad epochs dropped\n",
      "Effective window size : 0.619 (s)\n",
      "Effective window size : 0.619 (s)\n",
      "Effective window size : 0.619 (s)\n",
      "Effective window size : 0.619 (s)\n",
      "Effective window size : 0.619 (s)\n",
      "Effective window size : 0.619 (s)\n",
      "Effective window size : 0.619 (s)\n"
     ]
    },
    {
     "name": "stderr",
     "output_type": "stream",
     "text": [
      "/tmp/ipykernel_18001/1951054575.py:54: FutureWarning: The frame.append method is deprecated and will be removed from pandas in a future version. Use pandas.concat instead.\n",
      "  df_eeg_features = df_eeg_features.append(eeg_band_fft, ignore_index=True)\n",
      "/tmp/ipykernel_18001/1951054575.py:54: FutureWarning: The frame.append method is deprecated and will be removed from pandas in a future version. Use pandas.concat instead.\n",
      "  df_eeg_features = df_eeg_features.append(eeg_band_fft, ignore_index=True)\n",
      "/tmp/ipykernel_18001/1951054575.py:54: FutureWarning: The frame.append method is deprecated and will be removed from pandas in a future version. Use pandas.concat instead.\n",
      "  df_eeg_features = df_eeg_features.append(eeg_band_fft, ignore_index=True)\n"
     ]
    },
    {
     "name": "stdout",
     "output_type": "stream",
     "text": [
      "Effective window size : 0.619 (s)\n",
      "Effective window size : 0.619 (s)\n",
      "Effective window size : 0.619 (s)\n",
      "Effective window size : 0.619 (s)\n",
      "Effective window size : 0.619 (s)\n",
      "Effective window size : 0.619 (s)\n",
      "Effective window size : 0.619 (s)\n"
     ]
    },
    {
     "name": "stderr",
     "output_type": "stream",
     "text": [
      "/tmp/ipykernel_18001/1951054575.py:54: FutureWarning: The frame.append method is deprecated and will be removed from pandas in a future version. Use pandas.concat instead.\n",
      "  df_eeg_features = df_eeg_features.append(eeg_band_fft, ignore_index=True)\n",
      "/tmp/ipykernel_18001/1951054575.py:54: FutureWarning: The frame.append method is deprecated and will be removed from pandas in a future version. Use pandas.concat instead.\n",
      "  df_eeg_features = df_eeg_features.append(eeg_band_fft, ignore_index=True)\n",
      "/tmp/ipykernel_18001/1951054575.py:54: FutureWarning: The frame.append method is deprecated and will be removed from pandas in a future version. Use pandas.concat instead.\n",
      "  df_eeg_features = df_eeg_features.append(eeg_band_fft, ignore_index=True)\n"
     ]
    },
    {
     "name": "stdout",
     "output_type": "stream",
     "text": [
      "Effective window size : 0.619 (s)\n",
      "Effective window size : 0.619 (s)\n",
      "Effective window size : 0.619 (s)\n",
      "Effective window size : 0.619 (s)\n"
     ]
    },
    {
     "name": "stderr",
     "output_type": "stream",
     "text": [
      "/tmp/ipykernel_18001/1951054575.py:54: FutureWarning: The frame.append method is deprecated and will be removed from pandas in a future version. Use pandas.concat instead.\n",
      "  df_eeg_features = df_eeg_features.append(eeg_band_fft, ignore_index=True)\n",
      "/tmp/ipykernel_18001/1951054575.py:54: FutureWarning: The frame.append method is deprecated and will be removed from pandas in a future version. Use pandas.concat instead.\n",
      "  df_eeg_features = df_eeg_features.append(eeg_band_fft, ignore_index=True)\n",
      "/tmp/ipykernel_18001/1951054575.py:54: FutureWarning: The frame.append method is deprecated and will be removed from pandas in a future version. Use pandas.concat instead.\n",
      "  df_eeg_features = df_eeg_features.append(eeg_band_fft, ignore_index=True)\n"
     ]
    },
    {
     "name": "stdout",
     "output_type": "stream",
     "text": [
      "Effective window size : 0.619 (s)\n",
      "Effective window size : 0.619 (s)\n",
      "Effective window size : 0.619 (s)\n",
      "Effective window size : 0.619 (s)\n",
      "Effective window size : 0.619 (s)\n",
      "Effective window size : 0.619 (s)\n",
      "Effective window size : 0.619 (s)\n",
      "Effective window size : 0.619 (s)\n"
     ]
    },
    {
     "name": "stderr",
     "output_type": "stream",
     "text": [
      "/tmp/ipykernel_18001/1951054575.py:54: FutureWarning: The frame.append method is deprecated and will be removed from pandas in a future version. Use pandas.concat instead.\n",
      "  df_eeg_features = df_eeg_features.append(eeg_band_fft, ignore_index=True)\n",
      "/tmp/ipykernel_18001/1951054575.py:54: FutureWarning: The frame.append method is deprecated and will be removed from pandas in a future version. Use pandas.concat instead.\n",
      "  df_eeg_features = df_eeg_features.append(eeg_band_fft, ignore_index=True)\n",
      "/tmp/ipykernel_18001/1951054575.py:54: FutureWarning: The frame.append method is deprecated and will be removed from pandas in a future version. Use pandas.concat instead.\n",
      "  df_eeg_features = df_eeg_features.append(eeg_band_fft, ignore_index=True)\n"
     ]
    },
    {
     "name": "stdout",
     "output_type": "stream",
     "text": [
      "Effective window size : 0.619 (s)\n",
      "Effective window size : 0.619 (s)\n",
      "Effective window size : 0.619 (s)\n",
      "Effective window size : 0.619 (s)\n",
      "Effective window size : 0.619 (s)\n"
     ]
    },
    {
     "name": "stderr",
     "output_type": "stream",
     "text": [
      "/tmp/ipykernel_18001/1951054575.py:54: FutureWarning: The frame.append method is deprecated and will be removed from pandas in a future version. Use pandas.concat instead.\n",
      "  df_eeg_features = df_eeg_features.append(eeg_band_fft, ignore_index=True)\n",
      "/tmp/ipykernel_18001/1951054575.py:54: FutureWarning: The frame.append method is deprecated and will be removed from pandas in a future version. Use pandas.concat instead.\n",
      "  df_eeg_features = df_eeg_features.append(eeg_band_fft, ignore_index=True)\n",
      "/tmp/ipykernel_18001/1951054575.py:54: FutureWarning: The frame.append method is deprecated and will be removed from pandas in a future version. Use pandas.concat instead.\n",
      "  df_eeg_features = df_eeg_features.append(eeg_band_fft, ignore_index=True)\n"
     ]
    },
    {
     "name": "stdout",
     "output_type": "stream",
     "text": [
      "Effective window size : 0.619 (s)\n",
      "Effective window size : 0.619 (s)\n",
      "Effective window size : 0.619 (s)\n",
      "Effective window size : 0.619 (s)\n",
      "Effective window size : 0.619 (s)\n"
     ]
    },
    {
     "name": "stderr",
     "output_type": "stream",
     "text": [
      "/tmp/ipykernel_18001/1951054575.py:54: FutureWarning: The frame.append method is deprecated and will be removed from pandas in a future version. Use pandas.concat instead.\n",
      "  df_eeg_features = df_eeg_features.append(eeg_band_fft, ignore_index=True)\n",
      "/tmp/ipykernel_18001/1951054575.py:54: FutureWarning: The frame.append method is deprecated and will be removed from pandas in a future version. Use pandas.concat instead.\n",
      "  df_eeg_features = df_eeg_features.append(eeg_band_fft, ignore_index=True)\n",
      "/tmp/ipykernel_18001/1951054575.py:54: FutureWarning: The frame.append method is deprecated and will be removed from pandas in a future version. Use pandas.concat instead.\n",
      "  df_eeg_features = df_eeg_features.append(eeg_band_fft, ignore_index=True)\n"
     ]
    },
    {
     "name": "stdout",
     "output_type": "stream",
     "text": [
      "Effective window size : 0.619 (s)\n",
      "Effective window size : 0.619 (s)\n",
      "Effective window size : 0.619 (s)\n",
      "Effective window size : 0.619 (s)\n",
      "Effective window size : 0.619 (s)\n",
      "Effective window size : 0.619 (s)\n"
     ]
    },
    {
     "name": "stderr",
     "output_type": "stream",
     "text": [
      "/tmp/ipykernel_18001/1951054575.py:54: FutureWarning: The frame.append method is deprecated and will be removed from pandas in a future version. Use pandas.concat instead.\n",
      "  df_eeg_features = df_eeg_features.append(eeg_band_fft, ignore_index=True)\n",
      "/tmp/ipykernel_18001/1951054575.py:54: FutureWarning: The frame.append method is deprecated and will be removed from pandas in a future version. Use pandas.concat instead.\n",
      "  df_eeg_features = df_eeg_features.append(eeg_band_fft, ignore_index=True)\n"
     ]
    },
    {
     "name": "stdout",
     "output_type": "stream",
     "text": [
      "Effective window size : 0.619 (s)\n",
      "Effective window size : 0.619 (s)\n",
      "Effective window size : 0.619 (s)\n",
      "Effective window size : 0.619 (s)\n"
     ]
    },
    {
     "name": "stderr",
     "output_type": "stream",
     "text": [
      "/tmp/ipykernel_18001/1951054575.py:54: FutureWarning: The frame.append method is deprecated and will be removed from pandas in a future version. Use pandas.concat instead.\n",
      "  df_eeg_features = df_eeg_features.append(eeg_band_fft, ignore_index=True)\n",
      "/tmp/ipykernel_18001/1951054575.py:54: FutureWarning: The frame.append method is deprecated and will be removed from pandas in a future version. Use pandas.concat instead.\n",
      "  df_eeg_features = df_eeg_features.append(eeg_band_fft, ignore_index=True)\n"
     ]
    },
    {
     "name": "stdout",
     "output_type": "stream",
     "text": [
      "Effective window size : 0.619 (s)\n",
      "Effective window size : 0.619 (s)\n",
      "Effective window size : 0.619 (s)\n",
      "Effective window size : 0.619 (s)\n",
      "Effective window size : 0.619 (s)\n",
      "Effective window size : 0.619 (s)\n"
     ]
    },
    {
     "name": "stderr",
     "output_type": "stream",
     "text": [
      "/tmp/ipykernel_18001/1951054575.py:54: FutureWarning: The frame.append method is deprecated and will be removed from pandas in a future version. Use pandas.concat instead.\n",
      "  df_eeg_features = df_eeg_features.append(eeg_band_fft, ignore_index=True)\n",
      "/tmp/ipykernel_18001/1951054575.py:54: FutureWarning: The frame.append method is deprecated and will be removed from pandas in a future version. Use pandas.concat instead.\n",
      "  df_eeg_features = df_eeg_features.append(eeg_band_fft, ignore_index=True)\n",
      "/tmp/ipykernel_18001/1951054575.py:54: FutureWarning: The frame.append method is deprecated and will be removed from pandas in a future version. Use pandas.concat instead.\n",
      "  df_eeg_features = df_eeg_features.append(eeg_band_fft, ignore_index=True)\n"
     ]
    },
    {
     "name": "stdout",
     "output_type": "stream",
     "text": [
      "Effective window size : 0.619 (s)\n",
      "Effective window size : 0.619 (s)\n",
      "Effective window size : 0.619 (s)\n",
      "Effective window size : 0.619 (s)\n",
      "Effective window size : 0.619 (s)\n"
     ]
    },
    {
     "name": "stderr",
     "output_type": "stream",
     "text": [
      "/tmp/ipykernel_18001/1951054575.py:54: FutureWarning: The frame.append method is deprecated and will be removed from pandas in a future version. Use pandas.concat instead.\n",
      "  df_eeg_features = df_eeg_features.append(eeg_band_fft, ignore_index=True)\n",
      "/tmp/ipykernel_18001/1951054575.py:54: FutureWarning: The frame.append method is deprecated and will be removed from pandas in a future version. Use pandas.concat instead.\n",
      "  df_eeg_features = df_eeg_features.append(eeg_band_fft, ignore_index=True)\n",
      "/tmp/ipykernel_18001/1951054575.py:54: FutureWarning: The frame.append method is deprecated and will be removed from pandas in a future version. Use pandas.concat instead.\n",
      "  df_eeg_features = df_eeg_features.append(eeg_band_fft, ignore_index=True)\n"
     ]
    },
    {
     "name": "stdout",
     "output_type": "stream",
     "text": [
      "Effective window size : 0.619 (s)\n",
      "Effective window size : 0.619 (s)\n",
      "Effective window size : 0.619 (s)\n",
      "Effective window size : 0.619 (s)\n",
      "Effective window size : 0.619 (s)\n"
     ]
    },
    {
     "name": "stderr",
     "output_type": "stream",
     "text": [
      "/tmp/ipykernel_18001/1951054575.py:54: FutureWarning: The frame.append method is deprecated and will be removed from pandas in a future version. Use pandas.concat instead.\n",
      "  df_eeg_features = df_eeg_features.append(eeg_band_fft, ignore_index=True)\n",
      "/tmp/ipykernel_18001/1951054575.py:54: FutureWarning: The frame.append method is deprecated and will be removed from pandas in a future version. Use pandas.concat instead.\n",
      "  df_eeg_features = df_eeg_features.append(eeg_band_fft, ignore_index=True)\n",
      "/tmp/ipykernel_18001/1951054575.py:54: FutureWarning: The frame.append method is deprecated and will be removed from pandas in a future version. Use pandas.concat instead.\n",
      "  df_eeg_features = df_eeg_features.append(eeg_band_fft, ignore_index=True)\n"
     ]
    },
    {
     "name": "stdout",
     "output_type": "stream",
     "text": [
      "Effective window size : 0.619 (s)\n",
      "Effective window size : 0.619 (s)\n",
      "Effective window size : 0.619 (s)\n",
      "Effective window size : 0.619 (s)\n",
      "Effective window size : 0.619 (s)\n",
      "Effective window size : 0.619 (s)\n",
      "Effective window size : 0.619 (s)\n"
     ]
    },
    {
     "name": "stderr",
     "output_type": "stream",
     "text": [
      "/tmp/ipykernel_18001/1951054575.py:54: FutureWarning: The frame.append method is deprecated and will be removed from pandas in a future version. Use pandas.concat instead.\n",
      "  df_eeg_features = df_eeg_features.append(eeg_band_fft, ignore_index=True)\n",
      "/tmp/ipykernel_18001/1951054575.py:54: FutureWarning: The frame.append method is deprecated and will be removed from pandas in a future version. Use pandas.concat instead.\n",
      "  df_eeg_features = df_eeg_features.append(eeg_band_fft, ignore_index=True)\n",
      "/tmp/ipykernel_18001/1951054575.py:54: FutureWarning: The frame.append method is deprecated and will be removed from pandas in a future version. Use pandas.concat instead.\n",
      "  df_eeg_features = df_eeg_features.append(eeg_band_fft, ignore_index=True)\n"
     ]
    },
    {
     "name": "stdout",
     "output_type": "stream",
     "text": [
      "Effective window size : 0.619 (s)\n",
      "Effective window size : 0.619 (s)\n",
      "Effective window size : 0.619 (s)\n",
      "Effective window size : 0.619 (s)\n",
      "Effective window size : 0.619 (s)\n"
     ]
    },
    {
     "name": "stderr",
     "output_type": "stream",
     "text": [
      "/tmp/ipykernel_18001/1951054575.py:54: FutureWarning: The frame.append method is deprecated and will be removed from pandas in a future version. Use pandas.concat instead.\n",
      "  df_eeg_features = df_eeg_features.append(eeg_band_fft, ignore_index=True)\n",
      "/tmp/ipykernel_18001/1951054575.py:54: FutureWarning: The frame.append method is deprecated and will be removed from pandas in a future version. Use pandas.concat instead.\n",
      "  df_eeg_features = df_eeg_features.append(eeg_band_fft, ignore_index=True)\n"
     ]
    },
    {
     "name": "stdout",
     "output_type": "stream",
     "text": [
      "Effective window size : 0.619 (s)\n",
      "Effective window size : 0.619 (s)\n",
      "Effective window size : 0.619 (s)\n",
      "Effective window size : 0.619 (s)\n"
     ]
    },
    {
     "name": "stderr",
     "output_type": "stream",
     "text": [
      "/tmp/ipykernel_18001/1951054575.py:54: FutureWarning: The frame.append method is deprecated and will be removed from pandas in a future version. Use pandas.concat instead.\n",
      "  df_eeg_features = df_eeg_features.append(eeg_band_fft, ignore_index=True)\n",
      "/tmp/ipykernel_18001/1951054575.py:54: FutureWarning: The frame.append method is deprecated and will be removed from pandas in a future version. Use pandas.concat instead.\n",
      "  df_eeg_features = df_eeg_features.append(eeg_band_fft, ignore_index=True)\n"
     ]
    },
    {
     "name": "stdout",
     "output_type": "stream",
     "text": [
      "Effective window size : 0.619 (s)\n",
      "Effective window size : 0.619 (s)\n",
      "Effective window size : 0.619 (s)\n",
      "Effective window size : 0.619 (s)\n"
     ]
    },
    {
     "name": "stderr",
     "output_type": "stream",
     "text": [
      "/tmp/ipykernel_18001/1951054575.py:54: FutureWarning: The frame.append method is deprecated and will be removed from pandas in a future version. Use pandas.concat instead.\n",
      "  df_eeg_features = df_eeg_features.append(eeg_band_fft, ignore_index=True)\n",
      "/tmp/ipykernel_18001/1951054575.py:54: FutureWarning: The frame.append method is deprecated and will be removed from pandas in a future version. Use pandas.concat instead.\n",
      "  df_eeg_features = df_eeg_features.append(eeg_band_fft, ignore_index=True)\n"
     ]
    },
    {
     "name": "stdout",
     "output_type": "stream",
     "text": [
      "Effective window size : 0.619 (s)\n",
      "Effective window size : 0.619 (s)\n",
      "Effective window size : 0.619 (s)\n",
      "Effective window size : 0.619 (s)\n"
     ]
    },
    {
     "name": "stderr",
     "output_type": "stream",
     "text": [
      "/tmp/ipykernel_18001/1951054575.py:54: FutureWarning: The frame.append method is deprecated and will be removed from pandas in a future version. Use pandas.concat instead.\n",
      "  df_eeg_features = df_eeg_features.append(eeg_band_fft, ignore_index=True)\n",
      "/tmp/ipykernel_18001/1951054575.py:54: FutureWarning: The frame.append method is deprecated and will be removed from pandas in a future version. Use pandas.concat instead.\n",
      "  df_eeg_features = df_eeg_features.append(eeg_band_fft, ignore_index=True)\n"
     ]
    },
    {
     "name": "stdout",
     "output_type": "stream",
     "text": [
      "Effective window size : 0.619 (s)\n",
      "Effective window size : 0.619 (s)\n",
      "Effective window size : 0.619 (s)\n",
      "Effective window size : 0.619 (s)\n"
     ]
    },
    {
     "name": "stderr",
     "output_type": "stream",
     "text": [
      "/tmp/ipykernel_18001/1951054575.py:54: FutureWarning: The frame.append method is deprecated and will be removed from pandas in a future version. Use pandas.concat instead.\n",
      "  df_eeg_features = df_eeg_features.append(eeg_band_fft, ignore_index=True)\n",
      "/tmp/ipykernel_18001/1951054575.py:54: FutureWarning: The frame.append method is deprecated and will be removed from pandas in a future version. Use pandas.concat instead.\n",
      "  df_eeg_features = df_eeg_features.append(eeg_band_fft, ignore_index=True)\n",
      "/tmp/ipykernel_18001/1951054575.py:54: FutureWarning: The frame.append method is deprecated and will be removed from pandas in a future version. Use pandas.concat instead.\n",
      "  df_eeg_features = df_eeg_features.append(eeg_band_fft, ignore_index=True)\n"
     ]
    },
    {
     "name": "stdout",
     "output_type": "stream",
     "text": [
      "Extracting EDF parameters from /home/vanilla_skies/mne_data/MNE-eegbci-data/files/eegmmidb/1.0.0/S008/S008R03.edf...\n",
      "EDF file detected\n",
      "Setting channel info structure...\n",
      "Creating raw.info structure...\n",
      "Reading 0 ... 19679  =      0.000 ...   122.994 secs...\n",
      "Extracting EDF parameters from /home/vanilla_skies/mne_data/MNE-eegbci-data/files/eegmmidb/1.0.0/S008/S008R07.edf...\n",
      "EDF file detected\n",
      "Setting channel info structure...\n",
      "Creating raw.info structure...\n",
      "Reading 0 ... 19679  =      0.000 ...   122.994 secs...\n",
      "Extracting EDF parameters from /home/vanilla_skies/mne_data/MNE-eegbci-data/files/eegmmidb/1.0.0/S008/S008R11.edf...\n",
      "EDF file detected\n",
      "Setting channel info structure...\n",
      "Creating raw.info structure...\n",
      "Reading 0 ... 19679  =      0.000 ...   122.994 secs...\n",
      "Used Annotations descriptions: ['T0', 'T1', 'T2']\n",
      "Filtering raw data in 3 contiguous segments\n",
      "Setting up band-pass filter from 7 - 30 Hz\n",
      "\n",
      "FIR filter parameters\n",
      "---------------------\n",
      "Designing a one-pass, zero-phase, non-causal bandpass filter:\n",
      "- Windowed time-domain design (firwin) method\n",
      "- Hamming window with 0.0194 passband ripple and 53 dB stopband attenuation\n",
      "- Lower passband edge: 7.00\n",
      "- Lower transition bandwidth: 2.00 Hz (-6 dB cutoff frequency: 6.00 Hz)\n",
      "- Upper passband edge: 30.00 Hz\n",
      "- Upper transition bandwidth: 7.50 Hz (-6 dB cutoff frequency: 33.75 Hz)\n",
      "- Filter length: 265 samples (1.656 sec)\n",
      "\n",
      "Not setting metadata\n",
      "45 matching events found\n",
      "No baseline correction applied\n",
      "0 projection items activated\n",
      "Using data from preloaded Raw for 45 events and 801 original time points ...\n",
      "0 bad epochs dropped\n",
      "Effective window size : 0.619 (s)\n",
      "Effective window size : 0.619 (s)\n",
      "Effective window size : 0.619 (s)\n",
      "Effective window size : 0.619 (s)\n",
      "Effective window size : 0.619 (s)\n",
      "Effective window size : 0.619 (s)\n"
     ]
    },
    {
     "name": "stderr",
     "output_type": "stream",
     "text": [
      "/tmp/ipykernel_18001/1951054575.py:54: FutureWarning: The frame.append method is deprecated and will be removed from pandas in a future version. Use pandas.concat instead.\n",
      "  df_eeg_features = df_eeg_features.append(eeg_band_fft, ignore_index=True)\n",
      "/tmp/ipykernel_18001/1951054575.py:54: FutureWarning: The frame.append method is deprecated and will be removed from pandas in a future version. Use pandas.concat instead.\n",
      "  df_eeg_features = df_eeg_features.append(eeg_band_fft, ignore_index=True)\n",
      "/tmp/ipykernel_18001/1951054575.py:54: FutureWarning: The frame.append method is deprecated and will be removed from pandas in a future version. Use pandas.concat instead.\n",
      "  df_eeg_features = df_eeg_features.append(eeg_band_fft, ignore_index=True)\n"
     ]
    },
    {
     "name": "stdout",
     "output_type": "stream",
     "text": [
      "Effective window size : 0.619 (s)\n",
      "Effective window size : 0.619 (s)\n",
      "Effective window size : 0.619 (s)\n",
      "Effective window size : 0.619 (s)\n",
      "Effective window size : 0.619 (s)\n",
      "Effective window size : 0.619 (s)\n"
     ]
    },
    {
     "name": "stderr",
     "output_type": "stream",
     "text": [
      "/tmp/ipykernel_18001/1951054575.py:54: FutureWarning: The frame.append method is deprecated and will be removed from pandas in a future version. Use pandas.concat instead.\n",
      "  df_eeg_features = df_eeg_features.append(eeg_band_fft, ignore_index=True)\n",
      "/tmp/ipykernel_18001/1951054575.py:54: FutureWarning: The frame.append method is deprecated and will be removed from pandas in a future version. Use pandas.concat instead.\n",
      "  df_eeg_features = df_eeg_features.append(eeg_band_fft, ignore_index=True)\n"
     ]
    },
    {
     "name": "stdout",
     "output_type": "stream",
     "text": [
      "Effective window size : 0.619 (s)\n",
      "Effective window size : 0.619 (s)\n",
      "Effective window size : 0.619 (s)\n",
      "Effective window size : 0.619 (s)\n"
     ]
    },
    {
     "name": "stderr",
     "output_type": "stream",
     "text": [
      "/tmp/ipykernel_18001/1951054575.py:54: FutureWarning: The frame.append method is deprecated and will be removed from pandas in a future version. Use pandas.concat instead.\n",
      "  df_eeg_features = df_eeg_features.append(eeg_band_fft, ignore_index=True)\n",
      "/tmp/ipykernel_18001/1951054575.py:54: FutureWarning: The frame.append method is deprecated and will be removed from pandas in a future version. Use pandas.concat instead.\n",
      "  df_eeg_features = df_eeg_features.append(eeg_band_fft, ignore_index=True)\n",
      "/tmp/ipykernel_18001/1951054575.py:54: FutureWarning: The frame.append method is deprecated and will be removed from pandas in a future version. Use pandas.concat instead.\n",
      "  df_eeg_features = df_eeg_features.append(eeg_band_fft, ignore_index=True)\n"
     ]
    },
    {
     "name": "stdout",
     "output_type": "stream",
     "text": [
      "Effective window size : 0.619 (s)\n",
      "Effective window size : 0.619 (s)\n",
      "Effective window size : 0.619 (s)\n",
      "Effective window size : 0.619 (s)\n",
      "Effective window size : 0.619 (s)\n",
      "Effective window size : 0.619 (s)\n",
      "Effective window size : 0.619 (s)\n",
      "Effective window size : 0.619 (s)\n"
     ]
    },
    {
     "name": "stderr",
     "output_type": "stream",
     "text": [
      "/tmp/ipykernel_18001/1951054575.py:54: FutureWarning: The frame.append method is deprecated and will be removed from pandas in a future version. Use pandas.concat instead.\n",
      "  df_eeg_features = df_eeg_features.append(eeg_band_fft, ignore_index=True)\n",
      "/tmp/ipykernel_18001/1951054575.py:54: FutureWarning: The frame.append method is deprecated and will be removed from pandas in a future version. Use pandas.concat instead.\n",
      "  df_eeg_features = df_eeg_features.append(eeg_band_fft, ignore_index=True)\n",
      "/tmp/ipykernel_18001/1951054575.py:54: FutureWarning: The frame.append method is deprecated and will be removed from pandas in a future version. Use pandas.concat instead.\n",
      "  df_eeg_features = df_eeg_features.append(eeg_band_fft, ignore_index=True)\n"
     ]
    },
    {
     "name": "stdout",
     "output_type": "stream",
     "text": [
      "Effective window size : 0.619 (s)\n",
      "Effective window size : 0.619 (s)\n",
      "Effective window size : 0.619 (s)\n",
      "Effective window size : 0.619 (s)\n",
      "Effective window size : 0.619 (s)\n",
      "Effective window size : 0.619 (s)\n"
     ]
    },
    {
     "name": "stderr",
     "output_type": "stream",
     "text": [
      "/tmp/ipykernel_18001/1951054575.py:54: FutureWarning: The frame.append method is deprecated and will be removed from pandas in a future version. Use pandas.concat instead.\n",
      "  df_eeg_features = df_eeg_features.append(eeg_band_fft, ignore_index=True)\n",
      "/tmp/ipykernel_18001/1951054575.py:54: FutureWarning: The frame.append method is deprecated and will be removed from pandas in a future version. Use pandas.concat instead.\n",
      "  df_eeg_features = df_eeg_features.append(eeg_band_fft, ignore_index=True)\n",
      "/tmp/ipykernel_18001/1951054575.py:54: FutureWarning: The frame.append method is deprecated and will be removed from pandas in a future version. Use pandas.concat instead.\n",
      "  df_eeg_features = df_eeg_features.append(eeg_band_fft, ignore_index=True)\n"
     ]
    },
    {
     "name": "stdout",
     "output_type": "stream",
     "text": [
      "Effective window size : 0.619 (s)\n",
      "Effective window size : 0.619 (s)\n",
      "Effective window size : 0.619 (s)\n",
      "Effective window size : 0.619 (s)\n",
      "Effective window size : 0.619 (s)\n",
      "Effective window size : 0.619 (s)\n"
     ]
    },
    {
     "name": "stderr",
     "output_type": "stream",
     "text": [
      "/tmp/ipykernel_18001/1951054575.py:54: FutureWarning: The frame.append method is deprecated and will be removed from pandas in a future version. Use pandas.concat instead.\n",
      "  df_eeg_features = df_eeg_features.append(eeg_band_fft, ignore_index=True)\n",
      "/tmp/ipykernel_18001/1951054575.py:54: FutureWarning: The frame.append method is deprecated and will be removed from pandas in a future version. Use pandas.concat instead.\n",
      "  df_eeg_features = df_eeg_features.append(eeg_band_fft, ignore_index=True)\n",
      "/tmp/ipykernel_18001/1951054575.py:54: FutureWarning: The frame.append method is deprecated and will be removed from pandas in a future version. Use pandas.concat instead.\n",
      "  df_eeg_features = df_eeg_features.append(eeg_band_fft, ignore_index=True)\n"
     ]
    },
    {
     "name": "stdout",
     "output_type": "stream",
     "text": [
      "Effective window size : 0.619 (s)\n",
      "Effective window size : 0.619 (s)\n",
      "Effective window size : 0.619 (s)\n",
      "Effective window size : 0.619 (s)\n",
      "Effective window size : 0.619 (s)\n",
      "Effective window size : 0.619 (s)\n"
     ]
    },
    {
     "name": "stderr",
     "output_type": "stream",
     "text": [
      "/tmp/ipykernel_18001/1951054575.py:54: FutureWarning: The frame.append method is deprecated and will be removed from pandas in a future version. Use pandas.concat instead.\n",
      "  df_eeg_features = df_eeg_features.append(eeg_band_fft, ignore_index=True)\n",
      "/tmp/ipykernel_18001/1951054575.py:54: FutureWarning: The frame.append method is deprecated and will be removed from pandas in a future version. Use pandas.concat instead.\n",
      "  df_eeg_features = df_eeg_features.append(eeg_band_fft, ignore_index=True)\n",
      "/tmp/ipykernel_18001/1951054575.py:54: FutureWarning: The frame.append method is deprecated and will be removed from pandas in a future version. Use pandas.concat instead.\n",
      "  df_eeg_features = df_eeg_features.append(eeg_band_fft, ignore_index=True)\n"
     ]
    },
    {
     "name": "stdout",
     "output_type": "stream",
     "text": [
      "Effective window size : 0.619 (s)\n",
      "Effective window size : 0.619 (s)\n",
      "Effective window size : 0.619 (s)\n",
      "Effective window size : 0.619 (s)\n",
      "Effective window size : 0.619 (s)\n"
     ]
    },
    {
     "name": "stderr",
     "output_type": "stream",
     "text": [
      "/tmp/ipykernel_18001/1951054575.py:54: FutureWarning: The frame.append method is deprecated and will be removed from pandas in a future version. Use pandas.concat instead.\n",
      "  df_eeg_features = df_eeg_features.append(eeg_band_fft, ignore_index=True)\n",
      "/tmp/ipykernel_18001/1951054575.py:54: FutureWarning: The frame.append method is deprecated and will be removed from pandas in a future version. Use pandas.concat instead.\n",
      "  df_eeg_features = df_eeg_features.append(eeg_band_fft, ignore_index=True)\n",
      "/tmp/ipykernel_18001/1951054575.py:54: FutureWarning: The frame.append method is deprecated and will be removed from pandas in a future version. Use pandas.concat instead.\n",
      "  df_eeg_features = df_eeg_features.append(eeg_band_fft, ignore_index=True)\n"
     ]
    },
    {
     "name": "stdout",
     "output_type": "stream",
     "text": [
      "Effective window size : 0.619 (s)\n",
      "Effective window size : 0.619 (s)\n",
      "Effective window size : 0.619 (s)\n",
      "Effective window size : 0.619 (s)\n",
      "Effective window size : 0.619 (s)\n",
      "Effective window size : 0.619 (s)\n",
      "Effective window size : 0.619 (s)\n"
     ]
    },
    {
     "name": "stderr",
     "output_type": "stream",
     "text": [
      "/tmp/ipykernel_18001/1951054575.py:54: FutureWarning: The frame.append method is deprecated and will be removed from pandas in a future version. Use pandas.concat instead.\n",
      "  df_eeg_features = df_eeg_features.append(eeg_band_fft, ignore_index=True)\n",
      "/tmp/ipykernel_18001/1951054575.py:54: FutureWarning: The frame.append method is deprecated and will be removed from pandas in a future version. Use pandas.concat instead.\n",
      "  df_eeg_features = df_eeg_features.append(eeg_band_fft, ignore_index=True)\n",
      "/tmp/ipykernel_18001/1951054575.py:54: FutureWarning: The frame.append method is deprecated and will be removed from pandas in a future version. Use pandas.concat instead.\n",
      "  df_eeg_features = df_eeg_features.append(eeg_band_fft, ignore_index=True)\n"
     ]
    },
    {
     "name": "stdout",
     "output_type": "stream",
     "text": [
      "Effective window size : 0.619 (s)\n",
      "Effective window size : 0.619 (s)\n",
      "Effective window size : 0.619 (s)\n",
      "Effective window size : 0.619 (s)\n",
      "Effective window size : 0.619 (s)\n",
      "Effective window size : 0.619 (s)\n"
     ]
    },
    {
     "name": "stderr",
     "output_type": "stream",
     "text": [
      "/tmp/ipykernel_18001/1951054575.py:54: FutureWarning: The frame.append method is deprecated and will be removed from pandas in a future version. Use pandas.concat instead.\n",
      "  df_eeg_features = df_eeg_features.append(eeg_band_fft, ignore_index=True)\n",
      "/tmp/ipykernel_18001/1951054575.py:54: FutureWarning: The frame.append method is deprecated and will be removed from pandas in a future version. Use pandas.concat instead.\n",
      "  df_eeg_features = df_eeg_features.append(eeg_band_fft, ignore_index=True)\n",
      "/tmp/ipykernel_18001/1951054575.py:54: FutureWarning: The frame.append method is deprecated and will be removed from pandas in a future version. Use pandas.concat instead.\n",
      "  df_eeg_features = df_eeg_features.append(eeg_band_fft, ignore_index=True)\n"
     ]
    },
    {
     "name": "stdout",
     "output_type": "stream",
     "text": [
      "Effective window size : 0.619 (s)\n",
      "Effective window size : 0.619 (s)\n",
      "Effective window size : 0.619 (s)\n",
      "Effective window size : 0.619 (s)\n",
      "Effective window size : 0.619 (s)\n",
      "Effective window size : 0.619 (s)\n"
     ]
    },
    {
     "name": "stderr",
     "output_type": "stream",
     "text": [
      "/tmp/ipykernel_18001/1951054575.py:54: FutureWarning: The frame.append method is deprecated and will be removed from pandas in a future version. Use pandas.concat instead.\n",
      "  df_eeg_features = df_eeg_features.append(eeg_band_fft, ignore_index=True)\n",
      "/tmp/ipykernel_18001/1951054575.py:54: FutureWarning: The frame.append method is deprecated and will be removed from pandas in a future version. Use pandas.concat instead.\n",
      "  df_eeg_features = df_eeg_features.append(eeg_band_fft, ignore_index=True)\n",
      "/tmp/ipykernel_18001/1951054575.py:54: FutureWarning: The frame.append method is deprecated and will be removed from pandas in a future version. Use pandas.concat instead.\n",
      "  df_eeg_features = df_eeg_features.append(eeg_band_fft, ignore_index=True)\n"
     ]
    },
    {
     "name": "stdout",
     "output_type": "stream",
     "text": [
      "Effective window size : 0.619 (s)\n",
      "Effective window size : 0.619 (s)\n",
      "Effective window size : 0.619 (s)\n",
      "Effective window size : 0.619 (s)\n"
     ]
    },
    {
     "name": "stderr",
     "output_type": "stream",
     "text": [
      "/tmp/ipykernel_18001/1951054575.py:54: FutureWarning: The frame.append method is deprecated and will be removed from pandas in a future version. Use pandas.concat instead.\n",
      "  df_eeg_features = df_eeg_features.append(eeg_band_fft, ignore_index=True)\n",
      "/tmp/ipykernel_18001/1951054575.py:54: FutureWarning: The frame.append method is deprecated and will be removed from pandas in a future version. Use pandas.concat instead.\n",
      "  df_eeg_features = df_eeg_features.append(eeg_band_fft, ignore_index=True)\n"
     ]
    },
    {
     "name": "stdout",
     "output_type": "stream",
     "text": [
      "Effective window size : 0.619 (s)\n",
      "Effective window size : 0.619 (s)\n",
      "Effective window size : 0.619 (s)\n",
      "Effective window size : 0.619 (s)\n",
      "Effective window size : 0.619 (s)\n",
      "Effective window size : 0.619 (s)\n"
     ]
    },
    {
     "name": "stderr",
     "output_type": "stream",
     "text": [
      "/tmp/ipykernel_18001/1951054575.py:54: FutureWarning: The frame.append method is deprecated and will be removed from pandas in a future version. Use pandas.concat instead.\n",
      "  df_eeg_features = df_eeg_features.append(eeg_band_fft, ignore_index=True)\n",
      "/tmp/ipykernel_18001/1951054575.py:54: FutureWarning: The frame.append method is deprecated and will be removed from pandas in a future version. Use pandas.concat instead.\n",
      "  df_eeg_features = df_eeg_features.append(eeg_band_fft, ignore_index=True)\n",
      "/tmp/ipykernel_18001/1951054575.py:54: FutureWarning: The frame.append method is deprecated and will be removed from pandas in a future version. Use pandas.concat instead.\n",
      "  df_eeg_features = df_eeg_features.append(eeg_band_fft, ignore_index=True)\n"
     ]
    },
    {
     "name": "stdout",
     "output_type": "stream",
     "text": [
      "Effective window size : 0.619 (s)\n",
      "Effective window size : 0.619 (s)\n",
      "Effective window size : 0.619 (s)\n",
      "Effective window size : 0.619 (s)\n",
      "Effective window size : 0.619 (s)\n",
      "Effective window size : 0.619 (s)\n"
     ]
    },
    {
     "name": "stderr",
     "output_type": "stream",
     "text": [
      "/tmp/ipykernel_18001/1951054575.py:54: FutureWarning: The frame.append method is deprecated and will be removed from pandas in a future version. Use pandas.concat instead.\n",
      "  df_eeg_features = df_eeg_features.append(eeg_band_fft, ignore_index=True)\n",
      "/tmp/ipykernel_18001/1951054575.py:54: FutureWarning: The frame.append method is deprecated and will be removed from pandas in a future version. Use pandas.concat instead.\n",
      "  df_eeg_features = df_eeg_features.append(eeg_band_fft, ignore_index=True)\n",
      "/tmp/ipykernel_18001/1951054575.py:54: FutureWarning: The frame.append method is deprecated and will be removed from pandas in a future version. Use pandas.concat instead.\n",
      "  df_eeg_features = df_eeg_features.append(eeg_band_fft, ignore_index=True)\n"
     ]
    },
    {
     "name": "stdout",
     "output_type": "stream",
     "text": [
      "Effective window size : 0.619 (s)\n",
      "Effective window size : 0.619 (s)\n",
      "Effective window size : 0.619 (s)\n",
      "Effective window size : 0.619 (s)\n",
      "Effective window size : 0.619 (s)\n",
      "Effective window size : 0.619 (s)\n"
     ]
    },
    {
     "name": "stderr",
     "output_type": "stream",
     "text": [
      "/tmp/ipykernel_18001/1951054575.py:54: FutureWarning: The frame.append method is deprecated and will be removed from pandas in a future version. Use pandas.concat instead.\n",
      "  df_eeg_features = df_eeg_features.append(eeg_band_fft, ignore_index=True)\n",
      "/tmp/ipykernel_18001/1951054575.py:54: FutureWarning: The frame.append method is deprecated and will be removed from pandas in a future version. Use pandas.concat instead.\n",
      "  df_eeg_features = df_eeg_features.append(eeg_band_fft, ignore_index=True)\n",
      "/tmp/ipykernel_18001/1951054575.py:54: FutureWarning: The frame.append method is deprecated and will be removed from pandas in a future version. Use pandas.concat instead.\n",
      "  df_eeg_features = df_eeg_features.append(eeg_band_fft, ignore_index=True)\n"
     ]
    },
    {
     "name": "stdout",
     "output_type": "stream",
     "text": [
      "Effective window size : 0.619 (s)\n",
      "Effective window size : 0.619 (s)\n",
      "Extracting EDF parameters from /home/vanilla_skies/mne_data/MNE-eegbci-data/files/eegmmidb/1.0.0/S009/S009R03.edf...\n",
      "EDF file detected\n",
      "Setting channel info structure...\n",
      "Creating raw.info structure...\n",
      "Reading 0 ... 19679  =      0.000 ...   122.994 secs...\n",
      "Extracting EDF parameters from /home/vanilla_skies/mne_data/MNE-eegbci-data/files/eegmmidb/1.0.0/S009/S009R07.edf...\n",
      "EDF file detected\n",
      "Setting channel info structure...\n",
      "Creating raw.info structure...\n",
      "Reading 0 ... 19679  =      0.000 ...   122.994 secs...\n",
      "Extracting EDF parameters from /home/vanilla_skies/mne_data/MNE-eegbci-data/files/eegmmidb/1.0.0/S009/S009R11.edf...\n",
      "EDF file detected\n"
     ]
    },
    {
     "name": "stderr",
     "output_type": "stream",
     "text": [
      "/tmp/ipykernel_18001/1951054575.py:54: FutureWarning: The frame.append method is deprecated and will be removed from pandas in a future version. Use pandas.concat instead.\n",
      "  df_eeg_features = df_eeg_features.append(eeg_band_fft, ignore_index=True)\n",
      "/tmp/ipykernel_18001/1951054575.py:54: FutureWarning: The frame.append method is deprecated and will be removed from pandas in a future version. Use pandas.concat instead.\n",
      "  df_eeg_features = df_eeg_features.append(eeg_band_fft, ignore_index=True)\n"
     ]
    },
    {
     "name": "stdout",
     "output_type": "stream",
     "text": [
      "Setting channel info structure...\n",
      "Creating raw.info structure...\n",
      "Reading 0 ... 19679  =      0.000 ...   122.994 secs...\n",
      "Used Annotations descriptions: ['T0', 'T1', 'T2']\n",
      "Filtering raw data in 3 contiguous segments\n",
      "Setting up band-pass filter from 7 - 30 Hz\n",
      "\n",
      "FIR filter parameters\n",
      "---------------------\n",
      "Designing a one-pass, zero-phase, non-causal bandpass filter:\n",
      "- Windowed time-domain design (firwin) method\n",
      "- Hamming window with 0.0194 passband ripple and 53 dB stopband attenuation\n",
      "- Lower passband edge: 7.00\n",
      "- Lower transition bandwidth: 2.00 Hz (-6 dB cutoff frequency: 6.00 Hz)\n",
      "- Upper passband edge: 30.00 Hz\n",
      "- Upper transition bandwidth: 7.50 Hz (-6 dB cutoff frequency: 33.75 Hz)\n",
      "- Filter length: 265 samples (1.656 sec)\n",
      "\n",
      "Not setting metadata\n",
      "45 matching events found\n",
      "No baseline correction applied\n",
      "0 projection items activated\n",
      "Using data from preloaded Raw for 45 events and 801 original time points ...\n",
      "0 bad epochs dropped\n",
      "Effective window size : 0.619 (s)\n",
      "Effective window size : 0.619 (s)\n",
      "Effective window size : 0.619 (s)\n",
      "Effective window size : 0.619 (s)\n",
      "Effective window size : 0.619 (s)\n",
      "Effective window size : 0.619 (s)\n",
      "Effective window size : 0.619 (s)\n",
      "Effective window size : 0.619 (s)\n"
     ]
    },
    {
     "name": "stderr",
     "output_type": "stream",
     "text": [
      "/tmp/ipykernel_18001/1951054575.py:54: FutureWarning: The frame.append method is deprecated and will be removed from pandas in a future version. Use pandas.concat instead.\n",
      "  df_eeg_features = df_eeg_features.append(eeg_band_fft, ignore_index=True)\n",
      "/tmp/ipykernel_18001/1951054575.py:54: FutureWarning: The frame.append method is deprecated and will be removed from pandas in a future version. Use pandas.concat instead.\n",
      "  df_eeg_features = df_eeg_features.append(eeg_band_fft, ignore_index=True)\n",
      "/tmp/ipykernel_18001/1951054575.py:54: FutureWarning: The frame.append method is deprecated and will be removed from pandas in a future version. Use pandas.concat instead.\n",
      "  df_eeg_features = df_eeg_features.append(eeg_band_fft, ignore_index=True)\n"
     ]
    },
    {
     "name": "stdout",
     "output_type": "stream",
     "text": [
      "Effective window size : 0.619 (s)\n",
      "Effective window size : 0.619 (s)\n",
      "Effective window size : 0.619 (s)\n",
      "Effective window size : 0.619 (s)\n",
      "Effective window size : 0.619 (s)\n",
      "Effective window size : 0.619 (s)\n"
     ]
    },
    {
     "name": "stderr",
     "output_type": "stream",
     "text": [
      "/tmp/ipykernel_18001/1951054575.py:54: FutureWarning: The frame.append method is deprecated and will be removed from pandas in a future version. Use pandas.concat instead.\n",
      "  df_eeg_features = df_eeg_features.append(eeg_band_fft, ignore_index=True)\n",
      "/tmp/ipykernel_18001/1951054575.py:54: FutureWarning: The frame.append method is deprecated and will be removed from pandas in a future version. Use pandas.concat instead.\n",
      "  df_eeg_features = df_eeg_features.append(eeg_band_fft, ignore_index=True)\n",
      "/tmp/ipykernel_18001/1951054575.py:54: FutureWarning: The frame.append method is deprecated and will be removed from pandas in a future version. Use pandas.concat instead.\n",
      "  df_eeg_features = df_eeg_features.append(eeg_band_fft, ignore_index=True)\n"
     ]
    },
    {
     "name": "stdout",
     "output_type": "stream",
     "text": [
      "Effective window size : 0.619 (s)\n",
      "Effective window size : 0.619 (s)\n",
      "Effective window size : 0.619 (s)\n",
      "Effective window size : 0.619 (s)\n",
      "Effective window size : 0.619 (s)\n",
      "Effective window size : 0.619 (s)\n"
     ]
    },
    {
     "name": "stderr",
     "output_type": "stream",
     "text": [
      "/tmp/ipykernel_18001/1951054575.py:54: FutureWarning: The frame.append method is deprecated and will be removed from pandas in a future version. Use pandas.concat instead.\n",
      "  df_eeg_features = df_eeg_features.append(eeg_band_fft, ignore_index=True)\n",
      "/tmp/ipykernel_18001/1951054575.py:54: FutureWarning: The frame.append method is deprecated and will be removed from pandas in a future version. Use pandas.concat instead.\n",
      "  df_eeg_features = df_eeg_features.append(eeg_band_fft, ignore_index=True)\n",
      "/tmp/ipykernel_18001/1951054575.py:54: FutureWarning: The frame.append method is deprecated and will be removed from pandas in a future version. Use pandas.concat instead.\n",
      "  df_eeg_features = df_eeg_features.append(eeg_band_fft, ignore_index=True)\n"
     ]
    },
    {
     "name": "stdout",
     "output_type": "stream",
     "text": [
      "Effective window size : 0.619 (s)\n",
      "Effective window size : 0.619 (s)\n",
      "Effective window size : 0.619 (s)\n",
      "Effective window size : 0.619 (s)\n",
      "Effective window size : 0.619 (s)\n",
      "Effective window size : 0.619 (s)\n"
     ]
    },
    {
     "name": "stderr",
     "output_type": "stream",
     "text": [
      "/tmp/ipykernel_18001/1951054575.py:54: FutureWarning: The frame.append method is deprecated and will be removed from pandas in a future version. Use pandas.concat instead.\n",
      "  df_eeg_features = df_eeg_features.append(eeg_band_fft, ignore_index=True)\n",
      "/tmp/ipykernel_18001/1951054575.py:54: FutureWarning: The frame.append method is deprecated and will be removed from pandas in a future version. Use pandas.concat instead.\n",
      "  df_eeg_features = df_eeg_features.append(eeg_band_fft, ignore_index=True)\n",
      "/tmp/ipykernel_18001/1951054575.py:54: FutureWarning: The frame.append method is deprecated and will be removed from pandas in a future version. Use pandas.concat instead.\n",
      "  df_eeg_features = df_eeg_features.append(eeg_band_fft, ignore_index=True)\n"
     ]
    },
    {
     "name": "stdout",
     "output_type": "stream",
     "text": [
      "Effective window size : 0.619 (s)\n",
      "Effective window size : 0.619 (s)\n",
      "Effective window size : 0.619 (s)\n",
      "Effective window size : 0.619 (s)\n",
      "Effective window size : 0.619 (s)\n",
      "Effective window size : 0.619 (s)\n"
     ]
    },
    {
     "name": "stderr",
     "output_type": "stream",
     "text": [
      "/tmp/ipykernel_18001/1951054575.py:54: FutureWarning: The frame.append method is deprecated and will be removed from pandas in a future version. Use pandas.concat instead.\n",
      "  df_eeg_features = df_eeg_features.append(eeg_band_fft, ignore_index=True)\n",
      "/tmp/ipykernel_18001/1951054575.py:54: FutureWarning: The frame.append method is deprecated and will be removed from pandas in a future version. Use pandas.concat instead.\n",
      "  df_eeg_features = df_eeg_features.append(eeg_band_fft, ignore_index=True)\n",
      "/tmp/ipykernel_18001/1951054575.py:54: FutureWarning: The frame.append method is deprecated and will be removed from pandas in a future version. Use pandas.concat instead.\n",
      "  df_eeg_features = df_eeg_features.append(eeg_band_fft, ignore_index=True)\n"
     ]
    },
    {
     "name": "stdout",
     "output_type": "stream",
     "text": [
      "Effective window size : 0.619 (s)\n",
      "Effective window size : 0.619 (s)\n",
      "Effective window size : 0.619 (s)\n",
      "Effective window size : 0.619 (s)\n",
      "Effective window size : 0.619 (s)\n",
      "Effective window size : 0.619 (s)\n"
     ]
    },
    {
     "name": "stderr",
     "output_type": "stream",
     "text": [
      "/tmp/ipykernel_18001/1951054575.py:54: FutureWarning: The frame.append method is deprecated and will be removed from pandas in a future version. Use pandas.concat instead.\n",
      "  df_eeg_features = df_eeg_features.append(eeg_band_fft, ignore_index=True)\n",
      "/tmp/ipykernel_18001/1951054575.py:54: FutureWarning: The frame.append method is deprecated and will be removed from pandas in a future version. Use pandas.concat instead.\n",
      "  df_eeg_features = df_eeg_features.append(eeg_band_fft, ignore_index=True)\n",
      "/tmp/ipykernel_18001/1951054575.py:54: FutureWarning: The frame.append method is deprecated and will be removed from pandas in a future version. Use pandas.concat instead.\n",
      "  df_eeg_features = df_eeg_features.append(eeg_band_fft, ignore_index=True)\n"
     ]
    },
    {
     "name": "stdout",
     "output_type": "stream",
     "text": [
      "Effective window size : 0.619 (s)\n",
      "Effective window size : 0.619 (s)\n",
      "Effective window size : 0.619 (s)\n",
      "Effective window size : 0.619 (s)\n",
      "Effective window size : 0.619 (s)\n"
     ]
    },
    {
     "name": "stderr",
     "output_type": "stream",
     "text": [
      "/tmp/ipykernel_18001/1951054575.py:54: FutureWarning: The frame.append method is deprecated and will be removed from pandas in a future version. Use pandas.concat instead.\n",
      "  df_eeg_features = df_eeg_features.append(eeg_band_fft, ignore_index=True)\n",
      "/tmp/ipykernel_18001/1951054575.py:54: FutureWarning: The frame.append method is deprecated and will be removed from pandas in a future version. Use pandas.concat instead.\n",
      "  df_eeg_features = df_eeg_features.append(eeg_band_fft, ignore_index=True)\n",
      "/tmp/ipykernel_18001/1951054575.py:54: FutureWarning: The frame.append method is deprecated and will be removed from pandas in a future version. Use pandas.concat instead.\n",
      "  df_eeg_features = df_eeg_features.append(eeg_band_fft, ignore_index=True)\n"
     ]
    },
    {
     "name": "stdout",
     "output_type": "stream",
     "text": [
      "Effective window size : 0.619 (s)\n",
      "Effective window size : 0.619 (s)\n",
      "Effective window size : 0.619 (s)\n",
      "Effective window size : 0.619 (s)\n",
      "Effective window size : 0.619 (s)\n"
     ]
    },
    {
     "name": "stderr",
     "output_type": "stream",
     "text": [
      "/tmp/ipykernel_18001/1951054575.py:54: FutureWarning: The frame.append method is deprecated and will be removed from pandas in a future version. Use pandas.concat instead.\n",
      "  df_eeg_features = df_eeg_features.append(eeg_band_fft, ignore_index=True)\n",
      "/tmp/ipykernel_18001/1951054575.py:54: FutureWarning: The frame.append method is deprecated and will be removed from pandas in a future version. Use pandas.concat instead.\n",
      "  df_eeg_features = df_eeg_features.append(eeg_band_fft, ignore_index=True)\n",
      "/tmp/ipykernel_18001/1951054575.py:54: FutureWarning: The frame.append method is deprecated and will be removed from pandas in a future version. Use pandas.concat instead.\n",
      "  df_eeg_features = df_eeg_features.append(eeg_band_fft, ignore_index=True)\n"
     ]
    },
    {
     "name": "stdout",
     "output_type": "stream",
     "text": [
      "Effective window size : 0.619 (s)\n",
      "Effective window size : 0.619 (s)\n",
      "Effective window size : 0.619 (s)\n",
      "Effective window size : 0.619 (s)\n",
      "Effective window size : 0.619 (s)\n",
      "Effective window size : 0.619 (s)\n",
      "Effective window size : 0.619 (s)\n"
     ]
    },
    {
     "name": "stderr",
     "output_type": "stream",
     "text": [
      "/tmp/ipykernel_18001/1951054575.py:54: FutureWarning: The frame.append method is deprecated and will be removed from pandas in a future version. Use pandas.concat instead.\n",
      "  df_eeg_features = df_eeg_features.append(eeg_band_fft, ignore_index=True)\n",
      "/tmp/ipykernel_18001/1951054575.py:54: FutureWarning: The frame.append method is deprecated and will be removed from pandas in a future version. Use pandas.concat instead.\n",
      "  df_eeg_features = df_eeg_features.append(eeg_band_fft, ignore_index=True)\n",
      "/tmp/ipykernel_18001/1951054575.py:54: FutureWarning: The frame.append method is deprecated and will be removed from pandas in a future version. Use pandas.concat instead.\n",
      "  df_eeg_features = df_eeg_features.append(eeg_band_fft, ignore_index=True)\n"
     ]
    },
    {
     "name": "stdout",
     "output_type": "stream",
     "text": [
      "Effective window size : 0.619 (s)\n",
      "Effective window size : 0.619 (s)\n",
      "Effective window size : 0.619 (s)\n",
      "Effective window size : 0.619 (s)\n",
      "Effective window size : 0.619 (s)\n"
     ]
    },
    {
     "name": "stderr",
     "output_type": "stream",
     "text": [
      "/tmp/ipykernel_18001/1951054575.py:54: FutureWarning: The frame.append method is deprecated and will be removed from pandas in a future version. Use pandas.concat instead.\n",
      "  df_eeg_features = df_eeg_features.append(eeg_band_fft, ignore_index=True)\n",
      "/tmp/ipykernel_18001/1951054575.py:54: FutureWarning: The frame.append method is deprecated and will be removed from pandas in a future version. Use pandas.concat instead.\n",
      "  df_eeg_features = df_eeg_features.append(eeg_band_fft, ignore_index=True)\n",
      "/tmp/ipykernel_18001/1951054575.py:54: FutureWarning: The frame.append method is deprecated and will be removed from pandas in a future version. Use pandas.concat instead.\n",
      "  df_eeg_features = df_eeg_features.append(eeg_band_fft, ignore_index=True)\n"
     ]
    },
    {
     "name": "stdout",
     "output_type": "stream",
     "text": [
      "Effective window size : 0.619 (s)\n",
      "Effective window size : 0.619 (s)\n",
      "Effective window size : 0.619 (s)\n",
      "Effective window size : 0.619 (s)\n",
      "Effective window size : 0.619 (s)\n",
      "Effective window size : 0.619 (s)\n",
      "Effective window size : 0.619 (s)\n",
      "Effective window size : 0.619 (s)\n"
     ]
    },
    {
     "name": "stderr",
     "output_type": "stream",
     "text": [
      "/tmp/ipykernel_18001/1951054575.py:54: FutureWarning: The frame.append method is deprecated and will be removed from pandas in a future version. Use pandas.concat instead.\n",
      "  df_eeg_features = df_eeg_features.append(eeg_band_fft, ignore_index=True)\n",
      "/tmp/ipykernel_18001/1951054575.py:54: FutureWarning: The frame.append method is deprecated and will be removed from pandas in a future version. Use pandas.concat instead.\n",
      "  df_eeg_features = df_eeg_features.append(eeg_band_fft, ignore_index=True)\n",
      "/tmp/ipykernel_18001/1951054575.py:54: FutureWarning: The frame.append method is deprecated and will be removed from pandas in a future version. Use pandas.concat instead.\n",
      "  df_eeg_features = df_eeg_features.append(eeg_band_fft, ignore_index=True)\n"
     ]
    },
    {
     "name": "stdout",
     "output_type": "stream",
     "text": [
      "Effective window size : 0.619 (s)\n",
      "Effective window size : 0.619 (s)\n",
      "Effective window size : 0.619 (s)\n",
      "Effective window size : 0.619 (s)\n"
     ]
    },
    {
     "name": "stderr",
     "output_type": "stream",
     "text": [
      "/tmp/ipykernel_18001/1951054575.py:54: FutureWarning: The frame.append method is deprecated and will be removed from pandas in a future version. Use pandas.concat instead.\n",
      "  df_eeg_features = df_eeg_features.append(eeg_band_fft, ignore_index=True)\n",
      "/tmp/ipykernel_18001/1951054575.py:54: FutureWarning: The frame.append method is deprecated and will be removed from pandas in a future version. Use pandas.concat instead.\n",
      "  df_eeg_features = df_eeg_features.append(eeg_band_fft, ignore_index=True)\n"
     ]
    },
    {
     "name": "stdout",
     "output_type": "stream",
     "text": [
      "Effective window size : 0.619 (s)\n",
      "Effective window size : 0.619 (s)\n",
      "Effective window size : 0.619 (s)\n",
      "Effective window size : 0.619 (s)\n"
     ]
    },
    {
     "name": "stderr",
     "output_type": "stream",
     "text": [
      "/tmp/ipykernel_18001/1951054575.py:54: FutureWarning: The frame.append method is deprecated and will be removed from pandas in a future version. Use pandas.concat instead.\n",
      "  df_eeg_features = df_eeg_features.append(eeg_band_fft, ignore_index=True)\n",
      "/tmp/ipykernel_18001/1951054575.py:54: FutureWarning: The frame.append method is deprecated and will be removed from pandas in a future version. Use pandas.concat instead.\n",
      "  df_eeg_features = df_eeg_features.append(eeg_band_fft, ignore_index=True)\n"
     ]
    },
    {
     "name": "stdout",
     "output_type": "stream",
     "text": [
      "Effective window size : 0.619 (s)\n",
      "Effective window size : 0.619 (s)\n",
      "Effective window size : 0.619 (s)\n",
      "Effective window size : 0.619 (s)\n"
     ]
    },
    {
     "name": "stderr",
     "output_type": "stream",
     "text": [
      "/tmp/ipykernel_18001/1951054575.py:54: FutureWarning: The frame.append method is deprecated and will be removed from pandas in a future version. Use pandas.concat instead.\n",
      "  df_eeg_features = df_eeg_features.append(eeg_band_fft, ignore_index=True)\n",
      "/tmp/ipykernel_18001/1951054575.py:54: FutureWarning: The frame.append method is deprecated and will be removed from pandas in a future version. Use pandas.concat instead.\n",
      "  df_eeg_features = df_eeg_features.append(eeg_band_fft, ignore_index=True)\n"
     ]
    },
    {
     "name": "stdout",
     "output_type": "stream",
     "text": [
      "Effective window size : 0.619 (s)\n",
      "Effective window size : 0.619 (s)\n",
      "Effective window size : 0.619 (s)\n",
      "Effective window size : 0.619 (s)\n"
     ]
    },
    {
     "name": "stderr",
     "output_type": "stream",
     "text": [
      "/tmp/ipykernel_18001/1951054575.py:54: FutureWarning: The frame.append method is deprecated and will be removed from pandas in a future version. Use pandas.concat instead.\n",
      "  df_eeg_features = df_eeg_features.append(eeg_band_fft, ignore_index=True)\n",
      "/tmp/ipykernel_18001/1951054575.py:54: FutureWarning: The frame.append method is deprecated and will be removed from pandas in a future version. Use pandas.concat instead.\n",
      "  df_eeg_features = df_eeg_features.append(eeg_band_fft, ignore_index=True)\n"
     ]
    },
    {
     "name": "stdout",
     "output_type": "stream",
     "text": [
      "Effective window size : 0.619 (s)\n",
      "Effective window size : 0.619 (s)\n",
      "Effective window size : 0.619 (s)\n",
      "Effective window size : 0.619 (s)\n"
     ]
    },
    {
     "name": "stderr",
     "output_type": "stream",
     "text": [
      "/tmp/ipykernel_18001/1951054575.py:54: FutureWarning: The frame.append method is deprecated and will be removed from pandas in a future version. Use pandas.concat instead.\n",
      "  df_eeg_features = df_eeg_features.append(eeg_band_fft, ignore_index=True)\n",
      "/tmp/ipykernel_18001/1951054575.py:54: FutureWarning: The frame.append method is deprecated and will be removed from pandas in a future version. Use pandas.concat instead.\n",
      "  df_eeg_features = df_eeg_features.append(eeg_band_fft, ignore_index=True)\n"
     ]
    },
    {
     "name": "stdout",
     "output_type": "stream",
     "text": [
      "Effective window size : 0.619 (s)\n",
      "Effective window size : 0.619 (s)\n",
      "Extracting EDF parameters from /home/vanilla_skies/mne_data/MNE-eegbci-data/files/eegmmidb/1.0.0/S010/S010R03.edf...\n",
      "EDF file detected\n",
      "Setting channel info structure...\n",
      "Creating raw.info structure...\n",
      "Reading 0 ... 19679  =      0.000 ...   122.994 secs...\n",
      "Extracting EDF parameters from /home/vanilla_skies/mne_data/MNE-eegbci-data/files/eegmmidb/1.0.0/S010/S010R07.edf...\n",
      "EDF file detected\n",
      "Setting channel info structure...\n",
      "Creating raw.info structure...\n",
      "Reading 0 ... 19679  =      0.000 ...   122.994 secs...\n"
     ]
    },
    {
     "name": "stderr",
     "output_type": "stream",
     "text": [
      "/tmp/ipykernel_18001/1951054575.py:54: FutureWarning: The frame.append method is deprecated and will be removed from pandas in a future version. Use pandas.concat instead.\n",
      "  df_eeg_features = df_eeg_features.append(eeg_band_fft, ignore_index=True)\n",
      "/tmp/ipykernel_18001/1951054575.py:54: FutureWarning: The frame.append method is deprecated and will be removed from pandas in a future version. Use pandas.concat instead.\n",
      "  df_eeg_features = df_eeg_features.append(eeg_band_fft, ignore_index=True)\n"
     ]
    },
    {
     "name": "stdout",
     "output_type": "stream",
     "text": [
      "Extracting EDF parameters from /home/vanilla_skies/mne_data/MNE-eegbci-data/files/eegmmidb/1.0.0/S010/S010R11.edf...\n",
      "EDF file detected\n",
      "Setting channel info structure...\n",
      "Creating raw.info structure...\n",
      "Reading 0 ... 19679  =      0.000 ...   122.994 secs...\n",
      "Used Annotations descriptions: ['T0', 'T1', 'T2']\n",
      "Filtering raw data in 3 contiguous segments\n",
      "Setting up band-pass filter from 7 - 30 Hz\n",
      "\n",
      "FIR filter parameters\n",
      "---------------------\n",
      "Designing a one-pass, zero-phase, non-causal bandpass filter:\n",
      "- Windowed time-domain design (firwin) method\n",
      "- Hamming window with 0.0194 passband ripple and 53 dB stopband attenuation\n",
      "- Lower passband edge: 7.00\n",
      "- Lower transition bandwidth: 2.00 Hz (-6 dB cutoff frequency: 6.00 Hz)\n",
      "- Upper passband edge: 30.00 Hz\n",
      "- Upper transition bandwidth: 7.50 Hz (-6 dB cutoff frequency: 33.75 Hz)\n",
      "- Filter length: 265 samples (1.656 sec)\n",
      "\n",
      "Not setting metadata\n",
      "45 matching events found\n",
      "No baseline correction applied\n",
      "0 projection items activated\n",
      "Using data from preloaded Raw for 45 events and 801 original time points ...\n",
      "0 bad epochs dropped\n",
      "Effective window size : 0.619 (s)\n",
      "Effective window size : 0.619 (s)\n",
      "Effective window size : 0.619 (s)\n",
      "Effective window size : 0.619 (s)\n",
      "Effective window size : 0.619 (s)\n",
      "Effective window size : 0.619 (s)\n"
     ]
    },
    {
     "name": "stderr",
     "output_type": "stream",
     "text": [
      "/tmp/ipykernel_18001/1951054575.py:54: FutureWarning: The frame.append method is deprecated and will be removed from pandas in a future version. Use pandas.concat instead.\n",
      "  df_eeg_features = df_eeg_features.append(eeg_band_fft, ignore_index=True)\n",
      "/tmp/ipykernel_18001/1951054575.py:54: FutureWarning: The frame.append method is deprecated and will be removed from pandas in a future version. Use pandas.concat instead.\n",
      "  df_eeg_features = df_eeg_features.append(eeg_band_fft, ignore_index=True)\n",
      "/tmp/ipykernel_18001/1951054575.py:54: FutureWarning: The frame.append method is deprecated and will be removed from pandas in a future version. Use pandas.concat instead.\n",
      "  df_eeg_features = df_eeg_features.append(eeg_band_fft, ignore_index=True)\n"
     ]
    },
    {
     "name": "stdout",
     "output_type": "stream",
     "text": [
      "Effective window size : 0.619 (s)\n",
      "Effective window size : 0.619 (s)\n",
      "Effective window size : 0.619 (s)\n",
      "Effective window size : 0.619 (s)\n",
      "Effective window size : 0.619 (s)\n",
      "Effective window size : 0.619 (s)\n",
      "Effective window size : 0.619 (s)\n"
     ]
    },
    {
     "name": "stderr",
     "output_type": "stream",
     "text": [
      "/tmp/ipykernel_18001/1951054575.py:54: FutureWarning: The frame.append method is deprecated and will be removed from pandas in a future version. Use pandas.concat instead.\n",
      "  df_eeg_features = df_eeg_features.append(eeg_band_fft, ignore_index=True)\n",
      "/tmp/ipykernel_18001/1951054575.py:54: FutureWarning: The frame.append method is deprecated and will be removed from pandas in a future version. Use pandas.concat instead.\n",
      "  df_eeg_features = df_eeg_features.append(eeg_band_fft, ignore_index=True)\n",
      "/tmp/ipykernel_18001/1951054575.py:54: FutureWarning: The frame.append method is deprecated and will be removed from pandas in a future version. Use pandas.concat instead.\n",
      "  df_eeg_features = df_eeg_features.append(eeg_band_fft, ignore_index=True)\n"
     ]
    },
    {
     "name": "stdout",
     "output_type": "stream",
     "text": [
      "Effective window size : 0.619 (s)\n",
      "Effective window size : 0.619 (s)\n",
      "Effective window size : 0.619 (s)\n",
      "Effective window size : 0.619 (s)\n",
      "Effective window size : 0.619 (s)\n",
      "Effective window size : 0.619 (s)\n"
     ]
    },
    {
     "name": "stderr",
     "output_type": "stream",
     "text": [
      "/tmp/ipykernel_18001/1951054575.py:54: FutureWarning: The frame.append method is deprecated and will be removed from pandas in a future version. Use pandas.concat instead.\n",
      "  df_eeg_features = df_eeg_features.append(eeg_band_fft, ignore_index=True)\n",
      "/tmp/ipykernel_18001/1951054575.py:54: FutureWarning: The frame.append method is deprecated and will be removed from pandas in a future version. Use pandas.concat instead.\n",
      "  df_eeg_features = df_eeg_features.append(eeg_band_fft, ignore_index=True)\n",
      "/tmp/ipykernel_18001/1951054575.py:54: FutureWarning: The frame.append method is deprecated and will be removed from pandas in a future version. Use pandas.concat instead.\n",
      "  df_eeg_features = df_eeg_features.append(eeg_band_fft, ignore_index=True)\n"
     ]
    },
    {
     "name": "stdout",
     "output_type": "stream",
     "text": [
      "Effective window size : 0.619 (s)\n",
      "Effective window size : 0.619 (s)\n",
      "Effective window size : 0.619 (s)\n",
      "Effective window size : 0.619 (s)\n",
      "Effective window size : 0.619 (s)\n",
      "Effective window size : 0.619 (s)\n",
      "Effective window size : 0.619 (s)\n"
     ]
    },
    {
     "name": "stderr",
     "output_type": "stream",
     "text": [
      "/tmp/ipykernel_18001/1951054575.py:54: FutureWarning: The frame.append method is deprecated and will be removed from pandas in a future version. Use pandas.concat instead.\n",
      "  df_eeg_features = df_eeg_features.append(eeg_band_fft, ignore_index=True)\n",
      "/tmp/ipykernel_18001/1951054575.py:54: FutureWarning: The frame.append method is deprecated and will be removed from pandas in a future version. Use pandas.concat instead.\n",
      "  df_eeg_features = df_eeg_features.append(eeg_band_fft, ignore_index=True)\n",
      "/tmp/ipykernel_18001/1951054575.py:54: FutureWarning: The frame.append method is deprecated and will be removed from pandas in a future version. Use pandas.concat instead.\n",
      "  df_eeg_features = df_eeg_features.append(eeg_band_fft, ignore_index=True)\n"
     ]
    },
    {
     "name": "stdout",
     "output_type": "stream",
     "text": [
      "Effective window size : 0.619 (s)\n",
      "Effective window size : 0.619 (s)\n",
      "Effective window size : 0.619 (s)\n",
      "Effective window size : 0.619 (s)\n",
      "Effective window size : 0.619 (s)\n",
      "Effective window size : 0.619 (s)\n"
     ]
    },
    {
     "name": "stderr",
     "output_type": "stream",
     "text": [
      "/tmp/ipykernel_18001/1951054575.py:54: FutureWarning: The frame.append method is deprecated and will be removed from pandas in a future version. Use pandas.concat instead.\n",
      "  df_eeg_features = df_eeg_features.append(eeg_band_fft, ignore_index=True)\n",
      "/tmp/ipykernel_18001/1951054575.py:54: FutureWarning: The frame.append method is deprecated and will be removed from pandas in a future version. Use pandas.concat instead.\n",
      "  df_eeg_features = df_eeg_features.append(eeg_band_fft, ignore_index=True)\n",
      "/tmp/ipykernel_18001/1951054575.py:54: FutureWarning: The frame.append method is deprecated and will be removed from pandas in a future version. Use pandas.concat instead.\n",
      "  df_eeg_features = df_eeg_features.append(eeg_band_fft, ignore_index=True)\n"
     ]
    },
    {
     "name": "stdout",
     "output_type": "stream",
     "text": [
      "Effective window size : 0.619 (s)\n",
      "Effective window size : 0.619 (s)\n",
      "Effective window size : 0.619 (s)\n",
      "Effective window size : 0.619 (s)\n",
      "Effective window size : 0.619 (s)\n",
      "Effective window size : 0.619 (s)\n"
     ]
    },
    {
     "name": "stderr",
     "output_type": "stream",
     "text": [
      "/tmp/ipykernel_18001/1951054575.py:54: FutureWarning: The frame.append method is deprecated and will be removed from pandas in a future version. Use pandas.concat instead.\n",
      "  df_eeg_features = df_eeg_features.append(eeg_band_fft, ignore_index=True)\n",
      "/tmp/ipykernel_18001/1951054575.py:54: FutureWarning: The frame.append method is deprecated and will be removed from pandas in a future version. Use pandas.concat instead.\n",
      "  df_eeg_features = df_eeg_features.append(eeg_band_fft, ignore_index=True)\n",
      "/tmp/ipykernel_18001/1951054575.py:54: FutureWarning: The frame.append method is deprecated and will be removed from pandas in a future version. Use pandas.concat instead.\n",
      "  df_eeg_features = df_eeg_features.append(eeg_band_fft, ignore_index=True)\n"
     ]
    },
    {
     "name": "stdout",
     "output_type": "stream",
     "text": [
      "Effective window size : 0.619 (s)\n",
      "Effective window size : 0.619 (s)\n",
      "Effective window size : 0.619 (s)\n",
      "Effective window size : 0.619 (s)\n",
      "Effective window size : 0.619 (s)\n",
      "Effective window size : 0.619 (s)\n"
     ]
    },
    {
     "name": "stderr",
     "output_type": "stream",
     "text": [
      "/tmp/ipykernel_18001/1951054575.py:54: FutureWarning: The frame.append method is deprecated and will be removed from pandas in a future version. Use pandas.concat instead.\n",
      "  df_eeg_features = df_eeg_features.append(eeg_band_fft, ignore_index=True)\n",
      "/tmp/ipykernel_18001/1951054575.py:54: FutureWarning: The frame.append method is deprecated and will be removed from pandas in a future version. Use pandas.concat instead.\n",
      "  df_eeg_features = df_eeg_features.append(eeg_band_fft, ignore_index=True)\n",
      "/tmp/ipykernel_18001/1951054575.py:54: FutureWarning: The frame.append method is deprecated and will be removed from pandas in a future version. Use pandas.concat instead.\n",
      "  df_eeg_features = df_eeg_features.append(eeg_band_fft, ignore_index=True)\n"
     ]
    },
    {
     "name": "stdout",
     "output_type": "stream",
     "text": [
      "Effective window size : 0.619 (s)\n",
      "Effective window size : 0.619 (s)\n",
      "Effective window size : 0.619 (s)\n",
      "Effective window size : 0.619 (s)\n",
      "Effective window size : 0.619 (s)\n",
      "Effective window size : 0.619 (s)\n"
     ]
    },
    {
     "name": "stderr",
     "output_type": "stream",
     "text": [
      "/tmp/ipykernel_18001/1951054575.py:54: FutureWarning: The frame.append method is deprecated and will be removed from pandas in a future version. Use pandas.concat instead.\n",
      "  df_eeg_features = df_eeg_features.append(eeg_band_fft, ignore_index=True)\n",
      "/tmp/ipykernel_18001/1951054575.py:54: FutureWarning: The frame.append method is deprecated and will be removed from pandas in a future version. Use pandas.concat instead.\n",
      "  df_eeg_features = df_eeg_features.append(eeg_band_fft, ignore_index=True)\n",
      "/tmp/ipykernel_18001/1951054575.py:54: FutureWarning: The frame.append method is deprecated and will be removed from pandas in a future version. Use pandas.concat instead.\n",
      "  df_eeg_features = df_eeg_features.append(eeg_band_fft, ignore_index=True)\n"
     ]
    },
    {
     "name": "stdout",
     "output_type": "stream",
     "text": [
      "Effective window size : 0.619 (s)\n",
      "Effective window size : 0.619 (s)\n",
      "Effective window size : 0.619 (s)\n",
      "Effective window size : 0.619 (s)\n",
      "Effective window size : 0.619 (s)\n",
      "Effective window size : 0.619 (s)\n"
     ]
    },
    {
     "name": "stderr",
     "output_type": "stream",
     "text": [
      "/tmp/ipykernel_18001/1951054575.py:54: FutureWarning: The frame.append method is deprecated and will be removed from pandas in a future version. Use pandas.concat instead.\n",
      "  df_eeg_features = df_eeg_features.append(eeg_band_fft, ignore_index=True)\n",
      "/tmp/ipykernel_18001/1951054575.py:54: FutureWarning: The frame.append method is deprecated and will be removed from pandas in a future version. Use pandas.concat instead.\n",
      "  df_eeg_features = df_eeg_features.append(eeg_band_fft, ignore_index=True)\n",
      "/tmp/ipykernel_18001/1951054575.py:54: FutureWarning: The frame.append method is deprecated and will be removed from pandas in a future version. Use pandas.concat instead.\n",
      "  df_eeg_features = df_eeg_features.append(eeg_band_fft, ignore_index=True)\n"
     ]
    },
    {
     "name": "stdout",
     "output_type": "stream",
     "text": [
      "Effective window size : 0.619 (s)\n",
      "Effective window size : 0.619 (s)\n",
      "Effective window size : 0.619 (s)\n",
      "Effective window size : 0.619 (s)\n",
      "Effective window size : 0.619 (s)\n",
      "Effective window size : 0.619 (s)\n"
     ]
    },
    {
     "name": "stderr",
     "output_type": "stream",
     "text": [
      "/tmp/ipykernel_18001/1951054575.py:54: FutureWarning: The frame.append method is deprecated and will be removed from pandas in a future version. Use pandas.concat instead.\n",
      "  df_eeg_features = df_eeg_features.append(eeg_band_fft, ignore_index=True)\n",
      "/tmp/ipykernel_18001/1951054575.py:54: FutureWarning: The frame.append method is deprecated and will be removed from pandas in a future version. Use pandas.concat instead.\n",
      "  df_eeg_features = df_eeg_features.append(eeg_band_fft, ignore_index=True)\n",
      "/tmp/ipykernel_18001/1951054575.py:54: FutureWarning: The frame.append method is deprecated and will be removed from pandas in a future version. Use pandas.concat instead.\n",
      "  df_eeg_features = df_eeg_features.append(eeg_band_fft, ignore_index=True)\n"
     ]
    },
    {
     "name": "stdout",
     "output_type": "stream",
     "text": [
      "Effective window size : 0.619 (s)\n",
      "Effective window size : 0.619 (s)\n",
      "Effective window size : 0.619 (s)\n",
      "Effective window size : 0.619 (s)\n",
      "Effective window size : 0.619 (s)\n",
      "Effective window size : 0.619 (s)\n"
     ]
    },
    {
     "name": "stderr",
     "output_type": "stream",
     "text": [
      "/tmp/ipykernel_18001/1951054575.py:54: FutureWarning: The frame.append method is deprecated and will be removed from pandas in a future version. Use pandas.concat instead.\n",
      "  df_eeg_features = df_eeg_features.append(eeg_band_fft, ignore_index=True)\n",
      "/tmp/ipykernel_18001/1951054575.py:54: FutureWarning: The frame.append method is deprecated and will be removed from pandas in a future version. Use pandas.concat instead.\n",
      "  df_eeg_features = df_eeg_features.append(eeg_band_fft, ignore_index=True)\n",
      "/tmp/ipykernel_18001/1951054575.py:54: FutureWarning: The frame.append method is deprecated and will be removed from pandas in a future version. Use pandas.concat instead.\n",
      "  df_eeg_features = df_eeg_features.append(eeg_band_fft, ignore_index=True)\n"
     ]
    },
    {
     "name": "stdout",
     "output_type": "stream",
     "text": [
      "Effective window size : 0.619 (s)\n",
      "Effective window size : 0.619 (s)\n",
      "Effective window size : 0.619 (s)\n",
      "Effective window size : 0.619 (s)\n",
      "Effective window size : 0.619 (s)\n",
      "Effective window size : 0.619 (s)\n"
     ]
    },
    {
     "name": "stderr",
     "output_type": "stream",
     "text": [
      "/tmp/ipykernel_18001/1951054575.py:54: FutureWarning: The frame.append method is deprecated and will be removed from pandas in a future version. Use pandas.concat instead.\n",
      "  df_eeg_features = df_eeg_features.append(eeg_band_fft, ignore_index=True)\n",
      "/tmp/ipykernel_18001/1951054575.py:54: FutureWarning: The frame.append method is deprecated and will be removed from pandas in a future version. Use pandas.concat instead.\n",
      "  df_eeg_features = df_eeg_features.append(eeg_band_fft, ignore_index=True)\n",
      "/tmp/ipykernel_18001/1951054575.py:54: FutureWarning: The frame.append method is deprecated and will be removed from pandas in a future version. Use pandas.concat instead.\n",
      "  df_eeg_features = df_eeg_features.append(eeg_band_fft, ignore_index=True)\n"
     ]
    },
    {
     "name": "stdout",
     "output_type": "stream",
     "text": [
      "Effective window size : 0.619 (s)\n",
      "Effective window size : 0.619 (s)\n",
      "Effective window size : 0.619 (s)\n",
      "Effective window size : 0.619 (s)\n",
      "Effective window size : 0.619 (s)\n",
      "Effective window size : 0.619 (s)\n"
     ]
    },
    {
     "name": "stderr",
     "output_type": "stream",
     "text": [
      "/tmp/ipykernel_18001/1951054575.py:54: FutureWarning: The frame.append method is deprecated and will be removed from pandas in a future version. Use pandas.concat instead.\n",
      "  df_eeg_features = df_eeg_features.append(eeg_band_fft, ignore_index=True)\n",
      "/tmp/ipykernel_18001/1951054575.py:54: FutureWarning: The frame.append method is deprecated and will be removed from pandas in a future version. Use pandas.concat instead.\n",
      "  df_eeg_features = df_eeg_features.append(eeg_band_fft, ignore_index=True)\n",
      "/tmp/ipykernel_18001/1951054575.py:54: FutureWarning: The frame.append method is deprecated and will be removed from pandas in a future version. Use pandas.concat instead.\n",
      "  df_eeg_features = df_eeg_features.append(eeg_band_fft, ignore_index=True)\n"
     ]
    },
    {
     "name": "stdout",
     "output_type": "stream",
     "text": [
      "Effective window size : 0.619 (s)\n",
      "Effective window size : 0.619 (s)\n",
      "Effective window size : 0.619 (s)\n",
      "Effective window size : 0.619 (s)\n",
      "Effective window size : 0.619 (s)\n",
      "Effective window size : 0.619 (s)\n"
     ]
    },
    {
     "name": "stderr",
     "output_type": "stream",
     "text": [
      "/tmp/ipykernel_18001/1951054575.py:54: FutureWarning: The frame.append method is deprecated and will be removed from pandas in a future version. Use pandas.concat instead.\n",
      "  df_eeg_features = df_eeg_features.append(eeg_band_fft, ignore_index=True)\n",
      "/tmp/ipykernel_18001/1951054575.py:54: FutureWarning: The frame.append method is deprecated and will be removed from pandas in a future version. Use pandas.concat instead.\n",
      "  df_eeg_features = df_eeg_features.append(eeg_band_fft, ignore_index=True)\n",
      "/tmp/ipykernel_18001/1951054575.py:54: FutureWarning: The frame.append method is deprecated and will be removed from pandas in a future version. Use pandas.concat instead.\n",
      "  df_eeg_features = df_eeg_features.append(eeg_band_fft, ignore_index=True)\n"
     ]
    },
    {
     "name": "stdout",
     "output_type": "stream",
     "text": [
      "Effective window size : 0.619 (s)\n",
      "Effective window size : 0.619 (s)\n",
      "Effective window size : 0.619 (s)\n",
      "Effective window size : 0.619 (s)\n"
     ]
    },
    {
     "name": "stderr",
     "output_type": "stream",
     "text": [
      "/tmp/ipykernel_18001/1951054575.py:54: FutureWarning: The frame.append method is deprecated and will be removed from pandas in a future version. Use pandas.concat instead.\n",
      "  df_eeg_features = df_eeg_features.append(eeg_band_fft, ignore_index=True)\n",
      "/tmp/ipykernel_18001/1951054575.py:54: FutureWarning: The frame.append method is deprecated and will be removed from pandas in a future version. Use pandas.concat instead.\n",
      "  df_eeg_features = df_eeg_features.append(eeg_band_fft, ignore_index=True)\n",
      "/tmp/ipykernel_18001/1951054575.py:54: FutureWarning: The frame.append method is deprecated and will be removed from pandas in a future version. Use pandas.concat instead.\n",
      "  df_eeg_features = df_eeg_features.append(eeg_band_fft, ignore_index=True)\n"
     ]
    },
    {
     "name": "stdout",
     "output_type": "stream",
     "text": [
      "Extracting EDF parameters from /home/vanilla_skies/mne_data/MNE-eegbci-data/files/eegmmidb/1.0.0/S011/S011R03.edf...\n",
      "EDF file detected\n",
      "Setting channel info structure...\n",
      "Creating raw.info structure...\n",
      "Reading 0 ... 19679  =      0.000 ...   122.994 secs...\n",
      "Extracting EDF parameters from /home/vanilla_skies/mne_data/MNE-eegbci-data/files/eegmmidb/1.0.0/S011/S011R07.edf...\n",
      "EDF file detected\n",
      "Setting channel info structure...\n",
      "Creating raw.info structure...\n",
      "Reading 0 ... 19679  =      0.000 ...   122.994 secs...\n",
      "Extracting EDF parameters from /home/vanilla_skies/mne_data/MNE-eegbci-data/files/eegmmidb/1.0.0/S011/S011R11.edf...\n",
      "EDF file detected\n",
      "Setting channel info structure...\n",
      "Creating raw.info structure...\n",
      "Reading 0 ... 19679  =      0.000 ...   122.994 secs...\n",
      "Used Annotations descriptions: ['T0', 'T1', 'T2']\n",
      "Filtering raw data in 3 contiguous segments\n",
      "Setting up band-pass filter from 7 - 30 Hz\n",
      "\n",
      "FIR filter parameters\n",
      "---------------------\n",
      "Designing a one-pass, zero-phase, non-causal bandpass filter:\n",
      "- Windowed time-domain design (firwin) method\n",
      "- Hamming window with 0.0194 passband ripple and 53 dB stopband attenuation\n",
      "- Lower passband edge: 7.00\n",
      "- Lower transition bandwidth: 2.00 Hz (-6 dB cutoff frequency: 6.00 Hz)\n",
      "- Upper passband edge: 30.00 Hz\n",
      "- Upper transition bandwidth: 7.50 Hz (-6 dB cutoff frequency: 33.75 Hz)\n",
      "- Filter length: 265 samples (1.656 sec)\n",
      "\n",
      "Not setting metadata\n",
      "45 matching events found\n",
      "No baseline correction applied\n",
      "0 projection items activated\n",
      "Using data from preloaded Raw for 45 events and 801 original time points ...\n",
      "0 bad epochs dropped\n",
      "Effective window size : 0.619 (s)\n",
      "Effective window size : 0.619 (s)\n",
      "Effective window size : 0.619 (s)\n",
      "Effective window size : 0.619 (s)\n",
      "Effective window size : 0.619 (s)\n",
      "Effective window size : 0.619 (s)\n"
     ]
    },
    {
     "name": "stderr",
     "output_type": "stream",
     "text": [
      "/tmp/ipykernel_18001/1951054575.py:54: FutureWarning: The frame.append method is deprecated and will be removed from pandas in a future version. Use pandas.concat instead.\n",
      "  df_eeg_features = df_eeg_features.append(eeg_band_fft, ignore_index=True)\n",
      "/tmp/ipykernel_18001/1951054575.py:54: FutureWarning: The frame.append method is deprecated and will be removed from pandas in a future version. Use pandas.concat instead.\n",
      "  df_eeg_features = df_eeg_features.append(eeg_band_fft, ignore_index=True)\n"
     ]
    },
    {
     "name": "stdout",
     "output_type": "stream",
     "text": [
      "Effective window size : 0.619 (s)\n",
      "Effective window size : 0.619 (s)\n",
      "Effective window size : 0.619 (s)\n",
      "Effective window size : 0.619 (s)\n",
      "Effective window size : 0.619 (s)\n"
     ]
    },
    {
     "name": "stderr",
     "output_type": "stream",
     "text": [
      "/tmp/ipykernel_18001/1951054575.py:54: FutureWarning: The frame.append method is deprecated and will be removed from pandas in a future version. Use pandas.concat instead.\n",
      "  df_eeg_features = df_eeg_features.append(eeg_band_fft, ignore_index=True)\n",
      "/tmp/ipykernel_18001/1951054575.py:54: FutureWarning: The frame.append method is deprecated and will be removed from pandas in a future version. Use pandas.concat instead.\n",
      "  df_eeg_features = df_eeg_features.append(eeg_band_fft, ignore_index=True)\n",
      "/tmp/ipykernel_18001/1951054575.py:54: FutureWarning: The frame.append method is deprecated and will be removed from pandas in a future version. Use pandas.concat instead.\n",
      "  df_eeg_features = df_eeg_features.append(eeg_band_fft, ignore_index=True)\n"
     ]
    },
    {
     "name": "stdout",
     "output_type": "stream",
     "text": [
      "Effective window size : 0.619 (s)\n",
      "Effective window size : 0.619 (s)\n",
      "Effective window size : 0.619 (s)\n",
      "Effective window size : 0.619 (s)\n",
      "Effective window size : 0.619 (s)\n",
      "Effective window size : 0.619 (s)\n",
      "Effective window size : 0.619 (s)\n"
     ]
    },
    {
     "name": "stderr",
     "output_type": "stream",
     "text": [
      "/tmp/ipykernel_18001/1951054575.py:54: FutureWarning: The frame.append method is deprecated and will be removed from pandas in a future version. Use pandas.concat instead.\n",
      "  df_eeg_features = df_eeg_features.append(eeg_band_fft, ignore_index=True)\n",
      "/tmp/ipykernel_18001/1951054575.py:54: FutureWarning: The frame.append method is deprecated and will be removed from pandas in a future version. Use pandas.concat instead.\n",
      "  df_eeg_features = df_eeg_features.append(eeg_band_fft, ignore_index=True)\n",
      "/tmp/ipykernel_18001/1951054575.py:54: FutureWarning: The frame.append method is deprecated and will be removed from pandas in a future version. Use pandas.concat instead.\n",
      "  df_eeg_features = df_eeg_features.append(eeg_band_fft, ignore_index=True)\n"
     ]
    },
    {
     "name": "stdout",
     "output_type": "stream",
     "text": [
      "Effective window size : 0.619 (s)\n",
      "Effective window size : 0.619 (s)\n",
      "Effective window size : 0.619 (s)\n",
      "Effective window size : 0.619 (s)\n",
      "Effective window size : 0.619 (s)\n",
      "Effective window size : 0.619 (s)\n"
     ]
    },
    {
     "name": "stderr",
     "output_type": "stream",
     "text": [
      "/tmp/ipykernel_18001/1951054575.py:54: FutureWarning: The frame.append method is deprecated and will be removed from pandas in a future version. Use pandas.concat instead.\n",
      "  df_eeg_features = df_eeg_features.append(eeg_band_fft, ignore_index=True)\n",
      "/tmp/ipykernel_18001/1951054575.py:54: FutureWarning: The frame.append method is deprecated and will be removed from pandas in a future version. Use pandas.concat instead.\n",
      "  df_eeg_features = df_eeg_features.append(eeg_band_fft, ignore_index=True)\n",
      "/tmp/ipykernel_18001/1951054575.py:54: FutureWarning: The frame.append method is deprecated and will be removed from pandas in a future version. Use pandas.concat instead.\n",
      "  df_eeg_features = df_eeg_features.append(eeg_band_fft, ignore_index=True)\n"
     ]
    },
    {
     "name": "stdout",
     "output_type": "stream",
     "text": [
      "Effective window size : 0.619 (s)\n",
      "Effective window size : 0.619 (s)\n",
      "Effective window size : 0.619 (s)\n",
      "Effective window size : 0.619 (s)\n",
      "Effective window size : 0.619 (s)\n",
      "Effective window size : 0.619 (s)\n"
     ]
    },
    {
     "name": "stderr",
     "output_type": "stream",
     "text": [
      "/tmp/ipykernel_18001/1951054575.py:54: FutureWarning: The frame.append method is deprecated and will be removed from pandas in a future version. Use pandas.concat instead.\n",
      "  df_eeg_features = df_eeg_features.append(eeg_band_fft, ignore_index=True)\n",
      "/tmp/ipykernel_18001/1951054575.py:54: FutureWarning: The frame.append method is deprecated and will be removed from pandas in a future version. Use pandas.concat instead.\n",
      "  df_eeg_features = df_eeg_features.append(eeg_band_fft, ignore_index=True)\n",
      "/tmp/ipykernel_18001/1951054575.py:54: FutureWarning: The frame.append method is deprecated and will be removed from pandas in a future version. Use pandas.concat instead.\n",
      "  df_eeg_features = df_eeg_features.append(eeg_band_fft, ignore_index=True)\n"
     ]
    },
    {
     "name": "stdout",
     "output_type": "stream",
     "text": [
      "Effective window size : 0.619 (s)\n",
      "Effective window size : 0.619 (s)\n",
      "Effective window size : 0.619 (s)\n",
      "Effective window size : 0.619 (s)\n",
      "Effective window size : 0.619 (s)\n",
      "Effective window size : 0.619 (s)\n"
     ]
    },
    {
     "name": "stderr",
     "output_type": "stream",
     "text": [
      "/tmp/ipykernel_18001/1951054575.py:54: FutureWarning: The frame.append method is deprecated and will be removed from pandas in a future version. Use pandas.concat instead.\n",
      "  df_eeg_features = df_eeg_features.append(eeg_band_fft, ignore_index=True)\n",
      "/tmp/ipykernel_18001/1951054575.py:54: FutureWarning: The frame.append method is deprecated and will be removed from pandas in a future version. Use pandas.concat instead.\n",
      "  df_eeg_features = df_eeg_features.append(eeg_band_fft, ignore_index=True)\n",
      "/tmp/ipykernel_18001/1951054575.py:54: FutureWarning: The frame.append method is deprecated and will be removed from pandas in a future version. Use pandas.concat instead.\n",
      "  df_eeg_features = df_eeg_features.append(eeg_band_fft, ignore_index=True)\n"
     ]
    },
    {
     "name": "stdout",
     "output_type": "stream",
     "text": [
      "Effective window size : 0.619 (s)\n",
      "Effective window size : 0.619 (s)\n",
      "Effective window size : 0.619 (s)\n",
      "Effective window size : 0.619 (s)\n",
      "Effective window size : 0.619 (s)\n",
      "Effective window size : 0.619 (s)\n"
     ]
    },
    {
     "name": "stderr",
     "output_type": "stream",
     "text": [
      "/tmp/ipykernel_18001/1951054575.py:54: FutureWarning: The frame.append method is deprecated and will be removed from pandas in a future version. Use pandas.concat instead.\n",
      "  df_eeg_features = df_eeg_features.append(eeg_band_fft, ignore_index=True)\n",
      "/tmp/ipykernel_18001/1951054575.py:54: FutureWarning: The frame.append method is deprecated and will be removed from pandas in a future version. Use pandas.concat instead.\n",
      "  df_eeg_features = df_eeg_features.append(eeg_band_fft, ignore_index=True)\n",
      "/tmp/ipykernel_18001/1951054575.py:54: FutureWarning: The frame.append method is deprecated and will be removed from pandas in a future version. Use pandas.concat instead.\n",
      "  df_eeg_features = df_eeg_features.append(eeg_band_fft, ignore_index=True)\n"
     ]
    },
    {
     "name": "stdout",
     "output_type": "stream",
     "text": [
      "Effective window size : 0.619 (s)\n",
      "Effective window size : 0.619 (s)\n",
      "Effective window size : 0.619 (s)\n",
      "Effective window size : 0.619 (s)\n",
      "Effective window size : 0.619 (s)\n",
      "Effective window size : 0.619 (s)\n"
     ]
    },
    {
     "name": "stderr",
     "output_type": "stream",
     "text": [
      "/tmp/ipykernel_18001/1951054575.py:54: FutureWarning: The frame.append method is deprecated and will be removed from pandas in a future version. Use pandas.concat instead.\n",
      "  df_eeg_features = df_eeg_features.append(eeg_band_fft, ignore_index=True)\n",
      "/tmp/ipykernel_18001/1951054575.py:54: FutureWarning: The frame.append method is deprecated and will be removed from pandas in a future version. Use pandas.concat instead.\n",
      "  df_eeg_features = df_eeg_features.append(eeg_band_fft, ignore_index=True)\n",
      "/tmp/ipykernel_18001/1951054575.py:54: FutureWarning: The frame.append method is deprecated and will be removed from pandas in a future version. Use pandas.concat instead.\n",
      "  df_eeg_features = df_eeg_features.append(eeg_band_fft, ignore_index=True)\n"
     ]
    },
    {
     "name": "stdout",
     "output_type": "stream",
     "text": [
      "Effective window size : 0.619 (s)\n",
      "Effective window size : 0.619 (s)\n",
      "Effective window size : 0.619 (s)\n",
      "Effective window size : 0.619 (s)\n",
      "Effective window size : 0.619 (s)\n",
      "Effective window size : 0.619 (s)\n"
     ]
    },
    {
     "name": "stderr",
     "output_type": "stream",
     "text": [
      "/tmp/ipykernel_18001/1951054575.py:54: FutureWarning: The frame.append method is deprecated and will be removed from pandas in a future version. Use pandas.concat instead.\n",
      "  df_eeg_features = df_eeg_features.append(eeg_band_fft, ignore_index=True)\n",
      "/tmp/ipykernel_18001/1951054575.py:54: FutureWarning: The frame.append method is deprecated and will be removed from pandas in a future version. Use pandas.concat instead.\n",
      "  df_eeg_features = df_eeg_features.append(eeg_band_fft, ignore_index=True)\n",
      "/tmp/ipykernel_18001/1951054575.py:54: FutureWarning: The frame.append method is deprecated and will be removed from pandas in a future version. Use pandas.concat instead.\n",
      "  df_eeg_features = df_eeg_features.append(eeg_band_fft, ignore_index=True)\n"
     ]
    },
    {
     "name": "stdout",
     "output_type": "stream",
     "text": [
      "Effective window size : 0.619 (s)\n",
      "Effective window size : 0.619 (s)\n",
      "Effective window size : 0.619 (s)\n",
      "Effective window size : 0.619 (s)\n",
      "Effective window size : 0.619 (s)\n",
      "Effective window size : 0.619 (s)\n"
     ]
    },
    {
     "name": "stderr",
     "output_type": "stream",
     "text": [
      "/tmp/ipykernel_18001/1951054575.py:54: FutureWarning: The frame.append method is deprecated and will be removed from pandas in a future version. Use pandas.concat instead.\n",
      "  df_eeg_features = df_eeg_features.append(eeg_band_fft, ignore_index=True)\n",
      "/tmp/ipykernel_18001/1951054575.py:54: FutureWarning: The frame.append method is deprecated and will be removed from pandas in a future version. Use pandas.concat instead.\n",
      "  df_eeg_features = df_eeg_features.append(eeg_band_fft, ignore_index=True)\n",
      "/tmp/ipykernel_18001/1951054575.py:54: FutureWarning: The frame.append method is deprecated and will be removed from pandas in a future version. Use pandas.concat instead.\n",
      "  df_eeg_features = df_eeg_features.append(eeg_band_fft, ignore_index=True)\n"
     ]
    },
    {
     "name": "stdout",
     "output_type": "stream",
     "text": [
      "Effective window size : 0.619 (s)\n",
      "Effective window size : 0.619 (s)\n",
      "Effective window size : 0.619 (s)\n",
      "Effective window size : 0.619 (s)\n",
      "Effective window size : 0.619 (s)\n",
      "Effective window size : 0.619 (s)\n"
     ]
    },
    {
     "name": "stderr",
     "output_type": "stream",
     "text": [
      "/tmp/ipykernel_18001/1951054575.py:54: FutureWarning: The frame.append method is deprecated and will be removed from pandas in a future version. Use pandas.concat instead.\n",
      "  df_eeg_features = df_eeg_features.append(eeg_band_fft, ignore_index=True)\n",
      "/tmp/ipykernel_18001/1951054575.py:54: FutureWarning: The frame.append method is deprecated and will be removed from pandas in a future version. Use pandas.concat instead.\n",
      "  df_eeg_features = df_eeg_features.append(eeg_band_fft, ignore_index=True)\n",
      "/tmp/ipykernel_18001/1951054575.py:54: FutureWarning: The frame.append method is deprecated and will be removed from pandas in a future version. Use pandas.concat instead.\n",
      "  df_eeg_features = df_eeg_features.append(eeg_band_fft, ignore_index=True)\n"
     ]
    },
    {
     "name": "stdout",
     "output_type": "stream",
     "text": [
      "Effective window size : 0.619 (s)\n",
      "Effective window size : 0.619 (s)\n",
      "Effective window size : 0.619 (s)\n",
      "Effective window size : 0.619 (s)\n",
      "Effective window size : 0.619 (s)\n"
     ]
    },
    {
     "name": "stderr",
     "output_type": "stream",
     "text": [
      "/tmp/ipykernel_18001/1951054575.py:54: FutureWarning: The frame.append method is deprecated and will be removed from pandas in a future version. Use pandas.concat instead.\n",
      "  df_eeg_features = df_eeg_features.append(eeg_band_fft, ignore_index=True)\n",
      "/tmp/ipykernel_18001/1951054575.py:54: FutureWarning: The frame.append method is deprecated and will be removed from pandas in a future version. Use pandas.concat instead.\n",
      "  df_eeg_features = df_eeg_features.append(eeg_band_fft, ignore_index=True)\n",
      "/tmp/ipykernel_18001/1951054575.py:54: FutureWarning: The frame.append method is deprecated and will be removed from pandas in a future version. Use pandas.concat instead.\n",
      "  df_eeg_features = df_eeg_features.append(eeg_band_fft, ignore_index=True)\n"
     ]
    },
    {
     "name": "stdout",
     "output_type": "stream",
     "text": [
      "Effective window size : 0.619 (s)\n",
      "Effective window size : 0.619 (s)\n",
      "Effective window size : 0.619 (s)\n",
      "Effective window size : 0.619 (s)\n",
      "Effective window size : 0.619 (s)\n",
      "Effective window size : 0.619 (s)\n",
      "Effective window size : 0.619 (s)\n"
     ]
    },
    {
     "name": "stderr",
     "output_type": "stream",
     "text": [
      "/tmp/ipykernel_18001/1951054575.py:54: FutureWarning: The frame.append method is deprecated and will be removed from pandas in a future version. Use pandas.concat instead.\n",
      "  df_eeg_features = df_eeg_features.append(eeg_band_fft, ignore_index=True)\n",
      "/tmp/ipykernel_18001/1951054575.py:54: FutureWarning: The frame.append method is deprecated and will be removed from pandas in a future version. Use pandas.concat instead.\n",
      "  df_eeg_features = df_eeg_features.append(eeg_band_fft, ignore_index=True)\n",
      "/tmp/ipykernel_18001/1951054575.py:54: FutureWarning: The frame.append method is deprecated and will be removed from pandas in a future version. Use pandas.concat instead.\n",
      "  df_eeg_features = df_eeg_features.append(eeg_band_fft, ignore_index=True)\n"
     ]
    },
    {
     "name": "stdout",
     "output_type": "stream",
     "text": [
      "Effective window size : 0.619 (s)\n",
      "Effective window size : 0.619 (s)\n",
      "Effective window size : 0.619 (s)\n",
      "Effective window size : 0.619 (s)\n",
      "Effective window size : 0.619 (s)\n",
      "Effective window size : 0.619 (s)\n"
     ]
    },
    {
     "name": "stderr",
     "output_type": "stream",
     "text": [
      "/tmp/ipykernel_18001/1951054575.py:54: FutureWarning: The frame.append method is deprecated and will be removed from pandas in a future version. Use pandas.concat instead.\n",
      "  df_eeg_features = df_eeg_features.append(eeg_band_fft, ignore_index=True)\n",
      "/tmp/ipykernel_18001/1951054575.py:54: FutureWarning: The frame.append method is deprecated and will be removed from pandas in a future version. Use pandas.concat instead.\n",
      "  df_eeg_features = df_eeg_features.append(eeg_band_fft, ignore_index=True)\n",
      "/tmp/ipykernel_18001/1951054575.py:54: FutureWarning: The frame.append method is deprecated and will be removed from pandas in a future version. Use pandas.concat instead.\n",
      "  df_eeg_features = df_eeg_features.append(eeg_band_fft, ignore_index=True)\n"
     ]
    },
    {
     "name": "stdout",
     "output_type": "stream",
     "text": [
      "Effective window size : 0.619 (s)\n",
      "Effective window size : 0.619 (s)\n",
      "Effective window size : 0.619 (s)\n",
      "Effective window size : 0.619 (s)\n",
      "Effective window size : 0.619 (s)\n",
      "Effective window size : 0.619 (s)\n"
     ]
    },
    {
     "name": "stderr",
     "output_type": "stream",
     "text": [
      "/tmp/ipykernel_18001/1951054575.py:54: FutureWarning: The frame.append method is deprecated and will be removed from pandas in a future version. Use pandas.concat instead.\n",
      "  df_eeg_features = df_eeg_features.append(eeg_band_fft, ignore_index=True)\n",
      "/tmp/ipykernel_18001/1951054575.py:54: FutureWarning: The frame.append method is deprecated and will be removed from pandas in a future version. Use pandas.concat instead.\n",
      "  df_eeg_features = df_eeg_features.append(eeg_band_fft, ignore_index=True)\n",
      "/tmp/ipykernel_18001/1951054575.py:54: FutureWarning: The frame.append method is deprecated and will be removed from pandas in a future version. Use pandas.concat instead.\n",
      "  df_eeg_features = df_eeg_features.append(eeg_band_fft, ignore_index=True)\n"
     ]
    },
    {
     "name": "stdout",
     "output_type": "stream",
     "text": [
      "Extracting EDF parameters from /home/vanilla_skies/mne_data/MNE-eegbci-data/files/eegmmidb/1.0.0/S012/S012R03.edf...\n",
      "EDF file detected\n",
      "Setting channel info structure...\n",
      "Creating raw.info structure...\n",
      "Reading 0 ... 19679  =      0.000 ...   122.994 secs...\n",
      "Extracting EDF parameters from /home/vanilla_skies/mne_data/MNE-eegbci-data/files/eegmmidb/1.0.0/S012/S012R07.edf...\n",
      "EDF file detected\n",
      "Setting channel info structure...\n",
      "Creating raw.info structure...\n",
      "Reading 0 ... 19679  =      0.000 ...   122.994 secs...\n",
      "Extracting EDF parameters from /home/vanilla_skies/mne_data/MNE-eegbci-data/files/eegmmidb/1.0.0/S012/S012R11.edf...\n",
      "EDF file detected\n",
      "Setting channel info structure...\n",
      "Creating raw.info structure...\n",
      "Reading 0 ... 19679  =      0.000 ...   122.994 secs...\n"
     ]
    },
    {
     "name": "stderr",
     "output_type": "stream",
     "text": [
      "/tmp/ipykernel_18001/1951054575.py:54: FutureWarning: The frame.append method is deprecated and will be removed from pandas in a future version. Use pandas.concat instead.\n",
      "  df_eeg_features = df_eeg_features.append(eeg_band_fft, ignore_index=True)\n"
     ]
    },
    {
     "name": "stdout",
     "output_type": "stream",
     "text": [
      "Used Annotations descriptions: ['T0', 'T1', 'T2']\n",
      "Filtering raw data in 3 contiguous segments\n",
      "Setting up band-pass filter from 7 - 30 Hz\n",
      "\n",
      "FIR filter parameters\n",
      "---------------------\n",
      "Designing a one-pass, zero-phase, non-causal bandpass filter:\n",
      "- Windowed time-domain design (firwin) method\n",
      "- Hamming window with 0.0194 passband ripple and 53 dB stopband attenuation\n",
      "- Lower passband edge: 7.00\n",
      "- Lower transition bandwidth: 2.00 Hz (-6 dB cutoff frequency: 6.00 Hz)\n",
      "- Upper passband edge: 30.00 Hz\n",
      "- Upper transition bandwidth: 7.50 Hz (-6 dB cutoff frequency: 33.75 Hz)\n",
      "- Filter length: 265 samples (1.656 sec)\n",
      "\n",
      "Not setting metadata\n",
      "45 matching events found\n",
      "No baseline correction applied\n",
      "0 projection items activated\n",
      "Using data from preloaded Raw for 45 events and 801 original time points ...\n",
      "0 bad epochs dropped\n",
      "Effective window size : 0.619 (s)\n",
      "Effective window size : 0.619 (s)\n",
      "Effective window size : 0.619 (s)\n",
      "Effective window size : 0.619 (s)\n",
      "Effective window size : 0.619 (s)\n",
      "Effective window size : 0.619 (s)\n"
     ]
    },
    {
     "name": "stderr",
     "output_type": "stream",
     "text": [
      "/tmp/ipykernel_18001/1951054575.py:54: FutureWarning: The frame.append method is deprecated and will be removed from pandas in a future version. Use pandas.concat instead.\n",
      "  df_eeg_features = df_eeg_features.append(eeg_band_fft, ignore_index=True)\n",
      "/tmp/ipykernel_18001/1951054575.py:54: FutureWarning: The frame.append method is deprecated and will be removed from pandas in a future version. Use pandas.concat instead.\n",
      "  df_eeg_features = df_eeg_features.append(eeg_band_fft, ignore_index=True)\n",
      "/tmp/ipykernel_18001/1951054575.py:54: FutureWarning: The frame.append method is deprecated and will be removed from pandas in a future version. Use pandas.concat instead.\n",
      "  df_eeg_features = df_eeg_features.append(eeg_band_fft, ignore_index=True)\n"
     ]
    },
    {
     "name": "stdout",
     "output_type": "stream",
     "text": [
      "Effective window size : 0.619 (s)\n",
      "Effective window size : 0.619 (s)\n",
      "Effective window size : 0.619 (s)\n",
      "Effective window size : 0.619 (s)\n",
      "Effective window size : 0.619 (s)\n",
      "Effective window size : 0.619 (s)\n"
     ]
    },
    {
     "name": "stderr",
     "output_type": "stream",
     "text": [
      "/tmp/ipykernel_18001/1951054575.py:54: FutureWarning: The frame.append method is deprecated and will be removed from pandas in a future version. Use pandas.concat instead.\n",
      "  df_eeg_features = df_eeg_features.append(eeg_band_fft, ignore_index=True)\n",
      "/tmp/ipykernel_18001/1951054575.py:54: FutureWarning: The frame.append method is deprecated and will be removed from pandas in a future version. Use pandas.concat instead.\n",
      "  df_eeg_features = df_eeg_features.append(eeg_band_fft, ignore_index=True)\n",
      "/tmp/ipykernel_18001/1951054575.py:54: FutureWarning: The frame.append method is deprecated and will be removed from pandas in a future version. Use pandas.concat instead.\n",
      "  df_eeg_features = df_eeg_features.append(eeg_band_fft, ignore_index=True)\n"
     ]
    },
    {
     "name": "stdout",
     "output_type": "stream",
     "text": [
      "Effective window size : 0.619 (s)\n",
      "Effective window size : 0.619 (s)\n",
      "Effective window size : 0.619 (s)\n",
      "Effective window size : 0.619 (s)\n",
      "Effective window size : 0.619 (s)\n",
      "Effective window size : 0.619 (s)\n"
     ]
    },
    {
     "name": "stderr",
     "output_type": "stream",
     "text": [
      "/tmp/ipykernel_18001/1951054575.py:54: FutureWarning: The frame.append method is deprecated and will be removed from pandas in a future version. Use pandas.concat instead.\n",
      "  df_eeg_features = df_eeg_features.append(eeg_band_fft, ignore_index=True)\n",
      "/tmp/ipykernel_18001/1951054575.py:54: FutureWarning: The frame.append method is deprecated and will be removed from pandas in a future version. Use pandas.concat instead.\n",
      "  df_eeg_features = df_eeg_features.append(eeg_band_fft, ignore_index=True)\n",
      "/tmp/ipykernel_18001/1951054575.py:54: FutureWarning: The frame.append method is deprecated and will be removed from pandas in a future version. Use pandas.concat instead.\n",
      "  df_eeg_features = df_eeg_features.append(eeg_band_fft, ignore_index=True)\n"
     ]
    },
    {
     "name": "stdout",
     "output_type": "stream",
     "text": [
      "Effective window size : 0.619 (s)\n",
      "Effective window size : 0.619 (s)\n",
      "Effective window size : 0.619 (s)\n",
      "Effective window size : 0.619 (s)\n",
      "Effective window size : 0.619 (s)\n",
      "Effective window size : 0.619 (s)\n",
      "Effective window size : 0.619 (s)\n",
      "Effective window size : 0.619 (s)\n"
     ]
    },
    {
     "name": "stderr",
     "output_type": "stream",
     "text": [
      "/tmp/ipykernel_18001/1951054575.py:54: FutureWarning: The frame.append method is deprecated and will be removed from pandas in a future version. Use pandas.concat instead.\n",
      "  df_eeg_features = df_eeg_features.append(eeg_band_fft, ignore_index=True)\n",
      "/tmp/ipykernel_18001/1951054575.py:54: FutureWarning: The frame.append method is deprecated and will be removed from pandas in a future version. Use pandas.concat instead.\n",
      "  df_eeg_features = df_eeg_features.append(eeg_band_fft, ignore_index=True)\n",
      "/tmp/ipykernel_18001/1951054575.py:54: FutureWarning: The frame.append method is deprecated and will be removed from pandas in a future version. Use pandas.concat instead.\n",
      "  df_eeg_features = df_eeg_features.append(eeg_band_fft, ignore_index=True)\n"
     ]
    },
    {
     "name": "stdout",
     "output_type": "stream",
     "text": [
      "Effective window size : 0.619 (s)\n",
      "Effective window size : 0.619 (s)\n",
      "Effective window size : 0.619 (s)\n",
      "Effective window size : 0.619 (s)\n",
      "Effective window size : 0.619 (s)\n"
     ]
    },
    {
     "name": "stderr",
     "output_type": "stream",
     "text": [
      "/tmp/ipykernel_18001/1951054575.py:54: FutureWarning: The frame.append method is deprecated and will be removed from pandas in a future version. Use pandas.concat instead.\n",
      "  df_eeg_features = df_eeg_features.append(eeg_band_fft, ignore_index=True)\n",
      "/tmp/ipykernel_18001/1951054575.py:54: FutureWarning: The frame.append method is deprecated and will be removed from pandas in a future version. Use pandas.concat instead.\n",
      "  df_eeg_features = df_eeg_features.append(eeg_band_fft, ignore_index=True)\n",
      "/tmp/ipykernel_18001/1951054575.py:54: FutureWarning: The frame.append method is deprecated and will be removed from pandas in a future version. Use pandas.concat instead.\n",
      "  df_eeg_features = df_eeg_features.append(eeg_band_fft, ignore_index=True)\n"
     ]
    },
    {
     "name": "stdout",
     "output_type": "stream",
     "text": [
      "Effective window size : 0.619 (s)\n",
      "Effective window size : 0.619 (s)\n",
      "Effective window size : 0.619 (s)\n",
      "Effective window size : 0.619 (s)\n",
      "Effective window size : 0.619 (s)\n",
      "Effective window size : 0.619 (s)\n",
      "Effective window size : 0.619 (s)\n"
     ]
    },
    {
     "name": "stderr",
     "output_type": "stream",
     "text": [
      "/tmp/ipykernel_18001/1951054575.py:54: FutureWarning: The frame.append method is deprecated and will be removed from pandas in a future version. Use pandas.concat instead.\n",
      "  df_eeg_features = df_eeg_features.append(eeg_band_fft, ignore_index=True)\n",
      "/tmp/ipykernel_18001/1951054575.py:54: FutureWarning: The frame.append method is deprecated and will be removed from pandas in a future version. Use pandas.concat instead.\n",
      "  df_eeg_features = df_eeg_features.append(eeg_band_fft, ignore_index=True)\n",
      "/tmp/ipykernel_18001/1951054575.py:54: FutureWarning: The frame.append method is deprecated and will be removed from pandas in a future version. Use pandas.concat instead.\n",
      "  df_eeg_features = df_eeg_features.append(eeg_band_fft, ignore_index=True)\n"
     ]
    },
    {
     "name": "stdout",
     "output_type": "stream",
     "text": [
      "Effective window size : 0.619 (s)\n",
      "Effective window size : 0.619 (s)\n",
      "Effective window size : 0.619 (s)\n",
      "Effective window size : 0.619 (s)\n",
      "Effective window size : 0.619 (s)\n",
      "Effective window size : 0.619 (s)\n"
     ]
    },
    {
     "name": "stderr",
     "output_type": "stream",
     "text": [
      "/tmp/ipykernel_18001/1951054575.py:54: FutureWarning: The frame.append method is deprecated and will be removed from pandas in a future version. Use pandas.concat instead.\n",
      "  df_eeg_features = df_eeg_features.append(eeg_band_fft, ignore_index=True)\n",
      "/tmp/ipykernel_18001/1951054575.py:54: FutureWarning: The frame.append method is deprecated and will be removed from pandas in a future version. Use pandas.concat instead.\n",
      "  df_eeg_features = df_eeg_features.append(eeg_band_fft, ignore_index=True)\n",
      "/tmp/ipykernel_18001/1951054575.py:54: FutureWarning: The frame.append method is deprecated and will be removed from pandas in a future version. Use pandas.concat instead.\n",
      "  df_eeg_features = df_eeg_features.append(eeg_band_fft, ignore_index=True)\n"
     ]
    },
    {
     "name": "stdout",
     "output_type": "stream",
     "text": [
      "Effective window size : 0.619 (s)\n",
      "Effective window size : 0.619 (s)\n",
      "Effective window size : 0.619 (s)\n",
      "Effective window size : 0.619 (s)\n",
      "Effective window size : 0.619 (s)\n",
      "Effective window size : 0.619 (s)\n"
     ]
    },
    {
     "name": "stderr",
     "output_type": "stream",
     "text": [
      "/tmp/ipykernel_18001/1951054575.py:54: FutureWarning: The frame.append method is deprecated and will be removed from pandas in a future version. Use pandas.concat instead.\n",
      "  df_eeg_features = df_eeg_features.append(eeg_band_fft, ignore_index=True)\n",
      "/tmp/ipykernel_18001/1951054575.py:54: FutureWarning: The frame.append method is deprecated and will be removed from pandas in a future version. Use pandas.concat instead.\n",
      "  df_eeg_features = df_eeg_features.append(eeg_band_fft, ignore_index=True)\n",
      "/tmp/ipykernel_18001/1951054575.py:54: FutureWarning: The frame.append method is deprecated and will be removed from pandas in a future version. Use pandas.concat instead.\n",
      "  df_eeg_features = df_eeg_features.append(eeg_band_fft, ignore_index=True)\n"
     ]
    },
    {
     "name": "stdout",
     "output_type": "stream",
     "text": [
      "Effective window size : 0.619 (s)\n",
      "Effective window size : 0.619 (s)\n",
      "Effective window size : 0.619 (s)\n",
      "Effective window size : 0.619 (s)\n",
      "Effective window size : 0.619 (s)\n",
      "Effective window size : 0.619 (s)\n"
     ]
    },
    {
     "name": "stderr",
     "output_type": "stream",
     "text": [
      "/tmp/ipykernel_18001/1951054575.py:54: FutureWarning: The frame.append method is deprecated and will be removed from pandas in a future version. Use pandas.concat instead.\n",
      "  df_eeg_features = df_eeg_features.append(eeg_band_fft, ignore_index=True)\n",
      "/tmp/ipykernel_18001/1951054575.py:54: FutureWarning: The frame.append method is deprecated and will be removed from pandas in a future version. Use pandas.concat instead.\n",
      "  df_eeg_features = df_eeg_features.append(eeg_band_fft, ignore_index=True)\n",
      "/tmp/ipykernel_18001/1951054575.py:54: FutureWarning: The frame.append method is deprecated and will be removed from pandas in a future version. Use pandas.concat instead.\n",
      "  df_eeg_features = df_eeg_features.append(eeg_band_fft, ignore_index=True)\n"
     ]
    },
    {
     "name": "stdout",
     "output_type": "stream",
     "text": [
      "Effective window size : 0.619 (s)\n",
      "Effective window size : 0.619 (s)\n",
      "Effective window size : 0.619 (s)\n",
      "Effective window size : 0.619 (s)\n",
      "Effective window size : 0.619 (s)\n",
      "Effective window size : 0.619 (s)\n"
     ]
    },
    {
     "name": "stderr",
     "output_type": "stream",
     "text": [
      "/tmp/ipykernel_18001/1951054575.py:54: FutureWarning: The frame.append method is deprecated and will be removed from pandas in a future version. Use pandas.concat instead.\n",
      "  df_eeg_features = df_eeg_features.append(eeg_band_fft, ignore_index=True)\n",
      "/tmp/ipykernel_18001/1951054575.py:54: FutureWarning: The frame.append method is deprecated and will be removed from pandas in a future version. Use pandas.concat instead.\n",
      "  df_eeg_features = df_eeg_features.append(eeg_band_fft, ignore_index=True)\n",
      "/tmp/ipykernel_18001/1951054575.py:54: FutureWarning: The frame.append method is deprecated and will be removed from pandas in a future version. Use pandas.concat instead.\n",
      "  df_eeg_features = df_eeg_features.append(eeg_band_fft, ignore_index=True)\n"
     ]
    },
    {
     "name": "stdout",
     "output_type": "stream",
     "text": [
      "Effective window size : 0.619 (s)\n",
      "Effective window size : 0.619 (s)\n",
      "Effective window size : 0.619 (s)\n",
      "Effective window size : 0.619 (s)\n",
      "Effective window size : 0.619 (s)\n",
      "Effective window size : 0.619 (s)\n"
     ]
    },
    {
     "name": "stderr",
     "output_type": "stream",
     "text": [
      "/tmp/ipykernel_18001/1951054575.py:54: FutureWarning: The frame.append method is deprecated and will be removed from pandas in a future version. Use pandas.concat instead.\n",
      "  df_eeg_features = df_eeg_features.append(eeg_band_fft, ignore_index=True)\n",
      "/tmp/ipykernel_18001/1951054575.py:54: FutureWarning: The frame.append method is deprecated and will be removed from pandas in a future version. Use pandas.concat instead.\n",
      "  df_eeg_features = df_eeg_features.append(eeg_band_fft, ignore_index=True)\n",
      "/tmp/ipykernel_18001/1951054575.py:54: FutureWarning: The frame.append method is deprecated and will be removed from pandas in a future version. Use pandas.concat instead.\n",
      "  df_eeg_features = df_eeg_features.append(eeg_band_fft, ignore_index=True)\n"
     ]
    },
    {
     "name": "stdout",
     "output_type": "stream",
     "text": [
      "Effective window size : 0.619 (s)\n",
      "Effective window size : 0.619 (s)\n",
      "Effective window size : 0.619 (s)\n",
      "Effective window size : 0.619 (s)\n",
      "Effective window size : 0.619 (s)\n",
      "Effective window size : 0.619 (s)\n"
     ]
    },
    {
     "name": "stderr",
     "output_type": "stream",
     "text": [
      "/tmp/ipykernel_18001/1951054575.py:54: FutureWarning: The frame.append method is deprecated and will be removed from pandas in a future version. Use pandas.concat instead.\n",
      "  df_eeg_features = df_eeg_features.append(eeg_band_fft, ignore_index=True)\n",
      "/tmp/ipykernel_18001/1951054575.py:54: FutureWarning: The frame.append method is deprecated and will be removed from pandas in a future version. Use pandas.concat instead.\n",
      "  df_eeg_features = df_eeg_features.append(eeg_band_fft, ignore_index=True)\n",
      "/tmp/ipykernel_18001/1951054575.py:54: FutureWarning: The frame.append method is deprecated and will be removed from pandas in a future version. Use pandas.concat instead.\n",
      "  df_eeg_features = df_eeg_features.append(eeg_band_fft, ignore_index=True)\n"
     ]
    },
    {
     "name": "stdout",
     "output_type": "stream",
     "text": [
      "Effective window size : 0.619 (s)\n",
      "Effective window size : 0.619 (s)\n",
      "Effective window size : 0.619 (s)\n",
      "Effective window size : 0.619 (s)\n",
      "Effective window size : 0.619 (s)\n",
      "Effective window size : 0.619 (s)\n"
     ]
    },
    {
     "name": "stderr",
     "output_type": "stream",
     "text": [
      "/tmp/ipykernel_18001/1951054575.py:54: FutureWarning: The frame.append method is deprecated and will be removed from pandas in a future version. Use pandas.concat instead.\n",
      "  df_eeg_features = df_eeg_features.append(eeg_band_fft, ignore_index=True)\n",
      "/tmp/ipykernel_18001/1951054575.py:54: FutureWarning: The frame.append method is deprecated and will be removed from pandas in a future version. Use pandas.concat instead.\n",
      "  df_eeg_features = df_eeg_features.append(eeg_band_fft, ignore_index=True)\n",
      "/tmp/ipykernel_18001/1951054575.py:54: FutureWarning: The frame.append method is deprecated and will be removed from pandas in a future version. Use pandas.concat instead.\n",
      "  df_eeg_features = df_eeg_features.append(eeg_band_fft, ignore_index=True)\n"
     ]
    },
    {
     "name": "stdout",
     "output_type": "stream",
     "text": [
      "Effective window size : 0.619 (s)\n",
      "Effective window size : 0.619 (s)\n",
      "Effective window size : 0.619 (s)\n",
      "Effective window size : 0.619 (s)\n",
      "Effective window size : 0.619 (s)\n",
      "Effective window size : 0.619 (s)\n"
     ]
    },
    {
     "name": "stderr",
     "output_type": "stream",
     "text": [
      "/tmp/ipykernel_18001/1951054575.py:54: FutureWarning: The frame.append method is deprecated and will be removed from pandas in a future version. Use pandas.concat instead.\n",
      "  df_eeg_features = df_eeg_features.append(eeg_band_fft, ignore_index=True)\n",
      "/tmp/ipykernel_18001/1951054575.py:54: FutureWarning: The frame.append method is deprecated and will be removed from pandas in a future version. Use pandas.concat instead.\n",
      "  df_eeg_features = df_eeg_features.append(eeg_band_fft, ignore_index=True)\n",
      "/tmp/ipykernel_18001/1951054575.py:54: FutureWarning: The frame.append method is deprecated and will be removed from pandas in a future version. Use pandas.concat instead.\n",
      "  df_eeg_features = df_eeg_features.append(eeg_band_fft, ignore_index=True)\n"
     ]
    },
    {
     "name": "stdout",
     "output_type": "stream",
     "text": [
      "Effective window size : 0.619 (s)\n",
      "Effective window size : 0.619 (s)\n",
      "Effective window size : 0.619 (s)\n",
      "Effective window size : 0.619 (s)\n"
     ]
    },
    {
     "name": "stderr",
     "output_type": "stream",
     "text": [
      "/tmp/ipykernel_18001/1951054575.py:54: FutureWarning: The frame.append method is deprecated and will be removed from pandas in a future version. Use pandas.concat instead.\n",
      "  df_eeg_features = df_eeg_features.append(eeg_band_fft, ignore_index=True)\n",
      "/tmp/ipykernel_18001/1951054575.py:54: FutureWarning: The frame.append method is deprecated and will be removed from pandas in a future version. Use pandas.concat instead.\n",
      "  df_eeg_features = df_eeg_features.append(eeg_band_fft, ignore_index=True)\n",
      "/tmp/ipykernel_18001/1951054575.py:54: FutureWarning: The frame.append method is deprecated and will be removed from pandas in a future version. Use pandas.concat instead.\n",
      "  df_eeg_features = df_eeg_features.append(eeg_band_fft, ignore_index=True)\n"
     ]
    },
    {
     "name": "stdout",
     "output_type": "stream",
     "text": [
      "Extracting EDF parameters from /home/vanilla_skies/mne_data/MNE-eegbci-data/files/eegmmidb/1.0.0/S013/S013R03.edf...\n",
      "EDF file detected\n",
      "Setting channel info structure...\n",
      "Creating raw.info structure...\n",
      "Reading 0 ... 19679  =      0.000 ...   122.994 secs...\n",
      "Extracting EDF parameters from /home/vanilla_skies/mne_data/MNE-eegbci-data/files/eegmmidb/1.0.0/S013/S013R07.edf...\n",
      "EDF file detected\n",
      "Setting channel info structure...\n",
      "Creating raw.info structure...\n",
      "Reading 0 ... 19679  =      0.000 ...   122.994 secs...\n",
      "Extracting EDF parameters from /home/vanilla_skies/mne_data/MNE-eegbci-data/files/eegmmidb/1.0.0/S013/S013R11.edf...\n",
      "EDF file detected\n",
      "Setting channel info structure...\n",
      "Creating raw.info structure...\n",
      "Reading 0 ... 19679  =      0.000 ...   122.994 secs...\n",
      "Used Annotations descriptions: ['T0', 'T1', 'T2']\n",
      "Filtering raw data in 3 contiguous segments\n",
      "Setting up band-pass filter from 7 - 30 Hz\n",
      "\n",
      "FIR filter parameters\n",
      "---------------------\n",
      "Designing a one-pass, zero-phase, non-causal bandpass filter:\n",
      "- Windowed time-domain design (firwin) method\n",
      "- Hamming window with 0.0194 passband ripple and 53 dB stopband attenuation\n",
      "- Lower passband edge: 7.00\n",
      "- Lower transition bandwidth: 2.00 Hz (-6 dB cutoff frequency: 6.00 Hz)\n",
      "- Upper passband edge: 30.00 Hz\n",
      "- Upper transition bandwidth: 7.50 Hz (-6 dB cutoff frequency: 33.75 Hz)\n",
      "- Filter length: 265 samples (1.656 sec)\n",
      "\n",
      "Not setting metadata\n",
      "45 matching events found\n",
      "No baseline correction applied\n",
      "0 projection items activated\n",
      "Using data from preloaded Raw for 45 events and 801 original time points ...\n",
      "0 bad epochs dropped\n",
      "Effective window size : 0.619 (s)\n",
      "Effective window size : 0.619 (s)\n",
      "Effective window size : 0.619 (s)\n",
      "Effective window size : 0.619 (s)\n",
      "Effective window size : 0.619 (s)\n",
      "Effective window size : 0.619 (s)\n",
      "Effective window size : 0.619 (s)\n",
      "Effective window size : 0.619 (s)\n"
     ]
    },
    {
     "name": "stderr",
     "output_type": "stream",
     "text": [
      "/tmp/ipykernel_18001/1951054575.py:54: FutureWarning: The frame.append method is deprecated and will be removed from pandas in a future version. Use pandas.concat instead.\n",
      "  df_eeg_features = df_eeg_features.append(eeg_band_fft, ignore_index=True)\n",
      "/tmp/ipykernel_18001/1951054575.py:54: FutureWarning: The frame.append method is deprecated and will be removed from pandas in a future version. Use pandas.concat instead.\n",
      "  df_eeg_features = df_eeg_features.append(eeg_band_fft, ignore_index=True)\n",
      "/tmp/ipykernel_18001/1951054575.py:54: FutureWarning: The frame.append method is deprecated and will be removed from pandas in a future version. Use pandas.concat instead.\n",
      "  df_eeg_features = df_eeg_features.append(eeg_band_fft, ignore_index=True)\n"
     ]
    },
    {
     "name": "stdout",
     "output_type": "stream",
     "text": [
      "Effective window size : 0.619 (s)\n",
      "Effective window size : 0.619 (s)\n",
      "Effective window size : 0.619 (s)\n",
      "Effective window size : 0.619 (s)\n"
     ]
    },
    {
     "name": "stderr",
     "output_type": "stream",
     "text": [
      "/tmp/ipykernel_18001/1951054575.py:54: FutureWarning: The frame.append method is deprecated and will be removed from pandas in a future version. Use pandas.concat instead.\n",
      "  df_eeg_features = df_eeg_features.append(eeg_band_fft, ignore_index=True)\n",
      "/tmp/ipykernel_18001/1951054575.py:54: FutureWarning: The frame.append method is deprecated and will be removed from pandas in a future version. Use pandas.concat instead.\n",
      "  df_eeg_features = df_eeg_features.append(eeg_band_fft, ignore_index=True)\n",
      "/tmp/ipykernel_18001/1951054575.py:54: FutureWarning: The frame.append method is deprecated and will be removed from pandas in a future version. Use pandas.concat instead.\n",
      "  df_eeg_features = df_eeg_features.append(eeg_band_fft, ignore_index=True)\n"
     ]
    },
    {
     "name": "stdout",
     "output_type": "stream",
     "text": [
      "Effective window size : 0.619 (s)\n",
      "Effective window size : 0.619 (s)\n",
      "Effective window size : 0.619 (s)\n",
      "Effective window size : 0.619 (s)\n",
      "Effective window size : 0.619 (s)\n",
      "Effective window size : 0.619 (s)\n",
      "Effective window size : 0.619 (s)\n"
     ]
    },
    {
     "name": "stderr",
     "output_type": "stream",
     "text": [
      "/tmp/ipykernel_18001/1951054575.py:54: FutureWarning: The frame.append method is deprecated and will be removed from pandas in a future version. Use pandas.concat instead.\n",
      "  df_eeg_features = df_eeg_features.append(eeg_band_fft, ignore_index=True)\n",
      "/tmp/ipykernel_18001/1951054575.py:54: FutureWarning: The frame.append method is deprecated and will be removed from pandas in a future version. Use pandas.concat instead.\n",
      "  df_eeg_features = df_eeg_features.append(eeg_band_fft, ignore_index=True)\n",
      "/tmp/ipykernel_18001/1951054575.py:54: FutureWarning: The frame.append method is deprecated and will be removed from pandas in a future version. Use pandas.concat instead.\n",
      "  df_eeg_features = df_eeg_features.append(eeg_band_fft, ignore_index=True)\n"
     ]
    },
    {
     "name": "stdout",
     "output_type": "stream",
     "text": [
      "Effective window size : 0.619 (s)\n",
      "Effective window size : 0.619 (s)\n",
      "Effective window size : 0.619 (s)\n",
      "Effective window size : 0.619 (s)\n",
      "Effective window size : 0.619 (s)\n",
      "Effective window size : 0.619 (s)\n"
     ]
    },
    {
     "name": "stderr",
     "output_type": "stream",
     "text": [
      "/tmp/ipykernel_18001/1951054575.py:54: FutureWarning: The frame.append method is deprecated and will be removed from pandas in a future version. Use pandas.concat instead.\n",
      "  df_eeg_features = df_eeg_features.append(eeg_band_fft, ignore_index=True)\n",
      "/tmp/ipykernel_18001/1951054575.py:54: FutureWarning: The frame.append method is deprecated and will be removed from pandas in a future version. Use pandas.concat instead.\n",
      "  df_eeg_features = df_eeg_features.append(eeg_band_fft, ignore_index=True)\n",
      "/tmp/ipykernel_18001/1951054575.py:54: FutureWarning: The frame.append method is deprecated and will be removed from pandas in a future version. Use pandas.concat instead.\n",
      "  df_eeg_features = df_eeg_features.append(eeg_band_fft, ignore_index=True)\n"
     ]
    },
    {
     "name": "stdout",
     "output_type": "stream",
     "text": [
      "Effective window size : 0.619 (s)\n",
      "Effective window size : 0.619 (s)\n",
      "Effective window size : 0.619 (s)\n",
      "Effective window size : 0.619 (s)\n",
      "Effective window size : 0.619 (s)\n",
      "Effective window size : 0.619 (s)\n",
      "Effective window size : 0.619 (s)\n"
     ]
    },
    {
     "name": "stderr",
     "output_type": "stream",
     "text": [
      "/tmp/ipykernel_18001/1951054575.py:54: FutureWarning: The frame.append method is deprecated and will be removed from pandas in a future version. Use pandas.concat instead.\n",
      "  df_eeg_features = df_eeg_features.append(eeg_band_fft, ignore_index=True)\n",
      "/tmp/ipykernel_18001/1951054575.py:54: FutureWarning: The frame.append method is deprecated and will be removed from pandas in a future version. Use pandas.concat instead.\n",
      "  df_eeg_features = df_eeg_features.append(eeg_band_fft, ignore_index=True)\n",
      "/tmp/ipykernel_18001/1951054575.py:54: FutureWarning: The frame.append method is deprecated and will be removed from pandas in a future version. Use pandas.concat instead.\n",
      "  df_eeg_features = df_eeg_features.append(eeg_band_fft, ignore_index=True)\n"
     ]
    },
    {
     "name": "stdout",
     "output_type": "stream",
     "text": [
      "Effective window size : 0.619 (s)\n",
      "Effective window size : 0.619 (s)\n",
      "Effective window size : 0.619 (s)\n",
      "Effective window size : 0.619 (s)\n",
      "Effective window size : 0.619 (s)\n",
      "Effective window size : 0.619 (s)\n"
     ]
    },
    {
     "name": "stderr",
     "output_type": "stream",
     "text": [
      "/tmp/ipykernel_18001/1951054575.py:54: FutureWarning: The frame.append method is deprecated and will be removed from pandas in a future version. Use pandas.concat instead.\n",
      "  df_eeg_features = df_eeg_features.append(eeg_band_fft, ignore_index=True)\n",
      "/tmp/ipykernel_18001/1951054575.py:54: FutureWarning: The frame.append method is deprecated and will be removed from pandas in a future version. Use pandas.concat instead.\n",
      "  df_eeg_features = df_eeg_features.append(eeg_band_fft, ignore_index=True)\n",
      "/tmp/ipykernel_18001/1951054575.py:54: FutureWarning: The frame.append method is deprecated and will be removed from pandas in a future version. Use pandas.concat instead.\n",
      "  df_eeg_features = df_eeg_features.append(eeg_band_fft, ignore_index=True)\n"
     ]
    },
    {
     "name": "stdout",
     "output_type": "stream",
     "text": [
      "Effective window size : 0.619 (s)\n",
      "Effective window size : 0.619 (s)\n",
      "Effective window size : 0.619 (s)\n",
      "Effective window size : 0.619 (s)\n",
      "Effective window size : 0.619 (s)\n",
      "Effective window size : 0.619 (s)\n"
     ]
    },
    {
     "name": "stderr",
     "output_type": "stream",
     "text": [
      "/tmp/ipykernel_18001/1951054575.py:54: FutureWarning: The frame.append method is deprecated and will be removed from pandas in a future version. Use pandas.concat instead.\n",
      "  df_eeg_features = df_eeg_features.append(eeg_band_fft, ignore_index=True)\n",
      "/tmp/ipykernel_18001/1951054575.py:54: FutureWarning: The frame.append method is deprecated and will be removed from pandas in a future version. Use pandas.concat instead.\n",
      "  df_eeg_features = df_eeg_features.append(eeg_band_fft, ignore_index=True)\n",
      "/tmp/ipykernel_18001/1951054575.py:54: FutureWarning: The frame.append method is deprecated and will be removed from pandas in a future version. Use pandas.concat instead.\n",
      "  df_eeg_features = df_eeg_features.append(eeg_band_fft, ignore_index=True)\n"
     ]
    },
    {
     "name": "stdout",
     "output_type": "stream",
     "text": [
      "Effective window size : 0.619 (s)\n",
      "Effective window size : 0.619 (s)\n",
      "Effective window size : 0.619 (s)\n",
      "Effective window size : 0.619 (s)\n",
      "Effective window size : 0.619 (s)\n",
      "Effective window size : 0.619 (s)\n"
     ]
    },
    {
     "name": "stderr",
     "output_type": "stream",
     "text": [
      "/tmp/ipykernel_18001/1951054575.py:54: FutureWarning: The frame.append method is deprecated and will be removed from pandas in a future version. Use pandas.concat instead.\n",
      "  df_eeg_features = df_eeg_features.append(eeg_band_fft, ignore_index=True)\n",
      "/tmp/ipykernel_18001/1951054575.py:54: FutureWarning: The frame.append method is deprecated and will be removed from pandas in a future version. Use pandas.concat instead.\n",
      "  df_eeg_features = df_eeg_features.append(eeg_band_fft, ignore_index=True)\n",
      "/tmp/ipykernel_18001/1951054575.py:54: FutureWarning: The frame.append method is deprecated and will be removed from pandas in a future version. Use pandas.concat instead.\n",
      "  df_eeg_features = df_eeg_features.append(eeg_band_fft, ignore_index=True)\n"
     ]
    },
    {
     "name": "stdout",
     "output_type": "stream",
     "text": [
      "Effective window size : 0.619 (s)\n",
      "Effective window size : 0.619 (s)\n",
      "Effective window size : 0.619 (s)\n",
      "Effective window size : 0.619 (s)\n",
      "Effective window size : 0.619 (s)\n",
      "Effective window size : 0.619 (s)\n"
     ]
    },
    {
     "name": "stderr",
     "output_type": "stream",
     "text": [
      "/tmp/ipykernel_18001/1951054575.py:54: FutureWarning: The frame.append method is deprecated and will be removed from pandas in a future version. Use pandas.concat instead.\n",
      "  df_eeg_features = df_eeg_features.append(eeg_band_fft, ignore_index=True)\n",
      "/tmp/ipykernel_18001/1951054575.py:54: FutureWarning: The frame.append method is deprecated and will be removed from pandas in a future version. Use pandas.concat instead.\n",
      "  df_eeg_features = df_eeg_features.append(eeg_band_fft, ignore_index=True)\n",
      "/tmp/ipykernel_18001/1951054575.py:54: FutureWarning: The frame.append method is deprecated and will be removed from pandas in a future version. Use pandas.concat instead.\n",
      "  df_eeg_features = df_eeg_features.append(eeg_band_fft, ignore_index=True)\n"
     ]
    },
    {
     "name": "stdout",
     "output_type": "stream",
     "text": [
      "Effective window size : 0.619 (s)\n",
      "Effective window size : 0.619 (s)\n",
      "Effective window size : 0.619 (s)\n",
      "Effective window size : 0.619 (s)\n",
      "Effective window size : 0.619 (s)\n",
      "Effective window size : 0.619 (s)\n"
     ]
    },
    {
     "name": "stderr",
     "output_type": "stream",
     "text": [
      "/tmp/ipykernel_18001/1951054575.py:54: FutureWarning: The frame.append method is deprecated and will be removed from pandas in a future version. Use pandas.concat instead.\n",
      "  df_eeg_features = df_eeg_features.append(eeg_band_fft, ignore_index=True)\n",
      "/tmp/ipykernel_18001/1951054575.py:54: FutureWarning: The frame.append method is deprecated and will be removed from pandas in a future version. Use pandas.concat instead.\n",
      "  df_eeg_features = df_eeg_features.append(eeg_band_fft, ignore_index=True)\n",
      "/tmp/ipykernel_18001/1951054575.py:54: FutureWarning: The frame.append method is deprecated and will be removed from pandas in a future version. Use pandas.concat instead.\n",
      "  df_eeg_features = df_eeg_features.append(eeg_band_fft, ignore_index=True)\n"
     ]
    },
    {
     "name": "stdout",
     "output_type": "stream",
     "text": [
      "Effective window size : 0.619 (s)\n",
      "Effective window size : 0.619 (s)\n",
      "Effective window size : 0.619 (s)\n",
      "Effective window size : 0.619 (s)\n",
      "Effective window size : 0.619 (s)\n",
      "Effective window size : 0.619 (s)\n"
     ]
    },
    {
     "name": "stderr",
     "output_type": "stream",
     "text": [
      "/tmp/ipykernel_18001/1951054575.py:54: FutureWarning: The frame.append method is deprecated and will be removed from pandas in a future version. Use pandas.concat instead.\n",
      "  df_eeg_features = df_eeg_features.append(eeg_band_fft, ignore_index=True)\n",
      "/tmp/ipykernel_18001/1951054575.py:54: FutureWarning: The frame.append method is deprecated and will be removed from pandas in a future version. Use pandas.concat instead.\n",
      "  df_eeg_features = df_eeg_features.append(eeg_band_fft, ignore_index=True)\n",
      "/tmp/ipykernel_18001/1951054575.py:54: FutureWarning: The frame.append method is deprecated and will be removed from pandas in a future version. Use pandas.concat instead.\n",
      "  df_eeg_features = df_eeg_features.append(eeg_band_fft, ignore_index=True)\n"
     ]
    },
    {
     "name": "stdout",
     "output_type": "stream",
     "text": [
      "Effective window size : 0.619 (s)\n",
      "Effective window size : 0.619 (s)\n",
      "Effective window size : 0.619 (s)\n",
      "Effective window size : 0.619 (s)\n",
      "Effective window size : 0.619 (s)\n"
     ]
    },
    {
     "name": "stderr",
     "output_type": "stream",
     "text": [
      "/tmp/ipykernel_18001/1951054575.py:54: FutureWarning: The frame.append method is deprecated and will be removed from pandas in a future version. Use pandas.concat instead.\n",
      "  df_eeg_features = df_eeg_features.append(eeg_band_fft, ignore_index=True)\n",
      "/tmp/ipykernel_18001/1951054575.py:54: FutureWarning: The frame.append method is deprecated and will be removed from pandas in a future version. Use pandas.concat instead.\n",
      "  df_eeg_features = df_eeg_features.append(eeg_band_fft, ignore_index=True)\n",
      "/tmp/ipykernel_18001/1951054575.py:54: FutureWarning: The frame.append method is deprecated and will be removed from pandas in a future version. Use pandas.concat instead.\n",
      "  df_eeg_features = df_eeg_features.append(eeg_band_fft, ignore_index=True)\n"
     ]
    },
    {
     "name": "stdout",
     "output_type": "stream",
     "text": [
      "Effective window size : 0.619 (s)\n",
      "Effective window size : 0.619 (s)\n",
      "Effective window size : 0.619 (s)\n",
      "Effective window size : 0.619 (s)\n",
      "Effective window size : 0.619 (s)\n",
      "Effective window size : 0.619 (s)\n"
     ]
    },
    {
     "name": "stderr",
     "output_type": "stream",
     "text": [
      "/tmp/ipykernel_18001/1951054575.py:54: FutureWarning: The frame.append method is deprecated and will be removed from pandas in a future version. Use pandas.concat instead.\n",
      "  df_eeg_features = df_eeg_features.append(eeg_band_fft, ignore_index=True)\n",
      "/tmp/ipykernel_18001/1951054575.py:54: FutureWarning: The frame.append method is deprecated and will be removed from pandas in a future version. Use pandas.concat instead.\n",
      "  df_eeg_features = df_eeg_features.append(eeg_band_fft, ignore_index=True)\n",
      "/tmp/ipykernel_18001/1951054575.py:54: FutureWarning: The frame.append method is deprecated and will be removed from pandas in a future version. Use pandas.concat instead.\n",
      "  df_eeg_features = df_eeg_features.append(eeg_band_fft, ignore_index=True)\n"
     ]
    },
    {
     "name": "stdout",
     "output_type": "stream",
     "text": [
      "Effective window size : 0.619 (s)\n",
      "Effective window size : 0.619 (s)\n",
      "Effective window size : 0.619 (s)\n",
      "Effective window size : 0.619 (s)\n",
      "Effective window size : 0.619 (s)\n",
      "Effective window size : 0.619 (s)\n",
      "Effective window size : 0.619 (s)\n"
     ]
    },
    {
     "name": "stderr",
     "output_type": "stream",
     "text": [
      "/tmp/ipykernel_18001/1951054575.py:54: FutureWarning: The frame.append method is deprecated and will be removed from pandas in a future version. Use pandas.concat instead.\n",
      "  df_eeg_features = df_eeg_features.append(eeg_band_fft, ignore_index=True)\n",
      "/tmp/ipykernel_18001/1951054575.py:54: FutureWarning: The frame.append method is deprecated and will be removed from pandas in a future version. Use pandas.concat instead.\n",
      "  df_eeg_features = df_eeg_features.append(eeg_band_fft, ignore_index=True)\n",
      "/tmp/ipykernel_18001/1951054575.py:54: FutureWarning: The frame.append method is deprecated and will be removed from pandas in a future version. Use pandas.concat instead.\n",
      "  df_eeg_features = df_eeg_features.append(eeg_band_fft, ignore_index=True)\n"
     ]
    },
    {
     "name": "stdout",
     "output_type": "stream",
     "text": [
      "Effective window size : 0.619 (s)\n",
      "Effective window size : 0.619 (s)\n",
      "Effective window size : 0.619 (s)\n",
      "Effective window size : 0.619 (s)\n"
     ]
    },
    {
     "name": "stderr",
     "output_type": "stream",
     "text": [
      "/tmp/ipykernel_18001/1951054575.py:54: FutureWarning: The frame.append method is deprecated and will be removed from pandas in a future version. Use pandas.concat instead.\n",
      "  df_eeg_features = df_eeg_features.append(eeg_band_fft, ignore_index=True)\n",
      "/tmp/ipykernel_18001/1951054575.py:54: FutureWarning: The frame.append method is deprecated and will be removed from pandas in a future version. Use pandas.concat instead.\n",
      "  df_eeg_features = df_eeg_features.append(eeg_band_fft, ignore_index=True)\n",
      "/tmp/ipykernel_18001/1951054575.py:54: FutureWarning: The frame.append method is deprecated and will be removed from pandas in a future version. Use pandas.concat instead.\n",
      "  df_eeg_features = df_eeg_features.append(eeg_band_fft, ignore_index=True)\n"
     ]
    },
    {
     "name": "stdout",
     "output_type": "stream",
     "text": [
      "Extracting EDF parameters from /home/vanilla_skies/mne_data/MNE-eegbci-data/files/eegmmidb/1.0.0/S014/S014R03.edf...\n",
      "EDF file detected\n",
      "Setting channel info structure...\n",
      "Creating raw.info structure...\n",
      "Reading 0 ... 19679  =      0.000 ...   122.994 secs...\n",
      "Extracting EDF parameters from /home/vanilla_skies/mne_data/MNE-eegbci-data/files/eegmmidb/1.0.0/S014/S014R07.edf...\n",
      "EDF file detected\n",
      "Setting channel info structure...\n",
      "Creating raw.info structure...\n",
      "Reading 0 ... 19679  =      0.000 ...   122.994 secs...\n",
      "Extracting EDF parameters from /home/vanilla_skies/mne_data/MNE-eegbci-data/files/eegmmidb/1.0.0/S014/S014R11.edf...\n",
      "EDF file detected\n",
      "Setting channel info structure...\n",
      "Creating raw.info structure...\n",
      "Reading 0 ... 19679  =      0.000 ...   122.994 secs...\n",
      "Used Annotations descriptions: ['T0', 'T1', 'T2']\n",
      "Filtering raw data in 3 contiguous segments\n",
      "Setting up band-pass filter from 7 - 30 Hz\n",
      "\n",
      "FIR filter parameters\n",
      "---------------------\n",
      "Designing a one-pass, zero-phase, non-causal bandpass filter:\n",
      "- Windowed time-domain design (firwin) method\n",
      "- Hamming window with 0.0194 passband ripple and 53 dB stopband attenuation\n",
      "- Lower passband edge: 7.00\n",
      "- Lower transition bandwidth: 2.00 Hz (-6 dB cutoff frequency: 6.00 Hz)\n",
      "- Upper passband edge: 30.00 Hz\n",
      "- Upper transition bandwidth: 7.50 Hz (-6 dB cutoff frequency: 33.75 Hz)\n",
      "- Filter length: 265 samples (1.656 sec)\n",
      "\n",
      "Not setting metadata\n",
      "45 matching events found\n",
      "No baseline correction applied\n",
      "0 projection items activated\n",
      "Using data from preloaded Raw for 45 events and 801 original time points ...\n",
      "0 bad epochs dropped\n",
      "Effective window size : 0.619 (s)\n",
      "Effective window size : 0.619 (s)\n",
      "Effective window size : 0.619 (s)\n",
      "Effective window size : 0.619 (s)\n",
      "Effective window size : 0.619 (s)\n",
      "Effective window size : 0.619 (s)\n",
      "Effective window size : 0.619 (s)\n",
      "Effective window size : 0.619 (s)\n"
     ]
    },
    {
     "name": "stderr",
     "output_type": "stream",
     "text": [
      "/tmp/ipykernel_18001/1951054575.py:54: FutureWarning: The frame.append method is deprecated and will be removed from pandas in a future version. Use pandas.concat instead.\n",
      "  df_eeg_features = df_eeg_features.append(eeg_band_fft, ignore_index=True)\n",
      "/tmp/ipykernel_18001/1951054575.py:54: FutureWarning: The frame.append method is deprecated and will be removed from pandas in a future version. Use pandas.concat instead.\n",
      "  df_eeg_features = df_eeg_features.append(eeg_band_fft, ignore_index=True)\n",
      "/tmp/ipykernel_18001/1951054575.py:54: FutureWarning: The frame.append method is deprecated and will be removed from pandas in a future version. Use pandas.concat instead.\n",
      "  df_eeg_features = df_eeg_features.append(eeg_band_fft, ignore_index=True)\n"
     ]
    },
    {
     "name": "stdout",
     "output_type": "stream",
     "text": [
      "Effective window size : 0.619 (s)\n",
      "Effective window size : 0.619 (s)\n",
      "Effective window size : 0.619 (s)\n",
      "Effective window size : 0.619 (s)\n"
     ]
    },
    {
     "name": "stderr",
     "output_type": "stream",
     "text": [
      "/tmp/ipykernel_18001/1951054575.py:54: FutureWarning: The frame.append method is deprecated and will be removed from pandas in a future version. Use pandas.concat instead.\n",
      "  df_eeg_features = df_eeg_features.append(eeg_band_fft, ignore_index=True)\n",
      "/tmp/ipykernel_18001/1951054575.py:54: FutureWarning: The frame.append method is deprecated and will be removed from pandas in a future version. Use pandas.concat instead.\n",
      "  df_eeg_features = df_eeg_features.append(eeg_band_fft, ignore_index=True)\n"
     ]
    },
    {
     "name": "stdout",
     "output_type": "stream",
     "text": [
      "Effective window size : 0.619 (s)\n",
      "Effective window size : 0.619 (s)\n",
      "Effective window size : 0.619 (s)\n",
      "Effective window size : 0.619 (s)\n"
     ]
    },
    {
     "name": "stderr",
     "output_type": "stream",
     "text": [
      "/tmp/ipykernel_18001/1951054575.py:54: FutureWarning: The frame.append method is deprecated and will be removed from pandas in a future version. Use pandas.concat instead.\n",
      "  df_eeg_features = df_eeg_features.append(eeg_band_fft, ignore_index=True)\n",
      "/tmp/ipykernel_18001/1951054575.py:54: FutureWarning: The frame.append method is deprecated and will be removed from pandas in a future version. Use pandas.concat instead.\n",
      "  df_eeg_features = df_eeg_features.append(eeg_band_fft, ignore_index=True)\n"
     ]
    },
    {
     "name": "stdout",
     "output_type": "stream",
     "text": [
      "Effective window size : 0.619 (s)\n",
      "Effective window size : 0.619 (s)\n",
      "Effective window size : 0.619 (s)\n",
      "Effective window size : 0.619 (s)\n"
     ]
    },
    {
     "name": "stderr",
     "output_type": "stream",
     "text": [
      "/tmp/ipykernel_18001/1951054575.py:54: FutureWarning: The frame.append method is deprecated and will be removed from pandas in a future version. Use pandas.concat instead.\n",
      "  df_eeg_features = df_eeg_features.append(eeg_band_fft, ignore_index=True)\n",
      "/tmp/ipykernel_18001/1951054575.py:54: FutureWarning: The frame.append method is deprecated and will be removed from pandas in a future version. Use pandas.concat instead.\n",
      "  df_eeg_features = df_eeg_features.append(eeg_band_fft, ignore_index=True)\n"
     ]
    },
    {
     "name": "stdout",
     "output_type": "stream",
     "text": [
      "Effective window size : 0.619 (s)\n",
      "Effective window size : 0.619 (s)\n",
      "Effective window size : 0.619 (s)\n",
      "Effective window size : 0.619 (s)\n"
     ]
    },
    {
     "name": "stderr",
     "output_type": "stream",
     "text": [
      "/tmp/ipykernel_18001/1951054575.py:54: FutureWarning: The frame.append method is deprecated and will be removed from pandas in a future version. Use pandas.concat instead.\n",
      "  df_eeg_features = df_eeg_features.append(eeg_band_fft, ignore_index=True)\n",
      "/tmp/ipykernel_18001/1951054575.py:54: FutureWarning: The frame.append method is deprecated and will be removed from pandas in a future version. Use pandas.concat instead.\n",
      "  df_eeg_features = df_eeg_features.append(eeg_band_fft, ignore_index=True)\n"
     ]
    },
    {
     "name": "stdout",
     "output_type": "stream",
     "text": [
      "Effective window size : 0.619 (s)\n",
      "Effective window size : 0.619 (s)\n",
      "Effective window size : 0.619 (s)\n",
      "Effective window size : 0.619 (s)\n",
      "Effective window size : 0.619 (s)\n",
      "Effective window size : 0.619 (s)\n"
     ]
    },
    {
     "name": "stderr",
     "output_type": "stream",
     "text": [
      "/tmp/ipykernel_18001/1951054575.py:54: FutureWarning: The frame.append method is deprecated and will be removed from pandas in a future version. Use pandas.concat instead.\n",
      "  df_eeg_features = df_eeg_features.append(eeg_band_fft, ignore_index=True)\n",
      "/tmp/ipykernel_18001/1951054575.py:54: FutureWarning: The frame.append method is deprecated and will be removed from pandas in a future version. Use pandas.concat instead.\n",
      "  df_eeg_features = df_eeg_features.append(eeg_band_fft, ignore_index=True)\n",
      "/tmp/ipykernel_18001/1951054575.py:54: FutureWarning: The frame.append method is deprecated and will be removed from pandas in a future version. Use pandas.concat instead.\n",
      "  df_eeg_features = df_eeg_features.append(eeg_band_fft, ignore_index=True)\n"
     ]
    },
    {
     "name": "stdout",
     "output_type": "stream",
     "text": [
      "Effective window size : 0.619 (s)\n",
      "Effective window size : 0.619 (s)\n",
      "Effective window size : 0.619 (s)\n",
      "Effective window size : 0.619 (s)\n",
      "Effective window size : 0.619 (s)\n",
      "Effective window size : 0.619 (s)\n"
     ]
    },
    {
     "name": "stderr",
     "output_type": "stream",
     "text": [
      "/tmp/ipykernel_18001/1951054575.py:54: FutureWarning: The frame.append method is deprecated and will be removed from pandas in a future version. Use pandas.concat instead.\n",
      "  df_eeg_features = df_eeg_features.append(eeg_band_fft, ignore_index=True)\n",
      "/tmp/ipykernel_18001/1951054575.py:54: FutureWarning: The frame.append method is deprecated and will be removed from pandas in a future version. Use pandas.concat instead.\n",
      "  df_eeg_features = df_eeg_features.append(eeg_band_fft, ignore_index=True)\n",
      "/tmp/ipykernel_18001/1951054575.py:54: FutureWarning: The frame.append method is deprecated and will be removed from pandas in a future version. Use pandas.concat instead.\n",
      "  df_eeg_features = df_eeg_features.append(eeg_band_fft, ignore_index=True)\n"
     ]
    },
    {
     "name": "stdout",
     "output_type": "stream",
     "text": [
      "Effective window size : 0.619 (s)\n",
      "Effective window size : 0.619 (s)\n",
      "Effective window size : 0.619 (s)\n",
      "Effective window size : 0.619 (s)\n",
      "Effective window size : 0.619 (s)\n",
      "Effective window size : 0.619 (s)\n"
     ]
    },
    {
     "name": "stderr",
     "output_type": "stream",
     "text": [
      "/tmp/ipykernel_18001/1951054575.py:54: FutureWarning: The frame.append method is deprecated and will be removed from pandas in a future version. Use pandas.concat instead.\n",
      "  df_eeg_features = df_eeg_features.append(eeg_band_fft, ignore_index=True)\n",
      "/tmp/ipykernel_18001/1951054575.py:54: FutureWarning: The frame.append method is deprecated and will be removed from pandas in a future version. Use pandas.concat instead.\n",
      "  df_eeg_features = df_eeg_features.append(eeg_band_fft, ignore_index=True)\n",
      "/tmp/ipykernel_18001/1951054575.py:54: FutureWarning: The frame.append method is deprecated and will be removed from pandas in a future version. Use pandas.concat instead.\n",
      "  df_eeg_features = df_eeg_features.append(eeg_band_fft, ignore_index=True)\n"
     ]
    },
    {
     "name": "stdout",
     "output_type": "stream",
     "text": [
      "Effective window size : 0.619 (s)\n",
      "Effective window size : 0.619 (s)\n",
      "Effective window size : 0.619 (s)\n",
      "Effective window size : 0.619 (s)\n",
      "Effective window size : 0.619 (s)\n",
      "Effective window size : 0.619 (s)\n"
     ]
    },
    {
     "name": "stderr",
     "output_type": "stream",
     "text": [
      "/tmp/ipykernel_18001/1951054575.py:54: FutureWarning: The frame.append method is deprecated and will be removed from pandas in a future version. Use pandas.concat instead.\n",
      "  df_eeg_features = df_eeg_features.append(eeg_band_fft, ignore_index=True)\n",
      "/tmp/ipykernel_18001/1951054575.py:54: FutureWarning: The frame.append method is deprecated and will be removed from pandas in a future version. Use pandas.concat instead.\n",
      "  df_eeg_features = df_eeg_features.append(eeg_band_fft, ignore_index=True)\n",
      "/tmp/ipykernel_18001/1951054575.py:54: FutureWarning: The frame.append method is deprecated and will be removed from pandas in a future version. Use pandas.concat instead.\n",
      "  df_eeg_features = df_eeg_features.append(eeg_band_fft, ignore_index=True)\n"
     ]
    },
    {
     "name": "stdout",
     "output_type": "stream",
     "text": [
      "Effective window size : 0.619 (s)\n",
      "Effective window size : 0.619 (s)\n",
      "Effective window size : 0.619 (s)\n",
      "Effective window size : 0.619 (s)\n",
      "Effective window size : 0.619 (s)\n",
      "Effective window size : 0.619 (s)\n"
     ]
    },
    {
     "name": "stderr",
     "output_type": "stream",
     "text": [
      "/tmp/ipykernel_18001/1951054575.py:54: FutureWarning: The frame.append method is deprecated and will be removed from pandas in a future version. Use pandas.concat instead.\n",
      "  df_eeg_features = df_eeg_features.append(eeg_band_fft, ignore_index=True)\n",
      "/tmp/ipykernel_18001/1951054575.py:54: FutureWarning: The frame.append method is deprecated and will be removed from pandas in a future version. Use pandas.concat instead.\n",
      "  df_eeg_features = df_eeg_features.append(eeg_band_fft, ignore_index=True)\n",
      "/tmp/ipykernel_18001/1951054575.py:54: FutureWarning: The frame.append method is deprecated and will be removed from pandas in a future version. Use pandas.concat instead.\n",
      "  df_eeg_features = df_eeg_features.append(eeg_band_fft, ignore_index=True)\n"
     ]
    },
    {
     "name": "stdout",
     "output_type": "stream",
     "text": [
      "Effective window size : 0.619 (s)\n",
      "Effective window size : 0.619 (s)\n",
      "Effective window size : 0.619 (s)\n",
      "Effective window size : 0.619 (s)\n",
      "Effective window size : 0.619 (s)\n"
     ]
    },
    {
     "name": "stderr",
     "output_type": "stream",
     "text": [
      "/tmp/ipykernel_18001/1951054575.py:54: FutureWarning: The frame.append method is deprecated and will be removed from pandas in a future version. Use pandas.concat instead.\n",
      "  df_eeg_features = df_eeg_features.append(eeg_band_fft, ignore_index=True)\n",
      "/tmp/ipykernel_18001/1951054575.py:54: FutureWarning: The frame.append method is deprecated and will be removed from pandas in a future version. Use pandas.concat instead.\n",
      "  df_eeg_features = df_eeg_features.append(eeg_band_fft, ignore_index=True)\n",
      "/tmp/ipykernel_18001/1951054575.py:54: FutureWarning: The frame.append method is deprecated and will be removed from pandas in a future version. Use pandas.concat instead.\n",
      "  df_eeg_features = df_eeg_features.append(eeg_band_fft, ignore_index=True)\n"
     ]
    },
    {
     "name": "stdout",
     "output_type": "stream",
     "text": [
      "Effective window size : 0.619 (s)\n",
      "Effective window size : 0.619 (s)\n",
      "Effective window size : 0.619 (s)\n",
      "Effective window size : 0.619 (s)\n",
      "Effective window size : 0.619 (s)\n",
      "Effective window size : 0.619 (s)\n",
      "Effective window size : 0.619 (s)\n"
     ]
    },
    {
     "name": "stderr",
     "output_type": "stream",
     "text": [
      "/tmp/ipykernel_18001/1951054575.py:54: FutureWarning: The frame.append method is deprecated and will be removed from pandas in a future version. Use pandas.concat instead.\n",
      "  df_eeg_features = df_eeg_features.append(eeg_band_fft, ignore_index=True)\n",
      "/tmp/ipykernel_18001/1951054575.py:54: FutureWarning: The frame.append method is deprecated and will be removed from pandas in a future version. Use pandas.concat instead.\n",
      "  df_eeg_features = df_eeg_features.append(eeg_band_fft, ignore_index=True)\n",
      "/tmp/ipykernel_18001/1951054575.py:54: FutureWarning: The frame.append method is deprecated and will be removed from pandas in a future version. Use pandas.concat instead.\n",
      "  df_eeg_features = df_eeg_features.append(eeg_band_fft, ignore_index=True)\n"
     ]
    },
    {
     "name": "stdout",
     "output_type": "stream",
     "text": [
      "Effective window size : 0.619 (s)\n",
      "Effective window size : 0.619 (s)\n",
      "Effective window size : 0.619 (s)\n",
      "Effective window size : 0.619 (s)\n",
      "Effective window size : 0.619 (s)\n",
      "Effective window size : 0.619 (s)\n"
     ]
    },
    {
     "name": "stderr",
     "output_type": "stream",
     "text": [
      "/tmp/ipykernel_18001/1951054575.py:54: FutureWarning: The frame.append method is deprecated and will be removed from pandas in a future version. Use pandas.concat instead.\n",
      "  df_eeg_features = df_eeg_features.append(eeg_band_fft, ignore_index=True)\n",
      "/tmp/ipykernel_18001/1951054575.py:54: FutureWarning: The frame.append method is deprecated and will be removed from pandas in a future version. Use pandas.concat instead.\n",
      "  df_eeg_features = df_eeg_features.append(eeg_band_fft, ignore_index=True)\n",
      "/tmp/ipykernel_18001/1951054575.py:54: FutureWarning: The frame.append method is deprecated and will be removed from pandas in a future version. Use pandas.concat instead.\n",
      "  df_eeg_features = df_eeg_features.append(eeg_band_fft, ignore_index=True)\n"
     ]
    },
    {
     "name": "stdout",
     "output_type": "stream",
     "text": [
      "Effective window size : 0.619 (s)\n",
      "Effective window size : 0.619 (s)\n",
      "Effective window size : 0.619 (s)\n",
      "Effective window size : 0.619 (s)\n",
      "Effective window size : 0.619 (s)\n",
      "Effective window size : 0.619 (s)\n"
     ]
    },
    {
     "name": "stderr",
     "output_type": "stream",
     "text": [
      "/tmp/ipykernel_18001/1951054575.py:54: FutureWarning: The frame.append method is deprecated and will be removed from pandas in a future version. Use pandas.concat instead.\n",
      "  df_eeg_features = df_eeg_features.append(eeg_band_fft, ignore_index=True)\n",
      "/tmp/ipykernel_18001/1951054575.py:54: FutureWarning: The frame.append method is deprecated and will be removed from pandas in a future version. Use pandas.concat instead.\n",
      "  df_eeg_features = df_eeg_features.append(eeg_band_fft, ignore_index=True)\n",
      "/tmp/ipykernel_18001/1951054575.py:54: FutureWarning: The frame.append method is deprecated and will be removed from pandas in a future version. Use pandas.concat instead.\n",
      "  df_eeg_features = df_eeg_features.append(eeg_band_fft, ignore_index=True)\n"
     ]
    },
    {
     "name": "stdout",
     "output_type": "stream",
     "text": [
      "Effective window size : 0.619 (s)\n",
      "Effective window size : 0.619 (s)\n",
      "Effective window size : 0.619 (s)\n",
      "Effective window size : 0.619 (s)\n",
      "Effective window size : 0.619 (s)\n",
      "Effective window size : 0.619 (s)\n"
     ]
    },
    {
     "name": "stderr",
     "output_type": "stream",
     "text": [
      "/tmp/ipykernel_18001/1951054575.py:54: FutureWarning: The frame.append method is deprecated and will be removed from pandas in a future version. Use pandas.concat instead.\n",
      "  df_eeg_features = df_eeg_features.append(eeg_band_fft, ignore_index=True)\n",
      "/tmp/ipykernel_18001/1951054575.py:54: FutureWarning: The frame.append method is deprecated and will be removed from pandas in a future version. Use pandas.concat instead.\n",
      "  df_eeg_features = df_eeg_features.append(eeg_band_fft, ignore_index=True)\n",
      "/tmp/ipykernel_18001/1951054575.py:54: FutureWarning: The frame.append method is deprecated and will be removed from pandas in a future version. Use pandas.concat instead.\n",
      "  df_eeg_features = df_eeg_features.append(eeg_band_fft, ignore_index=True)\n"
     ]
    },
    {
     "name": "stdout",
     "output_type": "stream",
     "text": [
      "Effective window size : 0.619 (s)\n",
      "Effective window size : 0.619 (s)\n",
      "Effective window size : 0.619 (s)\n",
      "Effective window size : 0.619 (s)\n",
      "Effective window size : 0.619 (s)\n",
      "Effective window size : 0.619 (s)\n"
     ]
    },
    {
     "name": "stderr",
     "output_type": "stream",
     "text": [
      "/tmp/ipykernel_18001/1951054575.py:54: FutureWarning: The frame.append method is deprecated and will be removed from pandas in a future version. Use pandas.concat instead.\n",
      "  df_eeg_features = df_eeg_features.append(eeg_band_fft, ignore_index=True)\n",
      "/tmp/ipykernel_18001/1951054575.py:54: FutureWarning: The frame.append method is deprecated and will be removed from pandas in a future version. Use pandas.concat instead.\n",
      "  df_eeg_features = df_eeg_features.append(eeg_band_fft, ignore_index=True)\n",
      "/tmp/ipykernel_18001/1951054575.py:54: FutureWarning: The frame.append method is deprecated and will be removed from pandas in a future version. Use pandas.concat instead.\n",
      "  df_eeg_features = df_eeg_features.append(eeg_band_fft, ignore_index=True)\n"
     ]
    },
    {
     "name": "stdout",
     "output_type": "stream",
     "text": [
      "Extracting EDF parameters from /home/vanilla_skies/mne_data/MNE-eegbci-data/files/eegmmidb/1.0.0/S015/S015R03.edf...\n",
      "EDF file detected\n",
      "Setting channel info structure...\n",
      "Creating raw.info structure...\n",
      "Reading 0 ... 19679  =      0.000 ...   122.994 secs...\n",
      "Extracting EDF parameters from /home/vanilla_skies/mne_data/MNE-eegbci-data/files/eegmmidb/1.0.0/S015/S015R07.edf...\n",
      "EDF file detected\n",
      "Setting channel info structure...\n",
      "Creating raw.info structure...\n",
      "Reading 0 ... 19679  =      0.000 ...   122.994 secs...\n",
      "Extracting EDF parameters from /home/vanilla_skies/mne_data/MNE-eegbci-data/files/eegmmidb/1.0.0/S015/S015R11.edf...\n",
      "EDF file detected\n",
      "Setting channel info structure...\n",
      "Creating raw.info structure...\n",
      "Reading 0 ... 19679  =      0.000 ...   122.994 secs...\n"
     ]
    },
    {
     "name": "stderr",
     "output_type": "stream",
     "text": [
      "/tmp/ipykernel_18001/1951054575.py:54: FutureWarning: The frame.append method is deprecated and will be removed from pandas in a future version. Use pandas.concat instead.\n",
      "  df_eeg_features = df_eeg_features.append(eeg_band_fft, ignore_index=True)\n"
     ]
    },
    {
     "name": "stdout",
     "output_type": "stream",
     "text": [
      "Used Annotations descriptions: ['T0', 'T1', 'T2']\n",
      "Filtering raw data in 3 contiguous segments\n",
      "Setting up band-pass filter from 7 - 30 Hz\n",
      "\n",
      "FIR filter parameters\n",
      "---------------------\n",
      "Designing a one-pass, zero-phase, non-causal bandpass filter:\n",
      "- Windowed time-domain design (firwin) method\n",
      "- Hamming window with 0.0194 passband ripple and 53 dB stopband attenuation\n",
      "- Lower passband edge: 7.00\n",
      "- Lower transition bandwidth: 2.00 Hz (-6 dB cutoff frequency: 6.00 Hz)\n",
      "- Upper passband edge: 30.00 Hz\n",
      "- Upper transition bandwidth: 7.50 Hz (-6 dB cutoff frequency: 33.75 Hz)\n",
      "- Filter length: 265 samples (1.656 sec)\n",
      "\n",
      "Not setting metadata\n",
      "45 matching events found\n",
      "No baseline correction applied\n",
      "0 projection items activated\n",
      "Using data from preloaded Raw for 45 events and 801 original time points ...\n",
      "0 bad epochs dropped\n",
      "Effective window size : 0.619 (s)\n",
      "Effective window size : 0.619 (s)\n",
      "Effective window size : 0.619 (s)\n",
      "Effective window size : 0.619 (s)\n",
      "Effective window size : 0.619 (s)\n",
      "Effective window size : 0.619 (s)\n",
      "Effective window size : 0.619 (s)\n",
      "Effective window size : 0.619 (s)\n"
     ]
    },
    {
     "name": "stderr",
     "output_type": "stream",
     "text": [
      "/tmp/ipykernel_18001/1951054575.py:54: FutureWarning: The frame.append method is deprecated and will be removed from pandas in a future version. Use pandas.concat instead.\n",
      "  df_eeg_features = df_eeg_features.append(eeg_band_fft, ignore_index=True)\n",
      "/tmp/ipykernel_18001/1951054575.py:54: FutureWarning: The frame.append method is deprecated and will be removed from pandas in a future version. Use pandas.concat instead.\n",
      "  df_eeg_features = df_eeg_features.append(eeg_band_fft, ignore_index=True)\n",
      "/tmp/ipykernel_18001/1951054575.py:54: FutureWarning: The frame.append method is deprecated and will be removed from pandas in a future version. Use pandas.concat instead.\n",
      "  df_eeg_features = df_eeg_features.append(eeg_band_fft, ignore_index=True)\n"
     ]
    },
    {
     "name": "stdout",
     "output_type": "stream",
     "text": [
      "Effective window size : 0.619 (s)\n",
      "Effective window size : 0.619 (s)\n",
      "Effective window size : 0.619 (s)\n",
      "Effective window size : 0.619 (s)\n",
      "Effective window size : 0.619 (s)\n",
      "Effective window size : 0.619 (s)\n"
     ]
    },
    {
     "name": "stderr",
     "output_type": "stream",
     "text": [
      "/tmp/ipykernel_18001/1951054575.py:54: FutureWarning: The frame.append method is deprecated and will be removed from pandas in a future version. Use pandas.concat instead.\n",
      "  df_eeg_features = df_eeg_features.append(eeg_band_fft, ignore_index=True)\n",
      "/tmp/ipykernel_18001/1951054575.py:54: FutureWarning: The frame.append method is deprecated and will be removed from pandas in a future version. Use pandas.concat instead.\n",
      "  df_eeg_features = df_eeg_features.append(eeg_band_fft, ignore_index=True)\n",
      "/tmp/ipykernel_18001/1951054575.py:54: FutureWarning: The frame.append method is deprecated and will be removed from pandas in a future version. Use pandas.concat instead.\n",
      "  df_eeg_features = df_eeg_features.append(eeg_band_fft, ignore_index=True)\n"
     ]
    },
    {
     "name": "stdout",
     "output_type": "stream",
     "text": [
      "Effective window size : 0.619 (s)\n",
      "Effective window size : 0.619 (s)\n",
      "Effective window size : 0.619 (s)\n",
      "Effective window size : 0.619 (s)\n",
      "Effective window size : 0.619 (s)\n",
      "Effective window size : 0.619 (s)\n"
     ]
    },
    {
     "name": "stderr",
     "output_type": "stream",
     "text": [
      "/tmp/ipykernel_18001/1951054575.py:54: FutureWarning: The frame.append method is deprecated and will be removed from pandas in a future version. Use pandas.concat instead.\n",
      "  df_eeg_features = df_eeg_features.append(eeg_band_fft, ignore_index=True)\n",
      "/tmp/ipykernel_18001/1951054575.py:54: FutureWarning: The frame.append method is deprecated and will be removed from pandas in a future version. Use pandas.concat instead.\n",
      "  df_eeg_features = df_eeg_features.append(eeg_band_fft, ignore_index=True)\n",
      "/tmp/ipykernel_18001/1951054575.py:54: FutureWarning: The frame.append method is deprecated and will be removed from pandas in a future version. Use pandas.concat instead.\n",
      "  df_eeg_features = df_eeg_features.append(eeg_band_fft, ignore_index=True)\n"
     ]
    },
    {
     "name": "stdout",
     "output_type": "stream",
     "text": [
      "Effective window size : 0.619 (s)\n",
      "Effective window size : 0.619 (s)\n",
      "Effective window size : 0.619 (s)\n",
      "Effective window size : 0.619 (s)\n",
      "Effective window size : 0.619 (s)\n",
      "Effective window size : 0.619 (s)\n"
     ]
    },
    {
     "name": "stderr",
     "output_type": "stream",
     "text": [
      "/tmp/ipykernel_18001/1951054575.py:54: FutureWarning: The frame.append method is deprecated and will be removed from pandas in a future version. Use pandas.concat instead.\n",
      "  df_eeg_features = df_eeg_features.append(eeg_band_fft, ignore_index=True)\n",
      "/tmp/ipykernel_18001/1951054575.py:54: FutureWarning: The frame.append method is deprecated and will be removed from pandas in a future version. Use pandas.concat instead.\n",
      "  df_eeg_features = df_eeg_features.append(eeg_band_fft, ignore_index=True)\n",
      "/tmp/ipykernel_18001/1951054575.py:54: FutureWarning: The frame.append method is deprecated and will be removed from pandas in a future version. Use pandas.concat instead.\n",
      "  df_eeg_features = df_eeg_features.append(eeg_band_fft, ignore_index=True)\n"
     ]
    },
    {
     "name": "stdout",
     "output_type": "stream",
     "text": [
      "Effective window size : 0.619 (s)\n",
      "Effective window size : 0.619 (s)\n",
      "Effective window size : 0.619 (s)\n",
      "Effective window size : 0.619 (s)\n",
      "Effective window size : 0.619 (s)\n",
      "Effective window size : 0.619 (s)\n"
     ]
    },
    {
     "name": "stderr",
     "output_type": "stream",
     "text": [
      "/tmp/ipykernel_18001/1951054575.py:54: FutureWarning: The frame.append method is deprecated and will be removed from pandas in a future version. Use pandas.concat instead.\n",
      "  df_eeg_features = df_eeg_features.append(eeg_band_fft, ignore_index=True)\n",
      "/tmp/ipykernel_18001/1951054575.py:54: FutureWarning: The frame.append method is deprecated and will be removed from pandas in a future version. Use pandas.concat instead.\n",
      "  df_eeg_features = df_eeg_features.append(eeg_band_fft, ignore_index=True)\n",
      "/tmp/ipykernel_18001/1951054575.py:54: FutureWarning: The frame.append method is deprecated and will be removed from pandas in a future version. Use pandas.concat instead.\n",
      "  df_eeg_features = df_eeg_features.append(eeg_band_fft, ignore_index=True)\n"
     ]
    },
    {
     "name": "stdout",
     "output_type": "stream",
     "text": [
      "Effective window size : 0.619 (s)\n",
      "Effective window size : 0.619 (s)\n",
      "Effective window size : 0.619 (s)\n",
      "Effective window size : 0.619 (s)\n",
      "Effective window size : 0.619 (s)\n",
      "Effective window size : 0.619 (s)\n"
     ]
    },
    {
     "name": "stderr",
     "output_type": "stream",
     "text": [
      "/tmp/ipykernel_18001/1951054575.py:54: FutureWarning: The frame.append method is deprecated and will be removed from pandas in a future version. Use pandas.concat instead.\n",
      "  df_eeg_features = df_eeg_features.append(eeg_band_fft, ignore_index=True)\n",
      "/tmp/ipykernel_18001/1951054575.py:54: FutureWarning: The frame.append method is deprecated and will be removed from pandas in a future version. Use pandas.concat instead.\n",
      "  df_eeg_features = df_eeg_features.append(eeg_band_fft, ignore_index=True)\n",
      "/tmp/ipykernel_18001/1951054575.py:54: FutureWarning: The frame.append method is deprecated and will be removed from pandas in a future version. Use pandas.concat instead.\n",
      "  df_eeg_features = df_eeg_features.append(eeg_band_fft, ignore_index=True)\n"
     ]
    },
    {
     "name": "stdout",
     "output_type": "stream",
     "text": [
      "Effective window size : 0.619 (s)\n",
      "Effective window size : 0.619 (s)\n",
      "Effective window size : 0.619 (s)\n",
      "Effective window size : 0.619 (s)\n",
      "Effective window size : 0.619 (s)\n",
      "Effective window size : 0.619 (s)\n"
     ]
    },
    {
     "name": "stderr",
     "output_type": "stream",
     "text": [
      "/tmp/ipykernel_18001/1951054575.py:54: FutureWarning: The frame.append method is deprecated and will be removed from pandas in a future version. Use pandas.concat instead.\n",
      "  df_eeg_features = df_eeg_features.append(eeg_band_fft, ignore_index=True)\n",
      "/tmp/ipykernel_18001/1951054575.py:54: FutureWarning: The frame.append method is deprecated and will be removed from pandas in a future version. Use pandas.concat instead.\n",
      "  df_eeg_features = df_eeg_features.append(eeg_band_fft, ignore_index=True)\n",
      "/tmp/ipykernel_18001/1951054575.py:54: FutureWarning: The frame.append method is deprecated and will be removed from pandas in a future version. Use pandas.concat instead.\n",
      "  df_eeg_features = df_eeg_features.append(eeg_band_fft, ignore_index=True)\n"
     ]
    },
    {
     "name": "stdout",
     "output_type": "stream",
     "text": [
      "Effective window size : 0.619 (s)\n",
      "Effective window size : 0.619 (s)\n",
      "Effective window size : 0.619 (s)\n",
      "Effective window size : 0.619 (s)\n",
      "Effective window size : 0.619 (s)\n",
      "Effective window size : 0.619 (s)\n"
     ]
    },
    {
     "name": "stderr",
     "output_type": "stream",
     "text": [
      "/tmp/ipykernel_18001/1951054575.py:54: FutureWarning: The frame.append method is deprecated and will be removed from pandas in a future version. Use pandas.concat instead.\n",
      "  df_eeg_features = df_eeg_features.append(eeg_band_fft, ignore_index=True)\n",
      "/tmp/ipykernel_18001/1951054575.py:54: FutureWarning: The frame.append method is deprecated and will be removed from pandas in a future version. Use pandas.concat instead.\n",
      "  df_eeg_features = df_eeg_features.append(eeg_band_fft, ignore_index=True)\n",
      "/tmp/ipykernel_18001/1951054575.py:54: FutureWarning: The frame.append method is deprecated and will be removed from pandas in a future version. Use pandas.concat instead.\n",
      "  df_eeg_features = df_eeg_features.append(eeg_band_fft, ignore_index=True)\n"
     ]
    },
    {
     "name": "stdout",
     "output_type": "stream",
     "text": [
      "Effective window size : 0.619 (s)\n",
      "Effective window size : 0.619 (s)\n",
      "Effective window size : 0.619 (s)\n",
      "Effective window size : 0.619 (s)\n",
      "Effective window size : 0.619 (s)\n",
      "Effective window size : 0.619 (s)\n"
     ]
    },
    {
     "name": "stderr",
     "output_type": "stream",
     "text": [
      "/tmp/ipykernel_18001/1951054575.py:54: FutureWarning: The frame.append method is deprecated and will be removed from pandas in a future version. Use pandas.concat instead.\n",
      "  df_eeg_features = df_eeg_features.append(eeg_band_fft, ignore_index=True)\n",
      "/tmp/ipykernel_18001/1951054575.py:54: FutureWarning: The frame.append method is deprecated and will be removed from pandas in a future version. Use pandas.concat instead.\n",
      "  df_eeg_features = df_eeg_features.append(eeg_band_fft, ignore_index=True)\n",
      "/tmp/ipykernel_18001/1951054575.py:54: FutureWarning: The frame.append method is deprecated and will be removed from pandas in a future version. Use pandas.concat instead.\n",
      "  df_eeg_features = df_eeg_features.append(eeg_band_fft, ignore_index=True)\n"
     ]
    },
    {
     "name": "stdout",
     "output_type": "stream",
     "text": [
      "Effective window size : 0.619 (s)\n",
      "Effective window size : 0.619 (s)\n",
      "Effective window size : 0.619 (s)\n",
      "Effective window size : 0.619 (s)\n",
      "Effective window size : 0.619 (s)\n",
      "Effective window size : 0.619 (s)\n"
     ]
    },
    {
     "name": "stderr",
     "output_type": "stream",
     "text": [
      "/tmp/ipykernel_18001/1951054575.py:54: FutureWarning: The frame.append method is deprecated and will be removed from pandas in a future version. Use pandas.concat instead.\n",
      "  df_eeg_features = df_eeg_features.append(eeg_band_fft, ignore_index=True)\n",
      "/tmp/ipykernel_18001/1951054575.py:54: FutureWarning: The frame.append method is deprecated and will be removed from pandas in a future version. Use pandas.concat instead.\n",
      "  df_eeg_features = df_eeg_features.append(eeg_band_fft, ignore_index=True)\n",
      "/tmp/ipykernel_18001/1951054575.py:54: FutureWarning: The frame.append method is deprecated and will be removed from pandas in a future version. Use pandas.concat instead.\n",
      "  df_eeg_features = df_eeg_features.append(eeg_band_fft, ignore_index=True)\n"
     ]
    },
    {
     "name": "stdout",
     "output_type": "stream",
     "text": [
      "Effective window size : 0.619 (s)\n",
      "Effective window size : 0.619 (s)\n",
      "Effective window size : 0.619 (s)\n",
      "Effective window size : 0.619 (s)\n",
      "Effective window size : 0.619 (s)\n",
      "Effective window size : 0.619 (s)\n"
     ]
    },
    {
     "name": "stderr",
     "output_type": "stream",
     "text": [
      "/tmp/ipykernel_18001/1951054575.py:54: FutureWarning: The frame.append method is deprecated and will be removed from pandas in a future version. Use pandas.concat instead.\n",
      "  df_eeg_features = df_eeg_features.append(eeg_band_fft, ignore_index=True)\n",
      "/tmp/ipykernel_18001/1951054575.py:54: FutureWarning: The frame.append method is deprecated and will be removed from pandas in a future version. Use pandas.concat instead.\n",
      "  df_eeg_features = df_eeg_features.append(eeg_band_fft, ignore_index=True)\n",
      "/tmp/ipykernel_18001/1951054575.py:54: FutureWarning: The frame.append method is deprecated and will be removed from pandas in a future version. Use pandas.concat instead.\n",
      "  df_eeg_features = df_eeg_features.append(eeg_band_fft, ignore_index=True)\n"
     ]
    },
    {
     "name": "stdout",
     "output_type": "stream",
     "text": [
      "Effective window size : 0.619 (s)\n",
      "Effective window size : 0.619 (s)\n",
      "Effective window size : 0.619 (s)\n",
      "Effective window size : 0.619 (s)\n",
      "Effective window size : 0.619 (s)\n",
      "Effective window size : 0.619 (s)\n"
     ]
    },
    {
     "name": "stderr",
     "output_type": "stream",
     "text": [
      "/tmp/ipykernel_18001/1951054575.py:54: FutureWarning: The frame.append method is deprecated and will be removed from pandas in a future version. Use pandas.concat instead.\n",
      "  df_eeg_features = df_eeg_features.append(eeg_band_fft, ignore_index=True)\n",
      "/tmp/ipykernel_18001/1951054575.py:54: FutureWarning: The frame.append method is deprecated and will be removed from pandas in a future version. Use pandas.concat instead.\n",
      "  df_eeg_features = df_eeg_features.append(eeg_band_fft, ignore_index=True)\n",
      "/tmp/ipykernel_18001/1951054575.py:54: FutureWarning: The frame.append method is deprecated and will be removed from pandas in a future version. Use pandas.concat instead.\n",
      "  df_eeg_features = df_eeg_features.append(eeg_band_fft, ignore_index=True)\n"
     ]
    },
    {
     "name": "stdout",
     "output_type": "stream",
     "text": [
      "Effective window size : 0.619 (s)\n",
      "Effective window size : 0.619 (s)\n",
      "Effective window size : 0.619 (s)\n",
      "Effective window size : 0.619 (s)\n",
      "Effective window size : 0.619 (s)\n",
      "Effective window size : 0.619 (s)\n"
     ]
    },
    {
     "name": "stderr",
     "output_type": "stream",
     "text": [
      "/tmp/ipykernel_18001/1951054575.py:54: FutureWarning: The frame.append method is deprecated and will be removed from pandas in a future version. Use pandas.concat instead.\n",
      "  df_eeg_features = df_eeg_features.append(eeg_band_fft, ignore_index=True)\n",
      "/tmp/ipykernel_18001/1951054575.py:54: FutureWarning: The frame.append method is deprecated and will be removed from pandas in a future version. Use pandas.concat instead.\n",
      "  df_eeg_features = df_eeg_features.append(eeg_band_fft, ignore_index=True)\n",
      "/tmp/ipykernel_18001/1951054575.py:54: FutureWarning: The frame.append method is deprecated and will be removed from pandas in a future version. Use pandas.concat instead.\n",
      "  df_eeg_features = df_eeg_features.append(eeg_band_fft, ignore_index=True)\n"
     ]
    },
    {
     "name": "stdout",
     "output_type": "stream",
     "text": [
      "Effective window size : 0.619 (s)\n",
      "Effective window size : 0.619 (s)\n",
      "Effective window size : 0.619 (s)\n",
      "Effective window size : 0.619 (s)\n",
      "Effective window size : 0.619 (s)\n"
     ]
    },
    {
     "name": "stderr",
     "output_type": "stream",
     "text": [
      "/tmp/ipykernel_18001/1951054575.py:54: FutureWarning: The frame.append method is deprecated and will be removed from pandas in a future version. Use pandas.concat instead.\n",
      "  df_eeg_features = df_eeg_features.append(eeg_band_fft, ignore_index=True)\n",
      "/tmp/ipykernel_18001/1951054575.py:54: FutureWarning: The frame.append method is deprecated and will be removed from pandas in a future version. Use pandas.concat instead.\n",
      "  df_eeg_features = df_eeg_features.append(eeg_band_fft, ignore_index=True)\n",
      "/tmp/ipykernel_18001/1951054575.py:54: FutureWarning: The frame.append method is deprecated and will be removed from pandas in a future version. Use pandas.concat instead.\n",
      "  df_eeg_features = df_eeg_features.append(eeg_band_fft, ignore_index=True)\n"
     ]
    },
    {
     "name": "stdout",
     "output_type": "stream",
     "text": [
      "Effective window size : 0.619 (s)\n",
      "Effective window size : 0.619 (s)\n",
      "Effective window size : 0.619 (s)\n",
      "Effective window size : 0.619 (s)\n",
      "Effective window size : 0.619 (s)\n"
     ]
    },
    {
     "name": "stderr",
     "output_type": "stream",
     "text": [
      "/tmp/ipykernel_18001/1951054575.py:54: FutureWarning: The frame.append method is deprecated and will be removed from pandas in a future version. Use pandas.concat instead.\n",
      "  df_eeg_features = df_eeg_features.append(eeg_band_fft, ignore_index=True)\n",
      "/tmp/ipykernel_18001/1951054575.py:54: FutureWarning: The frame.append method is deprecated and will be removed from pandas in a future version. Use pandas.concat instead.\n",
      "  df_eeg_features = df_eeg_features.append(eeg_band_fft, ignore_index=True)\n",
      "/tmp/ipykernel_18001/1951054575.py:54: FutureWarning: The frame.append method is deprecated and will be removed from pandas in a future version. Use pandas.concat instead.\n",
      "  df_eeg_features = df_eeg_features.append(eeg_band_fft, ignore_index=True)\n"
     ]
    },
    {
     "name": "stdout",
     "output_type": "stream",
     "text": [
      "Extracting EDF parameters from /home/vanilla_skies/mne_data/MNE-eegbci-data/files/eegmmidb/1.0.0/S016/S016R03.edf...\n",
      "EDF file detected\n",
      "Setting channel info structure...\n",
      "Creating raw.info structure...\n",
      "Reading 0 ... 19679  =      0.000 ...   122.994 secs...\n",
      "Extracting EDF parameters from /home/vanilla_skies/mne_data/MNE-eegbci-data/files/eegmmidb/1.0.0/S016/S016R07.edf...\n",
      "EDF file detected\n",
      "Setting channel info structure...\n",
      "Creating raw.info structure...\n",
      "Reading 0 ... 19679  =      0.000 ...   122.994 secs...\n",
      "Extracting EDF parameters from /home/vanilla_skies/mne_data/MNE-eegbci-data/files/eegmmidb/1.0.0/S016/S016R11.edf...\n",
      "EDF file detected\n",
      "Setting channel info structure...\n",
      "Creating raw.info structure...\n",
      "Reading 0 ... 19679  =      0.000 ...   122.994 secs...\n",
      "Used Annotations descriptions: ['T0', 'T1', 'T2']\n",
      "Filtering raw data in 3 contiguous segments\n",
      "Setting up band-pass filter from 7 - 30 Hz\n",
      "\n",
      "FIR filter parameters\n",
      "---------------------\n",
      "Designing a one-pass, zero-phase, non-causal bandpass filter:\n",
      "- Windowed time-domain design (firwin) method\n",
      "- Hamming window with 0.0194 passband ripple and 53 dB stopband attenuation\n",
      "- Lower passband edge: 7.00\n",
      "- Lower transition bandwidth: 2.00 Hz (-6 dB cutoff frequency: 6.00 Hz)\n",
      "- Upper passband edge: 30.00 Hz\n",
      "- Upper transition bandwidth: 7.50 Hz (-6 dB cutoff frequency: 33.75 Hz)\n",
      "- Filter length: 265 samples (1.656 sec)\n",
      "\n",
      "Not setting metadata\n",
      "45 matching events found\n",
      "No baseline correction applied\n",
      "0 projection items activated\n",
      "Using data from preloaded Raw for 45 events and 801 original time points ...\n",
      "0 bad epochs dropped\n",
      "Effective window size : 0.619 (s)\n",
      "Effective window size : 0.619 (s)\n",
      "Effective window size : 0.619 (s)\n",
      "Effective window size : 0.619 (s)\n",
      "Effective window size : 0.619 (s)\n",
      "Effective window size : 0.619 (s)\n",
      "Effective window size : 0.619 (s)\n",
      "Effective window size : 0.619 (s)\n"
     ]
    },
    {
     "name": "stderr",
     "output_type": "stream",
     "text": [
      "/tmp/ipykernel_18001/1951054575.py:54: FutureWarning: The frame.append method is deprecated and will be removed from pandas in a future version. Use pandas.concat instead.\n",
      "  df_eeg_features = df_eeg_features.append(eeg_band_fft, ignore_index=True)\n",
      "/tmp/ipykernel_18001/1951054575.py:54: FutureWarning: The frame.append method is deprecated and will be removed from pandas in a future version. Use pandas.concat instead.\n",
      "  df_eeg_features = df_eeg_features.append(eeg_band_fft, ignore_index=True)\n",
      "/tmp/ipykernel_18001/1951054575.py:54: FutureWarning: The frame.append method is deprecated and will be removed from pandas in a future version. Use pandas.concat instead.\n",
      "  df_eeg_features = df_eeg_features.append(eeg_band_fft, ignore_index=True)\n"
     ]
    },
    {
     "name": "stdout",
     "output_type": "stream",
     "text": [
      "Effective window size : 0.619 (s)\n",
      "Effective window size : 0.619 (s)\n",
      "Effective window size : 0.619 (s)\n",
      "Effective window size : 0.619 (s)\n",
      "Effective window size : 0.619 (s)\n",
      "Effective window size : 0.619 (s)\n"
     ]
    },
    {
     "name": "stderr",
     "output_type": "stream",
     "text": [
      "/tmp/ipykernel_18001/1951054575.py:54: FutureWarning: The frame.append method is deprecated and will be removed from pandas in a future version. Use pandas.concat instead.\n",
      "  df_eeg_features = df_eeg_features.append(eeg_band_fft, ignore_index=True)\n",
      "/tmp/ipykernel_18001/1951054575.py:54: FutureWarning: The frame.append method is deprecated and will be removed from pandas in a future version. Use pandas.concat instead.\n",
      "  df_eeg_features = df_eeg_features.append(eeg_band_fft, ignore_index=True)\n",
      "/tmp/ipykernel_18001/1951054575.py:54: FutureWarning: The frame.append method is deprecated and will be removed from pandas in a future version. Use pandas.concat instead.\n",
      "  df_eeg_features = df_eeg_features.append(eeg_band_fft, ignore_index=True)\n"
     ]
    },
    {
     "name": "stdout",
     "output_type": "stream",
     "text": [
      "Effective window size : 0.619 (s)\n",
      "Effective window size : 0.619 (s)\n",
      "Effective window size : 0.619 (s)\n",
      "Effective window size : 0.619 (s)\n",
      "Effective window size : 0.619 (s)\n",
      "Effective window size : 0.619 (s)\n"
     ]
    },
    {
     "name": "stderr",
     "output_type": "stream",
     "text": [
      "/tmp/ipykernel_18001/1951054575.py:54: FutureWarning: The frame.append method is deprecated and will be removed from pandas in a future version. Use pandas.concat instead.\n",
      "  df_eeg_features = df_eeg_features.append(eeg_band_fft, ignore_index=True)\n",
      "/tmp/ipykernel_18001/1951054575.py:54: FutureWarning: The frame.append method is deprecated and will be removed from pandas in a future version. Use pandas.concat instead.\n",
      "  df_eeg_features = df_eeg_features.append(eeg_band_fft, ignore_index=True)\n",
      "/tmp/ipykernel_18001/1951054575.py:54: FutureWarning: The frame.append method is deprecated and will be removed from pandas in a future version. Use pandas.concat instead.\n",
      "  df_eeg_features = df_eeg_features.append(eeg_band_fft, ignore_index=True)\n"
     ]
    },
    {
     "name": "stdout",
     "output_type": "stream",
     "text": [
      "Effective window size : 0.619 (s)\n",
      "Effective window size : 0.619 (s)\n",
      "Effective window size : 0.619 (s)\n",
      "Effective window size : 0.619 (s)\n",
      "Effective window size : 0.619 (s)\n",
      "Effective window size : 0.619 (s)\n"
     ]
    },
    {
     "name": "stderr",
     "output_type": "stream",
     "text": [
      "/tmp/ipykernel_18001/1951054575.py:54: FutureWarning: The frame.append method is deprecated and will be removed from pandas in a future version. Use pandas.concat instead.\n",
      "  df_eeg_features = df_eeg_features.append(eeg_band_fft, ignore_index=True)\n",
      "/tmp/ipykernel_18001/1951054575.py:54: FutureWarning: The frame.append method is deprecated and will be removed from pandas in a future version. Use pandas.concat instead.\n",
      "  df_eeg_features = df_eeg_features.append(eeg_band_fft, ignore_index=True)\n",
      "/tmp/ipykernel_18001/1951054575.py:54: FutureWarning: The frame.append method is deprecated and will be removed from pandas in a future version. Use pandas.concat instead.\n",
      "  df_eeg_features = df_eeg_features.append(eeg_band_fft, ignore_index=True)\n"
     ]
    },
    {
     "name": "stdout",
     "output_type": "stream",
     "text": [
      "Effective window size : 0.619 (s)\n",
      "Effective window size : 0.619 (s)\n",
      "Effective window size : 0.619 (s)\n",
      "Effective window size : 0.619 (s)\n",
      "Effective window size : 0.619 (s)\n",
      "Effective window size : 0.619 (s)\n"
     ]
    },
    {
     "name": "stderr",
     "output_type": "stream",
     "text": [
      "/tmp/ipykernel_18001/1951054575.py:54: FutureWarning: The frame.append method is deprecated and will be removed from pandas in a future version. Use pandas.concat instead.\n",
      "  df_eeg_features = df_eeg_features.append(eeg_band_fft, ignore_index=True)\n",
      "/tmp/ipykernel_18001/1951054575.py:54: FutureWarning: The frame.append method is deprecated and will be removed from pandas in a future version. Use pandas.concat instead.\n",
      "  df_eeg_features = df_eeg_features.append(eeg_band_fft, ignore_index=True)\n",
      "/tmp/ipykernel_18001/1951054575.py:54: FutureWarning: The frame.append method is deprecated and will be removed from pandas in a future version. Use pandas.concat instead.\n",
      "  df_eeg_features = df_eeg_features.append(eeg_band_fft, ignore_index=True)\n"
     ]
    },
    {
     "name": "stdout",
     "output_type": "stream",
     "text": [
      "Effective window size : 0.619 (s)\n",
      "Effective window size : 0.619 (s)\n",
      "Effective window size : 0.619 (s)\n",
      "Effective window size : 0.619 (s)\n",
      "Effective window size : 0.619 (s)\n",
      "Effective window size : 0.619 (s)\n"
     ]
    },
    {
     "name": "stderr",
     "output_type": "stream",
     "text": [
      "/tmp/ipykernel_18001/1951054575.py:54: FutureWarning: The frame.append method is deprecated and will be removed from pandas in a future version. Use pandas.concat instead.\n",
      "  df_eeg_features = df_eeg_features.append(eeg_band_fft, ignore_index=True)\n",
      "/tmp/ipykernel_18001/1951054575.py:54: FutureWarning: The frame.append method is deprecated and will be removed from pandas in a future version. Use pandas.concat instead.\n",
      "  df_eeg_features = df_eeg_features.append(eeg_band_fft, ignore_index=True)\n",
      "/tmp/ipykernel_18001/1951054575.py:54: FutureWarning: The frame.append method is deprecated and will be removed from pandas in a future version. Use pandas.concat instead.\n",
      "  df_eeg_features = df_eeg_features.append(eeg_band_fft, ignore_index=True)\n"
     ]
    },
    {
     "name": "stdout",
     "output_type": "stream",
     "text": [
      "Effective window size : 0.619 (s)\n",
      "Effective window size : 0.619 (s)\n",
      "Effective window size : 0.619 (s)\n",
      "Effective window size : 0.619 (s)\n",
      "Effective window size : 0.619 (s)\n",
      "Effective window size : 0.619 (s)\n"
     ]
    },
    {
     "name": "stderr",
     "output_type": "stream",
     "text": [
      "/tmp/ipykernel_18001/1951054575.py:54: FutureWarning: The frame.append method is deprecated and will be removed from pandas in a future version. Use pandas.concat instead.\n",
      "  df_eeg_features = df_eeg_features.append(eeg_band_fft, ignore_index=True)\n",
      "/tmp/ipykernel_18001/1951054575.py:54: FutureWarning: The frame.append method is deprecated and will be removed from pandas in a future version. Use pandas.concat instead.\n",
      "  df_eeg_features = df_eeg_features.append(eeg_band_fft, ignore_index=True)\n",
      "/tmp/ipykernel_18001/1951054575.py:54: FutureWarning: The frame.append method is deprecated and will be removed from pandas in a future version. Use pandas.concat instead.\n",
      "  df_eeg_features = df_eeg_features.append(eeg_band_fft, ignore_index=True)\n"
     ]
    },
    {
     "name": "stdout",
     "output_type": "stream",
     "text": [
      "Effective window size : 0.619 (s)\n",
      "Effective window size : 0.619 (s)\n",
      "Effective window size : 0.619 (s)\n",
      "Effective window size : 0.619 (s)\n",
      "Effective window size : 0.619 (s)\n"
     ]
    },
    {
     "name": "stderr",
     "output_type": "stream",
     "text": [
      "/tmp/ipykernel_18001/1951054575.py:54: FutureWarning: The frame.append method is deprecated and will be removed from pandas in a future version. Use pandas.concat instead.\n",
      "  df_eeg_features = df_eeg_features.append(eeg_band_fft, ignore_index=True)\n",
      "/tmp/ipykernel_18001/1951054575.py:54: FutureWarning: The frame.append method is deprecated and will be removed from pandas in a future version. Use pandas.concat instead.\n",
      "  df_eeg_features = df_eeg_features.append(eeg_band_fft, ignore_index=True)\n",
      "/tmp/ipykernel_18001/1951054575.py:54: FutureWarning: The frame.append method is deprecated and will be removed from pandas in a future version. Use pandas.concat instead.\n",
      "  df_eeg_features = df_eeg_features.append(eeg_band_fft, ignore_index=True)\n"
     ]
    },
    {
     "name": "stdout",
     "output_type": "stream",
     "text": [
      "Effective window size : 0.619 (s)\n",
      "Effective window size : 0.619 (s)\n",
      "Effective window size : 0.619 (s)\n",
      "Effective window size : 0.619 (s)\n",
      "Effective window size : 0.619 (s)\n",
      "Effective window size : 0.619 (s)\n",
      "Effective window size : 0.619 (s)\n"
     ]
    },
    {
     "name": "stderr",
     "output_type": "stream",
     "text": [
      "/tmp/ipykernel_18001/1951054575.py:54: FutureWarning: The frame.append method is deprecated and will be removed from pandas in a future version. Use pandas.concat instead.\n",
      "  df_eeg_features = df_eeg_features.append(eeg_band_fft, ignore_index=True)\n",
      "/tmp/ipykernel_18001/1951054575.py:54: FutureWarning: The frame.append method is deprecated and will be removed from pandas in a future version. Use pandas.concat instead.\n",
      "  df_eeg_features = df_eeg_features.append(eeg_band_fft, ignore_index=True)\n",
      "/tmp/ipykernel_18001/1951054575.py:54: FutureWarning: The frame.append method is deprecated and will be removed from pandas in a future version. Use pandas.concat instead.\n",
      "  df_eeg_features = df_eeg_features.append(eeg_band_fft, ignore_index=True)\n"
     ]
    },
    {
     "name": "stdout",
     "output_type": "stream",
     "text": [
      "Effective window size : 0.619 (s)\n",
      "Effective window size : 0.619 (s)\n",
      "Effective window size : 0.619 (s)\n",
      "Effective window size : 0.619 (s)\n",
      "Effective window size : 0.619 (s)\n",
      "Effective window size : 0.619 (s)\n"
     ]
    },
    {
     "name": "stderr",
     "output_type": "stream",
     "text": [
      "/tmp/ipykernel_18001/1951054575.py:54: FutureWarning: The frame.append method is deprecated and will be removed from pandas in a future version. Use pandas.concat instead.\n",
      "  df_eeg_features = df_eeg_features.append(eeg_band_fft, ignore_index=True)\n",
      "/tmp/ipykernel_18001/1951054575.py:54: FutureWarning: The frame.append method is deprecated and will be removed from pandas in a future version. Use pandas.concat instead.\n",
      "  df_eeg_features = df_eeg_features.append(eeg_band_fft, ignore_index=True)\n",
      "/tmp/ipykernel_18001/1951054575.py:54: FutureWarning: The frame.append method is deprecated and will be removed from pandas in a future version. Use pandas.concat instead.\n",
      "  df_eeg_features = df_eeg_features.append(eeg_band_fft, ignore_index=True)\n"
     ]
    },
    {
     "name": "stdout",
     "output_type": "stream",
     "text": [
      "Effective window size : 0.619 (s)\n",
      "Effective window size : 0.619 (s)\n",
      "Effective window size : 0.619 (s)\n",
      "Effective window size : 0.619 (s)\n",
      "Effective window size : 0.619 (s)\n",
      "Effective window size : 0.619 (s)\n"
     ]
    },
    {
     "name": "stderr",
     "output_type": "stream",
     "text": [
      "/tmp/ipykernel_18001/1951054575.py:54: FutureWarning: The frame.append method is deprecated and will be removed from pandas in a future version. Use pandas.concat instead.\n",
      "  df_eeg_features = df_eeg_features.append(eeg_band_fft, ignore_index=True)\n",
      "/tmp/ipykernel_18001/1951054575.py:54: FutureWarning: The frame.append method is deprecated and will be removed from pandas in a future version. Use pandas.concat instead.\n",
      "  df_eeg_features = df_eeg_features.append(eeg_band_fft, ignore_index=True)\n",
      "/tmp/ipykernel_18001/1951054575.py:54: FutureWarning: The frame.append method is deprecated and will be removed from pandas in a future version. Use pandas.concat instead.\n",
      "  df_eeg_features = df_eeg_features.append(eeg_band_fft, ignore_index=True)\n"
     ]
    },
    {
     "name": "stdout",
     "output_type": "stream",
     "text": [
      "Effective window size : 0.619 (s)\n",
      "Effective window size : 0.619 (s)\n",
      "Effective window size : 0.619 (s)\n",
      "Effective window size : 0.619 (s)\n",
      "Effective window size : 0.619 (s)\n",
      "Effective window size : 0.619 (s)\n"
     ]
    },
    {
     "name": "stderr",
     "output_type": "stream",
     "text": [
      "/tmp/ipykernel_18001/1951054575.py:54: FutureWarning: The frame.append method is deprecated and will be removed from pandas in a future version. Use pandas.concat instead.\n",
      "  df_eeg_features = df_eeg_features.append(eeg_band_fft, ignore_index=True)\n",
      "/tmp/ipykernel_18001/1951054575.py:54: FutureWarning: The frame.append method is deprecated and will be removed from pandas in a future version. Use pandas.concat instead.\n",
      "  df_eeg_features = df_eeg_features.append(eeg_band_fft, ignore_index=True)\n",
      "/tmp/ipykernel_18001/1951054575.py:54: FutureWarning: The frame.append method is deprecated and will be removed from pandas in a future version. Use pandas.concat instead.\n",
      "  df_eeg_features = df_eeg_features.append(eeg_band_fft, ignore_index=True)\n"
     ]
    },
    {
     "name": "stdout",
     "output_type": "stream",
     "text": [
      "Effective window size : 0.619 (s)\n",
      "Effective window size : 0.619 (s)\n",
      "Effective window size : 0.619 (s)\n",
      "Effective window size : 0.619 (s)\n",
      "Effective window size : 0.619 (s)\n",
      "Effective window size : 0.619 (s)\n"
     ]
    },
    {
     "name": "stderr",
     "output_type": "stream",
     "text": [
      "/tmp/ipykernel_18001/1951054575.py:54: FutureWarning: The frame.append method is deprecated and will be removed from pandas in a future version. Use pandas.concat instead.\n",
      "  df_eeg_features = df_eeg_features.append(eeg_band_fft, ignore_index=True)\n",
      "/tmp/ipykernel_18001/1951054575.py:54: FutureWarning: The frame.append method is deprecated and will be removed from pandas in a future version. Use pandas.concat instead.\n",
      "  df_eeg_features = df_eeg_features.append(eeg_band_fft, ignore_index=True)\n",
      "/tmp/ipykernel_18001/1951054575.py:54: FutureWarning: The frame.append method is deprecated and will be removed from pandas in a future version. Use pandas.concat instead.\n",
      "  df_eeg_features = df_eeg_features.append(eeg_band_fft, ignore_index=True)\n"
     ]
    },
    {
     "name": "stdout",
     "output_type": "stream",
     "text": [
      "Effective window size : 0.619 (s)\n",
      "Effective window size : 0.619 (s)\n",
      "Effective window size : 0.619 (s)\n",
      "Effective window size : 0.619 (s)\n",
      "Effective window size : 0.619 (s)\n",
      "Effective window size : 0.619 (s)\n"
     ]
    },
    {
     "name": "stderr",
     "output_type": "stream",
     "text": [
      "/tmp/ipykernel_18001/1951054575.py:54: FutureWarning: The frame.append method is deprecated and will be removed from pandas in a future version. Use pandas.concat instead.\n",
      "  df_eeg_features = df_eeg_features.append(eeg_band_fft, ignore_index=True)\n",
      "/tmp/ipykernel_18001/1951054575.py:54: FutureWarning: The frame.append method is deprecated and will be removed from pandas in a future version. Use pandas.concat instead.\n",
      "  df_eeg_features = df_eeg_features.append(eeg_band_fft, ignore_index=True)\n",
      "/tmp/ipykernel_18001/1951054575.py:54: FutureWarning: The frame.append method is deprecated and will be removed from pandas in a future version. Use pandas.concat instead.\n",
      "  df_eeg_features = df_eeg_features.append(eeg_band_fft, ignore_index=True)\n"
     ]
    },
    {
     "name": "stdout",
     "output_type": "stream",
     "text": [
      "Effective window size : 0.619 (s)\n",
      "Effective window size : 0.619 (s)\n",
      "Effective window size : 0.619 (s)\n",
      "Effective window size : 0.619 (s)\n"
     ]
    },
    {
     "name": "stderr",
     "output_type": "stream",
     "text": [
      "/tmp/ipykernel_18001/1951054575.py:54: FutureWarning: The frame.append method is deprecated and will be removed from pandas in a future version. Use pandas.concat instead.\n",
      "  df_eeg_features = df_eeg_features.append(eeg_band_fft, ignore_index=True)\n",
      "/tmp/ipykernel_18001/1951054575.py:54: FutureWarning: The frame.append method is deprecated and will be removed from pandas in a future version. Use pandas.concat instead.\n",
      "  df_eeg_features = df_eeg_features.append(eeg_band_fft, ignore_index=True)\n",
      "/tmp/ipykernel_18001/1951054575.py:54: FutureWarning: The frame.append method is deprecated and will be removed from pandas in a future version. Use pandas.concat instead.\n",
      "  df_eeg_features = df_eeg_features.append(eeg_band_fft, ignore_index=True)\n"
     ]
    },
    {
     "name": "stdout",
     "output_type": "stream",
     "text": [
      "Extracting EDF parameters from /home/vanilla_skies/mne_data/MNE-eegbci-data/files/eegmmidb/1.0.0/S017/S017R03.edf...\n",
      "EDF file detected\n",
      "Setting channel info structure...\n",
      "Creating raw.info structure...\n",
      "Reading 0 ... 19679  =      0.000 ...   122.994 secs...\n",
      "Extracting EDF parameters from /home/vanilla_skies/mne_data/MNE-eegbci-data/files/eegmmidb/1.0.0/S017/S017R07.edf...\n",
      "EDF file detected\n",
      "Setting channel info structure...\n",
      "Creating raw.info structure...\n",
      "Reading 0 ... 19679  =      0.000 ...   122.994 secs...\n",
      "Extracting EDF parameters from /home/vanilla_skies/mne_data/MNE-eegbci-data/files/eegmmidb/1.0.0/S017/S017R11.edf...\n",
      "EDF file detected\n",
      "Setting channel info structure...\n",
      "Creating raw.info structure...\n",
      "Reading 0 ... 19679  =      0.000 ...   122.994 secs...\n",
      "Used Annotations descriptions: ['T0', 'T1', 'T2']\n",
      "Filtering raw data in 3 contiguous segments\n",
      "Setting up band-pass filter from 7 - 30 Hz\n",
      "\n",
      "FIR filter parameters\n",
      "---------------------\n",
      "Designing a one-pass, zero-phase, non-causal bandpass filter:\n",
      "- Windowed time-domain design (firwin) method\n",
      "- Hamming window with 0.0194 passband ripple and 53 dB stopband attenuation\n",
      "- Lower passband edge: 7.00\n",
      "- Lower transition bandwidth: 2.00 Hz (-6 dB cutoff frequency: 6.00 Hz)\n",
      "- Upper passband edge: 30.00 Hz\n",
      "- Upper transition bandwidth: 7.50 Hz (-6 dB cutoff frequency: 33.75 Hz)\n",
      "- Filter length: 265 samples (1.656 sec)\n",
      "\n",
      "Not setting metadata\n",
      "45 matching events found\n",
      "No baseline correction applied\n",
      "0 projection items activated\n",
      "Using data from preloaded Raw for 45 events and 801 original time points ...\n",
      "0 bad epochs dropped\n",
      "Effective window size : 0.619 (s)\n",
      "Effective window size : 0.619 (s)\n",
      "Effective window size : 0.619 (s)\n",
      "Effective window size : 0.619 (s)\n",
      "Effective window size : 0.619 (s)\n",
      "Effective window size : 0.619 (s)\n"
     ]
    },
    {
     "name": "stderr",
     "output_type": "stream",
     "text": [
      "/tmp/ipykernel_18001/1951054575.py:54: FutureWarning: The frame.append method is deprecated and will be removed from pandas in a future version. Use pandas.concat instead.\n",
      "  df_eeg_features = df_eeg_features.append(eeg_band_fft, ignore_index=True)\n",
      "/tmp/ipykernel_18001/1951054575.py:54: FutureWarning: The frame.append method is deprecated and will be removed from pandas in a future version. Use pandas.concat instead.\n",
      "  df_eeg_features = df_eeg_features.append(eeg_band_fft, ignore_index=True)\n"
     ]
    },
    {
     "name": "stdout",
     "output_type": "stream",
     "text": [
      "Effective window size : 0.619 (s)\n",
      "Effective window size : 0.619 (s)\n",
      "Effective window size : 0.619 (s)\n",
      "Effective window size : 0.619 (s)\n",
      "Effective window size : 0.619 (s)\n",
      "Effective window size : 0.619 (s)\n"
     ]
    },
    {
     "name": "stderr",
     "output_type": "stream",
     "text": [
      "/tmp/ipykernel_18001/1951054575.py:54: FutureWarning: The frame.append method is deprecated and will be removed from pandas in a future version. Use pandas.concat instead.\n",
      "  df_eeg_features = df_eeg_features.append(eeg_band_fft, ignore_index=True)\n",
      "/tmp/ipykernel_18001/1951054575.py:54: FutureWarning: The frame.append method is deprecated and will be removed from pandas in a future version. Use pandas.concat instead.\n",
      "  df_eeg_features = df_eeg_features.append(eeg_band_fft, ignore_index=True)\n",
      "/tmp/ipykernel_18001/1951054575.py:54: FutureWarning: The frame.append method is deprecated and will be removed from pandas in a future version. Use pandas.concat instead.\n",
      "  df_eeg_features = df_eeg_features.append(eeg_band_fft, ignore_index=True)\n"
     ]
    },
    {
     "name": "stdout",
     "output_type": "stream",
     "text": [
      "Effective window size : 0.619 (s)\n",
      "Effective window size : 0.619 (s)\n",
      "Effective window size : 0.619 (s)\n",
      "Effective window size : 0.619 (s)\n",
      "Effective window size : 0.619 (s)\n",
      "Effective window size : 0.619 (s)\n"
     ]
    },
    {
     "name": "stderr",
     "output_type": "stream",
     "text": [
      "/tmp/ipykernel_18001/1951054575.py:54: FutureWarning: The frame.append method is deprecated and will be removed from pandas in a future version. Use pandas.concat instead.\n",
      "  df_eeg_features = df_eeg_features.append(eeg_band_fft, ignore_index=True)\n",
      "/tmp/ipykernel_18001/1951054575.py:54: FutureWarning: The frame.append method is deprecated and will be removed from pandas in a future version. Use pandas.concat instead.\n",
      "  df_eeg_features = df_eeg_features.append(eeg_band_fft, ignore_index=True)\n",
      "/tmp/ipykernel_18001/1951054575.py:54: FutureWarning: The frame.append method is deprecated and will be removed from pandas in a future version. Use pandas.concat instead.\n",
      "  df_eeg_features = df_eeg_features.append(eeg_band_fft, ignore_index=True)\n"
     ]
    },
    {
     "name": "stdout",
     "output_type": "stream",
     "text": [
      "Effective window size : 0.619 (s)\n",
      "Effective window size : 0.619 (s)\n",
      "Effective window size : 0.619 (s)\n",
      "Effective window size : 0.619 (s)\n",
      "Effective window size : 0.619 (s)\n",
      "Effective window size : 0.619 (s)\n"
     ]
    },
    {
     "name": "stderr",
     "output_type": "stream",
     "text": [
      "/tmp/ipykernel_18001/1951054575.py:54: FutureWarning: The frame.append method is deprecated and will be removed from pandas in a future version. Use pandas.concat instead.\n",
      "  df_eeg_features = df_eeg_features.append(eeg_band_fft, ignore_index=True)\n",
      "/tmp/ipykernel_18001/1951054575.py:54: FutureWarning: The frame.append method is deprecated and will be removed from pandas in a future version. Use pandas.concat instead.\n",
      "  df_eeg_features = df_eeg_features.append(eeg_band_fft, ignore_index=True)\n",
      "/tmp/ipykernel_18001/1951054575.py:54: FutureWarning: The frame.append method is deprecated and will be removed from pandas in a future version. Use pandas.concat instead.\n",
      "  df_eeg_features = df_eeg_features.append(eeg_band_fft, ignore_index=True)\n"
     ]
    },
    {
     "name": "stdout",
     "output_type": "stream",
     "text": [
      "Effective window size : 0.619 (s)\n",
      "Effective window size : 0.619 (s)\n",
      "Effective window size : 0.619 (s)\n",
      "Effective window size : 0.619 (s)\n",
      "Effective window size : 0.619 (s)\n",
      "Effective window size : 0.619 (s)\n"
     ]
    },
    {
     "name": "stderr",
     "output_type": "stream",
     "text": [
      "/tmp/ipykernel_18001/1951054575.py:54: FutureWarning: The frame.append method is deprecated and will be removed from pandas in a future version. Use pandas.concat instead.\n",
      "  df_eeg_features = df_eeg_features.append(eeg_band_fft, ignore_index=True)\n",
      "/tmp/ipykernel_18001/1951054575.py:54: FutureWarning: The frame.append method is deprecated and will be removed from pandas in a future version. Use pandas.concat instead.\n",
      "  df_eeg_features = df_eeg_features.append(eeg_band_fft, ignore_index=True)\n",
      "/tmp/ipykernel_18001/1951054575.py:54: FutureWarning: The frame.append method is deprecated and will be removed from pandas in a future version. Use pandas.concat instead.\n",
      "  df_eeg_features = df_eeg_features.append(eeg_band_fft, ignore_index=True)\n"
     ]
    },
    {
     "name": "stdout",
     "output_type": "stream",
     "text": [
      "Effective window size : 0.619 (s)\n",
      "Effective window size : 0.619 (s)\n",
      "Effective window size : 0.619 (s)\n",
      "Effective window size : 0.619 (s)\n",
      "Effective window size : 0.619 (s)\n",
      "Effective window size : 0.619 (s)\n"
     ]
    },
    {
     "name": "stderr",
     "output_type": "stream",
     "text": [
      "/tmp/ipykernel_18001/1951054575.py:54: FutureWarning: The frame.append method is deprecated and will be removed from pandas in a future version. Use pandas.concat instead.\n",
      "  df_eeg_features = df_eeg_features.append(eeg_band_fft, ignore_index=True)\n",
      "/tmp/ipykernel_18001/1951054575.py:54: FutureWarning: The frame.append method is deprecated and will be removed from pandas in a future version. Use pandas.concat instead.\n",
      "  df_eeg_features = df_eeg_features.append(eeg_band_fft, ignore_index=True)\n",
      "/tmp/ipykernel_18001/1951054575.py:54: FutureWarning: The frame.append method is deprecated and will be removed from pandas in a future version. Use pandas.concat instead.\n",
      "  df_eeg_features = df_eeg_features.append(eeg_band_fft, ignore_index=True)\n"
     ]
    },
    {
     "name": "stdout",
     "output_type": "stream",
     "text": [
      "Effective window size : 0.619 (s)\n",
      "Effective window size : 0.619 (s)\n",
      "Effective window size : 0.619 (s)\n",
      "Effective window size : 0.619 (s)\n",
      "Effective window size : 0.619 (s)\n",
      "Effective window size : 0.619 (s)\n"
     ]
    },
    {
     "name": "stderr",
     "output_type": "stream",
     "text": [
      "/tmp/ipykernel_18001/1951054575.py:54: FutureWarning: The frame.append method is deprecated and will be removed from pandas in a future version. Use pandas.concat instead.\n",
      "  df_eeg_features = df_eeg_features.append(eeg_band_fft, ignore_index=True)\n",
      "/tmp/ipykernel_18001/1951054575.py:54: FutureWarning: The frame.append method is deprecated and will be removed from pandas in a future version. Use pandas.concat instead.\n",
      "  df_eeg_features = df_eeg_features.append(eeg_band_fft, ignore_index=True)\n",
      "/tmp/ipykernel_18001/1951054575.py:54: FutureWarning: The frame.append method is deprecated and will be removed from pandas in a future version. Use pandas.concat instead.\n",
      "  df_eeg_features = df_eeg_features.append(eeg_band_fft, ignore_index=True)\n"
     ]
    },
    {
     "name": "stdout",
     "output_type": "stream",
     "text": [
      "Effective window size : 0.619 (s)\n",
      "Effective window size : 0.619 (s)\n",
      "Effective window size : 0.619 (s)\n",
      "Effective window size : 0.619 (s)\n",
      "Effective window size : 0.619 (s)\n",
      "Effective window size : 0.619 (s)\n"
     ]
    },
    {
     "name": "stderr",
     "output_type": "stream",
     "text": [
      "/tmp/ipykernel_18001/1951054575.py:54: FutureWarning: The frame.append method is deprecated and will be removed from pandas in a future version. Use pandas.concat instead.\n",
      "  df_eeg_features = df_eeg_features.append(eeg_band_fft, ignore_index=True)\n",
      "/tmp/ipykernel_18001/1951054575.py:54: FutureWarning: The frame.append method is deprecated and will be removed from pandas in a future version. Use pandas.concat instead.\n",
      "  df_eeg_features = df_eeg_features.append(eeg_band_fft, ignore_index=True)\n",
      "/tmp/ipykernel_18001/1951054575.py:54: FutureWarning: The frame.append method is deprecated and will be removed from pandas in a future version. Use pandas.concat instead.\n",
      "  df_eeg_features = df_eeg_features.append(eeg_band_fft, ignore_index=True)\n"
     ]
    },
    {
     "name": "stdout",
     "output_type": "stream",
     "text": [
      "Effective window size : 0.619 (s)\n",
      "Effective window size : 0.619 (s)\n",
      "Effective window size : 0.619 (s)\n",
      "Effective window size : 0.619 (s)\n",
      "Effective window size : 0.619 (s)\n",
      "Effective window size : 0.619 (s)\n"
     ]
    },
    {
     "name": "stderr",
     "output_type": "stream",
     "text": [
      "/tmp/ipykernel_18001/1951054575.py:54: FutureWarning: The frame.append method is deprecated and will be removed from pandas in a future version. Use pandas.concat instead.\n",
      "  df_eeg_features = df_eeg_features.append(eeg_band_fft, ignore_index=True)\n",
      "/tmp/ipykernel_18001/1951054575.py:54: FutureWarning: The frame.append method is deprecated and will be removed from pandas in a future version. Use pandas.concat instead.\n",
      "  df_eeg_features = df_eeg_features.append(eeg_band_fft, ignore_index=True)\n",
      "/tmp/ipykernel_18001/1951054575.py:54: FutureWarning: The frame.append method is deprecated and will be removed from pandas in a future version. Use pandas.concat instead.\n",
      "  df_eeg_features = df_eeg_features.append(eeg_band_fft, ignore_index=True)\n"
     ]
    },
    {
     "name": "stdout",
     "output_type": "stream",
     "text": [
      "Effective window size : 0.619 (s)\n",
      "Effective window size : 0.619 (s)\n",
      "Effective window size : 0.619 (s)\n",
      "Effective window size : 0.619 (s)\n",
      "Effective window size : 0.619 (s)\n",
      "Effective window size : 0.619 (s)\n"
     ]
    },
    {
     "name": "stderr",
     "output_type": "stream",
     "text": [
      "/tmp/ipykernel_18001/1951054575.py:54: FutureWarning: The frame.append method is deprecated and will be removed from pandas in a future version. Use pandas.concat instead.\n",
      "  df_eeg_features = df_eeg_features.append(eeg_band_fft, ignore_index=True)\n",
      "/tmp/ipykernel_18001/1951054575.py:54: FutureWarning: The frame.append method is deprecated and will be removed from pandas in a future version. Use pandas.concat instead.\n",
      "  df_eeg_features = df_eeg_features.append(eeg_band_fft, ignore_index=True)\n",
      "/tmp/ipykernel_18001/1951054575.py:54: FutureWarning: The frame.append method is deprecated and will be removed from pandas in a future version. Use pandas.concat instead.\n",
      "  df_eeg_features = df_eeg_features.append(eeg_band_fft, ignore_index=True)\n"
     ]
    },
    {
     "name": "stdout",
     "output_type": "stream",
     "text": [
      "Effective window size : 0.619 (s)\n",
      "Effective window size : 0.619 (s)\n",
      "Effective window size : 0.619 (s)\n",
      "Effective window size : 0.619 (s)\n",
      "Effective window size : 0.619 (s)\n",
      "Effective window size : 0.619 (s)\n"
     ]
    },
    {
     "name": "stderr",
     "output_type": "stream",
     "text": [
      "/tmp/ipykernel_18001/1951054575.py:54: FutureWarning: The frame.append method is deprecated and will be removed from pandas in a future version. Use pandas.concat instead.\n",
      "  df_eeg_features = df_eeg_features.append(eeg_band_fft, ignore_index=True)\n",
      "/tmp/ipykernel_18001/1951054575.py:54: FutureWarning: The frame.append method is deprecated and will be removed from pandas in a future version. Use pandas.concat instead.\n",
      "  df_eeg_features = df_eeg_features.append(eeg_band_fft, ignore_index=True)\n",
      "/tmp/ipykernel_18001/1951054575.py:54: FutureWarning: The frame.append method is deprecated and will be removed from pandas in a future version. Use pandas.concat instead.\n",
      "  df_eeg_features = df_eeg_features.append(eeg_band_fft, ignore_index=True)\n"
     ]
    },
    {
     "name": "stdout",
     "output_type": "stream",
     "text": [
      "Effective window size : 0.619 (s)\n",
      "Effective window size : 0.619 (s)\n",
      "Effective window size : 0.619 (s)\n",
      "Effective window size : 0.619 (s)\n",
      "Effective window size : 0.619 (s)\n",
      "Effective window size : 0.619 (s)\n"
     ]
    },
    {
     "name": "stderr",
     "output_type": "stream",
     "text": [
      "/tmp/ipykernel_18001/1951054575.py:54: FutureWarning: The frame.append method is deprecated and will be removed from pandas in a future version. Use pandas.concat instead.\n",
      "  df_eeg_features = df_eeg_features.append(eeg_band_fft, ignore_index=True)\n",
      "/tmp/ipykernel_18001/1951054575.py:54: FutureWarning: The frame.append method is deprecated and will be removed from pandas in a future version. Use pandas.concat instead.\n",
      "  df_eeg_features = df_eeg_features.append(eeg_band_fft, ignore_index=True)\n",
      "/tmp/ipykernel_18001/1951054575.py:54: FutureWarning: The frame.append method is deprecated and will be removed from pandas in a future version. Use pandas.concat instead.\n",
      "  df_eeg_features = df_eeg_features.append(eeg_band_fft, ignore_index=True)\n"
     ]
    },
    {
     "name": "stdout",
     "output_type": "stream",
     "text": [
      "Effective window size : 0.619 (s)\n",
      "Effective window size : 0.619 (s)\n",
      "Effective window size : 0.619 (s)\n",
      "Effective window size : 0.619 (s)\n",
      "Effective window size : 0.619 (s)\n",
      "Effective window size : 0.619 (s)\n"
     ]
    },
    {
     "name": "stderr",
     "output_type": "stream",
     "text": [
      "/tmp/ipykernel_18001/1951054575.py:54: FutureWarning: The frame.append method is deprecated and will be removed from pandas in a future version. Use pandas.concat instead.\n",
      "  df_eeg_features = df_eeg_features.append(eeg_band_fft, ignore_index=True)\n",
      "/tmp/ipykernel_18001/1951054575.py:54: FutureWarning: The frame.append method is deprecated and will be removed from pandas in a future version. Use pandas.concat instead.\n",
      "  df_eeg_features = df_eeg_features.append(eeg_band_fft, ignore_index=True)\n",
      "/tmp/ipykernel_18001/1951054575.py:54: FutureWarning: The frame.append method is deprecated and will be removed from pandas in a future version. Use pandas.concat instead.\n",
      "  df_eeg_features = df_eeg_features.append(eeg_band_fft, ignore_index=True)\n"
     ]
    },
    {
     "name": "stdout",
     "output_type": "stream",
     "text": [
      "Effective window size : 0.619 (s)\n",
      "Effective window size : 0.619 (s)\n",
      "Effective window size : 0.619 (s)\n",
      "Effective window size : 0.619 (s)\n",
      "Effective window size : 0.619 (s)\n",
      "Effective window size : 0.619 (s)\n"
     ]
    },
    {
     "name": "stderr",
     "output_type": "stream",
     "text": [
      "/tmp/ipykernel_18001/1951054575.py:54: FutureWarning: The frame.append method is deprecated and will be removed from pandas in a future version. Use pandas.concat instead.\n",
      "  df_eeg_features = df_eeg_features.append(eeg_band_fft, ignore_index=True)\n",
      "/tmp/ipykernel_18001/1951054575.py:54: FutureWarning: The frame.append method is deprecated and will be removed from pandas in a future version. Use pandas.concat instead.\n",
      "  df_eeg_features = df_eeg_features.append(eeg_band_fft, ignore_index=True)\n",
      "/tmp/ipykernel_18001/1951054575.py:54: FutureWarning: The frame.append method is deprecated and will be removed from pandas in a future version. Use pandas.concat instead.\n",
      "  df_eeg_features = df_eeg_features.append(eeg_band_fft, ignore_index=True)\n"
     ]
    },
    {
     "name": "stdout",
     "output_type": "stream",
     "text": [
      "Effective window size : 0.619 (s)\n",
      "Effective window size : 0.619 (s)\n",
      "Effective window size : 0.619 (s)\n",
      "Effective window size : 0.619 (s)\n",
      "Effective window size : 0.619 (s)\n",
      "Effective window size : 0.619 (s)\n"
     ]
    },
    {
     "name": "stderr",
     "output_type": "stream",
     "text": [
      "/tmp/ipykernel_18001/1951054575.py:54: FutureWarning: The frame.append method is deprecated and will be removed from pandas in a future version. Use pandas.concat instead.\n",
      "  df_eeg_features = df_eeg_features.append(eeg_band_fft, ignore_index=True)\n",
      "/tmp/ipykernel_18001/1951054575.py:54: FutureWarning: The frame.append method is deprecated and will be removed from pandas in a future version. Use pandas.concat instead.\n",
      "  df_eeg_features = df_eeg_features.append(eeg_band_fft, ignore_index=True)\n",
      "/tmp/ipykernel_18001/1951054575.py:54: FutureWarning: The frame.append method is deprecated and will be removed from pandas in a future version. Use pandas.concat instead.\n",
      "  df_eeg_features = df_eeg_features.append(eeg_band_fft, ignore_index=True)\n"
     ]
    },
    {
     "name": "stdout",
     "output_type": "stream",
     "text": [
      "Extracting EDF parameters from /home/vanilla_skies/mne_data/MNE-eegbci-data/files/eegmmidb/1.0.0/S018/S018R03.edf...\n",
      "EDF file detected\n",
      "Setting channel info structure...\n",
      "Creating raw.info structure...\n",
      "Reading 0 ... 19679  =      0.000 ...   122.994 secs...\n",
      "Extracting EDF parameters from /home/vanilla_skies/mne_data/MNE-eegbci-data/files/eegmmidb/1.0.0/S018/S018R07.edf...\n",
      "EDF file detected\n",
      "Setting channel info structure...\n",
      "Creating raw.info structure...\n",
      "Reading 0 ... 19679  =      0.000 ...   122.994 secs...\n",
      "Extracting EDF parameters from /home/vanilla_skies/mne_data/MNE-eegbci-data/files/eegmmidb/1.0.0/S018/S018R11.edf...\n",
      "EDF file detected\n",
      "Setting channel info structure...\n",
      "Creating raw.info structure...\n",
      "Reading 0 ... 19679  =      0.000 ...   122.994 secs...\n"
     ]
    },
    {
     "name": "stderr",
     "output_type": "stream",
     "text": [
      "/tmp/ipykernel_18001/1951054575.py:54: FutureWarning: The frame.append method is deprecated and will be removed from pandas in a future version. Use pandas.concat instead.\n",
      "  df_eeg_features = df_eeg_features.append(eeg_band_fft, ignore_index=True)\n"
     ]
    },
    {
     "name": "stdout",
     "output_type": "stream",
     "text": [
      "Used Annotations descriptions: ['T0', 'T1', 'T2']\n",
      "Filtering raw data in 3 contiguous segments\n",
      "Setting up band-pass filter from 7 - 30 Hz\n",
      "\n",
      "FIR filter parameters\n",
      "---------------------\n",
      "Designing a one-pass, zero-phase, non-causal bandpass filter:\n",
      "- Windowed time-domain design (firwin) method\n",
      "- Hamming window with 0.0194 passband ripple and 53 dB stopband attenuation\n",
      "- Lower passband edge: 7.00\n",
      "- Lower transition bandwidth: 2.00 Hz (-6 dB cutoff frequency: 6.00 Hz)\n",
      "- Upper passband edge: 30.00 Hz\n",
      "- Upper transition bandwidth: 7.50 Hz (-6 dB cutoff frequency: 33.75 Hz)\n",
      "- Filter length: 265 samples (1.656 sec)\n",
      "\n",
      "Not setting metadata\n",
      "45 matching events found\n",
      "No baseline correction applied\n",
      "0 projection items activated\n",
      "Using data from preloaded Raw for 45 events and 801 original time points ...\n",
      "0 bad epochs dropped\n",
      "Effective window size : 0.619 (s)\n",
      "Effective window size : 0.619 (s)\n",
      "Effective window size : 0.619 (s)\n",
      "Effective window size : 0.619 (s)\n",
      "Effective window size : 0.619 (s)\n",
      "Effective window size : 0.619 (s)\n",
      "Effective window size : 0.619 (s)\n",
      "Effective window size : 0.619 (s)\n"
     ]
    },
    {
     "name": "stderr",
     "output_type": "stream",
     "text": [
      "/tmp/ipykernel_18001/1951054575.py:54: FutureWarning: The frame.append method is deprecated and will be removed from pandas in a future version. Use pandas.concat instead.\n",
      "  df_eeg_features = df_eeg_features.append(eeg_band_fft, ignore_index=True)\n",
      "/tmp/ipykernel_18001/1951054575.py:54: FutureWarning: The frame.append method is deprecated and will be removed from pandas in a future version. Use pandas.concat instead.\n",
      "  df_eeg_features = df_eeg_features.append(eeg_band_fft, ignore_index=True)\n",
      "/tmp/ipykernel_18001/1951054575.py:54: FutureWarning: The frame.append method is deprecated and will be removed from pandas in a future version. Use pandas.concat instead.\n",
      "  df_eeg_features = df_eeg_features.append(eeg_band_fft, ignore_index=True)\n"
     ]
    },
    {
     "name": "stdout",
     "output_type": "stream",
     "text": [
      "Effective window size : 0.619 (s)\n",
      "Effective window size : 0.619 (s)\n",
      "Effective window size : 0.619 (s)\n",
      "Effective window size : 0.619 (s)\n",
      "Effective window size : 0.619 (s)\n",
      "Effective window size : 0.619 (s)\n"
     ]
    },
    {
     "name": "stderr",
     "output_type": "stream",
     "text": [
      "/tmp/ipykernel_18001/1951054575.py:54: FutureWarning: The frame.append method is deprecated and will be removed from pandas in a future version. Use pandas.concat instead.\n",
      "  df_eeg_features = df_eeg_features.append(eeg_band_fft, ignore_index=True)\n",
      "/tmp/ipykernel_18001/1951054575.py:54: FutureWarning: The frame.append method is deprecated and will be removed from pandas in a future version. Use pandas.concat instead.\n",
      "  df_eeg_features = df_eeg_features.append(eeg_band_fft, ignore_index=True)\n",
      "/tmp/ipykernel_18001/1951054575.py:54: FutureWarning: The frame.append method is deprecated and will be removed from pandas in a future version. Use pandas.concat instead.\n",
      "  df_eeg_features = df_eeg_features.append(eeg_band_fft, ignore_index=True)\n"
     ]
    },
    {
     "name": "stdout",
     "output_type": "stream",
     "text": [
      "Effective window size : 0.619 (s)\n",
      "Effective window size : 0.619 (s)\n",
      "Effective window size : 0.619 (s)\n",
      "Effective window size : 0.619 (s)\n",
      "Effective window size : 0.619 (s)\n",
      "Effective window size : 0.619 (s)\n"
     ]
    },
    {
     "name": "stderr",
     "output_type": "stream",
     "text": [
      "/tmp/ipykernel_18001/1951054575.py:54: FutureWarning: The frame.append method is deprecated and will be removed from pandas in a future version. Use pandas.concat instead.\n",
      "  df_eeg_features = df_eeg_features.append(eeg_band_fft, ignore_index=True)\n",
      "/tmp/ipykernel_18001/1951054575.py:54: FutureWarning: The frame.append method is deprecated and will be removed from pandas in a future version. Use pandas.concat instead.\n",
      "  df_eeg_features = df_eeg_features.append(eeg_band_fft, ignore_index=True)\n",
      "/tmp/ipykernel_18001/1951054575.py:54: FutureWarning: The frame.append method is deprecated and will be removed from pandas in a future version. Use pandas.concat instead.\n",
      "  df_eeg_features = df_eeg_features.append(eeg_band_fft, ignore_index=True)\n"
     ]
    },
    {
     "name": "stdout",
     "output_type": "stream",
     "text": [
      "Effective window size : 0.619 (s)\n",
      "Effective window size : 0.619 (s)\n",
      "Effective window size : 0.619 (s)\n",
      "Effective window size : 0.619 (s)\n",
      "Effective window size : 0.619 (s)\n",
      "Effective window size : 0.619 (s)\n"
     ]
    },
    {
     "name": "stderr",
     "output_type": "stream",
     "text": [
      "/tmp/ipykernel_18001/1951054575.py:54: FutureWarning: The frame.append method is deprecated and will be removed from pandas in a future version. Use pandas.concat instead.\n",
      "  df_eeg_features = df_eeg_features.append(eeg_band_fft, ignore_index=True)\n",
      "/tmp/ipykernel_18001/1951054575.py:54: FutureWarning: The frame.append method is deprecated and will be removed from pandas in a future version. Use pandas.concat instead.\n",
      "  df_eeg_features = df_eeg_features.append(eeg_band_fft, ignore_index=True)\n",
      "/tmp/ipykernel_18001/1951054575.py:54: FutureWarning: The frame.append method is deprecated and will be removed from pandas in a future version. Use pandas.concat instead.\n",
      "  df_eeg_features = df_eeg_features.append(eeg_band_fft, ignore_index=True)\n"
     ]
    },
    {
     "name": "stdout",
     "output_type": "stream",
     "text": [
      "Effective window size : 0.619 (s)\n",
      "Effective window size : 0.619 (s)\n",
      "Effective window size : 0.619 (s)\n",
      "Effective window size : 0.619 (s)\n",
      "Effective window size : 0.619 (s)\n",
      "Effective window size : 0.619 (s)\n"
     ]
    },
    {
     "name": "stderr",
     "output_type": "stream",
     "text": [
      "/tmp/ipykernel_18001/1951054575.py:54: FutureWarning: The frame.append method is deprecated and will be removed from pandas in a future version. Use pandas.concat instead.\n",
      "  df_eeg_features = df_eeg_features.append(eeg_band_fft, ignore_index=True)\n",
      "/tmp/ipykernel_18001/1951054575.py:54: FutureWarning: The frame.append method is deprecated and will be removed from pandas in a future version. Use pandas.concat instead.\n",
      "  df_eeg_features = df_eeg_features.append(eeg_band_fft, ignore_index=True)\n",
      "/tmp/ipykernel_18001/1951054575.py:54: FutureWarning: The frame.append method is deprecated and will be removed from pandas in a future version. Use pandas.concat instead.\n",
      "  df_eeg_features = df_eeg_features.append(eeg_band_fft, ignore_index=True)\n"
     ]
    },
    {
     "name": "stdout",
     "output_type": "stream",
     "text": [
      "Effective window size : 0.619 (s)\n",
      "Effective window size : 0.619 (s)\n",
      "Effective window size : 0.619 (s)\n",
      "Effective window size : 0.619 (s)\n",
      "Effective window size : 0.619 (s)\n",
      "Effective window size : 0.619 (s)\n"
     ]
    },
    {
     "name": "stderr",
     "output_type": "stream",
     "text": [
      "/tmp/ipykernel_18001/1951054575.py:54: FutureWarning: The frame.append method is deprecated and will be removed from pandas in a future version. Use pandas.concat instead.\n",
      "  df_eeg_features = df_eeg_features.append(eeg_band_fft, ignore_index=True)\n",
      "/tmp/ipykernel_18001/1951054575.py:54: FutureWarning: The frame.append method is deprecated and will be removed from pandas in a future version. Use pandas.concat instead.\n",
      "  df_eeg_features = df_eeg_features.append(eeg_band_fft, ignore_index=True)\n",
      "/tmp/ipykernel_18001/1951054575.py:54: FutureWarning: The frame.append method is deprecated and will be removed from pandas in a future version. Use pandas.concat instead.\n",
      "  df_eeg_features = df_eeg_features.append(eeg_band_fft, ignore_index=True)\n"
     ]
    },
    {
     "name": "stdout",
     "output_type": "stream",
     "text": [
      "Effective window size : 0.619 (s)\n",
      "Effective window size : 0.619 (s)\n",
      "Effective window size : 0.619 (s)\n",
      "Effective window size : 0.619 (s)\n",
      "Effective window size : 0.619 (s)\n"
     ]
    },
    {
     "name": "stderr",
     "output_type": "stream",
     "text": [
      "/tmp/ipykernel_18001/1951054575.py:54: FutureWarning: The frame.append method is deprecated and will be removed from pandas in a future version. Use pandas.concat instead.\n",
      "  df_eeg_features = df_eeg_features.append(eeg_band_fft, ignore_index=True)\n",
      "/tmp/ipykernel_18001/1951054575.py:54: FutureWarning: The frame.append method is deprecated and will be removed from pandas in a future version. Use pandas.concat instead.\n",
      "  df_eeg_features = df_eeg_features.append(eeg_band_fft, ignore_index=True)\n",
      "/tmp/ipykernel_18001/1951054575.py:54: FutureWarning: The frame.append method is deprecated and will be removed from pandas in a future version. Use pandas.concat instead.\n",
      "  df_eeg_features = df_eeg_features.append(eeg_band_fft, ignore_index=True)\n"
     ]
    },
    {
     "name": "stdout",
     "output_type": "stream",
     "text": [
      "Effective window size : 0.619 (s)\n",
      "Effective window size : 0.619 (s)\n",
      "Effective window size : 0.619 (s)\n",
      "Effective window size : 0.619 (s)\n",
      "Effective window size : 0.619 (s)\n"
     ]
    },
    {
     "name": "stderr",
     "output_type": "stream",
     "text": [
      "/tmp/ipykernel_18001/1951054575.py:54: FutureWarning: The frame.append method is deprecated and will be removed from pandas in a future version. Use pandas.concat instead.\n",
      "  df_eeg_features = df_eeg_features.append(eeg_band_fft, ignore_index=True)\n",
      "/tmp/ipykernel_18001/1951054575.py:54: FutureWarning: The frame.append method is deprecated and will be removed from pandas in a future version. Use pandas.concat instead.\n",
      "  df_eeg_features = df_eeg_features.append(eeg_band_fft, ignore_index=True)\n",
      "/tmp/ipykernel_18001/1951054575.py:54: FutureWarning: The frame.append method is deprecated and will be removed from pandas in a future version. Use pandas.concat instead.\n",
      "  df_eeg_features = df_eeg_features.append(eeg_band_fft, ignore_index=True)\n"
     ]
    },
    {
     "name": "stdout",
     "output_type": "stream",
     "text": [
      "Effective window size : 0.619 (s)\n",
      "Effective window size : 0.619 (s)\n",
      "Effective window size : 0.619 (s)\n",
      "Effective window size : 0.619 (s)\n",
      "Effective window size : 0.619 (s)\n",
      "Effective window size : 0.619 (s)\n",
      "Effective window size : 0.619 (s)\n",
      "Effective window size : 0.619 (s)\n"
     ]
    },
    {
     "name": "stderr",
     "output_type": "stream",
     "text": [
      "/tmp/ipykernel_18001/1951054575.py:54: FutureWarning: The frame.append method is deprecated and will be removed from pandas in a future version. Use pandas.concat instead.\n",
      "  df_eeg_features = df_eeg_features.append(eeg_band_fft, ignore_index=True)\n",
      "/tmp/ipykernel_18001/1951054575.py:54: FutureWarning: The frame.append method is deprecated and will be removed from pandas in a future version. Use pandas.concat instead.\n",
      "  df_eeg_features = df_eeg_features.append(eeg_band_fft, ignore_index=True)\n",
      "/tmp/ipykernel_18001/1951054575.py:54: FutureWarning: The frame.append method is deprecated and will be removed from pandas in a future version. Use pandas.concat instead.\n",
      "  df_eeg_features = df_eeg_features.append(eeg_band_fft, ignore_index=True)\n"
     ]
    },
    {
     "name": "stdout",
     "output_type": "stream",
     "text": [
      "Effective window size : 0.619 (s)\n",
      "Effective window size : 0.619 (s)\n",
      "Effective window size : 0.619 (s)\n",
      "Effective window size : 0.619 (s)\n",
      "Effective window size : 0.619 (s)\n",
      "Effective window size : 0.619 (s)\n"
     ]
    },
    {
     "name": "stderr",
     "output_type": "stream",
     "text": [
      "/tmp/ipykernel_18001/1951054575.py:54: FutureWarning: The frame.append method is deprecated and will be removed from pandas in a future version. Use pandas.concat instead.\n",
      "  df_eeg_features = df_eeg_features.append(eeg_band_fft, ignore_index=True)\n",
      "/tmp/ipykernel_18001/1951054575.py:54: FutureWarning: The frame.append method is deprecated and will be removed from pandas in a future version. Use pandas.concat instead.\n",
      "  df_eeg_features = df_eeg_features.append(eeg_band_fft, ignore_index=True)\n",
      "/tmp/ipykernel_18001/1951054575.py:54: FutureWarning: The frame.append method is deprecated and will be removed from pandas in a future version. Use pandas.concat instead.\n",
      "  df_eeg_features = df_eeg_features.append(eeg_band_fft, ignore_index=True)\n"
     ]
    },
    {
     "name": "stdout",
     "output_type": "stream",
     "text": [
      "Effective window size : 0.619 (s)\n",
      "Effective window size : 0.619 (s)\n",
      "Effective window size : 0.619 (s)\n",
      "Effective window size : 0.619 (s)\n"
     ]
    },
    {
     "name": "stderr",
     "output_type": "stream",
     "text": [
      "/tmp/ipykernel_18001/1951054575.py:54: FutureWarning: The frame.append method is deprecated and will be removed from pandas in a future version. Use pandas.concat instead.\n",
      "  df_eeg_features = df_eeg_features.append(eeg_band_fft, ignore_index=True)\n",
      "/tmp/ipykernel_18001/1951054575.py:54: FutureWarning: The frame.append method is deprecated and will be removed from pandas in a future version. Use pandas.concat instead.\n",
      "  df_eeg_features = df_eeg_features.append(eeg_band_fft, ignore_index=True)\n",
      "/tmp/ipykernel_18001/1951054575.py:54: FutureWarning: The frame.append method is deprecated and will be removed from pandas in a future version. Use pandas.concat instead.\n",
      "  df_eeg_features = df_eeg_features.append(eeg_band_fft, ignore_index=True)\n"
     ]
    },
    {
     "name": "stdout",
     "output_type": "stream",
     "text": [
      "Effective window size : 0.619 (s)\n",
      "Effective window size : 0.619 (s)\n",
      "Effective window size : 0.619 (s)\n",
      "Effective window size : 0.619 (s)\n",
      "Effective window size : 0.619 (s)\n",
      "Effective window size : 0.619 (s)\n",
      "Effective window size : 0.619 (s)\n",
      "Effective window size : 0.619 (s)\n"
     ]
    },
    {
     "name": "stderr",
     "output_type": "stream",
     "text": [
      "/tmp/ipykernel_18001/1951054575.py:54: FutureWarning: The frame.append method is deprecated and will be removed from pandas in a future version. Use pandas.concat instead.\n",
      "  df_eeg_features = df_eeg_features.append(eeg_band_fft, ignore_index=True)\n",
      "/tmp/ipykernel_18001/1951054575.py:54: FutureWarning: The frame.append method is deprecated and will be removed from pandas in a future version. Use pandas.concat instead.\n",
      "  df_eeg_features = df_eeg_features.append(eeg_band_fft, ignore_index=True)\n",
      "/tmp/ipykernel_18001/1951054575.py:54: FutureWarning: The frame.append method is deprecated and will be removed from pandas in a future version. Use pandas.concat instead.\n",
      "  df_eeg_features = df_eeg_features.append(eeg_band_fft, ignore_index=True)\n"
     ]
    },
    {
     "name": "stdout",
     "output_type": "stream",
     "text": [
      "Effective window size : 0.619 (s)\n",
      "Effective window size : 0.619 (s)\n",
      "Effective window size : 0.619 (s)\n",
      "Effective window size : 0.619 (s)\n",
      "Effective window size : 0.619 (s)\n",
      "Effective window size : 0.619 (s)\n"
     ]
    },
    {
     "name": "stderr",
     "output_type": "stream",
     "text": [
      "/tmp/ipykernel_18001/1951054575.py:54: FutureWarning: The frame.append method is deprecated and will be removed from pandas in a future version. Use pandas.concat instead.\n",
      "  df_eeg_features = df_eeg_features.append(eeg_band_fft, ignore_index=True)\n",
      "/tmp/ipykernel_18001/1951054575.py:54: FutureWarning: The frame.append method is deprecated and will be removed from pandas in a future version. Use pandas.concat instead.\n",
      "  df_eeg_features = df_eeg_features.append(eeg_band_fft, ignore_index=True)\n",
      "/tmp/ipykernel_18001/1951054575.py:54: FutureWarning: The frame.append method is deprecated and will be removed from pandas in a future version. Use pandas.concat instead.\n",
      "  df_eeg_features = df_eeg_features.append(eeg_band_fft, ignore_index=True)\n"
     ]
    },
    {
     "name": "stdout",
     "output_type": "stream",
     "text": [
      "Effective window size : 0.619 (s)\n",
      "Effective window size : 0.619 (s)\n",
      "Effective window size : 0.619 (s)\n",
      "Effective window size : 0.619 (s)\n",
      "Effective window size : 0.619 (s)\n",
      "Effective window size : 0.619 (s)\n"
     ]
    },
    {
     "name": "stderr",
     "output_type": "stream",
     "text": [
      "/tmp/ipykernel_18001/1951054575.py:54: FutureWarning: The frame.append method is deprecated and will be removed from pandas in a future version. Use pandas.concat instead.\n",
      "  df_eeg_features = df_eeg_features.append(eeg_band_fft, ignore_index=True)\n",
      "/tmp/ipykernel_18001/1951054575.py:54: FutureWarning: The frame.append method is deprecated and will be removed from pandas in a future version. Use pandas.concat instead.\n",
      "  df_eeg_features = df_eeg_features.append(eeg_band_fft, ignore_index=True)\n",
      "/tmp/ipykernel_18001/1951054575.py:54: FutureWarning: The frame.append method is deprecated and will be removed from pandas in a future version. Use pandas.concat instead.\n",
      "  df_eeg_features = df_eeg_features.append(eeg_band_fft, ignore_index=True)\n"
     ]
    },
    {
     "name": "stdout",
     "output_type": "stream",
     "text": [
      "Effective window size : 0.619 (s)\n",
      "Effective window size : 0.619 (s)\n",
      "Effective window size : 0.619 (s)\n",
      "Effective window size : 0.619 (s)\n"
     ]
    },
    {
     "name": "stderr",
     "output_type": "stream",
     "text": [
      "/tmp/ipykernel_18001/1951054575.py:54: FutureWarning: The frame.append method is deprecated and will be removed from pandas in a future version. Use pandas.concat instead.\n",
      "  df_eeg_features = df_eeg_features.append(eeg_band_fft, ignore_index=True)\n",
      "/tmp/ipykernel_18001/1951054575.py:54: FutureWarning: The frame.append method is deprecated and will be removed from pandas in a future version. Use pandas.concat instead.\n",
      "  df_eeg_features = df_eeg_features.append(eeg_band_fft, ignore_index=True)\n",
      "/tmp/ipykernel_18001/1951054575.py:54: FutureWarning: The frame.append method is deprecated and will be removed from pandas in a future version. Use pandas.concat instead.\n",
      "  df_eeg_features = df_eeg_features.append(eeg_band_fft, ignore_index=True)\n"
     ]
    },
    {
     "name": "stdout",
     "output_type": "stream",
     "text": [
      "Extracting EDF parameters from /home/vanilla_skies/mne_data/MNE-eegbci-data/files/eegmmidb/1.0.0/S019/S019R03.edf...\n",
      "EDF file detected\n",
      "Setting channel info structure...\n",
      "Creating raw.info structure...\n",
      "Reading 0 ... 19679  =      0.000 ...   122.994 secs...\n",
      "Extracting EDF parameters from /home/vanilla_skies/mne_data/MNE-eegbci-data/files/eegmmidb/1.0.0/S019/S019R07.edf...\n",
      "EDF file detected\n",
      "Setting channel info structure...\n",
      "Creating raw.info structure...\n",
      "Reading 0 ... 19679  =      0.000 ...   122.994 secs...\n",
      "Extracting EDF parameters from /home/vanilla_skies/mne_data/MNE-eegbci-data/files/eegmmidb/1.0.0/S019/S019R11.edf...\n",
      "EDF file detected\n",
      "Setting channel info structure...\n",
      "Creating raw.info structure...\n",
      "Reading 0 ... 19679  =      0.000 ...   122.994 secs...\n",
      "Used Annotations descriptions: ['T0', 'T1', 'T2']\n",
      "Filtering raw data in 3 contiguous segments\n",
      "Setting up band-pass filter from 7 - 30 Hz\n",
      "\n",
      "FIR filter parameters\n",
      "---------------------\n",
      "Designing a one-pass, zero-phase, non-causal bandpass filter:\n",
      "- Windowed time-domain design (firwin) method\n",
      "- Hamming window with 0.0194 passband ripple and 53 dB stopband attenuation\n",
      "- Lower passband edge: 7.00\n",
      "- Lower transition bandwidth: 2.00 Hz (-6 dB cutoff frequency: 6.00 Hz)\n",
      "- Upper passband edge: 30.00 Hz\n",
      "- Upper transition bandwidth: 7.50 Hz (-6 dB cutoff frequency: 33.75 Hz)\n",
      "- Filter length: 265 samples (1.656 sec)\n",
      "\n",
      "Not setting metadata\n",
      "45 matching events found\n",
      "No baseline correction applied\n",
      "0 projection items activated\n",
      "Using data from preloaded Raw for 45 events and 801 original time points ...\n",
      "0 bad epochs dropped\n",
      "Effective window size : 0.619 (s)\n",
      "Effective window size : 0.619 (s)\n",
      "Effective window size : 0.619 (s)\n",
      "Effective window size : 0.619 (s)\n",
      "Effective window size : 0.619 (s)\n",
      "Effective window size : 0.619 (s)\n",
      "Effective window size : 0.619 (s)\n",
      "Effective window size : 0.619 (s)\n"
     ]
    },
    {
     "name": "stderr",
     "output_type": "stream",
     "text": [
      "/tmp/ipykernel_18001/1951054575.py:54: FutureWarning: The frame.append method is deprecated and will be removed from pandas in a future version. Use pandas.concat instead.\n",
      "  df_eeg_features = df_eeg_features.append(eeg_band_fft, ignore_index=True)\n",
      "/tmp/ipykernel_18001/1951054575.py:54: FutureWarning: The frame.append method is deprecated and will be removed from pandas in a future version. Use pandas.concat instead.\n",
      "  df_eeg_features = df_eeg_features.append(eeg_band_fft, ignore_index=True)\n",
      "/tmp/ipykernel_18001/1951054575.py:54: FutureWarning: The frame.append method is deprecated and will be removed from pandas in a future version. Use pandas.concat instead.\n",
      "  df_eeg_features = df_eeg_features.append(eeg_band_fft, ignore_index=True)\n"
     ]
    },
    {
     "name": "stdout",
     "output_type": "stream",
     "text": [
      "Effective window size : 0.619 (s)\n",
      "Effective window size : 0.619 (s)\n",
      "Effective window size : 0.619 (s)\n",
      "Effective window size : 0.619 (s)\n"
     ]
    },
    {
     "name": "stderr",
     "output_type": "stream",
     "text": [
      "/tmp/ipykernel_18001/1951054575.py:54: FutureWarning: The frame.append method is deprecated and will be removed from pandas in a future version. Use pandas.concat instead.\n",
      "  df_eeg_features = df_eeg_features.append(eeg_band_fft, ignore_index=True)\n",
      "/tmp/ipykernel_18001/1951054575.py:54: FutureWarning: The frame.append method is deprecated and will be removed from pandas in a future version. Use pandas.concat instead.\n",
      "  df_eeg_features = df_eeg_features.append(eeg_band_fft, ignore_index=True)\n",
      "/tmp/ipykernel_18001/1951054575.py:54: FutureWarning: The frame.append method is deprecated and will be removed from pandas in a future version. Use pandas.concat instead.\n",
      "  df_eeg_features = df_eeg_features.append(eeg_band_fft, ignore_index=True)\n"
     ]
    },
    {
     "name": "stdout",
     "output_type": "stream",
     "text": [
      "Effective window size : 0.619 (s)\n",
      "Effective window size : 0.619 (s)\n",
      "Effective window size : 0.619 (s)\n",
      "Effective window size : 0.619 (s)\n",
      "Effective window size : 0.619 (s)\n",
      "Effective window size : 0.619 (s)\n",
      "Effective window size : 0.619 (s)\n",
      "Effective window size : 0.619 (s)\n"
     ]
    },
    {
     "name": "stderr",
     "output_type": "stream",
     "text": [
      "/tmp/ipykernel_18001/1951054575.py:54: FutureWarning: The frame.append method is deprecated and will be removed from pandas in a future version. Use pandas.concat instead.\n",
      "  df_eeg_features = df_eeg_features.append(eeg_band_fft, ignore_index=True)\n",
      "/tmp/ipykernel_18001/1951054575.py:54: FutureWarning: The frame.append method is deprecated and will be removed from pandas in a future version. Use pandas.concat instead.\n",
      "  df_eeg_features = df_eeg_features.append(eeg_band_fft, ignore_index=True)\n",
      "/tmp/ipykernel_18001/1951054575.py:54: FutureWarning: The frame.append method is deprecated and will be removed from pandas in a future version. Use pandas.concat instead.\n",
      "  df_eeg_features = df_eeg_features.append(eeg_band_fft, ignore_index=True)\n"
     ]
    },
    {
     "name": "stdout",
     "output_type": "stream",
     "text": [
      "Effective window size : 0.619 (s)\n",
      "Effective window size : 0.619 (s)\n",
      "Effective window size : 0.619 (s)\n",
      "Effective window size : 0.619 (s)\n",
      "Effective window size : 0.619 (s)\n",
      "Effective window size : 0.619 (s)\n"
     ]
    },
    {
     "name": "stderr",
     "output_type": "stream",
     "text": [
      "/tmp/ipykernel_18001/1951054575.py:54: FutureWarning: The frame.append method is deprecated and will be removed from pandas in a future version. Use pandas.concat instead.\n",
      "  df_eeg_features = df_eeg_features.append(eeg_band_fft, ignore_index=True)\n",
      "/tmp/ipykernel_18001/1951054575.py:54: FutureWarning: The frame.append method is deprecated and will be removed from pandas in a future version. Use pandas.concat instead.\n",
      "  df_eeg_features = df_eeg_features.append(eeg_band_fft, ignore_index=True)\n",
      "/tmp/ipykernel_18001/1951054575.py:54: FutureWarning: The frame.append method is deprecated and will be removed from pandas in a future version. Use pandas.concat instead.\n",
      "  df_eeg_features = df_eeg_features.append(eeg_band_fft, ignore_index=True)\n"
     ]
    },
    {
     "name": "stdout",
     "output_type": "stream",
     "text": [
      "Effective window size : 0.619 (s)\n",
      "Effective window size : 0.619 (s)\n",
      "Effective window size : 0.619 (s)\n",
      "Effective window size : 0.619 (s)\n",
      "Effective window size : 0.619 (s)\n",
      "Effective window size : 0.619 (s)\n"
     ]
    },
    {
     "name": "stderr",
     "output_type": "stream",
     "text": [
      "/tmp/ipykernel_18001/1951054575.py:54: FutureWarning: The frame.append method is deprecated and will be removed from pandas in a future version. Use pandas.concat instead.\n",
      "  df_eeg_features = df_eeg_features.append(eeg_band_fft, ignore_index=True)\n",
      "/tmp/ipykernel_18001/1951054575.py:54: FutureWarning: The frame.append method is deprecated and will be removed from pandas in a future version. Use pandas.concat instead.\n",
      "  df_eeg_features = df_eeg_features.append(eeg_band_fft, ignore_index=True)\n",
      "/tmp/ipykernel_18001/1951054575.py:54: FutureWarning: The frame.append method is deprecated and will be removed from pandas in a future version. Use pandas.concat instead.\n",
      "  df_eeg_features = df_eeg_features.append(eeg_band_fft, ignore_index=True)\n"
     ]
    },
    {
     "name": "stdout",
     "output_type": "stream",
     "text": [
      "Effective window size : 0.619 (s)\n",
      "Effective window size : 0.619 (s)\n",
      "Effective window size : 0.619 (s)\n",
      "Effective window size : 0.619 (s)\n",
      "Effective window size : 0.619 (s)\n",
      "Effective window size : 0.619 (s)\n"
     ]
    },
    {
     "name": "stderr",
     "output_type": "stream",
     "text": [
      "/tmp/ipykernel_18001/1951054575.py:54: FutureWarning: The frame.append method is deprecated and will be removed from pandas in a future version. Use pandas.concat instead.\n",
      "  df_eeg_features = df_eeg_features.append(eeg_band_fft, ignore_index=True)\n",
      "/tmp/ipykernel_18001/1951054575.py:54: FutureWarning: The frame.append method is deprecated and will be removed from pandas in a future version. Use pandas.concat instead.\n",
      "  df_eeg_features = df_eeg_features.append(eeg_band_fft, ignore_index=True)\n",
      "/tmp/ipykernel_18001/1951054575.py:54: FutureWarning: The frame.append method is deprecated and will be removed from pandas in a future version. Use pandas.concat instead.\n",
      "  df_eeg_features = df_eeg_features.append(eeg_band_fft, ignore_index=True)\n"
     ]
    },
    {
     "name": "stdout",
     "output_type": "stream",
     "text": [
      "Effective window size : 0.619 (s)\n",
      "Effective window size : 0.619 (s)\n",
      "Effective window size : 0.619 (s)\n",
      "Effective window size : 0.619 (s)\n",
      "Effective window size : 0.619 (s)\n",
      "Effective window size : 0.619 (s)\n"
     ]
    },
    {
     "name": "stderr",
     "output_type": "stream",
     "text": [
      "/tmp/ipykernel_18001/1951054575.py:54: FutureWarning: The frame.append method is deprecated and will be removed from pandas in a future version. Use pandas.concat instead.\n",
      "  df_eeg_features = df_eeg_features.append(eeg_band_fft, ignore_index=True)\n",
      "/tmp/ipykernel_18001/1951054575.py:54: FutureWarning: The frame.append method is deprecated and will be removed from pandas in a future version. Use pandas.concat instead.\n",
      "  df_eeg_features = df_eeg_features.append(eeg_band_fft, ignore_index=True)\n",
      "/tmp/ipykernel_18001/1951054575.py:54: FutureWarning: The frame.append method is deprecated and will be removed from pandas in a future version. Use pandas.concat instead.\n",
      "  df_eeg_features = df_eeg_features.append(eeg_band_fft, ignore_index=True)\n"
     ]
    },
    {
     "name": "stdout",
     "output_type": "stream",
     "text": [
      "Effective window size : 0.619 (s)\n",
      "Effective window size : 0.619 (s)\n",
      "Effective window size : 0.619 (s)\n",
      "Effective window size : 0.619 (s)\n",
      "Effective window size : 0.619 (s)\n",
      "Effective window size : 0.619 (s)\n"
     ]
    },
    {
     "name": "stderr",
     "output_type": "stream",
     "text": [
      "/tmp/ipykernel_18001/1951054575.py:54: FutureWarning: The frame.append method is deprecated and will be removed from pandas in a future version. Use pandas.concat instead.\n",
      "  df_eeg_features = df_eeg_features.append(eeg_band_fft, ignore_index=True)\n",
      "/tmp/ipykernel_18001/1951054575.py:54: FutureWarning: The frame.append method is deprecated and will be removed from pandas in a future version. Use pandas.concat instead.\n",
      "  df_eeg_features = df_eeg_features.append(eeg_band_fft, ignore_index=True)\n",
      "/tmp/ipykernel_18001/1951054575.py:54: FutureWarning: The frame.append method is deprecated and will be removed from pandas in a future version. Use pandas.concat instead.\n",
      "  df_eeg_features = df_eeg_features.append(eeg_band_fft, ignore_index=True)\n"
     ]
    },
    {
     "name": "stdout",
     "output_type": "stream",
     "text": [
      "Effective window size : 0.619 (s)\n",
      "Effective window size : 0.619 (s)\n",
      "Effective window size : 0.619 (s)\n",
      "Effective window size : 0.619 (s)\n",
      "Effective window size : 0.619 (s)\n"
     ]
    },
    {
     "name": "stderr",
     "output_type": "stream",
     "text": [
      "/tmp/ipykernel_18001/1951054575.py:54: FutureWarning: The frame.append method is deprecated and will be removed from pandas in a future version. Use pandas.concat instead.\n",
      "  df_eeg_features = df_eeg_features.append(eeg_band_fft, ignore_index=True)\n",
      "/tmp/ipykernel_18001/1951054575.py:54: FutureWarning: The frame.append method is deprecated and will be removed from pandas in a future version. Use pandas.concat instead.\n",
      "  df_eeg_features = df_eeg_features.append(eeg_band_fft, ignore_index=True)\n",
      "/tmp/ipykernel_18001/1951054575.py:54: FutureWarning: The frame.append method is deprecated and will be removed from pandas in a future version. Use pandas.concat instead.\n",
      "  df_eeg_features = df_eeg_features.append(eeg_band_fft, ignore_index=True)\n"
     ]
    },
    {
     "name": "stdout",
     "output_type": "stream",
     "text": [
      "Effective window size : 0.619 (s)\n",
      "Effective window size : 0.619 (s)\n",
      "Effective window size : 0.619 (s)\n",
      "Effective window size : 0.619 (s)\n",
      "Effective window size : 0.619 (s)\n",
      "Effective window size : 0.619 (s)\n"
     ]
    },
    {
     "name": "stderr",
     "output_type": "stream",
     "text": [
      "/tmp/ipykernel_18001/1951054575.py:54: FutureWarning: The frame.append method is deprecated and will be removed from pandas in a future version. Use pandas.concat instead.\n",
      "  df_eeg_features = df_eeg_features.append(eeg_band_fft, ignore_index=True)\n",
      "/tmp/ipykernel_18001/1951054575.py:54: FutureWarning: The frame.append method is deprecated and will be removed from pandas in a future version. Use pandas.concat instead.\n",
      "  df_eeg_features = df_eeg_features.append(eeg_band_fft, ignore_index=True)\n",
      "/tmp/ipykernel_18001/1951054575.py:54: FutureWarning: The frame.append method is deprecated and will be removed from pandas in a future version. Use pandas.concat instead.\n",
      "  df_eeg_features = df_eeg_features.append(eeg_band_fft, ignore_index=True)\n"
     ]
    },
    {
     "name": "stdout",
     "output_type": "stream",
     "text": [
      "Effective window size : 0.619 (s)\n",
      "Effective window size : 0.619 (s)\n",
      "Effective window size : 0.619 (s)\n",
      "Effective window size : 0.619 (s)\n",
      "Effective window size : 0.619 (s)\n",
      "Effective window size : 0.619 (s)\n",
      "Effective window size : 0.619 (s)\n"
     ]
    },
    {
     "name": "stderr",
     "output_type": "stream",
     "text": [
      "/tmp/ipykernel_18001/1951054575.py:54: FutureWarning: The frame.append method is deprecated and will be removed from pandas in a future version. Use pandas.concat instead.\n",
      "  df_eeg_features = df_eeg_features.append(eeg_band_fft, ignore_index=True)\n",
      "/tmp/ipykernel_18001/1951054575.py:54: FutureWarning: The frame.append method is deprecated and will be removed from pandas in a future version. Use pandas.concat instead.\n",
      "  df_eeg_features = df_eeg_features.append(eeg_band_fft, ignore_index=True)\n",
      "/tmp/ipykernel_18001/1951054575.py:54: FutureWarning: The frame.append method is deprecated and will be removed from pandas in a future version. Use pandas.concat instead.\n",
      "  df_eeg_features = df_eeg_features.append(eeg_band_fft, ignore_index=True)\n"
     ]
    },
    {
     "name": "stdout",
     "output_type": "stream",
     "text": [
      "Effective window size : 0.619 (s)\n",
      "Effective window size : 0.619 (s)\n",
      "Effective window size : 0.619 (s)\n",
      "Effective window size : 0.619 (s)\n"
     ]
    },
    {
     "name": "stderr",
     "output_type": "stream",
     "text": [
      "/tmp/ipykernel_18001/1951054575.py:54: FutureWarning: The frame.append method is deprecated and will be removed from pandas in a future version. Use pandas.concat instead.\n",
      "  df_eeg_features = df_eeg_features.append(eeg_band_fft, ignore_index=True)\n",
      "/tmp/ipykernel_18001/1951054575.py:54: FutureWarning: The frame.append method is deprecated and will be removed from pandas in a future version. Use pandas.concat instead.\n",
      "  df_eeg_features = df_eeg_features.append(eeg_band_fft, ignore_index=True)\n"
     ]
    },
    {
     "name": "stdout",
     "output_type": "stream",
     "text": [
      "Effective window size : 0.619 (s)\n",
      "Effective window size : 0.619 (s)\n",
      "Effective window size : 0.619 (s)\n",
      "Effective window size : 0.619 (s)\n"
     ]
    },
    {
     "name": "stderr",
     "output_type": "stream",
     "text": [
      "/tmp/ipykernel_18001/1951054575.py:54: FutureWarning: The frame.append method is deprecated and will be removed from pandas in a future version. Use pandas.concat instead.\n",
      "  df_eeg_features = df_eeg_features.append(eeg_band_fft, ignore_index=True)\n",
      "/tmp/ipykernel_18001/1951054575.py:54: FutureWarning: The frame.append method is deprecated and will be removed from pandas in a future version. Use pandas.concat instead.\n",
      "  df_eeg_features = df_eeg_features.append(eeg_band_fft, ignore_index=True)\n"
     ]
    },
    {
     "name": "stdout",
     "output_type": "stream",
     "text": [
      "Effective window size : 0.619 (s)\n",
      "Effective window size : 0.619 (s)\n",
      "Effective window size : 0.619 (s)\n",
      "Effective window size : 0.619 (s)\n",
      "Effective window size : 0.619 (s)\n",
      "Effective window size : 0.619 (s)\n"
     ]
    },
    {
     "name": "stderr",
     "output_type": "stream",
     "text": [
      "/tmp/ipykernel_18001/1951054575.py:54: FutureWarning: The frame.append method is deprecated and will be removed from pandas in a future version. Use pandas.concat instead.\n",
      "  df_eeg_features = df_eeg_features.append(eeg_band_fft, ignore_index=True)\n",
      "/tmp/ipykernel_18001/1951054575.py:54: FutureWarning: The frame.append method is deprecated and will be removed from pandas in a future version. Use pandas.concat instead.\n",
      "  df_eeg_features = df_eeg_features.append(eeg_band_fft, ignore_index=True)\n",
      "/tmp/ipykernel_18001/1951054575.py:54: FutureWarning: The frame.append method is deprecated and will be removed from pandas in a future version. Use pandas.concat instead.\n",
      "  df_eeg_features = df_eeg_features.append(eeg_band_fft, ignore_index=True)\n"
     ]
    },
    {
     "name": "stdout",
     "output_type": "stream",
     "text": [
      "Effective window size : 0.619 (s)\n",
      "Effective window size : 0.619 (s)\n",
      "Effective window size : 0.619 (s)\n",
      "Effective window size : 0.619 (s)\n",
      "Effective window size : 0.619 (s)\n",
      "Effective window size : 0.619 (s)\n"
     ]
    },
    {
     "name": "stderr",
     "output_type": "stream",
     "text": [
      "/tmp/ipykernel_18001/1951054575.py:54: FutureWarning: The frame.append method is deprecated and will be removed from pandas in a future version. Use pandas.concat instead.\n",
      "  df_eeg_features = df_eeg_features.append(eeg_band_fft, ignore_index=True)\n",
      "/tmp/ipykernel_18001/1951054575.py:54: FutureWarning: The frame.append method is deprecated and will be removed from pandas in a future version. Use pandas.concat instead.\n",
      "  df_eeg_features = df_eeg_features.append(eeg_band_fft, ignore_index=True)\n",
      "/tmp/ipykernel_18001/1951054575.py:54: FutureWarning: The frame.append method is deprecated and will be removed from pandas in a future version. Use pandas.concat instead.\n",
      "  df_eeg_features = df_eeg_features.append(eeg_band_fft, ignore_index=True)\n"
     ]
    },
    {
     "name": "stdout",
     "output_type": "stream",
     "text": [
      "Effective window size : 0.619 (s)\n",
      "Effective window size : 0.619 (s)\n",
      "Extracting EDF parameters from /home/vanilla_skies/mne_data/MNE-eegbci-data/files/eegmmidb/1.0.0/S020/S020R03.edf...\n",
      "EDF file detected\n",
      "Setting channel info structure...\n",
      "Creating raw.info structure...\n",
      "Reading 0 ... 19679  =      0.000 ...   122.994 secs...\n",
      "Extracting EDF parameters from /home/vanilla_skies/mne_data/MNE-eegbci-data/files/eegmmidb/1.0.0/S020/S020R07.edf...\n",
      "EDF file detected\n",
      "Setting channel info structure...\n",
      "Creating raw.info structure...\n",
      "Reading 0 ... 19679  =      0.000 ...   122.994 secs...\n"
     ]
    },
    {
     "name": "stderr",
     "output_type": "stream",
     "text": [
      "/tmp/ipykernel_18001/1951054575.py:54: FutureWarning: The frame.append method is deprecated and will be removed from pandas in a future version. Use pandas.concat instead.\n",
      "  df_eeg_features = df_eeg_features.append(eeg_band_fft, ignore_index=True)\n",
      "/tmp/ipykernel_18001/1951054575.py:54: FutureWarning: The frame.append method is deprecated and will be removed from pandas in a future version. Use pandas.concat instead.\n",
      "  df_eeg_features = df_eeg_features.append(eeg_band_fft, ignore_index=True)\n"
     ]
    },
    {
     "name": "stdout",
     "output_type": "stream",
     "text": [
      "Extracting EDF parameters from /home/vanilla_skies/mne_data/MNE-eegbci-data/files/eegmmidb/1.0.0/S020/S020R11.edf...\n",
      "EDF file detected\n",
      "Setting channel info structure...\n",
      "Creating raw.info structure...\n",
      "Reading 0 ... 19679  =      0.000 ...   122.994 secs...\n",
      "Used Annotations descriptions: ['T0', 'T1', 'T2']\n",
      "Filtering raw data in 3 contiguous segments\n",
      "Setting up band-pass filter from 7 - 30 Hz\n",
      "\n",
      "FIR filter parameters\n",
      "---------------------\n",
      "Designing a one-pass, zero-phase, non-causal bandpass filter:\n",
      "- Windowed time-domain design (firwin) method\n",
      "- Hamming window with 0.0194 passband ripple and 53 dB stopband attenuation\n",
      "- Lower passband edge: 7.00\n",
      "- Lower transition bandwidth: 2.00 Hz (-6 dB cutoff frequency: 6.00 Hz)\n",
      "- Upper passband edge: 30.00 Hz\n",
      "- Upper transition bandwidth: 7.50 Hz (-6 dB cutoff frequency: 33.75 Hz)\n",
      "- Filter length: 265 samples (1.656 sec)\n",
      "\n",
      "Not setting metadata\n",
      "45 matching events found\n",
      "No baseline correction applied\n",
      "0 projection items activated\n",
      "Using data from preloaded Raw for 45 events and 801 original time points ...\n",
      "0 bad epochs dropped\n",
      "Effective window size : 0.619 (s)\n",
      "Effective window size : 0.619 (s)\n",
      "Effective window size : 0.619 (s)\n",
      "Effective window size : 0.619 (s)\n",
      "Effective window size : 0.619 (s)\n",
      "Effective window size : 0.619 (s)\n",
      "Effective window size : 0.619 (s)\n",
      "Effective window size : 0.619 (s)\n"
     ]
    },
    {
     "name": "stderr",
     "output_type": "stream",
     "text": [
      "/tmp/ipykernel_18001/1951054575.py:54: FutureWarning: The frame.append method is deprecated and will be removed from pandas in a future version. Use pandas.concat instead.\n",
      "  df_eeg_features = df_eeg_features.append(eeg_band_fft, ignore_index=True)\n",
      "/tmp/ipykernel_18001/1951054575.py:54: FutureWarning: The frame.append method is deprecated and will be removed from pandas in a future version. Use pandas.concat instead.\n",
      "  df_eeg_features = df_eeg_features.append(eeg_band_fft, ignore_index=True)\n",
      "/tmp/ipykernel_18001/1951054575.py:54: FutureWarning: The frame.append method is deprecated and will be removed from pandas in a future version. Use pandas.concat instead.\n",
      "  df_eeg_features = df_eeg_features.append(eeg_band_fft, ignore_index=True)\n"
     ]
    },
    {
     "name": "stdout",
     "output_type": "stream",
     "text": [
      "Effective window size : 0.619 (s)\n",
      "Effective window size : 0.619 (s)\n",
      "Effective window size : 0.619 (s)\n",
      "Effective window size : 0.619 (s)\n",
      "Effective window size : 0.619 (s)\n",
      "Effective window size : 0.619 (s)\n"
     ]
    },
    {
     "name": "stderr",
     "output_type": "stream",
     "text": [
      "/tmp/ipykernel_18001/1951054575.py:54: FutureWarning: The frame.append method is deprecated and will be removed from pandas in a future version. Use pandas.concat instead.\n",
      "  df_eeg_features = df_eeg_features.append(eeg_band_fft, ignore_index=True)\n",
      "/tmp/ipykernel_18001/1951054575.py:54: FutureWarning: The frame.append method is deprecated and will be removed from pandas in a future version. Use pandas.concat instead.\n",
      "  df_eeg_features = df_eeg_features.append(eeg_band_fft, ignore_index=True)\n",
      "/tmp/ipykernel_18001/1951054575.py:54: FutureWarning: The frame.append method is deprecated and will be removed from pandas in a future version. Use pandas.concat instead.\n",
      "  df_eeg_features = df_eeg_features.append(eeg_band_fft, ignore_index=True)\n"
     ]
    },
    {
     "name": "stdout",
     "output_type": "stream",
     "text": [
      "Effective window size : 0.619 (s)\n",
      "Effective window size : 0.619 (s)\n",
      "Effective window size : 0.619 (s)\n",
      "Effective window size : 0.619 (s)\n"
     ]
    },
    {
     "name": "stderr",
     "output_type": "stream",
     "text": [
      "/tmp/ipykernel_18001/1951054575.py:54: FutureWarning: The frame.append method is deprecated and will be removed from pandas in a future version. Use pandas.concat instead.\n",
      "  df_eeg_features = df_eeg_features.append(eeg_band_fft, ignore_index=True)\n",
      "/tmp/ipykernel_18001/1951054575.py:54: FutureWarning: The frame.append method is deprecated and will be removed from pandas in a future version. Use pandas.concat instead.\n",
      "  df_eeg_features = df_eeg_features.append(eeg_band_fft, ignore_index=True)\n",
      "/tmp/ipykernel_18001/1951054575.py:54: FutureWarning: The frame.append method is deprecated and will be removed from pandas in a future version. Use pandas.concat instead.\n",
      "  df_eeg_features = df_eeg_features.append(eeg_band_fft, ignore_index=True)\n"
     ]
    },
    {
     "name": "stdout",
     "output_type": "stream",
     "text": [
      "Effective window size : 0.619 (s)\n",
      "Effective window size : 0.619 (s)\n",
      "Effective window size : 0.619 (s)\n",
      "Effective window size : 0.619 (s)\n",
      "Effective window size : 0.619 (s)\n",
      "Effective window size : 0.619 (s)\n",
      "Effective window size : 0.619 (s)\n",
      "Effective window size : 0.619 (s)\n"
     ]
    },
    {
     "name": "stderr",
     "output_type": "stream",
     "text": [
      "/tmp/ipykernel_18001/1951054575.py:54: FutureWarning: The frame.append method is deprecated and will be removed from pandas in a future version. Use pandas.concat instead.\n",
      "  df_eeg_features = df_eeg_features.append(eeg_band_fft, ignore_index=True)\n",
      "/tmp/ipykernel_18001/1951054575.py:54: FutureWarning: The frame.append method is deprecated and will be removed from pandas in a future version. Use pandas.concat instead.\n",
      "  df_eeg_features = df_eeg_features.append(eeg_band_fft, ignore_index=True)\n",
      "/tmp/ipykernel_18001/1951054575.py:54: FutureWarning: The frame.append method is deprecated and will be removed from pandas in a future version. Use pandas.concat instead.\n",
      "  df_eeg_features = df_eeg_features.append(eeg_band_fft, ignore_index=True)\n"
     ]
    },
    {
     "name": "stdout",
     "output_type": "stream",
     "text": [
      "Effective window size : 0.619 (s)\n",
      "Effective window size : 0.619 (s)\n",
      "Effective window size : 0.619 (s)\n",
      "Effective window size : 0.619 (s)\n",
      "Effective window size : 0.619 (s)\n",
      "Effective window size : 0.619 (s)\n"
     ]
    },
    {
     "name": "stderr",
     "output_type": "stream",
     "text": [
      "/tmp/ipykernel_18001/1951054575.py:54: FutureWarning: The frame.append method is deprecated and will be removed from pandas in a future version. Use pandas.concat instead.\n",
      "  df_eeg_features = df_eeg_features.append(eeg_band_fft, ignore_index=True)\n",
      "/tmp/ipykernel_18001/1951054575.py:54: FutureWarning: The frame.append method is deprecated and will be removed from pandas in a future version. Use pandas.concat instead.\n",
      "  df_eeg_features = df_eeg_features.append(eeg_band_fft, ignore_index=True)\n",
      "/tmp/ipykernel_18001/1951054575.py:54: FutureWarning: The frame.append method is deprecated and will be removed from pandas in a future version. Use pandas.concat instead.\n",
      "  df_eeg_features = df_eeg_features.append(eeg_band_fft, ignore_index=True)\n"
     ]
    },
    {
     "name": "stdout",
     "output_type": "stream",
     "text": [
      "Effective window size : 0.619 (s)\n",
      "Effective window size : 0.619 (s)\n",
      "Effective window size : 0.619 (s)\n",
      "Effective window size : 0.619 (s)\n",
      "Effective window size : 0.619 (s)\n",
      "Effective window size : 0.619 (s)\n"
     ]
    },
    {
     "name": "stderr",
     "output_type": "stream",
     "text": [
      "/tmp/ipykernel_18001/1951054575.py:54: FutureWarning: The frame.append method is deprecated and will be removed from pandas in a future version. Use pandas.concat instead.\n",
      "  df_eeg_features = df_eeg_features.append(eeg_band_fft, ignore_index=True)\n",
      "/tmp/ipykernel_18001/1951054575.py:54: FutureWarning: The frame.append method is deprecated and will be removed from pandas in a future version. Use pandas.concat instead.\n",
      "  df_eeg_features = df_eeg_features.append(eeg_band_fft, ignore_index=True)\n",
      "/tmp/ipykernel_18001/1951054575.py:54: FutureWarning: The frame.append method is deprecated and will be removed from pandas in a future version. Use pandas.concat instead.\n",
      "  df_eeg_features = df_eeg_features.append(eeg_band_fft, ignore_index=True)\n"
     ]
    },
    {
     "name": "stdout",
     "output_type": "stream",
     "text": [
      "Effective window size : 0.619 (s)\n",
      "Effective window size : 0.619 (s)\n",
      "Effective window size : 0.619 (s)\n",
      "Effective window size : 0.619 (s)\n",
      "Effective window size : 0.619 (s)\n",
      "Effective window size : 0.619 (s)\n"
     ]
    },
    {
     "name": "stderr",
     "output_type": "stream",
     "text": [
      "/tmp/ipykernel_18001/1951054575.py:54: FutureWarning: The frame.append method is deprecated and will be removed from pandas in a future version. Use pandas.concat instead.\n",
      "  df_eeg_features = df_eeg_features.append(eeg_band_fft, ignore_index=True)\n",
      "/tmp/ipykernel_18001/1951054575.py:54: FutureWarning: The frame.append method is deprecated and will be removed from pandas in a future version. Use pandas.concat instead.\n",
      "  df_eeg_features = df_eeg_features.append(eeg_band_fft, ignore_index=True)\n",
      "/tmp/ipykernel_18001/1951054575.py:54: FutureWarning: The frame.append method is deprecated and will be removed from pandas in a future version. Use pandas.concat instead.\n",
      "  df_eeg_features = df_eeg_features.append(eeg_band_fft, ignore_index=True)\n"
     ]
    },
    {
     "name": "stdout",
     "output_type": "stream",
     "text": [
      "Effective window size : 0.619 (s)\n",
      "Effective window size : 0.619 (s)\n",
      "Effective window size : 0.619 (s)\n",
      "Effective window size : 0.619 (s)\n",
      "Effective window size : 0.619 (s)\n",
      "Effective window size : 0.619 (s)\n"
     ]
    },
    {
     "name": "stderr",
     "output_type": "stream",
     "text": [
      "/tmp/ipykernel_18001/1951054575.py:54: FutureWarning: The frame.append method is deprecated and will be removed from pandas in a future version. Use pandas.concat instead.\n",
      "  df_eeg_features = df_eeg_features.append(eeg_band_fft, ignore_index=True)\n",
      "/tmp/ipykernel_18001/1951054575.py:54: FutureWarning: The frame.append method is deprecated and will be removed from pandas in a future version. Use pandas.concat instead.\n",
      "  df_eeg_features = df_eeg_features.append(eeg_band_fft, ignore_index=True)\n",
      "/tmp/ipykernel_18001/1951054575.py:54: FutureWarning: The frame.append method is deprecated and will be removed from pandas in a future version. Use pandas.concat instead.\n",
      "  df_eeg_features = df_eeg_features.append(eeg_band_fft, ignore_index=True)\n"
     ]
    },
    {
     "name": "stdout",
     "output_type": "stream",
     "text": [
      "Effective window size : 0.619 (s)\n",
      "Effective window size : 0.619 (s)\n",
      "Effective window size : 0.619 (s)\n",
      "Effective window size : 0.619 (s)\n",
      "Effective window size : 0.619 (s)\n",
      "Effective window size : 0.619 (s)\n"
     ]
    },
    {
     "name": "stderr",
     "output_type": "stream",
     "text": [
      "/tmp/ipykernel_18001/1951054575.py:54: FutureWarning: The frame.append method is deprecated and will be removed from pandas in a future version. Use pandas.concat instead.\n",
      "  df_eeg_features = df_eeg_features.append(eeg_band_fft, ignore_index=True)\n",
      "/tmp/ipykernel_18001/1951054575.py:54: FutureWarning: The frame.append method is deprecated and will be removed from pandas in a future version. Use pandas.concat instead.\n",
      "  df_eeg_features = df_eeg_features.append(eeg_band_fft, ignore_index=True)\n",
      "/tmp/ipykernel_18001/1951054575.py:54: FutureWarning: The frame.append method is deprecated and will be removed from pandas in a future version. Use pandas.concat instead.\n",
      "  df_eeg_features = df_eeg_features.append(eeg_band_fft, ignore_index=True)\n"
     ]
    },
    {
     "name": "stdout",
     "output_type": "stream",
     "text": [
      "Effective window size : 0.619 (s)\n",
      "Effective window size : 0.619 (s)\n",
      "Effective window size : 0.619 (s)\n",
      "Effective window size : 0.619 (s)\n",
      "Effective window size : 0.619 (s)\n",
      "Effective window size : 0.619 (s)\n"
     ]
    },
    {
     "name": "stderr",
     "output_type": "stream",
     "text": [
      "/tmp/ipykernel_18001/1951054575.py:54: FutureWarning: The frame.append method is deprecated and will be removed from pandas in a future version. Use pandas.concat instead.\n",
      "  df_eeg_features = df_eeg_features.append(eeg_band_fft, ignore_index=True)\n",
      "/tmp/ipykernel_18001/1951054575.py:54: FutureWarning: The frame.append method is deprecated and will be removed from pandas in a future version. Use pandas.concat instead.\n",
      "  df_eeg_features = df_eeg_features.append(eeg_band_fft, ignore_index=True)\n",
      "/tmp/ipykernel_18001/1951054575.py:54: FutureWarning: The frame.append method is deprecated and will be removed from pandas in a future version. Use pandas.concat instead.\n",
      "  df_eeg_features = df_eeg_features.append(eeg_band_fft, ignore_index=True)\n"
     ]
    },
    {
     "name": "stdout",
     "output_type": "stream",
     "text": [
      "Effective window size : 0.619 (s)\n",
      "Effective window size : 0.619 (s)\n",
      "Effective window size : 0.619 (s)\n",
      "Effective window size : 0.619 (s)\n",
      "Effective window size : 0.619 (s)\n",
      "Effective window size : 0.619 (s)\n"
     ]
    },
    {
     "name": "stderr",
     "output_type": "stream",
     "text": [
      "/tmp/ipykernel_18001/1951054575.py:54: FutureWarning: The frame.append method is deprecated and will be removed from pandas in a future version. Use pandas.concat instead.\n",
      "  df_eeg_features = df_eeg_features.append(eeg_band_fft, ignore_index=True)\n",
      "/tmp/ipykernel_18001/1951054575.py:54: FutureWarning: The frame.append method is deprecated and will be removed from pandas in a future version. Use pandas.concat instead.\n",
      "  df_eeg_features = df_eeg_features.append(eeg_band_fft, ignore_index=True)\n",
      "/tmp/ipykernel_18001/1951054575.py:54: FutureWarning: The frame.append method is deprecated and will be removed from pandas in a future version. Use pandas.concat instead.\n",
      "  df_eeg_features = df_eeg_features.append(eeg_band_fft, ignore_index=True)\n"
     ]
    },
    {
     "name": "stdout",
     "output_type": "stream",
     "text": [
      "Effective window size : 0.619 (s)\n",
      "Effective window size : 0.619 (s)\n",
      "Effective window size : 0.619 (s)\n",
      "Effective window size : 0.619 (s)\n",
      "Effective window size : 0.619 (s)\n",
      "Effective window size : 0.619 (s)\n"
     ]
    },
    {
     "name": "stderr",
     "output_type": "stream",
     "text": [
      "/tmp/ipykernel_18001/1951054575.py:54: FutureWarning: The frame.append method is deprecated and will be removed from pandas in a future version. Use pandas.concat instead.\n",
      "  df_eeg_features = df_eeg_features.append(eeg_band_fft, ignore_index=True)\n",
      "/tmp/ipykernel_18001/1951054575.py:54: FutureWarning: The frame.append method is deprecated and will be removed from pandas in a future version. Use pandas.concat instead.\n",
      "  df_eeg_features = df_eeg_features.append(eeg_band_fft, ignore_index=True)\n",
      "/tmp/ipykernel_18001/1951054575.py:54: FutureWarning: The frame.append method is deprecated and will be removed from pandas in a future version. Use pandas.concat instead.\n",
      "  df_eeg_features = df_eeg_features.append(eeg_band_fft, ignore_index=True)\n"
     ]
    },
    {
     "name": "stdout",
     "output_type": "stream",
     "text": [
      "Effective window size : 0.619 (s)\n",
      "Effective window size : 0.619 (s)\n",
      "Effective window size : 0.619 (s)\n",
      "Effective window size : 0.619 (s)\n",
      "Effective window size : 0.619 (s)\n",
      "Effective window size : 0.619 (s)\n"
     ]
    },
    {
     "name": "stderr",
     "output_type": "stream",
     "text": [
      "/tmp/ipykernel_18001/1951054575.py:54: FutureWarning: The frame.append method is deprecated and will be removed from pandas in a future version. Use pandas.concat instead.\n",
      "  df_eeg_features = df_eeg_features.append(eeg_band_fft, ignore_index=True)\n",
      "/tmp/ipykernel_18001/1951054575.py:54: FutureWarning: The frame.append method is deprecated and will be removed from pandas in a future version. Use pandas.concat instead.\n",
      "  df_eeg_features = df_eeg_features.append(eeg_band_fft, ignore_index=True)\n",
      "/tmp/ipykernel_18001/1951054575.py:54: FutureWarning: The frame.append method is deprecated and will be removed from pandas in a future version. Use pandas.concat instead.\n",
      "  df_eeg_features = df_eeg_features.append(eeg_band_fft, ignore_index=True)\n"
     ]
    },
    {
     "name": "stdout",
     "output_type": "stream",
     "text": [
      "Effective window size : 0.619 (s)\n",
      "Effective window size : 0.619 (s)\n",
      "Effective window size : 0.619 (s)\n",
      "Effective window size : 0.619 (s)\n",
      "Effective window size : 0.619 (s)\n",
      "Effective window size : 0.619 (s)\n"
     ]
    },
    {
     "name": "stderr",
     "output_type": "stream",
     "text": [
      "/tmp/ipykernel_18001/1951054575.py:54: FutureWarning: The frame.append method is deprecated and will be removed from pandas in a future version. Use pandas.concat instead.\n",
      "  df_eeg_features = df_eeg_features.append(eeg_band_fft, ignore_index=True)\n",
      "/tmp/ipykernel_18001/1951054575.py:54: FutureWarning: The frame.append method is deprecated and will be removed from pandas in a future version. Use pandas.concat instead.\n",
      "  df_eeg_features = df_eeg_features.append(eeg_band_fft, ignore_index=True)\n",
      "/tmp/ipykernel_18001/1951054575.py:54: FutureWarning: The frame.append method is deprecated and will be removed from pandas in a future version. Use pandas.concat instead.\n",
      "  df_eeg_features = df_eeg_features.append(eeg_band_fft, ignore_index=True)\n"
     ]
    },
    {
     "name": "stdout",
     "output_type": "stream",
     "text": [
      "Effective window size : 0.619 (s)\n",
      "Effective window size : 0.619 (s)\n",
      "Effective window size : 0.619 (s)\n",
      "Effective window size : 0.619 (s)\n"
     ]
    },
    {
     "name": "stderr",
     "output_type": "stream",
     "text": [
      "/tmp/ipykernel_18001/1951054575.py:54: FutureWarning: The frame.append method is deprecated and will be removed from pandas in a future version. Use pandas.concat instead.\n",
      "  df_eeg_features = df_eeg_features.append(eeg_band_fft, ignore_index=True)\n",
      "/tmp/ipykernel_18001/1951054575.py:54: FutureWarning: The frame.append method is deprecated and will be removed from pandas in a future version. Use pandas.concat instead.\n",
      "  df_eeg_features = df_eeg_features.append(eeg_band_fft, ignore_index=True)\n",
      "/tmp/ipykernel_18001/1951054575.py:54: FutureWarning: The frame.append method is deprecated and will be removed from pandas in a future version. Use pandas.concat instead.\n",
      "  df_eeg_features = df_eeg_features.append(eeg_band_fft, ignore_index=True)\n"
     ]
    },
    {
     "name": "stdout",
     "output_type": "stream",
     "text": [
      "Extracting EDF parameters from /home/vanilla_skies/mne_data/MNE-eegbci-data/files/eegmmidb/1.0.0/S021/S021R03.edf...\n",
      "EDF file detected\n",
      "Setting channel info structure...\n",
      "Creating raw.info structure...\n",
      "Reading 0 ... 19999  =      0.000 ...   124.994 secs...\n",
      "Extracting EDF parameters from /home/vanilla_skies/mne_data/MNE-eegbci-data/files/eegmmidb/1.0.0/S021/S021R07.edf...\n",
      "EDF file detected\n",
      "Setting channel info structure...\n",
      "Creating raw.info structure...\n",
      "Reading 0 ... 19999  =      0.000 ...   124.994 secs...\n",
      "Extracting EDF parameters from /home/vanilla_skies/mne_data/MNE-eegbci-data/files/eegmmidb/1.0.0/S021/S021R11.edf...\n",
      "EDF file detected\n",
      "Setting channel info structure...\n",
      "Creating raw.info structure...\n",
      "Reading 0 ... 19999  =      0.000 ...   124.994 secs...\n",
      "Used Annotations descriptions: ['T0', 'T1', 'T2']\n",
      "Filtering raw data in 3 contiguous segments\n",
      "Setting up band-pass filter from 7 - 30 Hz\n",
      "\n",
      "FIR filter parameters\n",
      "---------------------\n",
      "Designing a one-pass, zero-phase, non-causal bandpass filter:\n",
      "- Windowed time-domain design (firwin) method\n",
      "- Hamming window with 0.0194 passband ripple and 53 dB stopband attenuation\n",
      "- Lower passband edge: 7.00\n",
      "- Lower transition bandwidth: 2.00 Hz (-6 dB cutoff frequency: 6.00 Hz)\n",
      "- Upper passband edge: 30.00 Hz\n",
      "- Upper transition bandwidth: 7.50 Hz (-6 dB cutoff frequency: 33.75 Hz)\n",
      "- Filter length: 265 samples (1.656 sec)\n",
      "\n",
      "Not setting metadata\n",
      "45 matching events found\n",
      "No baseline correction applied\n",
      "0 projection items activated\n",
      "Using data from preloaded Raw for 45 events and 801 original time points ...\n",
      "0 bad epochs dropped\n",
      "Effective window size : 0.619 (s)\n",
      "Effective window size : 0.619 (s)\n",
      "Effective window size : 0.619 (s)\n",
      "Effective window size : 0.619 (s)\n",
      "Effective window size : 0.619 (s)\n",
      "Effective window size : 0.619 (s)\n",
      "Effective window size : 0.619 (s)\n",
      "Effective window size : 0.619 (s)\n"
     ]
    },
    {
     "name": "stderr",
     "output_type": "stream",
     "text": [
      "/tmp/ipykernel_18001/1951054575.py:54: FutureWarning: The frame.append method is deprecated and will be removed from pandas in a future version. Use pandas.concat instead.\n",
      "  df_eeg_features = df_eeg_features.append(eeg_band_fft, ignore_index=True)\n",
      "/tmp/ipykernel_18001/1951054575.py:54: FutureWarning: The frame.append method is deprecated and will be removed from pandas in a future version. Use pandas.concat instead.\n",
      "  df_eeg_features = df_eeg_features.append(eeg_band_fft, ignore_index=True)\n",
      "/tmp/ipykernel_18001/1951054575.py:54: FutureWarning: The frame.append method is deprecated and will be removed from pandas in a future version. Use pandas.concat instead.\n",
      "  df_eeg_features = df_eeg_features.append(eeg_band_fft, ignore_index=True)\n"
     ]
    },
    {
     "name": "stdout",
     "output_type": "stream",
     "text": [
      "Effective window size : 0.619 (s)\n",
      "Effective window size : 0.619 (s)\n",
      "Effective window size : 0.619 (s)\n",
      "Effective window size : 0.619 (s)\n",
      "Effective window size : 0.619 (s)\n",
      "Effective window size : 0.619 (s)\n"
     ]
    },
    {
     "name": "stderr",
     "output_type": "stream",
     "text": [
      "/tmp/ipykernel_18001/1951054575.py:54: FutureWarning: The frame.append method is deprecated and will be removed from pandas in a future version. Use pandas.concat instead.\n",
      "  df_eeg_features = df_eeg_features.append(eeg_band_fft, ignore_index=True)\n",
      "/tmp/ipykernel_18001/1951054575.py:54: FutureWarning: The frame.append method is deprecated and will be removed from pandas in a future version. Use pandas.concat instead.\n",
      "  df_eeg_features = df_eeg_features.append(eeg_band_fft, ignore_index=True)\n",
      "/tmp/ipykernel_18001/1951054575.py:54: FutureWarning: The frame.append method is deprecated and will be removed from pandas in a future version. Use pandas.concat instead.\n",
      "  df_eeg_features = df_eeg_features.append(eeg_band_fft, ignore_index=True)\n"
     ]
    },
    {
     "name": "stdout",
     "output_type": "stream",
     "text": [
      "Effective window size : 0.619 (s)\n",
      "Effective window size : 0.619 (s)\n",
      "Effective window size : 0.619 (s)\n",
      "Effective window size : 0.619 (s)\n",
      "Effective window size : 0.619 (s)\n",
      "Effective window size : 0.619 (s)\n"
     ]
    },
    {
     "name": "stderr",
     "output_type": "stream",
     "text": [
      "/tmp/ipykernel_18001/1951054575.py:54: FutureWarning: The frame.append method is deprecated and will be removed from pandas in a future version. Use pandas.concat instead.\n",
      "  df_eeg_features = df_eeg_features.append(eeg_band_fft, ignore_index=True)\n",
      "/tmp/ipykernel_18001/1951054575.py:54: FutureWarning: The frame.append method is deprecated and will be removed from pandas in a future version. Use pandas.concat instead.\n",
      "  df_eeg_features = df_eeg_features.append(eeg_band_fft, ignore_index=True)\n",
      "/tmp/ipykernel_18001/1951054575.py:54: FutureWarning: The frame.append method is deprecated and will be removed from pandas in a future version. Use pandas.concat instead.\n",
      "  df_eeg_features = df_eeg_features.append(eeg_band_fft, ignore_index=True)\n"
     ]
    },
    {
     "name": "stdout",
     "output_type": "stream",
     "text": [
      "Effective window size : 0.619 (s)\n",
      "Effective window size : 0.619 (s)\n",
      "Effective window size : 0.619 (s)\n",
      "Effective window size : 0.619 (s)\n",
      "Effective window size : 0.619 (s)\n",
      "Effective window size : 0.619 (s)\n"
     ]
    },
    {
     "name": "stderr",
     "output_type": "stream",
     "text": [
      "/tmp/ipykernel_18001/1951054575.py:54: FutureWarning: The frame.append method is deprecated and will be removed from pandas in a future version. Use pandas.concat instead.\n",
      "  df_eeg_features = df_eeg_features.append(eeg_band_fft, ignore_index=True)\n",
      "/tmp/ipykernel_18001/1951054575.py:54: FutureWarning: The frame.append method is deprecated and will be removed from pandas in a future version. Use pandas.concat instead.\n",
      "  df_eeg_features = df_eeg_features.append(eeg_band_fft, ignore_index=True)\n",
      "/tmp/ipykernel_18001/1951054575.py:54: FutureWarning: The frame.append method is deprecated and will be removed from pandas in a future version. Use pandas.concat instead.\n",
      "  df_eeg_features = df_eeg_features.append(eeg_band_fft, ignore_index=True)\n"
     ]
    },
    {
     "name": "stdout",
     "output_type": "stream",
     "text": [
      "Effective window size : 0.619 (s)\n",
      "Effective window size : 0.619 (s)\n",
      "Effective window size : 0.619 (s)\n",
      "Effective window size : 0.619 (s)\n",
      "Effective window size : 0.619 (s)\n",
      "Effective window size : 0.619 (s)\n"
     ]
    },
    {
     "name": "stderr",
     "output_type": "stream",
     "text": [
      "/tmp/ipykernel_18001/1951054575.py:54: FutureWarning: The frame.append method is deprecated and will be removed from pandas in a future version. Use pandas.concat instead.\n",
      "  df_eeg_features = df_eeg_features.append(eeg_band_fft, ignore_index=True)\n",
      "/tmp/ipykernel_18001/1951054575.py:54: FutureWarning: The frame.append method is deprecated and will be removed from pandas in a future version. Use pandas.concat instead.\n",
      "  df_eeg_features = df_eeg_features.append(eeg_band_fft, ignore_index=True)\n",
      "/tmp/ipykernel_18001/1951054575.py:54: FutureWarning: The frame.append method is deprecated and will be removed from pandas in a future version. Use pandas.concat instead.\n",
      "  df_eeg_features = df_eeg_features.append(eeg_band_fft, ignore_index=True)\n"
     ]
    },
    {
     "name": "stdout",
     "output_type": "stream",
     "text": [
      "Effective window size : 0.619 (s)\n",
      "Effective window size : 0.619 (s)\n",
      "Effective window size : 0.619 (s)\n",
      "Effective window size : 0.619 (s)\n",
      "Effective window size : 0.619 (s)\n",
      "Effective window size : 0.619 (s)\n"
     ]
    },
    {
     "name": "stderr",
     "output_type": "stream",
     "text": [
      "/tmp/ipykernel_18001/1951054575.py:54: FutureWarning: The frame.append method is deprecated and will be removed from pandas in a future version. Use pandas.concat instead.\n",
      "  df_eeg_features = df_eeg_features.append(eeg_band_fft, ignore_index=True)\n",
      "/tmp/ipykernel_18001/1951054575.py:54: FutureWarning: The frame.append method is deprecated and will be removed from pandas in a future version. Use pandas.concat instead.\n",
      "  df_eeg_features = df_eeg_features.append(eeg_band_fft, ignore_index=True)\n",
      "/tmp/ipykernel_18001/1951054575.py:54: FutureWarning: The frame.append method is deprecated and will be removed from pandas in a future version. Use pandas.concat instead.\n",
      "  df_eeg_features = df_eeg_features.append(eeg_band_fft, ignore_index=True)\n"
     ]
    },
    {
     "name": "stdout",
     "output_type": "stream",
     "text": [
      "Effective window size : 0.619 (s)\n",
      "Effective window size : 0.619 (s)\n",
      "Effective window size : 0.619 (s)\n",
      "Effective window size : 0.619 (s)\n",
      "Effective window size : 0.619 (s)\n",
      "Effective window size : 0.619 (s)\n"
     ]
    },
    {
     "name": "stderr",
     "output_type": "stream",
     "text": [
      "/tmp/ipykernel_18001/1951054575.py:54: FutureWarning: The frame.append method is deprecated and will be removed from pandas in a future version. Use pandas.concat instead.\n",
      "  df_eeg_features = df_eeg_features.append(eeg_band_fft, ignore_index=True)\n",
      "/tmp/ipykernel_18001/1951054575.py:54: FutureWarning: The frame.append method is deprecated and will be removed from pandas in a future version. Use pandas.concat instead.\n",
      "  df_eeg_features = df_eeg_features.append(eeg_band_fft, ignore_index=True)\n",
      "/tmp/ipykernel_18001/1951054575.py:54: FutureWarning: The frame.append method is deprecated and will be removed from pandas in a future version. Use pandas.concat instead.\n",
      "  df_eeg_features = df_eeg_features.append(eeg_band_fft, ignore_index=True)\n"
     ]
    },
    {
     "name": "stdout",
     "output_type": "stream",
     "text": [
      "Effective window size : 0.619 (s)\n",
      "Effective window size : 0.619 (s)\n",
      "Effective window size : 0.619 (s)\n",
      "Effective window size : 0.619 (s)\n",
      "Effective window size : 0.619 (s)\n",
      "Effective window size : 0.619 (s)\n"
     ]
    },
    {
     "name": "stderr",
     "output_type": "stream",
     "text": [
      "/tmp/ipykernel_18001/1951054575.py:54: FutureWarning: The frame.append method is deprecated and will be removed from pandas in a future version. Use pandas.concat instead.\n",
      "  df_eeg_features = df_eeg_features.append(eeg_band_fft, ignore_index=True)\n",
      "/tmp/ipykernel_18001/1951054575.py:54: FutureWarning: The frame.append method is deprecated and will be removed from pandas in a future version. Use pandas.concat instead.\n",
      "  df_eeg_features = df_eeg_features.append(eeg_band_fft, ignore_index=True)\n",
      "/tmp/ipykernel_18001/1951054575.py:54: FutureWarning: The frame.append method is deprecated and will be removed from pandas in a future version. Use pandas.concat instead.\n",
      "  df_eeg_features = df_eeg_features.append(eeg_band_fft, ignore_index=True)\n"
     ]
    },
    {
     "name": "stdout",
     "output_type": "stream",
     "text": [
      "Effective window size : 0.619 (s)\n",
      "Effective window size : 0.619 (s)\n",
      "Effective window size : 0.619 (s)\n",
      "Effective window size : 0.619 (s)\n",
      "Effective window size : 0.619 (s)\n",
      "Effective window size : 0.619 (s)\n"
     ]
    },
    {
     "name": "stderr",
     "output_type": "stream",
     "text": [
      "/tmp/ipykernel_18001/1951054575.py:54: FutureWarning: The frame.append method is deprecated and will be removed from pandas in a future version. Use pandas.concat instead.\n",
      "  df_eeg_features = df_eeg_features.append(eeg_band_fft, ignore_index=True)\n",
      "/tmp/ipykernel_18001/1951054575.py:54: FutureWarning: The frame.append method is deprecated and will be removed from pandas in a future version. Use pandas.concat instead.\n",
      "  df_eeg_features = df_eeg_features.append(eeg_band_fft, ignore_index=True)\n",
      "/tmp/ipykernel_18001/1951054575.py:54: FutureWarning: The frame.append method is deprecated and will be removed from pandas in a future version. Use pandas.concat instead.\n",
      "  df_eeg_features = df_eeg_features.append(eeg_band_fft, ignore_index=True)\n"
     ]
    },
    {
     "name": "stdout",
     "output_type": "stream",
     "text": [
      "Effective window size : 0.619 (s)\n",
      "Effective window size : 0.619 (s)\n",
      "Effective window size : 0.619 (s)\n",
      "Effective window size : 0.619 (s)\n",
      "Effective window size : 0.619 (s)\n",
      "Effective window size : 0.619 (s)\n"
     ]
    },
    {
     "name": "stderr",
     "output_type": "stream",
     "text": [
      "/tmp/ipykernel_18001/1951054575.py:54: FutureWarning: The frame.append method is deprecated and will be removed from pandas in a future version. Use pandas.concat instead.\n",
      "  df_eeg_features = df_eeg_features.append(eeg_band_fft, ignore_index=True)\n",
      "/tmp/ipykernel_18001/1951054575.py:54: FutureWarning: The frame.append method is deprecated and will be removed from pandas in a future version. Use pandas.concat instead.\n",
      "  df_eeg_features = df_eeg_features.append(eeg_band_fft, ignore_index=True)\n",
      "/tmp/ipykernel_18001/1951054575.py:54: FutureWarning: The frame.append method is deprecated and will be removed from pandas in a future version. Use pandas.concat instead.\n",
      "  df_eeg_features = df_eeg_features.append(eeg_band_fft, ignore_index=True)\n"
     ]
    },
    {
     "name": "stdout",
     "output_type": "stream",
     "text": [
      "Effective window size : 0.619 (s)\n",
      "Effective window size : 0.619 (s)\n",
      "Effective window size : 0.619 (s)\n",
      "Effective window size : 0.619 (s)\n",
      "Effective window size : 0.619 (s)\n",
      "Effective window size : 0.619 (s)\n"
     ]
    },
    {
     "name": "stderr",
     "output_type": "stream",
     "text": [
      "/tmp/ipykernel_18001/1951054575.py:54: FutureWarning: The frame.append method is deprecated and will be removed from pandas in a future version. Use pandas.concat instead.\n",
      "  df_eeg_features = df_eeg_features.append(eeg_band_fft, ignore_index=True)\n",
      "/tmp/ipykernel_18001/1951054575.py:54: FutureWarning: The frame.append method is deprecated and will be removed from pandas in a future version. Use pandas.concat instead.\n",
      "  df_eeg_features = df_eeg_features.append(eeg_band_fft, ignore_index=True)\n",
      "/tmp/ipykernel_18001/1951054575.py:54: FutureWarning: The frame.append method is deprecated and will be removed from pandas in a future version. Use pandas.concat instead.\n",
      "  df_eeg_features = df_eeg_features.append(eeg_band_fft, ignore_index=True)\n"
     ]
    },
    {
     "name": "stdout",
     "output_type": "stream",
     "text": [
      "Effective window size : 0.619 (s)\n",
      "Effective window size : 0.619 (s)\n",
      "Effective window size : 0.619 (s)\n",
      "Effective window size : 0.619 (s)\n",
      "Effective window size : 0.619 (s)\n",
      "Effective window size : 0.619 (s)\n"
     ]
    },
    {
     "name": "stderr",
     "output_type": "stream",
     "text": [
      "/tmp/ipykernel_18001/1951054575.py:54: FutureWarning: The frame.append method is deprecated and will be removed from pandas in a future version. Use pandas.concat instead.\n",
      "  df_eeg_features = df_eeg_features.append(eeg_band_fft, ignore_index=True)\n",
      "/tmp/ipykernel_18001/1951054575.py:54: FutureWarning: The frame.append method is deprecated and will be removed from pandas in a future version. Use pandas.concat instead.\n",
      "  df_eeg_features = df_eeg_features.append(eeg_band_fft, ignore_index=True)\n",
      "/tmp/ipykernel_18001/1951054575.py:54: FutureWarning: The frame.append method is deprecated and will be removed from pandas in a future version. Use pandas.concat instead.\n",
      "  df_eeg_features = df_eeg_features.append(eeg_band_fft, ignore_index=True)\n"
     ]
    },
    {
     "name": "stdout",
     "output_type": "stream",
     "text": [
      "Effective window size : 0.619 (s)\n",
      "Effective window size : 0.619 (s)\n",
      "Effective window size : 0.619 (s)\n",
      "Effective window size : 0.619 (s)\n",
      "Effective window size : 0.619 (s)\n",
      "Effective window size : 0.619 (s)\n"
     ]
    },
    {
     "name": "stderr",
     "output_type": "stream",
     "text": [
      "/tmp/ipykernel_18001/1951054575.py:54: FutureWarning: The frame.append method is deprecated and will be removed from pandas in a future version. Use pandas.concat instead.\n",
      "  df_eeg_features = df_eeg_features.append(eeg_band_fft, ignore_index=True)\n",
      "/tmp/ipykernel_18001/1951054575.py:54: FutureWarning: The frame.append method is deprecated and will be removed from pandas in a future version. Use pandas.concat instead.\n",
      "  df_eeg_features = df_eeg_features.append(eeg_band_fft, ignore_index=True)\n",
      "/tmp/ipykernel_18001/1951054575.py:54: FutureWarning: The frame.append method is deprecated and will be removed from pandas in a future version. Use pandas.concat instead.\n",
      "  df_eeg_features = df_eeg_features.append(eeg_band_fft, ignore_index=True)\n"
     ]
    },
    {
     "name": "stdout",
     "output_type": "stream",
     "text": [
      "Effective window size : 0.619 (s)\n",
      "Effective window size : 0.619 (s)\n",
      "Effective window size : 0.619 (s)\n",
      "Effective window size : 0.619 (s)\n",
      "Effective window size : 0.619 (s)\n",
      "Effective window size : 0.619 (s)\n"
     ]
    },
    {
     "name": "stderr",
     "output_type": "stream",
     "text": [
      "/tmp/ipykernel_18001/1951054575.py:54: FutureWarning: The frame.append method is deprecated and will be removed from pandas in a future version. Use pandas.concat instead.\n",
      "  df_eeg_features = df_eeg_features.append(eeg_band_fft, ignore_index=True)\n",
      "/tmp/ipykernel_18001/1951054575.py:54: FutureWarning: The frame.append method is deprecated and will be removed from pandas in a future version. Use pandas.concat instead.\n",
      "  df_eeg_features = df_eeg_features.append(eeg_band_fft, ignore_index=True)\n",
      "/tmp/ipykernel_18001/1951054575.py:54: FutureWarning: The frame.append method is deprecated and will be removed from pandas in a future version. Use pandas.concat instead.\n",
      "  df_eeg_features = df_eeg_features.append(eeg_band_fft, ignore_index=True)\n"
     ]
    },
    {
     "name": "stdout",
     "output_type": "stream",
     "text": [
      "Effective window size : 0.619 (s)\n",
      "Effective window size : 0.619 (s)\n",
      "Effective window size : 0.619 (s)\n",
      "Effective window size : 0.619 (s)\n"
     ]
    },
    {
     "name": "stderr",
     "output_type": "stream",
     "text": [
      "/tmp/ipykernel_18001/1951054575.py:54: FutureWarning: The frame.append method is deprecated and will be removed from pandas in a future version. Use pandas.concat instead.\n",
      "  df_eeg_features = df_eeg_features.append(eeg_band_fft, ignore_index=True)\n",
      "/tmp/ipykernel_18001/1951054575.py:54: FutureWarning: The frame.append method is deprecated and will be removed from pandas in a future version. Use pandas.concat instead.\n",
      "  df_eeg_features = df_eeg_features.append(eeg_band_fft, ignore_index=True)\n",
      "/tmp/ipykernel_18001/1951054575.py:54: FutureWarning: The frame.append method is deprecated and will be removed from pandas in a future version. Use pandas.concat instead.\n",
      "  df_eeg_features = df_eeg_features.append(eeg_band_fft, ignore_index=True)\n"
     ]
    },
    {
     "name": "stdout",
     "output_type": "stream",
     "text": [
      "Extracting EDF parameters from /home/vanilla_skies/mne_data/MNE-eegbci-data/files/eegmmidb/1.0.0/S022/S022R03.edf...\n",
      "EDF file detected\n",
      "Setting channel info structure...\n",
      "Creating raw.info structure...\n",
      "Reading 0 ... 19999  =      0.000 ...   124.994 secs...\n",
      "Extracting EDF parameters from /home/vanilla_skies/mne_data/MNE-eegbci-data/files/eegmmidb/1.0.0/S022/S022R07.edf...\n",
      "EDF file detected\n",
      "Setting channel info structure...\n",
      "Creating raw.info structure...\n",
      "Reading 0 ... 19999  =      0.000 ...   124.994 secs...\n",
      "Extracting EDF parameters from /home/vanilla_skies/mne_data/MNE-eegbci-data/files/eegmmidb/1.0.0/S022/S022R11.edf...\n",
      "EDF file detected\n",
      "Setting channel info structure...\n",
      "Creating raw.info structure...\n",
      "Reading 0 ... 19999  =      0.000 ...   124.994 secs...\n",
      "Used Annotations descriptions: ['T0', 'T1', 'T2']\n",
      "Filtering raw data in 3 contiguous segments\n",
      "Setting up band-pass filter from 7 - 30 Hz\n",
      "\n",
      "FIR filter parameters\n",
      "---------------------\n",
      "Designing a one-pass, zero-phase, non-causal bandpass filter:\n",
      "- Windowed time-domain design (firwin) method\n",
      "- Hamming window with 0.0194 passband ripple and 53 dB stopband attenuation\n",
      "- Lower passband edge: 7.00\n",
      "- Lower transition bandwidth: 2.00 Hz (-6 dB cutoff frequency: 6.00 Hz)\n",
      "- Upper passband edge: 30.00 Hz\n",
      "- Upper transition bandwidth: 7.50 Hz (-6 dB cutoff frequency: 33.75 Hz)\n",
      "- Filter length: 265 samples (1.656 sec)\n",
      "\n",
      "Not setting metadata\n",
      "45 matching events found\n",
      "No baseline correction applied\n",
      "0 projection items activated\n",
      "Using data from preloaded Raw for 45 events and 801 original time points ...\n",
      "0 bad epochs dropped\n",
      "Effective window size : 0.619 (s)\n",
      "Effective window size : 0.619 (s)\n",
      "Effective window size : 0.619 (s)\n",
      "Effective window size : 0.619 (s)\n",
      "Effective window size : 0.619 (s)\n",
      "Effective window size : 0.619 (s)\n",
      "Effective window size : 0.619 (s)\n",
      "Effective window size : 0.619 (s)\n"
     ]
    },
    {
     "name": "stderr",
     "output_type": "stream",
     "text": [
      "/tmp/ipykernel_18001/1951054575.py:54: FutureWarning: The frame.append method is deprecated and will be removed from pandas in a future version. Use pandas.concat instead.\n",
      "  df_eeg_features = df_eeg_features.append(eeg_band_fft, ignore_index=True)\n",
      "/tmp/ipykernel_18001/1951054575.py:54: FutureWarning: The frame.append method is deprecated and will be removed from pandas in a future version. Use pandas.concat instead.\n",
      "  df_eeg_features = df_eeg_features.append(eeg_band_fft, ignore_index=True)\n",
      "/tmp/ipykernel_18001/1951054575.py:54: FutureWarning: The frame.append method is deprecated and will be removed from pandas in a future version. Use pandas.concat instead.\n",
      "  df_eeg_features = df_eeg_features.append(eeg_band_fft, ignore_index=True)\n"
     ]
    },
    {
     "name": "stdout",
     "output_type": "stream",
     "text": [
      "Effective window size : 0.619 (s)\n",
      "Effective window size : 0.619 (s)\n",
      "Effective window size : 0.619 (s)\n",
      "Effective window size : 0.619 (s)\n",
      "Effective window size : 0.619 (s)\n",
      "Effective window size : 0.619 (s)\n"
     ]
    },
    {
     "name": "stderr",
     "output_type": "stream",
     "text": [
      "/tmp/ipykernel_18001/1951054575.py:54: FutureWarning: The frame.append method is deprecated and will be removed from pandas in a future version. Use pandas.concat instead.\n",
      "  df_eeg_features = df_eeg_features.append(eeg_band_fft, ignore_index=True)\n",
      "/tmp/ipykernel_18001/1951054575.py:54: FutureWarning: The frame.append method is deprecated and will be removed from pandas in a future version. Use pandas.concat instead.\n",
      "  df_eeg_features = df_eeg_features.append(eeg_band_fft, ignore_index=True)\n",
      "/tmp/ipykernel_18001/1951054575.py:54: FutureWarning: The frame.append method is deprecated and will be removed from pandas in a future version. Use pandas.concat instead.\n",
      "  df_eeg_features = df_eeg_features.append(eeg_band_fft, ignore_index=True)\n"
     ]
    },
    {
     "name": "stdout",
     "output_type": "stream",
     "text": [
      "Effective window size : 0.619 (s)\n",
      "Effective window size : 0.619 (s)\n",
      "Effective window size : 0.619 (s)\n",
      "Effective window size : 0.619 (s)\n",
      "Effective window size : 0.619 (s)\n",
      "Effective window size : 0.619 (s)\n"
     ]
    },
    {
     "name": "stderr",
     "output_type": "stream",
     "text": [
      "/tmp/ipykernel_18001/1951054575.py:54: FutureWarning: The frame.append method is deprecated and will be removed from pandas in a future version. Use pandas.concat instead.\n",
      "  df_eeg_features = df_eeg_features.append(eeg_band_fft, ignore_index=True)\n",
      "/tmp/ipykernel_18001/1951054575.py:54: FutureWarning: The frame.append method is deprecated and will be removed from pandas in a future version. Use pandas.concat instead.\n",
      "  df_eeg_features = df_eeg_features.append(eeg_band_fft, ignore_index=True)\n",
      "/tmp/ipykernel_18001/1951054575.py:54: FutureWarning: The frame.append method is deprecated and will be removed from pandas in a future version. Use pandas.concat instead.\n",
      "  df_eeg_features = df_eeg_features.append(eeg_band_fft, ignore_index=True)\n"
     ]
    },
    {
     "name": "stdout",
     "output_type": "stream",
     "text": [
      "Effective window size : 0.619 (s)\n",
      "Effective window size : 0.619 (s)\n",
      "Effective window size : 0.619 (s)\n",
      "Effective window size : 0.619 (s)\n",
      "Effective window size : 0.619 (s)\n",
      "Effective window size : 0.619 (s)\n"
     ]
    },
    {
     "name": "stderr",
     "output_type": "stream",
     "text": [
      "/tmp/ipykernel_18001/1951054575.py:54: FutureWarning: The frame.append method is deprecated and will be removed from pandas in a future version. Use pandas.concat instead.\n",
      "  df_eeg_features = df_eeg_features.append(eeg_band_fft, ignore_index=True)\n",
      "/tmp/ipykernel_18001/1951054575.py:54: FutureWarning: The frame.append method is deprecated and will be removed from pandas in a future version. Use pandas.concat instead.\n",
      "  df_eeg_features = df_eeg_features.append(eeg_band_fft, ignore_index=True)\n",
      "/tmp/ipykernel_18001/1951054575.py:54: FutureWarning: The frame.append method is deprecated and will be removed from pandas in a future version. Use pandas.concat instead.\n",
      "  df_eeg_features = df_eeg_features.append(eeg_band_fft, ignore_index=True)\n"
     ]
    },
    {
     "name": "stdout",
     "output_type": "stream",
     "text": [
      "Effective window size : 0.619 (s)\n",
      "Effective window size : 0.619 (s)\n",
      "Effective window size : 0.619 (s)\n",
      "Effective window size : 0.619 (s)\n",
      "Effective window size : 0.619 (s)\n",
      "Effective window size : 0.619 (s)\n"
     ]
    },
    {
     "name": "stderr",
     "output_type": "stream",
     "text": [
      "/tmp/ipykernel_18001/1951054575.py:54: FutureWarning: The frame.append method is deprecated and will be removed from pandas in a future version. Use pandas.concat instead.\n",
      "  df_eeg_features = df_eeg_features.append(eeg_band_fft, ignore_index=True)\n",
      "/tmp/ipykernel_18001/1951054575.py:54: FutureWarning: The frame.append method is deprecated and will be removed from pandas in a future version. Use pandas.concat instead.\n",
      "  df_eeg_features = df_eeg_features.append(eeg_band_fft, ignore_index=True)\n",
      "/tmp/ipykernel_18001/1951054575.py:54: FutureWarning: The frame.append method is deprecated and will be removed from pandas in a future version. Use pandas.concat instead.\n",
      "  df_eeg_features = df_eeg_features.append(eeg_band_fft, ignore_index=True)\n"
     ]
    },
    {
     "name": "stdout",
     "output_type": "stream",
     "text": [
      "Effective window size : 0.619 (s)\n",
      "Effective window size : 0.619 (s)\n",
      "Effective window size : 0.619 (s)\n",
      "Effective window size : 0.619 (s)\n",
      "Effective window size : 0.619 (s)\n",
      "Effective window size : 0.619 (s)\n"
     ]
    },
    {
     "name": "stderr",
     "output_type": "stream",
     "text": [
      "/tmp/ipykernel_18001/1951054575.py:54: FutureWarning: The frame.append method is deprecated and will be removed from pandas in a future version. Use pandas.concat instead.\n",
      "  df_eeg_features = df_eeg_features.append(eeg_band_fft, ignore_index=True)\n",
      "/tmp/ipykernel_18001/1951054575.py:54: FutureWarning: The frame.append method is deprecated and will be removed from pandas in a future version. Use pandas.concat instead.\n",
      "  df_eeg_features = df_eeg_features.append(eeg_band_fft, ignore_index=True)\n",
      "/tmp/ipykernel_18001/1951054575.py:54: FutureWarning: The frame.append method is deprecated and will be removed from pandas in a future version. Use pandas.concat instead.\n",
      "  df_eeg_features = df_eeg_features.append(eeg_band_fft, ignore_index=True)\n"
     ]
    },
    {
     "name": "stdout",
     "output_type": "stream",
     "text": [
      "Effective window size : 0.619 (s)\n",
      "Effective window size : 0.619 (s)\n",
      "Effective window size : 0.619 (s)\n",
      "Effective window size : 0.619 (s)\n",
      "Effective window size : 0.619 (s)\n",
      "Effective window size : 0.619 (s)\n"
     ]
    },
    {
     "name": "stderr",
     "output_type": "stream",
     "text": [
      "/tmp/ipykernel_18001/1951054575.py:54: FutureWarning: The frame.append method is deprecated and will be removed from pandas in a future version. Use pandas.concat instead.\n",
      "  df_eeg_features = df_eeg_features.append(eeg_band_fft, ignore_index=True)\n",
      "/tmp/ipykernel_18001/1951054575.py:54: FutureWarning: The frame.append method is deprecated and will be removed from pandas in a future version. Use pandas.concat instead.\n",
      "  df_eeg_features = df_eeg_features.append(eeg_band_fft, ignore_index=True)\n",
      "/tmp/ipykernel_18001/1951054575.py:54: FutureWarning: The frame.append method is deprecated and will be removed from pandas in a future version. Use pandas.concat instead.\n",
      "  df_eeg_features = df_eeg_features.append(eeg_band_fft, ignore_index=True)\n"
     ]
    },
    {
     "name": "stdout",
     "output_type": "stream",
     "text": [
      "Effective window size : 0.619 (s)\n",
      "Effective window size : 0.619 (s)\n",
      "Effective window size : 0.619 (s)\n",
      "Effective window size : 0.619 (s)\n",
      "Effective window size : 0.619 (s)\n",
      "Effective window size : 0.619 (s)\n"
     ]
    },
    {
     "name": "stderr",
     "output_type": "stream",
     "text": [
      "/tmp/ipykernel_18001/1951054575.py:54: FutureWarning: The frame.append method is deprecated and will be removed from pandas in a future version. Use pandas.concat instead.\n",
      "  df_eeg_features = df_eeg_features.append(eeg_band_fft, ignore_index=True)\n",
      "/tmp/ipykernel_18001/1951054575.py:54: FutureWarning: The frame.append method is deprecated and will be removed from pandas in a future version. Use pandas.concat instead.\n",
      "  df_eeg_features = df_eeg_features.append(eeg_band_fft, ignore_index=True)\n",
      "/tmp/ipykernel_18001/1951054575.py:54: FutureWarning: The frame.append method is deprecated and will be removed from pandas in a future version. Use pandas.concat instead.\n",
      "  df_eeg_features = df_eeg_features.append(eeg_band_fft, ignore_index=True)\n"
     ]
    },
    {
     "name": "stdout",
     "output_type": "stream",
     "text": [
      "Effective window size : 0.619 (s)\n",
      "Effective window size : 0.619 (s)\n",
      "Effective window size : 0.619 (s)\n",
      "Effective window size : 0.619 (s)\n",
      "Effective window size : 0.619 (s)\n",
      "Effective window size : 0.619 (s)\n"
     ]
    },
    {
     "name": "stderr",
     "output_type": "stream",
     "text": [
      "/tmp/ipykernel_18001/1951054575.py:54: FutureWarning: The frame.append method is deprecated and will be removed from pandas in a future version. Use pandas.concat instead.\n",
      "  df_eeg_features = df_eeg_features.append(eeg_band_fft, ignore_index=True)\n",
      "/tmp/ipykernel_18001/1951054575.py:54: FutureWarning: The frame.append method is deprecated and will be removed from pandas in a future version. Use pandas.concat instead.\n",
      "  df_eeg_features = df_eeg_features.append(eeg_band_fft, ignore_index=True)\n",
      "/tmp/ipykernel_18001/1951054575.py:54: FutureWarning: The frame.append method is deprecated and will be removed from pandas in a future version. Use pandas.concat instead.\n",
      "  df_eeg_features = df_eeg_features.append(eeg_band_fft, ignore_index=True)\n"
     ]
    },
    {
     "name": "stdout",
     "output_type": "stream",
     "text": [
      "Effective window size : 0.619 (s)\n",
      "Effective window size : 0.619 (s)\n",
      "Effective window size : 0.619 (s)\n",
      "Effective window size : 0.619 (s)\n",
      "Effective window size : 0.619 (s)\n",
      "Effective window size : 0.619 (s)\n"
     ]
    },
    {
     "name": "stderr",
     "output_type": "stream",
     "text": [
      "/tmp/ipykernel_18001/1951054575.py:54: FutureWarning: The frame.append method is deprecated and will be removed from pandas in a future version. Use pandas.concat instead.\n",
      "  df_eeg_features = df_eeg_features.append(eeg_band_fft, ignore_index=True)\n",
      "/tmp/ipykernel_18001/1951054575.py:54: FutureWarning: The frame.append method is deprecated and will be removed from pandas in a future version. Use pandas.concat instead.\n",
      "  df_eeg_features = df_eeg_features.append(eeg_band_fft, ignore_index=True)\n",
      "/tmp/ipykernel_18001/1951054575.py:54: FutureWarning: The frame.append method is deprecated and will be removed from pandas in a future version. Use pandas.concat instead.\n",
      "  df_eeg_features = df_eeg_features.append(eeg_band_fft, ignore_index=True)\n"
     ]
    },
    {
     "name": "stdout",
     "output_type": "stream",
     "text": [
      "Effective window size : 0.619 (s)\n",
      "Effective window size : 0.619 (s)\n",
      "Effective window size : 0.619 (s)\n",
      "Effective window size : 0.619 (s)\n",
      "Effective window size : 0.619 (s)\n",
      "Effective window size : 0.619 (s)\n"
     ]
    },
    {
     "name": "stderr",
     "output_type": "stream",
     "text": [
      "/tmp/ipykernel_18001/1951054575.py:54: FutureWarning: The frame.append method is deprecated and will be removed from pandas in a future version. Use pandas.concat instead.\n",
      "  df_eeg_features = df_eeg_features.append(eeg_band_fft, ignore_index=True)\n",
      "/tmp/ipykernel_18001/1951054575.py:54: FutureWarning: The frame.append method is deprecated and will be removed from pandas in a future version. Use pandas.concat instead.\n",
      "  df_eeg_features = df_eeg_features.append(eeg_band_fft, ignore_index=True)\n",
      "/tmp/ipykernel_18001/1951054575.py:54: FutureWarning: The frame.append method is deprecated and will be removed from pandas in a future version. Use pandas.concat instead.\n",
      "  df_eeg_features = df_eeg_features.append(eeg_band_fft, ignore_index=True)\n"
     ]
    },
    {
     "name": "stdout",
     "output_type": "stream",
     "text": [
      "Effective window size : 0.619 (s)\n",
      "Effective window size : 0.619 (s)\n",
      "Effective window size : 0.619 (s)\n",
      "Effective window size : 0.619 (s)\n",
      "Effective window size : 0.619 (s)\n",
      "Effective window size : 0.619 (s)\n"
     ]
    },
    {
     "name": "stderr",
     "output_type": "stream",
     "text": [
      "/tmp/ipykernel_18001/1951054575.py:54: FutureWarning: The frame.append method is deprecated and will be removed from pandas in a future version. Use pandas.concat instead.\n",
      "  df_eeg_features = df_eeg_features.append(eeg_band_fft, ignore_index=True)\n",
      "/tmp/ipykernel_18001/1951054575.py:54: FutureWarning: The frame.append method is deprecated and will be removed from pandas in a future version. Use pandas.concat instead.\n",
      "  df_eeg_features = df_eeg_features.append(eeg_band_fft, ignore_index=True)\n",
      "/tmp/ipykernel_18001/1951054575.py:54: FutureWarning: The frame.append method is deprecated and will be removed from pandas in a future version. Use pandas.concat instead.\n",
      "  df_eeg_features = df_eeg_features.append(eeg_band_fft, ignore_index=True)\n"
     ]
    },
    {
     "name": "stdout",
     "output_type": "stream",
     "text": [
      "Effective window size : 0.619 (s)\n",
      "Effective window size : 0.619 (s)\n",
      "Effective window size : 0.619 (s)\n",
      "Effective window size : 0.619 (s)\n"
     ]
    },
    {
     "name": "stderr",
     "output_type": "stream",
     "text": [
      "/tmp/ipykernel_18001/1951054575.py:54: FutureWarning: The frame.append method is deprecated and will be removed from pandas in a future version. Use pandas.concat instead.\n",
      "  df_eeg_features = df_eeg_features.append(eeg_band_fft, ignore_index=True)\n",
      "/tmp/ipykernel_18001/1951054575.py:54: FutureWarning: The frame.append method is deprecated and will be removed from pandas in a future version. Use pandas.concat instead.\n",
      "  df_eeg_features = df_eeg_features.append(eeg_band_fft, ignore_index=True)\n"
     ]
    },
    {
     "name": "stdout",
     "output_type": "stream",
     "text": [
      "Effective window size : 0.619 (s)\n",
      "Effective window size : 0.619 (s)\n",
      "Effective window size : 0.619 (s)\n",
      "Effective window size : 0.619 (s)\n",
      "Effective window size : 0.619 (s)\n",
      "Effective window size : 0.619 (s)\n"
     ]
    },
    {
     "name": "stderr",
     "output_type": "stream",
     "text": [
      "/tmp/ipykernel_18001/1951054575.py:54: FutureWarning: The frame.append method is deprecated and will be removed from pandas in a future version. Use pandas.concat instead.\n",
      "  df_eeg_features = df_eeg_features.append(eeg_band_fft, ignore_index=True)\n",
      "/tmp/ipykernel_18001/1951054575.py:54: FutureWarning: The frame.append method is deprecated and will be removed from pandas in a future version. Use pandas.concat instead.\n",
      "  df_eeg_features = df_eeg_features.append(eeg_band_fft, ignore_index=True)\n",
      "/tmp/ipykernel_18001/1951054575.py:54: FutureWarning: The frame.append method is deprecated and will be removed from pandas in a future version. Use pandas.concat instead.\n",
      "  df_eeg_features = df_eeg_features.append(eeg_band_fft, ignore_index=True)\n"
     ]
    },
    {
     "name": "stdout",
     "output_type": "stream",
     "text": [
      "Effective window size : 0.619 (s)\n",
      "Effective window size : 0.619 (s)\n",
      "Effective window size : 0.619 (s)\n",
      "Effective window size : 0.619 (s)\n",
      "Effective window size : 0.619 (s)\n",
      "Effective window size : 0.619 (s)\n"
     ]
    },
    {
     "name": "stderr",
     "output_type": "stream",
     "text": [
      "/tmp/ipykernel_18001/1951054575.py:54: FutureWarning: The frame.append method is deprecated and will be removed from pandas in a future version. Use pandas.concat instead.\n",
      "  df_eeg_features = df_eeg_features.append(eeg_band_fft, ignore_index=True)\n",
      "/tmp/ipykernel_18001/1951054575.py:54: FutureWarning: The frame.append method is deprecated and will be removed from pandas in a future version. Use pandas.concat instead.\n",
      "  df_eeg_features = df_eeg_features.append(eeg_band_fft, ignore_index=True)\n",
      "/tmp/ipykernel_18001/1951054575.py:54: FutureWarning: The frame.append method is deprecated and will be removed from pandas in a future version. Use pandas.concat instead.\n",
      "  df_eeg_features = df_eeg_features.append(eeg_band_fft, ignore_index=True)\n"
     ]
    },
    {
     "name": "stdout",
     "output_type": "stream",
     "text": [
      "Extracting EDF parameters from /home/vanilla_skies/mne_data/MNE-eegbci-data/files/eegmmidb/1.0.0/S023/S023R03.edf...\n",
      "EDF file detected\n",
      "Setting channel info structure...\n",
      "Creating raw.info structure...\n",
      "Reading 0 ... 19679  =      0.000 ...   122.994 secs...\n",
      "Extracting EDF parameters from /home/vanilla_skies/mne_data/MNE-eegbci-data/files/eegmmidb/1.0.0/S023/S023R07.edf...\n",
      "EDF file detected\n",
      "Setting channel info structure...\n",
      "Creating raw.info structure...\n",
      "Reading 0 ... 19679  =      0.000 ...   122.994 secs...\n",
      "Extracting EDF parameters from /home/vanilla_skies/mne_data/MNE-eegbci-data/files/eegmmidb/1.0.0/S023/S023R11.edf...\n",
      "EDF file detected\n",
      "Setting channel info structure...\n",
      "Creating raw.info structure...\n",
      "Reading 0 ... 19679  =      0.000 ...   122.994 secs...\n"
     ]
    },
    {
     "name": "stderr",
     "output_type": "stream",
     "text": [
      "/tmp/ipykernel_18001/1951054575.py:54: FutureWarning: The frame.append method is deprecated and will be removed from pandas in a future version. Use pandas.concat instead.\n",
      "  df_eeg_features = df_eeg_features.append(eeg_band_fft, ignore_index=True)\n"
     ]
    },
    {
     "name": "stdout",
     "output_type": "stream",
     "text": [
      "Used Annotations descriptions: ['T0', 'T1', 'T2']\n",
      "Filtering raw data in 3 contiguous segments\n",
      "Setting up band-pass filter from 7 - 30 Hz\n",
      "\n",
      "FIR filter parameters\n",
      "---------------------\n",
      "Designing a one-pass, zero-phase, non-causal bandpass filter:\n",
      "- Windowed time-domain design (firwin) method\n",
      "- Hamming window with 0.0194 passband ripple and 53 dB stopband attenuation\n",
      "- Lower passband edge: 7.00\n",
      "- Lower transition bandwidth: 2.00 Hz (-6 dB cutoff frequency: 6.00 Hz)\n",
      "- Upper passband edge: 30.00 Hz\n",
      "- Upper transition bandwidth: 7.50 Hz (-6 dB cutoff frequency: 33.75 Hz)\n",
      "- Filter length: 265 samples (1.656 sec)\n",
      "\n",
      "Not setting metadata\n",
      "45 matching events found\n",
      "No baseline correction applied\n",
      "0 projection items activated\n",
      "Using data from preloaded Raw for 45 events and 801 original time points ...\n",
      "0 bad epochs dropped\n",
      "Effective window size : 0.619 (s)\n",
      "Effective window size : 0.619 (s)\n",
      "Effective window size : 0.619 (s)\n",
      "Effective window size : 0.619 (s)\n",
      "Effective window size : 0.619 (s)\n",
      "Effective window size : 0.619 (s)\n",
      "Effective window size : 0.619 (s)\n",
      "Effective window size : 0.619 (s)\n"
     ]
    },
    {
     "name": "stderr",
     "output_type": "stream",
     "text": [
      "/tmp/ipykernel_18001/1951054575.py:54: FutureWarning: The frame.append method is deprecated and will be removed from pandas in a future version. Use pandas.concat instead.\n",
      "  df_eeg_features = df_eeg_features.append(eeg_band_fft, ignore_index=True)\n",
      "/tmp/ipykernel_18001/1951054575.py:54: FutureWarning: The frame.append method is deprecated and will be removed from pandas in a future version. Use pandas.concat instead.\n",
      "  df_eeg_features = df_eeg_features.append(eeg_band_fft, ignore_index=True)\n",
      "/tmp/ipykernel_18001/1951054575.py:54: FutureWarning: The frame.append method is deprecated and will be removed from pandas in a future version. Use pandas.concat instead.\n",
      "  df_eeg_features = df_eeg_features.append(eeg_band_fft, ignore_index=True)\n"
     ]
    },
    {
     "name": "stdout",
     "output_type": "stream",
     "text": [
      "Effective window size : 0.619 (s)\n",
      "Effective window size : 0.619 (s)\n",
      "Effective window size : 0.619 (s)\n",
      "Effective window size : 0.619 (s)\n",
      "Effective window size : 0.619 (s)\n",
      "Effective window size : 0.619 (s)\n"
     ]
    },
    {
     "name": "stderr",
     "output_type": "stream",
     "text": [
      "/tmp/ipykernel_18001/1951054575.py:54: FutureWarning: The frame.append method is deprecated and will be removed from pandas in a future version. Use pandas.concat instead.\n",
      "  df_eeg_features = df_eeg_features.append(eeg_band_fft, ignore_index=True)\n",
      "/tmp/ipykernel_18001/1951054575.py:54: FutureWarning: The frame.append method is deprecated and will be removed from pandas in a future version. Use pandas.concat instead.\n",
      "  df_eeg_features = df_eeg_features.append(eeg_band_fft, ignore_index=True)\n",
      "/tmp/ipykernel_18001/1951054575.py:54: FutureWarning: The frame.append method is deprecated and will be removed from pandas in a future version. Use pandas.concat instead.\n",
      "  df_eeg_features = df_eeg_features.append(eeg_band_fft, ignore_index=True)\n"
     ]
    },
    {
     "name": "stdout",
     "output_type": "stream",
     "text": [
      "Effective window size : 0.619 (s)\n",
      "Effective window size : 0.619 (s)\n",
      "Effective window size : 0.619 (s)\n",
      "Effective window size : 0.619 (s)\n",
      "Effective window size : 0.619 (s)\n",
      "Effective window size : 0.619 (s)\n"
     ]
    },
    {
     "name": "stderr",
     "output_type": "stream",
     "text": [
      "/tmp/ipykernel_18001/1951054575.py:54: FutureWarning: The frame.append method is deprecated and will be removed from pandas in a future version. Use pandas.concat instead.\n",
      "  df_eeg_features = df_eeg_features.append(eeg_band_fft, ignore_index=True)\n",
      "/tmp/ipykernel_18001/1951054575.py:54: FutureWarning: The frame.append method is deprecated and will be removed from pandas in a future version. Use pandas.concat instead.\n",
      "  df_eeg_features = df_eeg_features.append(eeg_band_fft, ignore_index=True)\n",
      "/tmp/ipykernel_18001/1951054575.py:54: FutureWarning: The frame.append method is deprecated and will be removed from pandas in a future version. Use pandas.concat instead.\n",
      "  df_eeg_features = df_eeg_features.append(eeg_band_fft, ignore_index=True)\n"
     ]
    },
    {
     "name": "stdout",
     "output_type": "stream",
     "text": [
      "Effective window size : 0.619 (s)\n",
      "Effective window size : 0.619 (s)\n",
      "Effective window size : 0.619 (s)\n",
      "Effective window size : 0.619 (s)\n",
      "Effective window size : 0.619 (s)\n",
      "Effective window size : 0.619 (s)\n"
     ]
    },
    {
     "name": "stderr",
     "output_type": "stream",
     "text": [
      "/tmp/ipykernel_18001/1951054575.py:54: FutureWarning: The frame.append method is deprecated and will be removed from pandas in a future version. Use pandas.concat instead.\n",
      "  df_eeg_features = df_eeg_features.append(eeg_band_fft, ignore_index=True)\n",
      "/tmp/ipykernel_18001/1951054575.py:54: FutureWarning: The frame.append method is deprecated and will be removed from pandas in a future version. Use pandas.concat instead.\n",
      "  df_eeg_features = df_eeg_features.append(eeg_band_fft, ignore_index=True)\n",
      "/tmp/ipykernel_18001/1951054575.py:54: FutureWarning: The frame.append method is deprecated and will be removed from pandas in a future version. Use pandas.concat instead.\n",
      "  df_eeg_features = df_eeg_features.append(eeg_band_fft, ignore_index=True)\n"
     ]
    },
    {
     "name": "stdout",
     "output_type": "stream",
     "text": [
      "Effective window size : 0.619 (s)\n",
      "Effective window size : 0.619 (s)\n",
      "Effective window size : 0.619 (s)\n",
      "Effective window size : 0.619 (s)\n",
      "Effective window size : 0.619 (s)\n",
      "Effective window size : 0.619 (s)\n"
     ]
    },
    {
     "name": "stderr",
     "output_type": "stream",
     "text": [
      "/tmp/ipykernel_18001/1951054575.py:54: FutureWarning: The frame.append method is deprecated and will be removed from pandas in a future version. Use pandas.concat instead.\n",
      "  df_eeg_features = df_eeg_features.append(eeg_band_fft, ignore_index=True)\n",
      "/tmp/ipykernel_18001/1951054575.py:54: FutureWarning: The frame.append method is deprecated and will be removed from pandas in a future version. Use pandas.concat instead.\n",
      "  df_eeg_features = df_eeg_features.append(eeg_band_fft, ignore_index=True)\n",
      "/tmp/ipykernel_18001/1951054575.py:54: FutureWarning: The frame.append method is deprecated and will be removed from pandas in a future version. Use pandas.concat instead.\n",
      "  df_eeg_features = df_eeg_features.append(eeg_band_fft, ignore_index=True)\n"
     ]
    },
    {
     "name": "stdout",
     "output_type": "stream",
     "text": [
      "Effective window size : 0.619 (s)\n",
      "Effective window size : 0.619 (s)\n",
      "Effective window size : 0.619 (s)\n",
      "Effective window size : 0.619 (s)\n",
      "Effective window size : 0.619 (s)\n",
      "Effective window size : 0.619 (s)\n"
     ]
    },
    {
     "name": "stderr",
     "output_type": "stream",
     "text": [
      "/tmp/ipykernel_18001/1951054575.py:54: FutureWarning: The frame.append method is deprecated and will be removed from pandas in a future version. Use pandas.concat instead.\n",
      "  df_eeg_features = df_eeg_features.append(eeg_band_fft, ignore_index=True)\n",
      "/tmp/ipykernel_18001/1951054575.py:54: FutureWarning: The frame.append method is deprecated and will be removed from pandas in a future version. Use pandas.concat instead.\n",
      "  df_eeg_features = df_eeg_features.append(eeg_band_fft, ignore_index=True)\n",
      "/tmp/ipykernel_18001/1951054575.py:54: FutureWarning: The frame.append method is deprecated and will be removed from pandas in a future version. Use pandas.concat instead.\n",
      "  df_eeg_features = df_eeg_features.append(eeg_band_fft, ignore_index=True)\n"
     ]
    },
    {
     "name": "stdout",
     "output_type": "stream",
     "text": [
      "Effective window size : 0.619 (s)\n",
      "Effective window size : 0.619 (s)\n",
      "Effective window size : 0.619 (s)\n",
      "Effective window size : 0.619 (s)\n",
      "Effective window size : 0.619 (s)\n",
      "Effective window size : 0.619 (s)\n"
     ]
    },
    {
     "name": "stderr",
     "output_type": "stream",
     "text": [
      "/tmp/ipykernel_18001/1951054575.py:54: FutureWarning: The frame.append method is deprecated and will be removed from pandas in a future version. Use pandas.concat instead.\n",
      "  df_eeg_features = df_eeg_features.append(eeg_band_fft, ignore_index=True)\n",
      "/tmp/ipykernel_18001/1951054575.py:54: FutureWarning: The frame.append method is deprecated and will be removed from pandas in a future version. Use pandas.concat instead.\n",
      "  df_eeg_features = df_eeg_features.append(eeg_band_fft, ignore_index=True)\n",
      "/tmp/ipykernel_18001/1951054575.py:54: FutureWarning: The frame.append method is deprecated and will be removed from pandas in a future version. Use pandas.concat instead.\n",
      "  df_eeg_features = df_eeg_features.append(eeg_band_fft, ignore_index=True)\n"
     ]
    },
    {
     "name": "stdout",
     "output_type": "stream",
     "text": [
      "Effective window size : 0.619 (s)\n",
      "Effective window size : 0.619 (s)\n",
      "Effective window size : 0.619 (s)\n",
      "Effective window size : 0.619 (s)\n",
      "Effective window size : 0.619 (s)\n",
      "Effective window size : 0.619 (s)\n"
     ]
    },
    {
     "name": "stderr",
     "output_type": "stream",
     "text": [
      "/tmp/ipykernel_18001/1951054575.py:54: FutureWarning: The frame.append method is deprecated and will be removed from pandas in a future version. Use pandas.concat instead.\n",
      "  df_eeg_features = df_eeg_features.append(eeg_band_fft, ignore_index=True)\n",
      "/tmp/ipykernel_18001/1951054575.py:54: FutureWarning: The frame.append method is deprecated and will be removed from pandas in a future version. Use pandas.concat instead.\n",
      "  df_eeg_features = df_eeg_features.append(eeg_band_fft, ignore_index=True)\n",
      "/tmp/ipykernel_18001/1951054575.py:54: FutureWarning: The frame.append method is deprecated and will be removed from pandas in a future version. Use pandas.concat instead.\n",
      "  df_eeg_features = df_eeg_features.append(eeg_band_fft, ignore_index=True)\n"
     ]
    },
    {
     "name": "stdout",
     "output_type": "stream",
     "text": [
      "Effective window size : 0.619 (s)\n",
      "Effective window size : 0.619 (s)\n",
      "Effective window size : 0.619 (s)\n",
      "Effective window size : 0.619 (s)\n"
     ]
    },
    {
     "name": "stderr",
     "output_type": "stream",
     "text": [
      "/tmp/ipykernel_18001/1951054575.py:54: FutureWarning: The frame.append method is deprecated and will be removed from pandas in a future version. Use pandas.concat instead.\n",
      "  df_eeg_features = df_eeg_features.append(eeg_band_fft, ignore_index=True)\n",
      "/tmp/ipykernel_18001/1951054575.py:54: FutureWarning: The frame.append method is deprecated and will be removed from pandas in a future version. Use pandas.concat instead.\n",
      "  df_eeg_features = df_eeg_features.append(eeg_band_fft, ignore_index=True)\n"
     ]
    },
    {
     "name": "stdout",
     "output_type": "stream",
     "text": [
      "Effective window size : 0.619 (s)\n",
      "Effective window size : 0.619 (s)\n",
      "Effective window size : 0.619 (s)\n",
      "Effective window size : 0.619 (s)\n",
      "Effective window size : 0.619 (s)\n",
      "Effective window size : 0.619 (s)\n"
     ]
    },
    {
     "name": "stderr",
     "output_type": "stream",
     "text": [
      "/tmp/ipykernel_18001/1951054575.py:54: FutureWarning: The frame.append method is deprecated and will be removed from pandas in a future version. Use pandas.concat instead.\n",
      "  df_eeg_features = df_eeg_features.append(eeg_band_fft, ignore_index=True)\n",
      "/tmp/ipykernel_18001/1951054575.py:54: FutureWarning: The frame.append method is deprecated and will be removed from pandas in a future version. Use pandas.concat instead.\n",
      "  df_eeg_features = df_eeg_features.append(eeg_band_fft, ignore_index=True)\n",
      "/tmp/ipykernel_18001/1951054575.py:54: FutureWarning: The frame.append method is deprecated and will be removed from pandas in a future version. Use pandas.concat instead.\n",
      "  df_eeg_features = df_eeg_features.append(eeg_band_fft, ignore_index=True)\n"
     ]
    },
    {
     "name": "stdout",
     "output_type": "stream",
     "text": [
      "Effective window size : 0.619 (s)\n",
      "Effective window size : 0.619 (s)\n",
      "Effective window size : 0.619 (s)\n",
      "Effective window size : 0.619 (s)\n",
      "Effective window size : 0.619 (s)\n",
      "Effective window size : 0.619 (s)\n"
     ]
    },
    {
     "name": "stderr",
     "output_type": "stream",
     "text": [
      "/tmp/ipykernel_18001/1951054575.py:54: FutureWarning: The frame.append method is deprecated and will be removed from pandas in a future version. Use pandas.concat instead.\n",
      "  df_eeg_features = df_eeg_features.append(eeg_band_fft, ignore_index=True)\n",
      "/tmp/ipykernel_18001/1951054575.py:54: FutureWarning: The frame.append method is deprecated and will be removed from pandas in a future version. Use pandas.concat instead.\n",
      "  df_eeg_features = df_eeg_features.append(eeg_band_fft, ignore_index=True)\n",
      "/tmp/ipykernel_18001/1951054575.py:54: FutureWarning: The frame.append method is deprecated and will be removed from pandas in a future version. Use pandas.concat instead.\n",
      "  df_eeg_features = df_eeg_features.append(eeg_band_fft, ignore_index=True)\n"
     ]
    },
    {
     "name": "stdout",
     "output_type": "stream",
     "text": [
      "Effective window size : 0.619 (s)\n",
      "Effective window size : 0.619 (s)\n",
      "Effective window size : 0.619 (s)\n",
      "Effective window size : 0.619 (s)\n",
      "Effective window size : 0.619 (s)\n",
      "Effective window size : 0.619 (s)\n"
     ]
    },
    {
     "name": "stderr",
     "output_type": "stream",
     "text": [
      "/tmp/ipykernel_18001/1951054575.py:54: FutureWarning: The frame.append method is deprecated and will be removed from pandas in a future version. Use pandas.concat instead.\n",
      "  df_eeg_features = df_eeg_features.append(eeg_band_fft, ignore_index=True)\n",
      "/tmp/ipykernel_18001/1951054575.py:54: FutureWarning: The frame.append method is deprecated and will be removed from pandas in a future version. Use pandas.concat instead.\n",
      "  df_eeg_features = df_eeg_features.append(eeg_band_fft, ignore_index=True)\n",
      "/tmp/ipykernel_18001/1951054575.py:54: FutureWarning: The frame.append method is deprecated and will be removed from pandas in a future version. Use pandas.concat instead.\n",
      "  df_eeg_features = df_eeg_features.append(eeg_band_fft, ignore_index=True)\n"
     ]
    },
    {
     "name": "stdout",
     "output_type": "stream",
     "text": [
      "Effective window size : 0.619 (s)\n",
      "Effective window size : 0.619 (s)\n",
      "Effective window size : 0.619 (s)\n",
      "Effective window size : 0.619 (s)\n",
      "Effective window size : 0.619 (s)\n",
      "Effective window size : 0.619 (s)\n"
     ]
    },
    {
     "name": "stderr",
     "output_type": "stream",
     "text": [
      "/tmp/ipykernel_18001/1951054575.py:54: FutureWarning: The frame.append method is deprecated and will be removed from pandas in a future version. Use pandas.concat instead.\n",
      "  df_eeg_features = df_eeg_features.append(eeg_band_fft, ignore_index=True)\n",
      "/tmp/ipykernel_18001/1951054575.py:54: FutureWarning: The frame.append method is deprecated and will be removed from pandas in a future version. Use pandas.concat instead.\n",
      "  df_eeg_features = df_eeg_features.append(eeg_band_fft, ignore_index=True)\n",
      "/tmp/ipykernel_18001/1951054575.py:54: FutureWarning: The frame.append method is deprecated and will be removed from pandas in a future version. Use pandas.concat instead.\n",
      "  df_eeg_features = df_eeg_features.append(eeg_band_fft, ignore_index=True)\n"
     ]
    },
    {
     "name": "stdout",
     "output_type": "stream",
     "text": [
      "Effective window size : 0.619 (s)\n",
      "Effective window size : 0.619 (s)\n",
      "Effective window size : 0.619 (s)\n",
      "Effective window size : 0.619 (s)\n",
      "Effective window size : 0.619 (s)\n",
      "Effective window size : 0.619 (s)\n"
     ]
    },
    {
     "name": "stderr",
     "output_type": "stream",
     "text": [
      "/tmp/ipykernel_18001/1951054575.py:54: FutureWarning: The frame.append method is deprecated and will be removed from pandas in a future version. Use pandas.concat instead.\n",
      "  df_eeg_features = df_eeg_features.append(eeg_band_fft, ignore_index=True)\n",
      "/tmp/ipykernel_18001/1951054575.py:54: FutureWarning: The frame.append method is deprecated and will be removed from pandas in a future version. Use pandas.concat instead.\n",
      "  df_eeg_features = df_eeg_features.append(eeg_band_fft, ignore_index=True)\n",
      "/tmp/ipykernel_18001/1951054575.py:54: FutureWarning: The frame.append method is deprecated and will be removed from pandas in a future version. Use pandas.concat instead.\n",
      "  df_eeg_features = df_eeg_features.append(eeg_band_fft, ignore_index=True)\n"
     ]
    },
    {
     "name": "stdout",
     "output_type": "stream",
     "text": [
      "Effective window size : 0.619 (s)\n",
      "Effective window size : 0.619 (s)\n",
      "Effective window size : 0.619 (s)\n",
      "Effective window size : 0.619 (s)\n",
      "Effective window size : 0.619 (s)\n",
      "Effective window size : 0.619 (s)\n"
     ]
    },
    {
     "name": "stderr",
     "output_type": "stream",
     "text": [
      "/tmp/ipykernel_18001/1951054575.py:54: FutureWarning: The frame.append method is deprecated and will be removed from pandas in a future version. Use pandas.concat instead.\n",
      "  df_eeg_features = df_eeg_features.append(eeg_band_fft, ignore_index=True)\n",
      "/tmp/ipykernel_18001/1951054575.py:54: FutureWarning: The frame.append method is deprecated and will be removed from pandas in a future version. Use pandas.concat instead.\n",
      "  df_eeg_features = df_eeg_features.append(eeg_band_fft, ignore_index=True)\n",
      "/tmp/ipykernel_18001/1951054575.py:54: FutureWarning: The frame.append method is deprecated and will be removed from pandas in a future version. Use pandas.concat instead.\n",
      "  df_eeg_features = df_eeg_features.append(eeg_band_fft, ignore_index=True)\n",
      "/tmp/ipykernel_18001/1951054575.py:54: FutureWarning: The frame.append method is deprecated and will be removed from pandas in a future version. Use pandas.concat instead.\n",
      "  df_eeg_features = df_eeg_features.append(eeg_band_fft, ignore_index=True)\n",
      "Downloading file 'S024/S024R07.edf' from 'https://physionet.org/files/eegmmidb/1.0.0/S024/S024R07.edf' to '/home/vanilla_skies/mne_data/MNE-eegbci-data/files/eegmmidb/1.0.0'.\n",
      "Downloading file 'S024/S024R11.edf' from 'https://physionet.org/files/eegmmidb/1.0.0/S024/S024R11.edf' to '/home/vanilla_skies/mne_data/MNE-eegbci-data/files/eegmmidb/1.0.0'.\n"
     ]
    },
    {
     "name": "stdout",
     "output_type": "stream",
     "text": [
      "Extracting EDF parameters from /home/vanilla_skies/mne_data/MNE-eegbci-data/files/eegmmidb/1.0.0/S024/S024R03.edf...\n",
      "EDF file detected\n",
      "Setting channel info structure...\n",
      "Creating raw.info structure...\n",
      "Reading 0 ... 19679  =      0.000 ...   122.994 secs...\n",
      "Extracting EDF parameters from /home/vanilla_skies/mne_data/MNE-eegbci-data/files/eegmmidb/1.0.0/S024/S024R07.edf...\n",
      "EDF file detected\n",
      "Setting channel info structure...\n",
      "Creating raw.info structure...\n",
      "Reading 0 ... 19679  =      0.000 ...   122.994 secs...\n",
      "Extracting EDF parameters from /home/vanilla_skies/mne_data/MNE-eegbci-data/files/eegmmidb/1.0.0/S024/S024R11.edf...\n",
      "EDF file detected\n",
      "Setting channel info structure...\n",
      "Creating raw.info structure...\n",
      "Reading 0 ... 19679  =      0.000 ...   122.994 secs...\n",
      "Used Annotations descriptions: ['T0', 'T1', 'T2']\n",
      "Filtering raw data in 3 contiguous segments\n",
      "Setting up band-pass filter from 7 - 30 Hz\n",
      "\n",
      "FIR filter parameters\n",
      "---------------------\n",
      "Designing a one-pass, zero-phase, non-causal bandpass filter:\n",
      "- Windowed time-domain design (firwin) method\n",
      "- Hamming window with 0.0194 passband ripple and 53 dB stopband attenuation\n",
      "- Lower passband edge: 7.00\n",
      "- Lower transition bandwidth: 2.00 Hz (-6 dB cutoff frequency: 6.00 Hz)\n",
      "- Upper passband edge: 30.00 Hz\n",
      "- Upper transition bandwidth: 7.50 Hz (-6 dB cutoff frequency: 33.75 Hz)\n",
      "- Filter length: 265 samples (1.656 sec)\n",
      "\n",
      "Not setting metadata\n",
      "45 matching events found\n",
      "No baseline correction applied\n",
      "0 projection items activated\n",
      "Using data from preloaded Raw for 45 events and 801 original time points ...\n",
      "0 bad epochs dropped\n",
      "Effective window size : 0.619 (s)\n",
      "Effective window size : 0.619 (s)\n",
      "Effective window size : 0.619 (s)\n",
      "Effective window size : 0.619 (s)\n",
      "Effective window size : 0.619 (s)\n",
      "Effective window size : 0.619 (s)\n",
      "Effective window size : 0.619 (s)\n",
      "Effective window size : 0.619 (s)\n"
     ]
    },
    {
     "name": "stderr",
     "output_type": "stream",
     "text": [
      "/tmp/ipykernel_18001/1951054575.py:54: FutureWarning: The frame.append method is deprecated and will be removed from pandas in a future version. Use pandas.concat instead.\n",
      "  df_eeg_features = df_eeg_features.append(eeg_band_fft, ignore_index=True)\n",
      "/tmp/ipykernel_18001/1951054575.py:54: FutureWarning: The frame.append method is deprecated and will be removed from pandas in a future version. Use pandas.concat instead.\n",
      "  df_eeg_features = df_eeg_features.append(eeg_band_fft, ignore_index=True)\n",
      "/tmp/ipykernel_18001/1951054575.py:54: FutureWarning: The frame.append method is deprecated and will be removed from pandas in a future version. Use pandas.concat instead.\n",
      "  df_eeg_features = df_eeg_features.append(eeg_band_fft, ignore_index=True)\n"
     ]
    },
    {
     "name": "stdout",
     "output_type": "stream",
     "text": [
      "Effective window size : 0.619 (s)\n",
      "Effective window size : 0.619 (s)\n",
      "Effective window size : 0.619 (s)\n",
      "Effective window size : 0.619 (s)\n"
     ]
    },
    {
     "name": "stderr",
     "output_type": "stream",
     "text": [
      "/tmp/ipykernel_18001/1951054575.py:54: FutureWarning: The frame.append method is deprecated and will be removed from pandas in a future version. Use pandas.concat instead.\n",
      "  df_eeg_features = df_eeg_features.append(eeg_band_fft, ignore_index=True)\n",
      "/tmp/ipykernel_18001/1951054575.py:54: FutureWarning: The frame.append method is deprecated and will be removed from pandas in a future version. Use pandas.concat instead.\n",
      "  df_eeg_features = df_eeg_features.append(eeg_band_fft, ignore_index=True)\n"
     ]
    },
    {
     "name": "stdout",
     "output_type": "stream",
     "text": [
      "Effective window size : 0.619 (s)\n",
      "Effective window size : 0.619 (s)\n",
      "Effective window size : 0.619 (s)\n",
      "Effective window size : 0.619 (s)\n"
     ]
    },
    {
     "name": "stderr",
     "output_type": "stream",
     "text": [
      "/tmp/ipykernel_18001/1951054575.py:54: FutureWarning: The frame.append method is deprecated and will be removed from pandas in a future version. Use pandas.concat instead.\n",
      "  df_eeg_features = df_eeg_features.append(eeg_band_fft, ignore_index=True)\n",
      "/tmp/ipykernel_18001/1951054575.py:54: FutureWarning: The frame.append method is deprecated and will be removed from pandas in a future version. Use pandas.concat instead.\n",
      "  df_eeg_features = df_eeg_features.append(eeg_band_fft, ignore_index=True)\n"
     ]
    },
    {
     "name": "stdout",
     "output_type": "stream",
     "text": [
      "Effective window size : 0.619 (s)\n",
      "Effective window size : 0.619 (s)\n",
      "Effective window size : 0.619 (s)\n",
      "Effective window size : 0.619 (s)\n",
      "Effective window size : 0.619 (s)\n",
      "Effective window size : 0.619 (s)\n"
     ]
    },
    {
     "name": "stderr",
     "output_type": "stream",
     "text": [
      "/tmp/ipykernel_18001/1951054575.py:54: FutureWarning: The frame.append method is deprecated and will be removed from pandas in a future version. Use pandas.concat instead.\n",
      "  df_eeg_features = df_eeg_features.append(eeg_band_fft, ignore_index=True)\n",
      "/tmp/ipykernel_18001/1951054575.py:54: FutureWarning: The frame.append method is deprecated and will be removed from pandas in a future version. Use pandas.concat instead.\n",
      "  df_eeg_features = df_eeg_features.append(eeg_band_fft, ignore_index=True)\n",
      "/tmp/ipykernel_18001/1951054575.py:54: FutureWarning: The frame.append method is deprecated and will be removed from pandas in a future version. Use pandas.concat instead.\n",
      "  df_eeg_features = df_eeg_features.append(eeg_band_fft, ignore_index=True)\n"
     ]
    },
    {
     "name": "stdout",
     "output_type": "stream",
     "text": [
      "Effective window size : 0.619 (s)\n",
      "Effective window size : 0.619 (s)\n",
      "Effective window size : 0.619 (s)\n",
      "Effective window size : 0.619 (s)\n",
      "Effective window size : 0.619 (s)\n",
      "Effective window size : 0.619 (s)\n"
     ]
    },
    {
     "name": "stderr",
     "output_type": "stream",
     "text": [
      "/tmp/ipykernel_18001/1951054575.py:54: FutureWarning: The frame.append method is deprecated and will be removed from pandas in a future version. Use pandas.concat instead.\n",
      "  df_eeg_features = df_eeg_features.append(eeg_band_fft, ignore_index=True)\n",
      "/tmp/ipykernel_18001/1951054575.py:54: FutureWarning: The frame.append method is deprecated and will be removed from pandas in a future version. Use pandas.concat instead.\n",
      "  df_eeg_features = df_eeg_features.append(eeg_band_fft, ignore_index=True)\n",
      "/tmp/ipykernel_18001/1951054575.py:54: FutureWarning: The frame.append method is deprecated and will be removed from pandas in a future version. Use pandas.concat instead.\n",
      "  df_eeg_features = df_eeg_features.append(eeg_band_fft, ignore_index=True)\n"
     ]
    },
    {
     "name": "stdout",
     "output_type": "stream",
     "text": [
      "Effective window size : 0.619 (s)\n",
      "Effective window size : 0.619 (s)\n",
      "Effective window size : 0.619 (s)\n",
      "Effective window size : 0.619 (s)\n",
      "Effective window size : 0.619 (s)\n",
      "Effective window size : 0.619 (s)\n"
     ]
    },
    {
     "name": "stderr",
     "output_type": "stream",
     "text": [
      "/tmp/ipykernel_18001/1951054575.py:54: FutureWarning: The frame.append method is deprecated and will be removed from pandas in a future version. Use pandas.concat instead.\n",
      "  df_eeg_features = df_eeg_features.append(eeg_band_fft, ignore_index=True)\n",
      "/tmp/ipykernel_18001/1951054575.py:54: FutureWarning: The frame.append method is deprecated and will be removed from pandas in a future version. Use pandas.concat instead.\n",
      "  df_eeg_features = df_eeg_features.append(eeg_band_fft, ignore_index=True)\n",
      "/tmp/ipykernel_18001/1951054575.py:54: FutureWarning: The frame.append method is deprecated and will be removed from pandas in a future version. Use pandas.concat instead.\n",
      "  df_eeg_features = df_eeg_features.append(eeg_band_fft, ignore_index=True)\n"
     ]
    },
    {
     "name": "stdout",
     "output_type": "stream",
     "text": [
      "Effective window size : 0.619 (s)\n",
      "Effective window size : 0.619 (s)\n",
      "Effective window size : 0.619 (s)\n",
      "Effective window size : 0.619 (s)\n",
      "Effective window size : 0.619 (s)\n",
      "Effective window size : 0.619 (s)\n"
     ]
    },
    {
     "name": "stderr",
     "output_type": "stream",
     "text": [
      "/tmp/ipykernel_18001/1951054575.py:54: FutureWarning: The frame.append method is deprecated and will be removed from pandas in a future version. Use pandas.concat instead.\n",
      "  df_eeg_features = df_eeg_features.append(eeg_band_fft, ignore_index=True)\n",
      "/tmp/ipykernel_18001/1951054575.py:54: FutureWarning: The frame.append method is deprecated and will be removed from pandas in a future version. Use pandas.concat instead.\n",
      "  df_eeg_features = df_eeg_features.append(eeg_band_fft, ignore_index=True)\n",
      "/tmp/ipykernel_18001/1951054575.py:54: FutureWarning: The frame.append method is deprecated and will be removed from pandas in a future version. Use pandas.concat instead.\n",
      "  df_eeg_features = df_eeg_features.append(eeg_band_fft, ignore_index=True)\n"
     ]
    },
    {
     "name": "stdout",
     "output_type": "stream",
     "text": [
      "Effective window size : 0.619 (s)\n",
      "Effective window size : 0.619 (s)\n",
      "Effective window size : 0.619 (s)\n",
      "Effective window size : 0.619 (s)\n"
     ]
    },
    {
     "name": "stderr",
     "output_type": "stream",
     "text": [
      "/tmp/ipykernel_18001/1951054575.py:54: FutureWarning: The frame.append method is deprecated and will be removed from pandas in a future version. Use pandas.concat instead.\n",
      "  df_eeg_features = df_eeg_features.append(eeg_band_fft, ignore_index=True)\n",
      "/tmp/ipykernel_18001/1951054575.py:54: FutureWarning: The frame.append method is deprecated and will be removed from pandas in a future version. Use pandas.concat instead.\n",
      "  df_eeg_features = df_eeg_features.append(eeg_band_fft, ignore_index=True)\n"
     ]
    },
    {
     "name": "stdout",
     "output_type": "stream",
     "text": [
      "Effective window size : 0.619 (s)\n",
      "Effective window size : 0.619 (s)\n",
      "Effective window size : 0.619 (s)\n",
      "Effective window size : 0.619 (s)\n"
     ]
    },
    {
     "name": "stderr",
     "output_type": "stream",
     "text": [
      "/tmp/ipykernel_18001/1951054575.py:54: FutureWarning: The frame.append method is deprecated and will be removed from pandas in a future version. Use pandas.concat instead.\n",
      "  df_eeg_features = df_eeg_features.append(eeg_band_fft, ignore_index=True)\n",
      "/tmp/ipykernel_18001/1951054575.py:54: FutureWarning: The frame.append method is deprecated and will be removed from pandas in a future version. Use pandas.concat instead.\n",
      "  df_eeg_features = df_eeg_features.append(eeg_band_fft, ignore_index=True)\n"
     ]
    },
    {
     "name": "stdout",
     "output_type": "stream",
     "text": [
      "Effective window size : 0.619 (s)\n",
      "Effective window size : 0.619 (s)\n",
      "Effective window size : 0.619 (s)\n",
      "Effective window size : 0.619 (s)\n"
     ]
    },
    {
     "name": "stderr",
     "output_type": "stream",
     "text": [
      "/tmp/ipykernel_18001/1951054575.py:54: FutureWarning: The frame.append method is deprecated and will be removed from pandas in a future version. Use pandas.concat instead.\n",
      "  df_eeg_features = df_eeg_features.append(eeg_band_fft, ignore_index=True)\n",
      "/tmp/ipykernel_18001/1951054575.py:54: FutureWarning: The frame.append method is deprecated and will be removed from pandas in a future version. Use pandas.concat instead.\n",
      "  df_eeg_features = df_eeg_features.append(eeg_band_fft, ignore_index=True)\n"
     ]
    },
    {
     "name": "stdout",
     "output_type": "stream",
     "text": [
      "Effective window size : 0.619 (s)\n",
      "Effective window size : 0.619 (s)\n",
      "Effective window size : 0.619 (s)\n",
      "Effective window size : 0.619 (s)\n"
     ]
    },
    {
     "name": "stderr",
     "output_type": "stream",
     "text": [
      "/tmp/ipykernel_18001/1951054575.py:54: FutureWarning: The frame.append method is deprecated and will be removed from pandas in a future version. Use pandas.concat instead.\n",
      "  df_eeg_features = df_eeg_features.append(eeg_band_fft, ignore_index=True)\n",
      "/tmp/ipykernel_18001/1951054575.py:54: FutureWarning: The frame.append method is deprecated and will be removed from pandas in a future version. Use pandas.concat instead.\n",
      "  df_eeg_features = df_eeg_features.append(eeg_band_fft, ignore_index=True)\n"
     ]
    },
    {
     "name": "stdout",
     "output_type": "stream",
     "text": [
      "Effective window size : 0.619 (s)\n",
      "Effective window size : 0.619 (s)\n",
      "Effective window size : 0.619 (s)\n",
      "Effective window size : 0.619 (s)\n"
     ]
    },
    {
     "name": "stderr",
     "output_type": "stream",
     "text": [
      "/tmp/ipykernel_18001/1951054575.py:54: FutureWarning: The frame.append method is deprecated and will be removed from pandas in a future version. Use pandas.concat instead.\n",
      "  df_eeg_features = df_eeg_features.append(eeg_band_fft, ignore_index=True)\n",
      "/tmp/ipykernel_18001/1951054575.py:54: FutureWarning: The frame.append method is deprecated and will be removed from pandas in a future version. Use pandas.concat instead.\n",
      "  df_eeg_features = df_eeg_features.append(eeg_band_fft, ignore_index=True)\n"
     ]
    },
    {
     "name": "stdout",
     "output_type": "stream",
     "text": [
      "Effective window size : 0.619 (s)\n",
      "Effective window size : 0.619 (s)\n",
      "Effective window size : 0.619 (s)\n",
      "Effective window size : 0.619 (s)\n",
      "Effective window size : 0.619 (s)\n"
     ]
    },
    {
     "name": "stderr",
     "output_type": "stream",
     "text": [
      "/tmp/ipykernel_18001/1951054575.py:54: FutureWarning: The frame.append method is deprecated and will be removed from pandas in a future version. Use pandas.concat instead.\n",
      "  df_eeg_features = df_eeg_features.append(eeg_band_fft, ignore_index=True)\n",
      "/tmp/ipykernel_18001/1951054575.py:54: FutureWarning: The frame.append method is deprecated and will be removed from pandas in a future version. Use pandas.concat instead.\n",
      "  df_eeg_features = df_eeg_features.append(eeg_band_fft, ignore_index=True)\n",
      "/tmp/ipykernel_18001/1951054575.py:54: FutureWarning: The frame.append method is deprecated and will be removed from pandas in a future version. Use pandas.concat instead.\n",
      "  df_eeg_features = df_eeg_features.append(eeg_band_fft, ignore_index=True)\n"
     ]
    },
    {
     "name": "stdout",
     "output_type": "stream",
     "text": [
      "Effective window size : 0.619 (s)\n",
      "Effective window size : 0.619 (s)\n",
      "Effective window size : 0.619 (s)\n",
      "Effective window size : 0.619 (s)\n",
      "Effective window size : 0.619 (s)\n",
      "Effective window size : 0.619 (s)\n",
      "Effective window size : 0.619 (s)\n"
     ]
    },
    {
     "name": "stderr",
     "output_type": "stream",
     "text": [
      "/tmp/ipykernel_18001/1951054575.py:54: FutureWarning: The frame.append method is deprecated and will be removed from pandas in a future version. Use pandas.concat instead.\n",
      "  df_eeg_features = df_eeg_features.append(eeg_band_fft, ignore_index=True)\n",
      "/tmp/ipykernel_18001/1951054575.py:54: FutureWarning: The frame.append method is deprecated and will be removed from pandas in a future version. Use pandas.concat instead.\n",
      "  df_eeg_features = df_eeg_features.append(eeg_band_fft, ignore_index=True)\n",
      "/tmp/ipykernel_18001/1951054575.py:54: FutureWarning: The frame.append method is deprecated and will be removed from pandas in a future version. Use pandas.concat instead.\n",
      "  df_eeg_features = df_eeg_features.append(eeg_band_fft, ignore_index=True)\n"
     ]
    },
    {
     "name": "stdout",
     "output_type": "stream",
     "text": [
      "Effective window size : 0.619 (s)\n",
      "Effective window size : 0.619 (s)\n",
      "Effective window size : 0.619 (s)\n",
      "Effective window size : 0.619 (s)\n",
      "Effective window size : 0.619 (s)\n",
      "Effective window size : 0.619 (s)\n"
     ]
    },
    {
     "name": "stderr",
     "output_type": "stream",
     "text": [
      "/tmp/ipykernel_18001/1951054575.py:54: FutureWarning: The frame.append method is deprecated and will be removed from pandas in a future version. Use pandas.concat instead.\n",
      "  df_eeg_features = df_eeg_features.append(eeg_band_fft, ignore_index=True)\n",
      "/tmp/ipykernel_18001/1951054575.py:54: FutureWarning: The frame.append method is deprecated and will be removed from pandas in a future version. Use pandas.concat instead.\n",
      "  df_eeg_features = df_eeg_features.append(eeg_band_fft, ignore_index=True)\n",
      "/tmp/ipykernel_18001/1951054575.py:54: FutureWarning: The frame.append method is deprecated and will be removed from pandas in a future version. Use pandas.concat instead.\n",
      "  df_eeg_features = df_eeg_features.append(eeg_band_fft, ignore_index=True)\n"
     ]
    },
    {
     "name": "stdout",
     "output_type": "stream",
     "text": [
      "Effective window size : 0.619 (s)\n",
      "Effective window size : 0.619 (s)\n",
      "Effective window size : 0.619 (s)\n",
      "Effective window size : 0.619 (s)\n"
     ]
    },
    {
     "name": "stderr",
     "output_type": "stream",
     "text": [
      "/tmp/ipykernel_18001/1951054575.py:54: FutureWarning: The frame.append method is deprecated and will be removed from pandas in a future version. Use pandas.concat instead.\n",
      "  df_eeg_features = df_eeg_features.append(eeg_band_fft, ignore_index=True)\n",
      "/tmp/ipykernel_18001/1951054575.py:54: FutureWarning: The frame.append method is deprecated and will be removed from pandas in a future version. Use pandas.concat instead.\n",
      "  df_eeg_features = df_eeg_features.append(eeg_band_fft, ignore_index=True)\n"
     ]
    },
    {
     "name": "stdout",
     "output_type": "stream",
     "text": [
      "Effective window size : 0.619 (s)\n",
      "Effective window size : 0.619 (s)\n",
      "Effective window size : 0.619 (s)\n",
      "Effective window size : 0.619 (s)\n",
      "Effective window size : 0.619 (s)\n",
      "Effective window size : 0.619 (s)\n"
     ]
    },
    {
     "name": "stderr",
     "output_type": "stream",
     "text": [
      "/tmp/ipykernel_18001/1951054575.py:54: FutureWarning: The frame.append method is deprecated and will be removed from pandas in a future version. Use pandas.concat instead.\n",
      "  df_eeg_features = df_eeg_features.append(eeg_band_fft, ignore_index=True)\n",
      "/tmp/ipykernel_18001/1951054575.py:54: FutureWarning: The frame.append method is deprecated and will be removed from pandas in a future version. Use pandas.concat instead.\n",
      "  df_eeg_features = df_eeg_features.append(eeg_band_fft, ignore_index=True)\n",
      "/tmp/ipykernel_18001/1951054575.py:54: FutureWarning: The frame.append method is deprecated and will be removed from pandas in a future version. Use pandas.concat instead.\n",
      "  df_eeg_features = df_eeg_features.append(eeg_band_fft, ignore_index=True)\n"
     ]
    },
    {
     "name": "stdout",
     "output_type": "stream",
     "text": [
      "Effective window size : 0.619 (s)\n",
      "Effective window size : 0.619 (s)\n"
     ]
    },
    {
     "name": "stderr",
     "output_type": "stream",
     "text": [
      "/tmp/ipykernel_18001/1951054575.py:54: FutureWarning: The frame.append method is deprecated and will be removed from pandas in a future version. Use pandas.concat instead.\n",
      "  df_eeg_features = df_eeg_features.append(eeg_band_fft, ignore_index=True)\n",
      "/tmp/ipykernel_18001/1951054575.py:54: FutureWarning: The frame.append method is deprecated and will be removed from pandas in a future version. Use pandas.concat instead.\n",
      "  df_eeg_features = df_eeg_features.append(eeg_band_fft, ignore_index=True)\n",
      "Downloading file 'S025/S025R03.edf' from 'https://physionet.org/files/eegmmidb/1.0.0/S025/S025R03.edf' to '/home/vanilla_skies/mne_data/MNE-eegbci-data/files/eegmmidb/1.0.0'.\n",
      "Downloading file 'S025/S025R07.edf' from 'https://physionet.org/files/eegmmidb/1.0.0/S025/S025R07.edf' to '/home/vanilla_skies/mne_data/MNE-eegbci-data/files/eegmmidb/1.0.0'.\n",
      "Downloading file 'S025/S025R11.edf' from 'https://physionet.org/files/eegmmidb/1.0.0/S025/S025R11.edf' to '/home/vanilla_skies/mne_data/MNE-eegbci-data/files/eegmmidb/1.0.0'.\n"
     ]
    },
    {
     "name": "stdout",
     "output_type": "stream",
     "text": [
      "Extracting EDF parameters from /home/vanilla_skies/mne_data/MNE-eegbci-data/files/eegmmidb/1.0.0/S025/S025R03.edf...\n",
      "EDF file detected\n",
      "Setting channel info structure...\n",
      "Creating raw.info structure...\n",
      "Reading 0 ... 19679  =      0.000 ...   122.994 secs...\n",
      "Extracting EDF parameters from /home/vanilla_skies/mne_data/MNE-eegbci-data/files/eegmmidb/1.0.0/S025/S025R07.edf...\n",
      "EDF file detected\n",
      "Setting channel info structure...\n",
      "Creating raw.info structure...\n",
      "Reading 0 ... 19679  =      0.000 ...   122.994 secs...\n",
      "Extracting EDF parameters from /home/vanilla_skies/mne_data/MNE-eegbci-data/files/eegmmidb/1.0.0/S025/S025R11.edf...\n",
      "EDF file detected\n",
      "Setting channel info structure...\n",
      "Creating raw.info structure...\n",
      "Reading 0 ... 19679  =      0.000 ...   122.994 secs...\n",
      "Used Annotations descriptions: ['T0', 'T1', 'T2']\n",
      "Filtering raw data in 3 contiguous segments\n",
      "Setting up band-pass filter from 7 - 30 Hz\n",
      "\n",
      "FIR filter parameters\n",
      "---------------------\n",
      "Designing a one-pass, zero-phase, non-causal bandpass filter:\n",
      "- Windowed time-domain design (firwin) method\n",
      "- Hamming window with 0.0194 passband ripple and 53 dB stopband attenuation\n",
      "- Lower passband edge: 7.00\n",
      "- Lower transition bandwidth: 2.00 Hz (-6 dB cutoff frequency: 6.00 Hz)\n",
      "- Upper passband edge: 30.00 Hz\n",
      "- Upper transition bandwidth: 7.50 Hz (-6 dB cutoff frequency: 33.75 Hz)\n",
      "- Filter length: 265 samples (1.656 sec)\n",
      "\n",
      "Not setting metadata\n",
      "45 matching events found\n",
      "No baseline correction applied\n",
      "0 projection items activated\n",
      "Using data from preloaded Raw for 45 events and 801 original time points ...\n",
      "0 bad epochs dropped\n",
      "Effective window size : 0.619 (s)\n",
      "Effective window size : 0.619 (s)\n",
      "Effective window size : 0.619 (s)\n",
      "Effective window size : 0.619 (s)\n",
      "Effective window size : 0.619 (s)\n",
      "Effective window size : 0.619 (s)\n"
     ]
    },
    {
     "name": "stderr",
     "output_type": "stream",
     "text": [
      "/tmp/ipykernel_18001/1951054575.py:54: FutureWarning: The frame.append method is deprecated and will be removed from pandas in a future version. Use pandas.concat instead.\n",
      "  df_eeg_features = df_eeg_features.append(eeg_band_fft, ignore_index=True)\n",
      "/tmp/ipykernel_18001/1951054575.py:54: FutureWarning: The frame.append method is deprecated and will be removed from pandas in a future version. Use pandas.concat instead.\n",
      "  df_eeg_features = df_eeg_features.append(eeg_band_fft, ignore_index=True)\n"
     ]
    },
    {
     "name": "stdout",
     "output_type": "stream",
     "text": [
      "Effective window size : 0.619 (s)\n",
      "Effective window size : 0.619 (s)\n",
      "Effective window size : 0.619 (s)\n",
      "Effective window size : 0.619 (s)\n"
     ]
    },
    {
     "name": "stderr",
     "output_type": "stream",
     "text": [
      "/tmp/ipykernel_18001/1951054575.py:54: FutureWarning: The frame.append method is deprecated and will be removed from pandas in a future version. Use pandas.concat instead.\n",
      "  df_eeg_features = df_eeg_features.append(eeg_band_fft, ignore_index=True)\n",
      "/tmp/ipykernel_18001/1951054575.py:54: FutureWarning: The frame.append method is deprecated and will be removed from pandas in a future version. Use pandas.concat instead.\n",
      "  df_eeg_features = df_eeg_features.append(eeg_band_fft, ignore_index=True)\n"
     ]
    },
    {
     "name": "stdout",
     "output_type": "stream",
     "text": [
      "Effective window size : 0.619 (s)\n",
      "Effective window size : 0.619 (s)\n",
      "Effective window size : 0.619 (s)\n",
      "Effective window size : 0.619 (s)\n"
     ]
    },
    {
     "name": "stderr",
     "output_type": "stream",
     "text": [
      "/tmp/ipykernel_18001/1951054575.py:54: FutureWarning: The frame.append method is deprecated and will be removed from pandas in a future version. Use pandas.concat instead.\n",
      "  df_eeg_features = df_eeg_features.append(eeg_band_fft, ignore_index=True)\n",
      "/tmp/ipykernel_18001/1951054575.py:54: FutureWarning: The frame.append method is deprecated and will be removed from pandas in a future version. Use pandas.concat instead.\n",
      "  df_eeg_features = df_eeg_features.append(eeg_band_fft, ignore_index=True)\n"
     ]
    },
    {
     "name": "stdout",
     "output_type": "stream",
     "text": [
      "Effective window size : 0.619 (s)\n",
      "Effective window size : 0.619 (s)\n",
      "Effective window size : 0.619 (s)\n",
      "Effective window size : 0.619 (s)\n"
     ]
    },
    {
     "name": "stderr",
     "output_type": "stream",
     "text": [
      "/tmp/ipykernel_18001/1951054575.py:54: FutureWarning: The frame.append method is deprecated and will be removed from pandas in a future version. Use pandas.concat instead.\n",
      "  df_eeg_features = df_eeg_features.append(eeg_band_fft, ignore_index=True)\n",
      "/tmp/ipykernel_18001/1951054575.py:54: FutureWarning: The frame.append method is deprecated and will be removed from pandas in a future version. Use pandas.concat instead.\n",
      "  df_eeg_features = df_eeg_features.append(eeg_band_fft, ignore_index=True)\n"
     ]
    },
    {
     "name": "stdout",
     "output_type": "stream",
     "text": [
      "Effective window size : 0.619 (s)\n",
      "Effective window size : 0.619 (s)\n",
      "Effective window size : 0.619 (s)\n",
      "Effective window size : 0.619 (s)\n"
     ]
    },
    {
     "name": "stderr",
     "output_type": "stream",
     "text": [
      "/tmp/ipykernel_18001/1951054575.py:54: FutureWarning: The frame.append method is deprecated and will be removed from pandas in a future version. Use pandas.concat instead.\n",
      "  df_eeg_features = df_eeg_features.append(eeg_band_fft, ignore_index=True)\n",
      "/tmp/ipykernel_18001/1951054575.py:54: FutureWarning: The frame.append method is deprecated and will be removed from pandas in a future version. Use pandas.concat instead.\n",
      "  df_eeg_features = df_eeg_features.append(eeg_band_fft, ignore_index=True)\n"
     ]
    },
    {
     "name": "stdout",
     "output_type": "stream",
     "text": [
      "Effective window size : 0.619 (s)\n",
      "Effective window size : 0.619 (s)\n",
      "Effective window size : 0.619 (s)\n",
      "Effective window size : 0.619 (s)\n",
      "Effective window size : 0.619 (s)\n",
      "Effective window size : 0.619 (s)\n"
     ]
    },
    {
     "name": "stderr",
     "output_type": "stream",
     "text": [
      "/tmp/ipykernel_18001/1951054575.py:54: FutureWarning: The frame.append method is deprecated and will be removed from pandas in a future version. Use pandas.concat instead.\n",
      "  df_eeg_features = df_eeg_features.append(eeg_band_fft, ignore_index=True)\n",
      "/tmp/ipykernel_18001/1951054575.py:54: FutureWarning: The frame.append method is deprecated and will be removed from pandas in a future version. Use pandas.concat instead.\n",
      "  df_eeg_features = df_eeg_features.append(eeg_band_fft, ignore_index=True)\n",
      "/tmp/ipykernel_18001/1951054575.py:54: FutureWarning: The frame.append method is deprecated and will be removed from pandas in a future version. Use pandas.concat instead.\n",
      "  df_eeg_features = df_eeg_features.append(eeg_band_fft, ignore_index=True)\n"
     ]
    },
    {
     "name": "stdout",
     "output_type": "stream",
     "text": [
      "Effective window size : 0.619 (s)\n",
      "Effective window size : 0.619 (s)\n",
      "Effective window size : 0.619 (s)\n",
      "Effective window size : 0.619 (s)\n",
      "Effective window size : 0.619 (s)\n",
      "Effective window size : 0.619 (s)\n"
     ]
    },
    {
     "name": "stderr",
     "output_type": "stream",
     "text": [
      "/tmp/ipykernel_18001/1951054575.py:54: FutureWarning: The frame.append method is deprecated and will be removed from pandas in a future version. Use pandas.concat instead.\n",
      "  df_eeg_features = df_eeg_features.append(eeg_band_fft, ignore_index=True)\n",
      "/tmp/ipykernel_18001/1951054575.py:54: FutureWarning: The frame.append method is deprecated and will be removed from pandas in a future version. Use pandas.concat instead.\n",
      "  df_eeg_features = df_eeg_features.append(eeg_band_fft, ignore_index=True)\n",
      "/tmp/ipykernel_18001/1951054575.py:54: FutureWarning: The frame.append method is deprecated and will be removed from pandas in a future version. Use pandas.concat instead.\n",
      "  df_eeg_features = df_eeg_features.append(eeg_band_fft, ignore_index=True)\n"
     ]
    },
    {
     "name": "stdout",
     "output_type": "stream",
     "text": [
      "Effective window size : 0.619 (s)\n",
      "Effective window size : 0.619 (s)\n",
      "Effective window size : 0.619 (s)\n",
      "Effective window size : 0.619 (s)\n",
      "Effective window size : 0.619 (s)\n",
      "Effective window size : 0.619 (s)\n"
     ]
    },
    {
     "name": "stderr",
     "output_type": "stream",
     "text": [
      "/tmp/ipykernel_18001/1951054575.py:54: FutureWarning: The frame.append method is deprecated and will be removed from pandas in a future version. Use pandas.concat instead.\n",
      "  df_eeg_features = df_eeg_features.append(eeg_band_fft, ignore_index=True)\n",
      "/tmp/ipykernel_18001/1951054575.py:54: FutureWarning: The frame.append method is deprecated and will be removed from pandas in a future version. Use pandas.concat instead.\n",
      "  df_eeg_features = df_eeg_features.append(eeg_band_fft, ignore_index=True)\n",
      "/tmp/ipykernel_18001/1951054575.py:54: FutureWarning: The frame.append method is deprecated and will be removed from pandas in a future version. Use pandas.concat instead.\n",
      "  df_eeg_features = df_eeg_features.append(eeg_band_fft, ignore_index=True)\n"
     ]
    },
    {
     "name": "stdout",
     "output_type": "stream",
     "text": [
      "Effective window size : 0.619 (s)\n",
      "Effective window size : 0.619 (s)\n",
      "Effective window size : 0.619 (s)\n",
      "Effective window size : 0.619 (s)\n",
      "Effective window size : 0.619 (s)\n",
      "Effective window size : 0.619 (s)\n"
     ]
    },
    {
     "name": "stderr",
     "output_type": "stream",
     "text": [
      "/tmp/ipykernel_18001/1951054575.py:54: FutureWarning: The frame.append method is deprecated and will be removed from pandas in a future version. Use pandas.concat instead.\n",
      "  df_eeg_features = df_eeg_features.append(eeg_band_fft, ignore_index=True)\n",
      "/tmp/ipykernel_18001/1951054575.py:54: FutureWarning: The frame.append method is deprecated and will be removed from pandas in a future version. Use pandas.concat instead.\n",
      "  df_eeg_features = df_eeg_features.append(eeg_band_fft, ignore_index=True)\n",
      "/tmp/ipykernel_18001/1951054575.py:54: FutureWarning: The frame.append method is deprecated and will be removed from pandas in a future version. Use pandas.concat instead.\n",
      "  df_eeg_features = df_eeg_features.append(eeg_band_fft, ignore_index=True)\n"
     ]
    },
    {
     "name": "stdout",
     "output_type": "stream",
     "text": [
      "Effective window size : 0.619 (s)\n",
      "Effective window size : 0.619 (s)\n",
      "Effective window size : 0.619 (s)\n",
      "Effective window size : 0.619 (s)\n",
      "Effective window size : 0.619 (s)\n",
      "Effective window size : 0.619 (s)\n"
     ]
    },
    {
     "name": "stderr",
     "output_type": "stream",
     "text": [
      "/tmp/ipykernel_18001/1951054575.py:54: FutureWarning: The frame.append method is deprecated and will be removed from pandas in a future version. Use pandas.concat instead.\n",
      "  df_eeg_features = df_eeg_features.append(eeg_band_fft, ignore_index=True)\n",
      "/tmp/ipykernel_18001/1951054575.py:54: FutureWarning: The frame.append method is deprecated and will be removed from pandas in a future version. Use pandas.concat instead.\n",
      "  df_eeg_features = df_eeg_features.append(eeg_band_fft, ignore_index=True)\n",
      "/tmp/ipykernel_18001/1951054575.py:54: FutureWarning: The frame.append method is deprecated and will be removed from pandas in a future version. Use pandas.concat instead.\n",
      "  df_eeg_features = df_eeg_features.append(eeg_band_fft, ignore_index=True)\n"
     ]
    },
    {
     "name": "stdout",
     "output_type": "stream",
     "text": [
      "Effective window size : 0.619 (s)\n",
      "Effective window size : 0.619 (s)\n",
      "Effective window size : 0.619 (s)\n",
      "Effective window size : 0.619 (s)\n",
      "Effective window size : 0.619 (s)\n",
      "Effective window size : 0.619 (s)\n"
     ]
    },
    {
     "name": "stderr",
     "output_type": "stream",
     "text": [
      "/tmp/ipykernel_18001/1951054575.py:54: FutureWarning: The frame.append method is deprecated and will be removed from pandas in a future version. Use pandas.concat instead.\n",
      "  df_eeg_features = df_eeg_features.append(eeg_band_fft, ignore_index=True)\n",
      "/tmp/ipykernel_18001/1951054575.py:54: FutureWarning: The frame.append method is deprecated and will be removed from pandas in a future version. Use pandas.concat instead.\n",
      "  df_eeg_features = df_eeg_features.append(eeg_band_fft, ignore_index=True)\n",
      "/tmp/ipykernel_18001/1951054575.py:54: FutureWarning: The frame.append method is deprecated and will be removed from pandas in a future version. Use pandas.concat instead.\n",
      "  df_eeg_features = df_eeg_features.append(eeg_band_fft, ignore_index=True)\n"
     ]
    },
    {
     "name": "stdout",
     "output_type": "stream",
     "text": [
      "Effective window size : 0.619 (s)\n",
      "Effective window size : 0.619 (s)\n",
      "Effective window size : 0.619 (s)\n",
      "Effective window size : 0.619 (s)\n",
      "Effective window size : 0.619 (s)\n",
      "Effective window size : 0.619 (s)\n"
     ]
    },
    {
     "name": "stderr",
     "output_type": "stream",
     "text": [
      "/tmp/ipykernel_18001/1951054575.py:54: FutureWarning: The frame.append method is deprecated and will be removed from pandas in a future version. Use pandas.concat instead.\n",
      "  df_eeg_features = df_eeg_features.append(eeg_band_fft, ignore_index=True)\n",
      "/tmp/ipykernel_18001/1951054575.py:54: FutureWarning: The frame.append method is deprecated and will be removed from pandas in a future version. Use pandas.concat instead.\n",
      "  df_eeg_features = df_eeg_features.append(eeg_band_fft, ignore_index=True)\n",
      "/tmp/ipykernel_18001/1951054575.py:54: FutureWarning: The frame.append method is deprecated and will be removed from pandas in a future version. Use pandas.concat instead.\n",
      "  df_eeg_features = df_eeg_features.append(eeg_band_fft, ignore_index=True)\n"
     ]
    },
    {
     "name": "stdout",
     "output_type": "stream",
     "text": [
      "Effective window size : 0.619 (s)\n",
      "Effective window size : 0.619 (s)\n",
      "Effective window size : 0.619 (s)\n",
      "Effective window size : 0.619 (s)\n",
      "Effective window size : 0.619 (s)\n",
      "Effective window size : 0.619 (s)\n"
     ]
    },
    {
     "name": "stderr",
     "output_type": "stream",
     "text": [
      "/tmp/ipykernel_18001/1951054575.py:54: FutureWarning: The frame.append method is deprecated and will be removed from pandas in a future version. Use pandas.concat instead.\n",
      "  df_eeg_features = df_eeg_features.append(eeg_band_fft, ignore_index=True)\n",
      "/tmp/ipykernel_18001/1951054575.py:54: FutureWarning: The frame.append method is deprecated and will be removed from pandas in a future version. Use pandas.concat instead.\n",
      "  df_eeg_features = df_eeg_features.append(eeg_band_fft, ignore_index=True)\n",
      "/tmp/ipykernel_18001/1951054575.py:54: FutureWarning: The frame.append method is deprecated and will be removed from pandas in a future version. Use pandas.concat instead.\n",
      "  df_eeg_features = df_eeg_features.append(eeg_band_fft, ignore_index=True)\n"
     ]
    },
    {
     "name": "stdout",
     "output_type": "stream",
     "text": [
      "Effective window size : 0.619 (s)\n",
      "Effective window size : 0.619 (s)\n",
      "Effective window size : 0.619 (s)\n",
      "Effective window size : 0.619 (s)\n",
      "Effective window size : 0.619 (s)\n",
      "Effective window size : 0.619 (s)\n"
     ]
    },
    {
     "name": "stderr",
     "output_type": "stream",
     "text": [
      "/tmp/ipykernel_18001/1951054575.py:54: FutureWarning: The frame.append method is deprecated and will be removed from pandas in a future version. Use pandas.concat instead.\n",
      "  df_eeg_features = df_eeg_features.append(eeg_band_fft, ignore_index=True)\n",
      "/tmp/ipykernel_18001/1951054575.py:54: FutureWarning: The frame.append method is deprecated and will be removed from pandas in a future version. Use pandas.concat instead.\n",
      "  df_eeg_features = df_eeg_features.append(eeg_band_fft, ignore_index=True)\n",
      "/tmp/ipykernel_18001/1951054575.py:54: FutureWarning: The frame.append method is deprecated and will be removed from pandas in a future version. Use pandas.concat instead.\n",
      "  df_eeg_features = df_eeg_features.append(eeg_band_fft, ignore_index=True)\n"
     ]
    },
    {
     "name": "stdout",
     "output_type": "stream",
     "text": [
      "Effective window size : 0.619 (s)\n",
      "Effective window size : 0.619 (s)\n",
      "Effective window size : 0.619 (s)\n",
      "Effective window size : 0.619 (s)\n"
     ]
    },
    {
     "name": "stderr",
     "output_type": "stream",
     "text": [
      "/tmp/ipykernel_18001/1951054575.py:54: FutureWarning: The frame.append method is deprecated and will be removed from pandas in a future version. Use pandas.concat instead.\n",
      "  df_eeg_features = df_eeg_features.append(eeg_band_fft, ignore_index=True)\n",
      "/tmp/ipykernel_18001/1951054575.py:54: FutureWarning: The frame.append method is deprecated and will be removed from pandas in a future version. Use pandas.concat instead.\n",
      "  df_eeg_features = df_eeg_features.append(eeg_band_fft, ignore_index=True)\n",
      "/tmp/ipykernel_18001/1951054575.py:54: FutureWarning: The frame.append method is deprecated and will be removed from pandas in a future version. Use pandas.concat instead.\n",
      "  df_eeg_features = df_eeg_features.append(eeg_band_fft, ignore_index=True)\n"
     ]
    },
    {
     "name": "stdout",
     "output_type": "stream",
     "text": [
      "Effective window size : 0.619 (s)\n",
      "Effective window size : 0.619 (s)\n",
      "Effective window size : 0.619 (s)\n",
      "Effective window size : 0.619 (s)\n",
      "Effective window size : 0.619 (s)\n",
      "Effective window size : 0.619 (s)\n",
      "Effective window size : 0.619 (s)\n",
      "Effective window size : 0.619 (s)\n"
     ]
    },
    {
     "name": "stderr",
     "output_type": "stream",
     "text": [
      "/tmp/ipykernel_18001/1951054575.py:54: FutureWarning: The frame.append method is deprecated and will be removed from pandas in a future version. Use pandas.concat instead.\n",
      "  df_eeg_features = df_eeg_features.append(eeg_band_fft, ignore_index=True)\n",
      "/tmp/ipykernel_18001/1951054575.py:54: FutureWarning: The frame.append method is deprecated and will be removed from pandas in a future version. Use pandas.concat instead.\n",
      "  df_eeg_features = df_eeg_features.append(eeg_band_fft, ignore_index=True)\n",
      "/tmp/ipykernel_18001/1951054575.py:54: FutureWarning: The frame.append method is deprecated and will be removed from pandas in a future version. Use pandas.concat instead.\n",
      "  df_eeg_features = df_eeg_features.append(eeg_band_fft, ignore_index=True)\n"
     ]
    },
    {
     "name": "stdout",
     "output_type": "stream",
     "text": [
      "Effective window size : 0.619 (s)\n",
      "Effective window size : 0.619 (s)\n"
     ]
    },
    {
     "name": "stderr",
     "output_type": "stream",
     "text": [
      "/tmp/ipykernel_18001/1951054575.py:54: FutureWarning: The frame.append method is deprecated and will be removed from pandas in a future version. Use pandas.concat instead.\n",
      "  df_eeg_features = df_eeg_features.append(eeg_band_fft, ignore_index=True)\n",
      "/tmp/ipykernel_18001/1951054575.py:54: FutureWarning: The frame.append method is deprecated and will be removed from pandas in a future version. Use pandas.concat instead.\n",
      "  df_eeg_features = df_eeg_features.append(eeg_band_fft, ignore_index=True)\n",
      "Downloading file 'S026/S026R03.edf' from 'https://physionet.org/files/eegmmidb/1.0.0/S026/S026R03.edf' to '/home/vanilla_skies/mne_data/MNE-eegbci-data/files/eegmmidb/1.0.0'.\n",
      "Downloading file 'S026/S026R07.edf' from 'https://physionet.org/files/eegmmidb/1.0.0/S026/S026R07.edf' to '/home/vanilla_skies/mne_data/MNE-eegbci-data/files/eegmmidb/1.0.0'.\n",
      "Downloading file 'S026/S026R11.edf' from 'https://physionet.org/files/eegmmidb/1.0.0/S026/S026R11.edf' to '/home/vanilla_skies/mne_data/MNE-eegbci-data/files/eegmmidb/1.0.0'.\n"
     ]
    },
    {
     "name": "stdout",
     "output_type": "stream",
     "text": [
      "Extracting EDF parameters from /home/vanilla_skies/mne_data/MNE-eegbci-data/files/eegmmidb/1.0.0/S026/S026R03.edf...\n",
      "EDF file detected\n",
      "Setting channel info structure...\n",
      "Creating raw.info structure...\n",
      "Reading 0 ... 19679  =      0.000 ...   122.994 secs...\n",
      "Extracting EDF parameters from /home/vanilla_skies/mne_data/MNE-eegbci-data/files/eegmmidb/1.0.0/S026/S026R07.edf...\n",
      "EDF file detected\n",
      "Setting channel info structure...\n",
      "Creating raw.info structure...\n",
      "Reading 0 ... 19679  =      0.000 ...   122.994 secs...\n",
      "Extracting EDF parameters from /home/vanilla_skies/mne_data/MNE-eegbci-data/files/eegmmidb/1.0.0/S026/S026R11.edf...\n",
      "EDF file detected\n",
      "Setting channel info structure...\n",
      "Creating raw.info structure...\n",
      "Reading 0 ... 19679  =      0.000 ...   122.994 secs...\n",
      "Used Annotations descriptions: ['T0', 'T1', 'T2']\n",
      "Filtering raw data in 3 contiguous segments\n",
      "Setting up band-pass filter from 7 - 30 Hz\n",
      "\n",
      "FIR filter parameters\n",
      "---------------------\n",
      "Designing a one-pass, zero-phase, non-causal bandpass filter:\n",
      "- Windowed time-domain design (firwin) method\n",
      "- Hamming window with 0.0194 passband ripple and 53 dB stopband attenuation\n",
      "- Lower passband edge: 7.00\n",
      "- Lower transition bandwidth: 2.00 Hz (-6 dB cutoff frequency: 6.00 Hz)\n",
      "- Upper passband edge: 30.00 Hz\n",
      "- Upper transition bandwidth: 7.50 Hz (-6 dB cutoff frequency: 33.75 Hz)\n",
      "- Filter length: 265 samples (1.656 sec)\n",
      "\n",
      "Not setting metadata\n",
      "45 matching events found\n",
      "No baseline correction applied\n",
      "0 projection items activated\n",
      "Using data from preloaded Raw for 45 events and 801 original time points ...\n",
      "0 bad epochs dropped\n",
      "Effective window size : 0.619 (s)\n",
      "Effective window size : 0.619 (s)\n",
      "Effective window size : 0.619 (s)\n",
      "Effective window size : 0.619 (s)\n",
      "Effective window size : 0.619 (s)\n",
      "Effective window size : 0.619 (s)\n",
      "Effective window size : 0.619 (s)\n"
     ]
    },
    {
     "name": "stderr",
     "output_type": "stream",
     "text": [
      "/tmp/ipykernel_18001/1951054575.py:54: FutureWarning: The frame.append method is deprecated and will be removed from pandas in a future version. Use pandas.concat instead.\n",
      "  df_eeg_features = df_eeg_features.append(eeg_band_fft, ignore_index=True)\n",
      "/tmp/ipykernel_18001/1951054575.py:54: FutureWarning: The frame.append method is deprecated and will be removed from pandas in a future version. Use pandas.concat instead.\n",
      "  df_eeg_features = df_eeg_features.append(eeg_band_fft, ignore_index=True)\n",
      "/tmp/ipykernel_18001/1951054575.py:54: FutureWarning: The frame.append method is deprecated and will be removed from pandas in a future version. Use pandas.concat instead.\n",
      "  df_eeg_features = df_eeg_features.append(eeg_band_fft, ignore_index=True)\n"
     ]
    },
    {
     "name": "stdout",
     "output_type": "stream",
     "text": [
      "Effective window size : 0.619 (s)\n",
      "Effective window size : 0.619 (s)\n",
      "Effective window size : 0.619 (s)\n",
      "Effective window size : 0.619 (s)\n",
      "Effective window size : 0.619 (s)\n",
      "Effective window size : 0.619 (s)\n",
      "Effective window size : 0.619 (s)\n"
     ]
    },
    {
     "name": "stderr",
     "output_type": "stream",
     "text": [
      "/tmp/ipykernel_18001/1951054575.py:54: FutureWarning: The frame.append method is deprecated and will be removed from pandas in a future version. Use pandas.concat instead.\n",
      "  df_eeg_features = df_eeg_features.append(eeg_band_fft, ignore_index=True)\n",
      "/tmp/ipykernel_18001/1951054575.py:54: FutureWarning: The frame.append method is deprecated and will be removed from pandas in a future version. Use pandas.concat instead.\n",
      "  df_eeg_features = df_eeg_features.append(eeg_band_fft, ignore_index=True)\n",
      "/tmp/ipykernel_18001/1951054575.py:54: FutureWarning: The frame.append method is deprecated and will be removed from pandas in a future version. Use pandas.concat instead.\n",
      "  df_eeg_features = df_eeg_features.append(eeg_band_fft, ignore_index=True)\n"
     ]
    },
    {
     "name": "stdout",
     "output_type": "stream",
     "text": [
      "Effective window size : 0.619 (s)\n",
      "Effective window size : 0.619 (s)\n",
      "Effective window size : 0.619 (s)\n",
      "Effective window size : 0.619 (s)\n",
      "Effective window size : 0.619 (s)\n",
      "Effective window size : 0.619 (s)\n"
     ]
    },
    {
     "name": "stderr",
     "output_type": "stream",
     "text": [
      "/tmp/ipykernel_18001/1951054575.py:54: FutureWarning: The frame.append method is deprecated and will be removed from pandas in a future version. Use pandas.concat instead.\n",
      "  df_eeg_features = df_eeg_features.append(eeg_band_fft, ignore_index=True)\n",
      "/tmp/ipykernel_18001/1951054575.py:54: FutureWarning: The frame.append method is deprecated and will be removed from pandas in a future version. Use pandas.concat instead.\n",
      "  df_eeg_features = df_eeg_features.append(eeg_band_fft, ignore_index=True)\n",
      "/tmp/ipykernel_18001/1951054575.py:54: FutureWarning: The frame.append method is deprecated and will be removed from pandas in a future version. Use pandas.concat instead.\n",
      "  df_eeg_features = df_eeg_features.append(eeg_band_fft, ignore_index=True)\n",
      "/tmp/ipykernel_18001/1951054575.py:54: FutureWarning: The frame.append method is deprecated and will be removed from pandas in a future version. Use pandas.concat instead.\n",
      "  df_eeg_features = df_eeg_features.append(eeg_band_fft, ignore_index=True)\n"
     ]
    },
    {
     "name": "stdout",
     "output_type": "stream",
     "text": [
      "Effective window size : 0.619 (s)\n",
      "Effective window size : 0.619 (s)\n",
      "Effective window size : 0.619 (s)\n",
      "Effective window size : 0.619 (s)\n",
      "Effective window size : 0.619 (s)\n",
      "Effective window size : 0.619 (s)\n",
      "Effective window size : 0.619 (s)\n",
      "Effective window size : 0.619 (s)\n",
      "Effective window size : 0.619 (s)\n"
     ]
    },
    {
     "name": "stderr",
     "output_type": "stream",
     "text": [
      "/tmp/ipykernel_18001/1951054575.py:54: FutureWarning: The frame.append method is deprecated and will be removed from pandas in a future version. Use pandas.concat instead.\n",
      "  df_eeg_features = df_eeg_features.append(eeg_band_fft, ignore_index=True)\n",
      "/tmp/ipykernel_18001/1951054575.py:54: FutureWarning: The frame.append method is deprecated and will be removed from pandas in a future version. Use pandas.concat instead.\n",
      "  df_eeg_features = df_eeg_features.append(eeg_band_fft, ignore_index=True)\n",
      "/tmp/ipykernel_18001/1951054575.py:54: FutureWarning: The frame.append method is deprecated and will be removed from pandas in a future version. Use pandas.concat instead.\n",
      "  df_eeg_features = df_eeg_features.append(eeg_band_fft, ignore_index=True)\n",
      "/tmp/ipykernel_18001/1951054575.py:54: FutureWarning: The frame.append method is deprecated and will be removed from pandas in a future version. Use pandas.concat instead.\n",
      "  df_eeg_features = df_eeg_features.append(eeg_band_fft, ignore_index=True)\n"
     ]
    },
    {
     "name": "stdout",
     "output_type": "stream",
     "text": [
      "Effective window size : 0.619 (s)\n",
      "Effective window size : 0.619 (s)\n",
      "Effective window size : 0.619 (s)\n",
      "Effective window size : 0.619 (s)\n",
      "Effective window size : 0.619 (s)\n"
     ]
    },
    {
     "name": "stderr",
     "output_type": "stream",
     "text": [
      "/tmp/ipykernel_18001/1951054575.py:54: FutureWarning: The frame.append method is deprecated and will be removed from pandas in a future version. Use pandas.concat instead.\n",
      "  df_eeg_features = df_eeg_features.append(eeg_band_fft, ignore_index=True)\n",
      "/tmp/ipykernel_18001/1951054575.py:54: FutureWarning: The frame.append method is deprecated and will be removed from pandas in a future version. Use pandas.concat instead.\n",
      "  df_eeg_features = df_eeg_features.append(eeg_band_fft, ignore_index=True)\n"
     ]
    },
    {
     "name": "stdout",
     "output_type": "stream",
     "text": [
      "Effective window size : 0.619 (s)\n",
      "Effective window size : 0.619 (s)\n",
      "Effective window size : 0.619 (s)\n",
      "Effective window size : 0.619 (s)\n",
      "Effective window size : 0.619 (s)\n",
      "Effective window size : 0.619 (s)\n"
     ]
    },
    {
     "name": "stderr",
     "output_type": "stream",
     "text": [
      "/tmp/ipykernel_18001/1951054575.py:54: FutureWarning: The frame.append method is deprecated and will be removed from pandas in a future version. Use pandas.concat instead.\n",
      "  df_eeg_features = df_eeg_features.append(eeg_band_fft, ignore_index=True)\n",
      "/tmp/ipykernel_18001/1951054575.py:54: FutureWarning: The frame.append method is deprecated and will be removed from pandas in a future version. Use pandas.concat instead.\n",
      "  df_eeg_features = df_eeg_features.append(eeg_band_fft, ignore_index=True)\n",
      "/tmp/ipykernel_18001/1951054575.py:54: FutureWarning: The frame.append method is deprecated and will be removed from pandas in a future version. Use pandas.concat instead.\n",
      "  df_eeg_features = df_eeg_features.append(eeg_band_fft, ignore_index=True)\n",
      "/tmp/ipykernel_18001/1951054575.py:54: FutureWarning: The frame.append method is deprecated and will be removed from pandas in a future version. Use pandas.concat instead.\n",
      "  df_eeg_features = df_eeg_features.append(eeg_band_fft, ignore_index=True)\n"
     ]
    },
    {
     "name": "stdout",
     "output_type": "stream",
     "text": [
      "Effective window size : 0.619 (s)\n",
      "Effective window size : 0.619 (s)\n",
      "Effective window size : 0.619 (s)\n",
      "Effective window size : 0.619 (s)\n",
      "Effective window size : 0.619 (s)\n",
      "Effective window size : 0.619 (s)\n",
      "Effective window size : 0.619 (s)\n",
      "Effective window size : 0.619 (s)\n"
     ]
    },
    {
     "name": "stderr",
     "output_type": "stream",
     "text": [
      "/tmp/ipykernel_18001/1951054575.py:54: FutureWarning: The frame.append method is deprecated and will be removed from pandas in a future version. Use pandas.concat instead.\n",
      "  df_eeg_features = df_eeg_features.append(eeg_band_fft, ignore_index=True)\n",
      "/tmp/ipykernel_18001/1951054575.py:54: FutureWarning: The frame.append method is deprecated and will be removed from pandas in a future version. Use pandas.concat instead.\n",
      "  df_eeg_features = df_eeg_features.append(eeg_band_fft, ignore_index=True)\n",
      "/tmp/ipykernel_18001/1951054575.py:54: FutureWarning: The frame.append method is deprecated and will be removed from pandas in a future version. Use pandas.concat instead.\n",
      "  df_eeg_features = df_eeg_features.append(eeg_band_fft, ignore_index=True)\n"
     ]
    },
    {
     "name": "stdout",
     "output_type": "stream",
     "text": [
      "Effective window size : 0.619 (s)\n",
      "Effective window size : 0.619 (s)\n",
      "Effective window size : 0.619 (s)\n",
      "Effective window size : 0.619 (s)\n",
      "Effective window size : 0.619 (s)\n",
      "Effective window size : 0.619 (s)\n"
     ]
    },
    {
     "name": "stderr",
     "output_type": "stream",
     "text": [
      "/tmp/ipykernel_18001/1951054575.py:54: FutureWarning: The frame.append method is deprecated and will be removed from pandas in a future version. Use pandas.concat instead.\n",
      "  df_eeg_features = df_eeg_features.append(eeg_band_fft, ignore_index=True)\n",
      "/tmp/ipykernel_18001/1951054575.py:54: FutureWarning: The frame.append method is deprecated and will be removed from pandas in a future version. Use pandas.concat instead.\n",
      "  df_eeg_features = df_eeg_features.append(eeg_band_fft, ignore_index=True)\n",
      "/tmp/ipykernel_18001/1951054575.py:54: FutureWarning: The frame.append method is deprecated and will be removed from pandas in a future version. Use pandas.concat instead.\n",
      "  df_eeg_features = df_eeg_features.append(eeg_band_fft, ignore_index=True)\n",
      "/tmp/ipykernel_18001/1951054575.py:54: FutureWarning: The frame.append method is deprecated and will be removed from pandas in a future version. Use pandas.concat instead.\n",
      "  df_eeg_features = df_eeg_features.append(eeg_band_fft, ignore_index=True)\n"
     ]
    },
    {
     "name": "stdout",
     "output_type": "stream",
     "text": [
      "Effective window size : 0.619 (s)\n",
      "Effective window size : 0.619 (s)\n",
      "Effective window size : 0.619 (s)\n",
      "Effective window size : 0.619 (s)\n",
      "Effective window size : 0.619 (s)\n",
      "Effective window size : 0.619 (s)\n",
      "Effective window size : 0.619 (s)\n",
      "Effective window size : 0.619 (s)\n"
     ]
    },
    {
     "name": "stderr",
     "output_type": "stream",
     "text": [
      "/tmp/ipykernel_18001/1951054575.py:54: FutureWarning: The frame.append method is deprecated and will be removed from pandas in a future version. Use pandas.concat instead.\n",
      "  df_eeg_features = df_eeg_features.append(eeg_band_fft, ignore_index=True)\n",
      "/tmp/ipykernel_18001/1951054575.py:54: FutureWarning: The frame.append method is deprecated and will be removed from pandas in a future version. Use pandas.concat instead.\n",
      "  df_eeg_features = df_eeg_features.append(eeg_band_fft, ignore_index=True)\n",
      "/tmp/ipykernel_18001/1951054575.py:54: FutureWarning: The frame.append method is deprecated and will be removed from pandas in a future version. Use pandas.concat instead.\n",
      "  df_eeg_features = df_eeg_features.append(eeg_band_fft, ignore_index=True)\n",
      "/tmp/ipykernel_18001/1951054575.py:54: FutureWarning: The frame.append method is deprecated and will be removed from pandas in a future version. Use pandas.concat instead.\n",
      "  df_eeg_features = df_eeg_features.append(eeg_band_fft, ignore_index=True)\n"
     ]
    },
    {
     "name": "stdout",
     "output_type": "stream",
     "text": [
      "Effective window size : 0.619 (s)\n",
      "Effective window size : 0.619 (s)\n",
      "Effective window size : 0.619 (s)\n",
      "Effective window size : 0.619 (s)\n",
      "Effective window size : 0.619 (s)\n",
      "Effective window size : 0.619 (s)\n",
      "Effective window size : 0.619 (s)\n",
      "Effective window size : 0.619 (s)\n"
     ]
    },
    {
     "name": "stderr",
     "output_type": "stream",
     "text": [
      "/tmp/ipykernel_18001/1951054575.py:54: FutureWarning: The frame.append method is deprecated and will be removed from pandas in a future version. Use pandas.concat instead.\n",
      "  df_eeg_features = df_eeg_features.append(eeg_band_fft, ignore_index=True)\n",
      "/tmp/ipykernel_18001/1951054575.py:54: FutureWarning: The frame.append method is deprecated and will be removed from pandas in a future version. Use pandas.concat instead.\n",
      "  df_eeg_features = df_eeg_features.append(eeg_band_fft, ignore_index=True)\n",
      "/tmp/ipykernel_18001/1951054575.py:54: FutureWarning: The frame.append method is deprecated and will be removed from pandas in a future version. Use pandas.concat instead.\n",
      "  df_eeg_features = df_eeg_features.append(eeg_band_fft, ignore_index=True)\n"
     ]
    },
    {
     "name": "stdout",
     "output_type": "stream",
     "text": [
      "Effective window size : 0.619 (s)\n",
      "Effective window size : 0.619 (s)\n",
      "Effective window size : 0.619 (s)\n",
      "Effective window size : 0.619 (s)\n",
      "Effective window size : 0.619 (s)\n",
      "Effective window size : 0.619 (s)\n"
     ]
    },
    {
     "name": "stderr",
     "output_type": "stream",
     "text": [
      "/tmp/ipykernel_18001/1951054575.py:54: FutureWarning: The frame.append method is deprecated and will be removed from pandas in a future version. Use pandas.concat instead.\n",
      "  df_eeg_features = df_eeg_features.append(eeg_band_fft, ignore_index=True)\n",
      "/tmp/ipykernel_18001/1951054575.py:54: FutureWarning: The frame.append method is deprecated and will be removed from pandas in a future version. Use pandas.concat instead.\n",
      "  df_eeg_features = df_eeg_features.append(eeg_band_fft, ignore_index=True)\n",
      "/tmp/ipykernel_18001/1951054575.py:54: FutureWarning: The frame.append method is deprecated and will be removed from pandas in a future version. Use pandas.concat instead.\n",
      "  df_eeg_features = df_eeg_features.append(eeg_band_fft, ignore_index=True)\n"
     ]
    },
    {
     "name": "stdout",
     "output_type": "stream",
     "text": [
      "Effective window size : 0.619 (s)\n",
      "Effective window size : 0.619 (s)\n",
      "Effective window size : 0.619 (s)\n",
      "Effective window size : 0.619 (s)\n",
      "Effective window size : 0.619 (s)\n",
      "Effective window size : 0.619 (s)\n"
     ]
    },
    {
     "name": "stderr",
     "output_type": "stream",
     "text": [
      "/tmp/ipykernel_18001/1951054575.py:54: FutureWarning: The frame.append method is deprecated and will be removed from pandas in a future version. Use pandas.concat instead.\n",
      "  df_eeg_features = df_eeg_features.append(eeg_band_fft, ignore_index=True)\n",
      "/tmp/ipykernel_18001/1951054575.py:54: FutureWarning: The frame.append method is deprecated and will be removed from pandas in a future version. Use pandas.concat instead.\n",
      "  df_eeg_features = df_eeg_features.append(eeg_band_fft, ignore_index=True)\n",
      "/tmp/ipykernel_18001/1951054575.py:54: FutureWarning: The frame.append method is deprecated and will be removed from pandas in a future version. Use pandas.concat instead.\n",
      "  df_eeg_features = df_eeg_features.append(eeg_band_fft, ignore_index=True)\n"
     ]
    },
    {
     "name": "stdout",
     "output_type": "stream",
     "text": [
      "Effective window size : 0.619 (s)\n",
      "Effective window size : 0.619 (s)\n",
      "Effective window size : 0.619 (s)\n",
      "Effective window size : 0.619 (s)\n",
      "Effective window size : 0.619 (s)\n",
      "Effective window size : 0.619 (s)\n"
     ]
    },
    {
     "name": "stderr",
     "output_type": "stream",
     "text": [
      "/tmp/ipykernel_18001/1951054575.py:54: FutureWarning: The frame.append method is deprecated and will be removed from pandas in a future version. Use pandas.concat instead.\n",
      "  df_eeg_features = df_eeg_features.append(eeg_band_fft, ignore_index=True)\n",
      "/tmp/ipykernel_18001/1951054575.py:54: FutureWarning: The frame.append method is deprecated and will be removed from pandas in a future version. Use pandas.concat instead.\n",
      "  df_eeg_features = df_eeg_features.append(eeg_band_fft, ignore_index=True)\n",
      "/tmp/ipykernel_18001/1951054575.py:54: FutureWarning: The frame.append method is deprecated and will be removed from pandas in a future version. Use pandas.concat instead.\n",
      "  df_eeg_features = df_eeg_features.append(eeg_band_fft, ignore_index=True)\n"
     ]
    },
    {
     "name": "stdout",
     "output_type": "stream",
     "text": [
      "Effective window size : 0.619 (s)\n",
      "Effective window size : 0.619 (s)\n"
     ]
    },
    {
     "name": "stderr",
     "output_type": "stream",
     "text": [
      "/tmp/ipykernel_18001/1951054575.py:54: FutureWarning: The frame.append method is deprecated and will be removed from pandas in a future version. Use pandas.concat instead.\n",
      "  df_eeg_features = df_eeg_features.append(eeg_band_fft, ignore_index=True)\n",
      "/tmp/ipykernel_18001/1951054575.py:54: FutureWarning: The frame.append method is deprecated and will be removed from pandas in a future version. Use pandas.concat instead.\n",
      "  df_eeg_features = df_eeg_features.append(eeg_band_fft, ignore_index=True)\n",
      "Downloading file 'S027/S027R03.edf' from 'https://physionet.org/files/eegmmidb/1.0.0/S027/S027R03.edf' to '/home/vanilla_skies/mne_data/MNE-eegbci-data/files/eegmmidb/1.0.0'.\n",
      "Downloading file 'S027/S027R07.edf' from 'https://physionet.org/files/eegmmidb/1.0.0/S027/S027R07.edf' to '/home/vanilla_skies/mne_data/MNE-eegbci-data/files/eegmmidb/1.0.0'.\n",
      "Downloading file 'S027/S027R11.edf' from 'https://physionet.org/files/eegmmidb/1.0.0/S027/S027R11.edf' to '/home/vanilla_skies/mne_data/MNE-eegbci-data/files/eegmmidb/1.0.0'.\n"
     ]
    },
    {
     "name": "stdout",
     "output_type": "stream",
     "text": [
      "Extracting EDF parameters from /home/vanilla_skies/mne_data/MNE-eegbci-data/files/eegmmidb/1.0.0/S027/S027R03.edf...\n",
      "EDF file detected\n",
      "Setting channel info structure...\n",
      "Creating raw.info structure...\n",
      "Reading 0 ... 19679  =      0.000 ...   122.994 secs...\n",
      "Extracting EDF parameters from /home/vanilla_skies/mne_data/MNE-eegbci-data/files/eegmmidb/1.0.0/S027/S027R07.edf...\n",
      "EDF file detected\n",
      "Setting channel info structure...\n",
      "Creating raw.info structure...\n",
      "Reading 0 ... 19679  =      0.000 ...   122.994 secs...\n",
      "Extracting EDF parameters from /home/vanilla_skies/mne_data/MNE-eegbci-data/files/eegmmidb/1.0.0/S027/S027R11.edf...\n",
      "EDF file detected\n",
      "Setting channel info structure...\n",
      "Creating raw.info structure...\n",
      "Reading 0 ... 19679  =      0.000 ...   122.994 secs...\n",
      "Used Annotations descriptions: ['T0', 'T1', 'T2']\n",
      "Filtering raw data in 3 contiguous segments\n",
      "Setting up band-pass filter from 7 - 30 Hz\n",
      "\n",
      "FIR filter parameters\n",
      "---------------------\n",
      "Designing a one-pass, zero-phase, non-causal bandpass filter:\n",
      "- Windowed time-domain design (firwin) method\n",
      "- Hamming window with 0.0194 passband ripple and 53 dB stopband attenuation\n",
      "- Lower passband edge: 7.00\n",
      "- Lower transition bandwidth: 2.00 Hz (-6 dB cutoff frequency: 6.00 Hz)\n",
      "- Upper passband edge: 30.00 Hz\n",
      "- Upper transition bandwidth: 7.50 Hz (-6 dB cutoff frequency: 33.75 Hz)\n",
      "- Filter length: 265 samples (1.656 sec)\n",
      "\n",
      "Not setting metadata\n",
      "45 matching events found\n",
      "No baseline correction applied\n",
      "0 projection items activated\n",
      "Using data from preloaded Raw for 45 events and 801 original time points ...\n",
      "0 bad epochs dropped\n",
      "Effective window size : 0.619 (s)\n",
      "Effective window size : 0.619 (s)\n",
      "Effective window size : 0.619 (s)\n",
      "Effective window size : 0.619 (s)\n",
      "Effective window size : 0.619 (s)\n",
      "Effective window size : 0.619 (s)\n",
      "Effective window size : 0.619 (s)\n",
      "Effective window size : 0.619 (s)\n"
     ]
    },
    {
     "name": "stderr",
     "output_type": "stream",
     "text": [
      "/tmp/ipykernel_18001/1951054575.py:54: FutureWarning: The frame.append method is deprecated and will be removed from pandas in a future version. Use pandas.concat instead.\n",
      "  df_eeg_features = df_eeg_features.append(eeg_band_fft, ignore_index=True)\n",
      "/tmp/ipykernel_18001/1951054575.py:54: FutureWarning: The frame.append method is deprecated and will be removed from pandas in a future version. Use pandas.concat instead.\n",
      "  df_eeg_features = df_eeg_features.append(eeg_band_fft, ignore_index=True)\n",
      "/tmp/ipykernel_18001/1951054575.py:54: FutureWarning: The frame.append method is deprecated and will be removed from pandas in a future version. Use pandas.concat instead.\n",
      "  df_eeg_features = df_eeg_features.append(eeg_band_fft, ignore_index=True)\n"
     ]
    },
    {
     "name": "stdout",
     "output_type": "stream",
     "text": [
      "Effective window size : 0.619 (s)\n",
      "Effective window size : 0.619 (s)\n",
      "Effective window size : 0.619 (s)\n",
      "Effective window size : 0.619 (s)\n",
      "Effective window size : 0.619 (s)\n",
      "Effective window size : 0.619 (s)\n"
     ]
    },
    {
     "name": "stderr",
     "output_type": "stream",
     "text": [
      "/tmp/ipykernel_18001/1951054575.py:54: FutureWarning: The frame.append method is deprecated and will be removed from pandas in a future version. Use pandas.concat instead.\n",
      "  df_eeg_features = df_eeg_features.append(eeg_band_fft, ignore_index=True)\n",
      "/tmp/ipykernel_18001/1951054575.py:54: FutureWarning: The frame.append method is deprecated and will be removed from pandas in a future version. Use pandas.concat instead.\n",
      "  df_eeg_features = df_eeg_features.append(eeg_band_fft, ignore_index=True)\n",
      "/tmp/ipykernel_18001/1951054575.py:54: FutureWarning: The frame.append method is deprecated and will be removed from pandas in a future version. Use pandas.concat instead.\n",
      "  df_eeg_features = df_eeg_features.append(eeg_band_fft, ignore_index=True)\n"
     ]
    },
    {
     "name": "stdout",
     "output_type": "stream",
     "text": [
      "Effective window size : 0.619 (s)\n",
      "Effective window size : 0.619 (s)\n",
      "Effective window size : 0.619 (s)\n",
      "Effective window size : 0.619 (s)\n",
      "Effective window size : 0.619 (s)\n",
      "Effective window size : 0.619 (s)\n"
     ]
    },
    {
     "name": "stderr",
     "output_type": "stream",
     "text": [
      "/tmp/ipykernel_18001/1951054575.py:54: FutureWarning: The frame.append method is deprecated and will be removed from pandas in a future version. Use pandas.concat instead.\n",
      "  df_eeg_features = df_eeg_features.append(eeg_band_fft, ignore_index=True)\n",
      "/tmp/ipykernel_18001/1951054575.py:54: FutureWarning: The frame.append method is deprecated and will be removed from pandas in a future version. Use pandas.concat instead.\n",
      "  df_eeg_features = df_eeg_features.append(eeg_band_fft, ignore_index=True)\n",
      "/tmp/ipykernel_18001/1951054575.py:54: FutureWarning: The frame.append method is deprecated and will be removed from pandas in a future version. Use pandas.concat instead.\n",
      "  df_eeg_features = df_eeg_features.append(eeg_band_fft, ignore_index=True)\n"
     ]
    },
    {
     "name": "stdout",
     "output_type": "stream",
     "text": [
      "Effective window size : 0.619 (s)\n",
      "Effective window size : 0.619 (s)\n",
      "Effective window size : 0.619 (s)\n",
      "Effective window size : 0.619 (s)\n",
      "Effective window size : 0.619 (s)\n",
      "Effective window size : 0.619 (s)\n"
     ]
    },
    {
     "name": "stderr",
     "output_type": "stream",
     "text": [
      "/tmp/ipykernel_18001/1951054575.py:54: FutureWarning: The frame.append method is deprecated and will be removed from pandas in a future version. Use pandas.concat instead.\n",
      "  df_eeg_features = df_eeg_features.append(eeg_band_fft, ignore_index=True)\n",
      "/tmp/ipykernel_18001/1951054575.py:54: FutureWarning: The frame.append method is deprecated and will be removed from pandas in a future version. Use pandas.concat instead.\n",
      "  df_eeg_features = df_eeg_features.append(eeg_band_fft, ignore_index=True)\n",
      "/tmp/ipykernel_18001/1951054575.py:54: FutureWarning: The frame.append method is deprecated and will be removed from pandas in a future version. Use pandas.concat instead.\n",
      "  df_eeg_features = df_eeg_features.append(eeg_band_fft, ignore_index=True)\n"
     ]
    },
    {
     "name": "stdout",
     "output_type": "stream",
     "text": [
      "Effective window size : 0.619 (s)\n",
      "Effective window size : 0.619 (s)\n",
      "Effective window size : 0.619 (s)\n",
      "Effective window size : 0.619 (s)\n",
      "Effective window size : 0.619 (s)\n",
      "Effective window size : 0.619 (s)\n"
     ]
    },
    {
     "name": "stderr",
     "output_type": "stream",
     "text": [
      "/tmp/ipykernel_18001/1951054575.py:54: FutureWarning: The frame.append method is deprecated and will be removed from pandas in a future version. Use pandas.concat instead.\n",
      "  df_eeg_features = df_eeg_features.append(eeg_band_fft, ignore_index=True)\n",
      "/tmp/ipykernel_18001/1951054575.py:54: FutureWarning: The frame.append method is deprecated and will be removed from pandas in a future version. Use pandas.concat instead.\n",
      "  df_eeg_features = df_eeg_features.append(eeg_band_fft, ignore_index=True)\n",
      "/tmp/ipykernel_18001/1951054575.py:54: FutureWarning: The frame.append method is deprecated and will be removed from pandas in a future version. Use pandas.concat instead.\n",
      "  df_eeg_features = df_eeg_features.append(eeg_band_fft, ignore_index=True)\n"
     ]
    },
    {
     "name": "stdout",
     "output_type": "stream",
     "text": [
      "Effective window size : 0.619 (s)\n",
      "Effective window size : 0.619 (s)\n",
      "Effective window size : 0.619 (s)\n",
      "Effective window size : 0.619 (s)\n",
      "Effective window size : 0.619 (s)\n",
      "Effective window size : 0.619 (s)\n"
     ]
    },
    {
     "name": "stderr",
     "output_type": "stream",
     "text": [
      "/tmp/ipykernel_18001/1951054575.py:54: FutureWarning: The frame.append method is deprecated and will be removed from pandas in a future version. Use pandas.concat instead.\n",
      "  df_eeg_features = df_eeg_features.append(eeg_band_fft, ignore_index=True)\n",
      "/tmp/ipykernel_18001/1951054575.py:54: FutureWarning: The frame.append method is deprecated and will be removed from pandas in a future version. Use pandas.concat instead.\n",
      "  df_eeg_features = df_eeg_features.append(eeg_band_fft, ignore_index=True)\n",
      "/tmp/ipykernel_18001/1951054575.py:54: FutureWarning: The frame.append method is deprecated and will be removed from pandas in a future version. Use pandas.concat instead.\n",
      "  df_eeg_features = df_eeg_features.append(eeg_band_fft, ignore_index=True)\n"
     ]
    },
    {
     "name": "stdout",
     "output_type": "stream",
     "text": [
      "Effective window size : 0.619 (s)\n",
      "Effective window size : 0.619 (s)\n",
      "Effective window size : 0.619 (s)\n",
      "Effective window size : 0.619 (s)\n",
      "Effective window size : 0.619 (s)\n",
      "Effective window size : 0.619 (s)\n"
     ]
    },
    {
     "name": "stderr",
     "output_type": "stream",
     "text": [
      "/tmp/ipykernel_18001/1951054575.py:54: FutureWarning: The frame.append method is deprecated and will be removed from pandas in a future version. Use pandas.concat instead.\n",
      "  df_eeg_features = df_eeg_features.append(eeg_band_fft, ignore_index=True)\n",
      "/tmp/ipykernel_18001/1951054575.py:54: FutureWarning: The frame.append method is deprecated and will be removed from pandas in a future version. Use pandas.concat instead.\n",
      "  df_eeg_features = df_eeg_features.append(eeg_band_fft, ignore_index=True)\n",
      "/tmp/ipykernel_18001/1951054575.py:54: FutureWarning: The frame.append method is deprecated and will be removed from pandas in a future version. Use pandas.concat instead.\n",
      "  df_eeg_features = df_eeg_features.append(eeg_band_fft, ignore_index=True)\n"
     ]
    },
    {
     "name": "stdout",
     "output_type": "stream",
     "text": [
      "Effective window size : 0.619 (s)\n",
      "Effective window size : 0.619 (s)\n",
      "Effective window size : 0.619 (s)\n",
      "Effective window size : 0.619 (s)\n",
      "Effective window size : 0.619 (s)\n",
      "Effective window size : 0.619 (s)\n"
     ]
    },
    {
     "name": "stderr",
     "output_type": "stream",
     "text": [
      "/tmp/ipykernel_18001/1951054575.py:54: FutureWarning: The frame.append method is deprecated and will be removed from pandas in a future version. Use pandas.concat instead.\n",
      "  df_eeg_features = df_eeg_features.append(eeg_band_fft, ignore_index=True)\n",
      "/tmp/ipykernel_18001/1951054575.py:54: FutureWarning: The frame.append method is deprecated and will be removed from pandas in a future version. Use pandas.concat instead.\n",
      "  df_eeg_features = df_eeg_features.append(eeg_band_fft, ignore_index=True)\n",
      "/tmp/ipykernel_18001/1951054575.py:54: FutureWarning: The frame.append method is deprecated and will be removed from pandas in a future version. Use pandas.concat instead.\n",
      "  df_eeg_features = df_eeg_features.append(eeg_band_fft, ignore_index=True)\n"
     ]
    },
    {
     "name": "stdout",
     "output_type": "stream",
     "text": [
      "Effective window size : 0.619 (s)\n",
      "Effective window size : 0.619 (s)\n",
      "Effective window size : 0.619 (s)\n",
      "Effective window size : 0.619 (s)\n",
      "Effective window size : 0.619 (s)\n",
      "Effective window size : 0.619 (s)\n"
     ]
    },
    {
     "name": "stderr",
     "output_type": "stream",
     "text": [
      "/tmp/ipykernel_18001/1951054575.py:54: FutureWarning: The frame.append method is deprecated and will be removed from pandas in a future version. Use pandas.concat instead.\n",
      "  df_eeg_features = df_eeg_features.append(eeg_band_fft, ignore_index=True)\n",
      "/tmp/ipykernel_18001/1951054575.py:54: FutureWarning: The frame.append method is deprecated and will be removed from pandas in a future version. Use pandas.concat instead.\n",
      "  df_eeg_features = df_eeg_features.append(eeg_band_fft, ignore_index=True)\n",
      "/tmp/ipykernel_18001/1951054575.py:54: FutureWarning: The frame.append method is deprecated and will be removed from pandas in a future version. Use pandas.concat instead.\n",
      "  df_eeg_features = df_eeg_features.append(eeg_band_fft, ignore_index=True)\n"
     ]
    },
    {
     "name": "stdout",
     "output_type": "stream",
     "text": [
      "Effective window size : 0.619 (s)\n",
      "Effective window size : 0.619 (s)\n",
      "Effective window size : 0.619 (s)\n",
      "Effective window size : 0.619 (s)\n",
      "Effective window size : 0.619 (s)\n",
      "Effective window size : 0.619 (s)\n",
      "Effective window size : 0.619 (s)\n",
      "Effective window size : 0.619 (s)\n"
     ]
    },
    {
     "name": "stderr",
     "output_type": "stream",
     "text": [
      "/tmp/ipykernel_18001/1951054575.py:54: FutureWarning: The frame.append method is deprecated and will be removed from pandas in a future version. Use pandas.concat instead.\n",
      "  df_eeg_features = df_eeg_features.append(eeg_band_fft, ignore_index=True)\n",
      "/tmp/ipykernel_18001/1951054575.py:54: FutureWarning: The frame.append method is deprecated and will be removed from pandas in a future version. Use pandas.concat instead.\n",
      "  df_eeg_features = df_eeg_features.append(eeg_band_fft, ignore_index=True)\n",
      "/tmp/ipykernel_18001/1951054575.py:54: FutureWarning: The frame.append method is deprecated and will be removed from pandas in a future version. Use pandas.concat instead.\n",
      "  df_eeg_features = df_eeg_features.append(eeg_band_fft, ignore_index=True)\n",
      "/tmp/ipykernel_18001/1951054575.py:54: FutureWarning: The frame.append method is deprecated and will be removed from pandas in a future version. Use pandas.concat instead.\n",
      "  df_eeg_features = df_eeg_features.append(eeg_band_fft, ignore_index=True)\n"
     ]
    },
    {
     "name": "stdout",
     "output_type": "stream",
     "text": [
      "Effective window size : 0.619 (s)\n",
      "Effective window size : 0.619 (s)\n",
      "Effective window size : 0.619 (s)\n",
      "Effective window size : 0.619 (s)\n",
      "Effective window size : 0.619 (s)\n",
      "Effective window size : 0.619 (s)\n",
      "Effective window size : 0.619 (s)\n",
      "Effective window size : 0.619 (s)\n"
     ]
    },
    {
     "name": "stderr",
     "output_type": "stream",
     "text": [
      "/tmp/ipykernel_18001/1951054575.py:54: FutureWarning: The frame.append method is deprecated and will be removed from pandas in a future version. Use pandas.concat instead.\n",
      "  df_eeg_features = df_eeg_features.append(eeg_band_fft, ignore_index=True)\n",
      "/tmp/ipykernel_18001/1951054575.py:54: FutureWarning: The frame.append method is deprecated and will be removed from pandas in a future version. Use pandas.concat instead.\n",
      "  df_eeg_features = df_eeg_features.append(eeg_band_fft, ignore_index=True)\n",
      "/tmp/ipykernel_18001/1951054575.py:54: FutureWarning: The frame.append method is deprecated and will be removed from pandas in a future version. Use pandas.concat instead.\n",
      "  df_eeg_features = df_eeg_features.append(eeg_band_fft, ignore_index=True)\n",
      "/tmp/ipykernel_18001/1951054575.py:54: FutureWarning: The frame.append method is deprecated and will be removed from pandas in a future version. Use pandas.concat instead.\n",
      "  df_eeg_features = df_eeg_features.append(eeg_band_fft, ignore_index=True)\n"
     ]
    },
    {
     "name": "stdout",
     "output_type": "stream",
     "text": [
      "Effective window size : 0.619 (s)\n",
      "Effective window size : 0.619 (s)\n",
      "Effective window size : 0.619 (s)\n",
      "Effective window size : 0.619 (s)\n",
      "Effective window size : 0.619 (s)\n",
      "Effective window size : 0.619 (s)\n",
      "Effective window size : 0.619 (s)\n"
     ]
    },
    {
     "name": "stderr",
     "output_type": "stream",
     "text": [
      "/tmp/ipykernel_18001/1951054575.py:54: FutureWarning: The frame.append method is deprecated and will be removed from pandas in a future version. Use pandas.concat instead.\n",
      "  df_eeg_features = df_eeg_features.append(eeg_band_fft, ignore_index=True)\n",
      "/tmp/ipykernel_18001/1951054575.py:54: FutureWarning: The frame.append method is deprecated and will be removed from pandas in a future version. Use pandas.concat instead.\n",
      "  df_eeg_features = df_eeg_features.append(eeg_band_fft, ignore_index=True)\n",
      "/tmp/ipykernel_18001/1951054575.py:54: FutureWarning: The frame.append method is deprecated and will be removed from pandas in a future version. Use pandas.concat instead.\n",
      "  df_eeg_features = df_eeg_features.append(eeg_band_fft, ignore_index=True)\n",
      "/tmp/ipykernel_18001/1951054575.py:54: FutureWarning: The frame.append method is deprecated and will be removed from pandas in a future version. Use pandas.concat instead.\n",
      "  df_eeg_features = df_eeg_features.append(eeg_band_fft, ignore_index=True)\n"
     ]
    },
    {
     "name": "stdout",
     "output_type": "stream",
     "text": [
      "Effective window size : 0.619 (s)\n",
      "Effective window size : 0.619 (s)\n",
      "Effective window size : 0.619 (s)\n",
      "Effective window size : 0.619 (s)\n",
      "Effective window size : 0.619 (s)\n",
      "Effective window size : 0.619 (s)\n",
      "Effective window size : 0.619 (s)\n"
     ]
    },
    {
     "name": "stderr",
     "output_type": "stream",
     "text": [
      "/tmp/ipykernel_18001/1951054575.py:54: FutureWarning: The frame.append method is deprecated and will be removed from pandas in a future version. Use pandas.concat instead.\n",
      "  df_eeg_features = df_eeg_features.append(eeg_band_fft, ignore_index=True)\n",
      "/tmp/ipykernel_18001/1951054575.py:54: FutureWarning: The frame.append method is deprecated and will be removed from pandas in a future version. Use pandas.concat instead.\n",
      "  df_eeg_features = df_eeg_features.append(eeg_band_fft, ignore_index=True)\n",
      "/tmp/ipykernel_18001/1951054575.py:54: FutureWarning: The frame.append method is deprecated and will be removed from pandas in a future version. Use pandas.concat instead.\n",
      "  df_eeg_features = df_eeg_features.append(eeg_band_fft, ignore_index=True)\n"
     ]
    },
    {
     "name": "stdout",
     "output_type": "stream",
     "text": [
      "Effective window size : 0.619 (s)\n",
      "Effective window size : 0.619 (s)\n",
      "Effective window size : 0.619 (s)\n",
      "Effective window size : 0.619 (s)\n"
     ]
    },
    {
     "name": "stderr",
     "output_type": "stream",
     "text": [
      "/tmp/ipykernel_18001/1951054575.py:54: FutureWarning: The frame.append method is deprecated and will be removed from pandas in a future version. Use pandas.concat instead.\n",
      "  df_eeg_features = df_eeg_features.append(eeg_band_fft, ignore_index=True)\n",
      "/tmp/ipykernel_18001/1951054575.py:54: FutureWarning: The frame.append method is deprecated and will be removed from pandas in a future version. Use pandas.concat instead.\n",
      "  df_eeg_features = df_eeg_features.append(eeg_band_fft, ignore_index=True)\n",
      "/tmp/ipykernel_18001/1951054575.py:54: FutureWarning: The frame.append method is deprecated and will be removed from pandas in a future version. Use pandas.concat instead.\n",
      "  df_eeg_features = df_eeg_features.append(eeg_band_fft, ignore_index=True)\n",
      "Downloading file 'S028/S028R03.edf' from 'https://physionet.org/files/eegmmidb/1.0.0/S028/S028R03.edf' to '/home/vanilla_skies/mne_data/MNE-eegbci-data/files/eegmmidb/1.0.0'.\n",
      "Downloading file 'S028/S028R07.edf' from 'https://physionet.org/files/eegmmidb/1.0.0/S028/S028R07.edf' to '/home/vanilla_skies/mne_data/MNE-eegbci-data/files/eegmmidb/1.0.0'.\n",
      "Downloading file 'S028/S028R11.edf' from 'https://physionet.org/files/eegmmidb/1.0.0/S028/S028R11.edf' to '/home/vanilla_skies/mne_data/MNE-eegbci-data/files/eegmmidb/1.0.0'.\n"
     ]
    },
    {
     "name": "stdout",
     "output_type": "stream",
     "text": [
      "Extracting EDF parameters from /home/vanilla_skies/mne_data/MNE-eegbci-data/files/eegmmidb/1.0.0/S028/S028R03.edf...\n",
      "EDF file detected\n",
      "Setting channel info structure...\n",
      "Creating raw.info structure...\n",
      "Reading 0 ... 19679  =      0.000 ...   122.994 secs...\n",
      "Extracting EDF parameters from /home/vanilla_skies/mne_data/MNE-eegbci-data/files/eegmmidb/1.0.0/S028/S028R07.edf...\n",
      "EDF file detected\n",
      "Setting channel info structure...\n",
      "Creating raw.info structure...\n",
      "Reading 0 ... 19679  =      0.000 ...   122.994 secs...\n",
      "Extracting EDF parameters from /home/vanilla_skies/mne_data/MNE-eegbci-data/files/eegmmidb/1.0.0/S028/S028R11.edf...\n",
      "EDF file detected\n",
      "Setting channel info structure...\n",
      "Creating raw.info structure...\n",
      "Reading 0 ... 19679  =      0.000 ...   122.994 secs...\n",
      "Used Annotations descriptions: ['T0', 'T1', 'T2']\n",
      "Filtering raw data in 3 contiguous segments\n",
      "Setting up band-pass filter from 7 - 30 Hz\n",
      "\n",
      "FIR filter parameters\n",
      "---------------------\n",
      "Designing a one-pass, zero-phase, non-causal bandpass filter:\n",
      "- Windowed time-domain design (firwin) method\n",
      "- Hamming window with 0.0194 passband ripple and 53 dB stopband attenuation\n",
      "- Lower passband edge: 7.00\n",
      "- Lower transition bandwidth: 2.00 Hz (-6 dB cutoff frequency: 6.00 Hz)\n",
      "- Upper passband edge: 30.00 Hz\n",
      "- Upper transition bandwidth: 7.50 Hz (-6 dB cutoff frequency: 33.75 Hz)\n",
      "- Filter length: 265 samples (1.656 sec)\n",
      "\n",
      "Not setting metadata\n",
      "45 matching events found\n",
      "No baseline correction applied\n",
      "0 projection items activated\n",
      "Using data from preloaded Raw for 45 events and 801 original time points ...\n",
      "0 bad epochs dropped\n",
      "Effective window size : 0.619 (s)\n",
      "Effective window size : 0.619 (s)\n",
      "Effective window size : 0.619 (s)\n",
      "Effective window size : 0.619 (s)\n",
      "Effective window size : 0.619 (s)\n",
      "Effective window size : 0.619 (s)\n",
      "Effective window size : 0.619 (s)\n",
      "Effective window size : 0.619 (s)\n",
      "Effective window size : 0.619 (s)\n",
      "Effective window size : 0.619 (s)\n"
     ]
    },
    {
     "name": "stderr",
     "output_type": "stream",
     "text": [
      "/tmp/ipykernel_18001/1951054575.py:54: FutureWarning: The frame.append method is deprecated and will be removed from pandas in a future version. Use pandas.concat instead.\n",
      "  df_eeg_features = df_eeg_features.append(eeg_band_fft, ignore_index=True)\n",
      "/tmp/ipykernel_18001/1951054575.py:54: FutureWarning: The frame.append method is deprecated and will be removed from pandas in a future version. Use pandas.concat instead.\n",
      "  df_eeg_features = df_eeg_features.append(eeg_band_fft, ignore_index=True)\n",
      "/tmp/ipykernel_18001/1951054575.py:54: FutureWarning: The frame.append method is deprecated and will be removed from pandas in a future version. Use pandas.concat instead.\n",
      "  df_eeg_features = df_eeg_features.append(eeg_band_fft, ignore_index=True)\n",
      "/tmp/ipykernel_18001/1951054575.py:54: FutureWarning: The frame.append method is deprecated and will be removed from pandas in a future version. Use pandas.concat instead.\n",
      "  df_eeg_features = df_eeg_features.append(eeg_band_fft, ignore_index=True)\n"
     ]
    },
    {
     "name": "stdout",
     "output_type": "stream",
     "text": [
      "Effective window size : 0.619 (s)\n",
      "Effective window size : 0.619 (s)\n",
      "Effective window size : 0.619 (s)\n",
      "Effective window size : 0.619 (s)\n",
      "Effective window size : 0.619 (s)\n",
      "Effective window size : 0.619 (s)\n"
     ]
    },
    {
     "name": "stderr",
     "output_type": "stream",
     "text": [
      "/tmp/ipykernel_18001/1951054575.py:54: FutureWarning: The frame.append method is deprecated and will be removed from pandas in a future version. Use pandas.concat instead.\n",
      "  df_eeg_features = df_eeg_features.append(eeg_band_fft, ignore_index=True)\n",
      "/tmp/ipykernel_18001/1951054575.py:54: FutureWarning: The frame.append method is deprecated and will be removed from pandas in a future version. Use pandas.concat instead.\n",
      "  df_eeg_features = df_eeg_features.append(eeg_band_fft, ignore_index=True)\n",
      "/tmp/ipykernel_18001/1951054575.py:54: FutureWarning: The frame.append method is deprecated and will be removed from pandas in a future version. Use pandas.concat instead.\n",
      "  df_eeg_features = df_eeg_features.append(eeg_band_fft, ignore_index=True)\n"
     ]
    },
    {
     "name": "stdout",
     "output_type": "stream",
     "text": [
      "Effective window size : 0.619 (s)\n",
      "Effective window size : 0.619 (s)\n",
      "Effective window size : 0.619 (s)\n",
      "Effective window size : 0.619 (s)\n",
      "Effective window size : 0.619 (s)\n",
      "Effective window size : 0.619 (s)\n",
      "Effective window size : 0.619 (s)\n",
      "Effective window size : 0.619 (s)\n"
     ]
    },
    {
     "name": "stderr",
     "output_type": "stream",
     "text": [
      "/tmp/ipykernel_18001/1951054575.py:54: FutureWarning: The frame.append method is deprecated and will be removed from pandas in a future version. Use pandas.concat instead.\n",
      "  df_eeg_features = df_eeg_features.append(eeg_band_fft, ignore_index=True)\n",
      "/tmp/ipykernel_18001/1951054575.py:54: FutureWarning: The frame.append method is deprecated and will be removed from pandas in a future version. Use pandas.concat instead.\n",
      "  df_eeg_features = df_eeg_features.append(eeg_band_fft, ignore_index=True)\n",
      "/tmp/ipykernel_18001/1951054575.py:54: FutureWarning: The frame.append method is deprecated and will be removed from pandas in a future version. Use pandas.concat instead.\n",
      "  df_eeg_features = df_eeg_features.append(eeg_band_fft, ignore_index=True)\n",
      "/tmp/ipykernel_18001/1951054575.py:54: FutureWarning: The frame.append method is deprecated and will be removed from pandas in a future version. Use pandas.concat instead.\n",
      "  df_eeg_features = df_eeg_features.append(eeg_band_fft, ignore_index=True)\n"
     ]
    },
    {
     "name": "stdout",
     "output_type": "stream",
     "text": [
      "Effective window size : 0.619 (s)\n",
      "Effective window size : 0.619 (s)\n",
      "Effective window size : 0.619 (s)\n",
      "Effective window size : 0.619 (s)\n",
      "Effective window size : 0.619 (s)\n",
      "Effective window size : 0.619 (s)\n"
     ]
    },
    {
     "name": "stderr",
     "output_type": "stream",
     "text": [
      "/tmp/ipykernel_18001/1951054575.py:54: FutureWarning: The frame.append method is deprecated and will be removed from pandas in a future version. Use pandas.concat instead.\n",
      "  df_eeg_features = df_eeg_features.append(eeg_band_fft, ignore_index=True)\n",
      "/tmp/ipykernel_18001/1951054575.py:54: FutureWarning: The frame.append method is deprecated and will be removed from pandas in a future version. Use pandas.concat instead.\n",
      "  df_eeg_features = df_eeg_features.append(eeg_band_fft, ignore_index=True)\n",
      "/tmp/ipykernel_18001/1951054575.py:54: FutureWarning: The frame.append method is deprecated and will be removed from pandas in a future version. Use pandas.concat instead.\n",
      "  df_eeg_features = df_eeg_features.append(eeg_band_fft, ignore_index=True)\n"
     ]
    },
    {
     "name": "stdout",
     "output_type": "stream",
     "text": [
      "Effective window size : 0.619 (s)\n",
      "Effective window size : 0.619 (s)\n",
      "Effective window size : 0.619 (s)\n",
      "Effective window size : 0.619 (s)\n",
      "Effective window size : 0.619 (s)\n",
      "Effective window size : 0.619 (s)\n",
      "Effective window size : 0.619 (s)\n"
     ]
    },
    {
     "name": "stderr",
     "output_type": "stream",
     "text": [
      "/tmp/ipykernel_18001/1951054575.py:54: FutureWarning: The frame.append method is deprecated and will be removed from pandas in a future version. Use pandas.concat instead.\n",
      "  df_eeg_features = df_eeg_features.append(eeg_band_fft, ignore_index=True)\n",
      "/tmp/ipykernel_18001/1951054575.py:54: FutureWarning: The frame.append method is deprecated and will be removed from pandas in a future version. Use pandas.concat instead.\n",
      "  df_eeg_features = df_eeg_features.append(eeg_band_fft, ignore_index=True)\n",
      "/tmp/ipykernel_18001/1951054575.py:54: FutureWarning: The frame.append method is deprecated and will be removed from pandas in a future version. Use pandas.concat instead.\n",
      "  df_eeg_features = df_eeg_features.append(eeg_band_fft, ignore_index=True)\n",
      "/tmp/ipykernel_18001/1951054575.py:54: FutureWarning: The frame.append method is deprecated and will be removed from pandas in a future version. Use pandas.concat instead.\n",
      "  df_eeg_features = df_eeg_features.append(eeg_band_fft, ignore_index=True)\n"
     ]
    },
    {
     "name": "stdout",
     "output_type": "stream",
     "text": [
      "Effective window size : 0.619 (s)\n",
      "Effective window size : 0.619 (s)\n",
      "Effective window size : 0.619 (s)\n",
      "Effective window size : 0.619 (s)\n",
      "Effective window size : 0.619 (s)\n",
      "Effective window size : 0.619 (s)\n",
      "Effective window size : 0.619 (s)\n",
      "Effective window size : 0.619 (s)\n",
      "Effective window size : 0.619 (s)\n"
     ]
    },
    {
     "name": "stderr",
     "output_type": "stream",
     "text": [
      "/tmp/ipykernel_18001/1951054575.py:54: FutureWarning: The frame.append method is deprecated and will be removed from pandas in a future version. Use pandas.concat instead.\n",
      "  df_eeg_features = df_eeg_features.append(eeg_band_fft, ignore_index=True)\n",
      "/tmp/ipykernel_18001/1951054575.py:54: FutureWarning: The frame.append method is deprecated and will be removed from pandas in a future version. Use pandas.concat instead.\n",
      "  df_eeg_features = df_eeg_features.append(eeg_band_fft, ignore_index=True)\n",
      "/tmp/ipykernel_18001/1951054575.py:54: FutureWarning: The frame.append method is deprecated and will be removed from pandas in a future version. Use pandas.concat instead.\n",
      "  df_eeg_features = df_eeg_features.append(eeg_band_fft, ignore_index=True)\n",
      "/tmp/ipykernel_18001/1951054575.py:54: FutureWarning: The frame.append method is deprecated and will be removed from pandas in a future version. Use pandas.concat instead.\n",
      "  df_eeg_features = df_eeg_features.append(eeg_band_fft, ignore_index=True)\n"
     ]
    },
    {
     "name": "stdout",
     "output_type": "stream",
     "text": [
      "Effective window size : 0.619 (s)\n",
      "Effective window size : 0.619 (s)\n",
      "Effective window size : 0.619 (s)\n",
      "Effective window size : 0.619 (s)\n",
      "Effective window size : 0.619 (s)\n",
      "Effective window size : 0.619 (s)\n"
     ]
    },
    {
     "name": "stderr",
     "output_type": "stream",
     "text": [
      "/tmp/ipykernel_18001/1951054575.py:54: FutureWarning: The frame.append method is deprecated and will be removed from pandas in a future version. Use pandas.concat instead.\n",
      "  df_eeg_features = df_eeg_features.append(eeg_band_fft, ignore_index=True)\n",
      "/tmp/ipykernel_18001/1951054575.py:54: FutureWarning: The frame.append method is deprecated and will be removed from pandas in a future version. Use pandas.concat instead.\n",
      "  df_eeg_features = df_eeg_features.append(eeg_band_fft, ignore_index=True)\n",
      "/tmp/ipykernel_18001/1951054575.py:54: FutureWarning: The frame.append method is deprecated and will be removed from pandas in a future version. Use pandas.concat instead.\n",
      "  df_eeg_features = df_eeg_features.append(eeg_band_fft, ignore_index=True)\n"
     ]
    },
    {
     "name": "stdout",
     "output_type": "stream",
     "text": [
      "Effective window size : 0.619 (s)\n",
      "Effective window size : 0.619 (s)\n",
      "Effective window size : 0.619 (s)\n",
      "Effective window size : 0.619 (s)\n",
      "Effective window size : 0.619 (s)\n",
      "Effective window size : 0.619 (s)\n",
      "Effective window size : 0.619 (s)\n",
      "Effective window size : 0.619 (s)\n"
     ]
    },
    {
     "name": "stderr",
     "output_type": "stream",
     "text": [
      "/tmp/ipykernel_18001/1951054575.py:54: FutureWarning: The frame.append method is deprecated and will be removed from pandas in a future version. Use pandas.concat instead.\n",
      "  df_eeg_features = df_eeg_features.append(eeg_band_fft, ignore_index=True)\n",
      "/tmp/ipykernel_18001/1951054575.py:54: FutureWarning: The frame.append method is deprecated and will be removed from pandas in a future version. Use pandas.concat instead.\n",
      "  df_eeg_features = df_eeg_features.append(eeg_band_fft, ignore_index=True)\n",
      "/tmp/ipykernel_18001/1951054575.py:54: FutureWarning: The frame.append method is deprecated and will be removed from pandas in a future version. Use pandas.concat instead.\n",
      "  df_eeg_features = df_eeg_features.append(eeg_band_fft, ignore_index=True)\n",
      "/tmp/ipykernel_18001/1951054575.py:54: FutureWarning: The frame.append method is deprecated and will be removed from pandas in a future version. Use pandas.concat instead.\n",
      "  df_eeg_features = df_eeg_features.append(eeg_band_fft, ignore_index=True)\n"
     ]
    },
    {
     "name": "stdout",
     "output_type": "stream",
     "text": [
      "Effective window size : 0.619 (s)\n",
      "Effective window size : 0.619 (s)\n",
      "Effective window size : 0.619 (s)\n",
      "Effective window size : 0.619 (s)\n",
      "Effective window size : 0.619 (s)\n",
      "Effective window size : 0.619 (s)\n",
      "Effective window size : 0.619 (s)\n",
      "Effective window size : 0.619 (s)\n"
     ]
    },
    {
     "name": "stderr",
     "output_type": "stream",
     "text": [
      "/tmp/ipykernel_18001/1951054575.py:54: FutureWarning: The frame.append method is deprecated and will be removed from pandas in a future version. Use pandas.concat instead.\n",
      "  df_eeg_features = df_eeg_features.append(eeg_band_fft, ignore_index=True)\n",
      "/tmp/ipykernel_18001/1951054575.py:54: FutureWarning: The frame.append method is deprecated and will be removed from pandas in a future version. Use pandas.concat instead.\n",
      "  df_eeg_features = df_eeg_features.append(eeg_band_fft, ignore_index=True)\n",
      "/tmp/ipykernel_18001/1951054575.py:54: FutureWarning: The frame.append method is deprecated and will be removed from pandas in a future version. Use pandas.concat instead.\n",
      "  df_eeg_features = df_eeg_features.append(eeg_band_fft, ignore_index=True)\n",
      "/tmp/ipykernel_18001/1951054575.py:54: FutureWarning: The frame.append method is deprecated and will be removed from pandas in a future version. Use pandas.concat instead.\n",
      "  df_eeg_features = df_eeg_features.append(eeg_band_fft, ignore_index=True)\n"
     ]
    },
    {
     "name": "stdout",
     "output_type": "stream",
     "text": [
      "Effective window size : 0.619 (s)\n",
      "Effective window size : 0.619 (s)\n",
      "Effective window size : 0.619 (s)\n",
      "Effective window size : 0.619 (s)\n",
      "Effective window size : 0.619 (s)\n",
      "Effective window size : 0.619 (s)\n",
      "Effective window size : 0.619 (s)\n",
      "Effective window size : 0.619 (s)\n"
     ]
    },
    {
     "name": "stderr",
     "output_type": "stream",
     "text": [
      "/tmp/ipykernel_18001/1951054575.py:54: FutureWarning: The frame.append method is deprecated and will be removed from pandas in a future version. Use pandas.concat instead.\n",
      "  df_eeg_features = df_eeg_features.append(eeg_band_fft, ignore_index=True)\n",
      "/tmp/ipykernel_18001/1951054575.py:54: FutureWarning: The frame.append method is deprecated and will be removed from pandas in a future version. Use pandas.concat instead.\n",
      "  df_eeg_features = df_eeg_features.append(eeg_band_fft, ignore_index=True)\n",
      "/tmp/ipykernel_18001/1951054575.py:54: FutureWarning: The frame.append method is deprecated and will be removed from pandas in a future version. Use pandas.concat instead.\n",
      "  df_eeg_features = df_eeg_features.append(eeg_band_fft, ignore_index=True)\n",
      "/tmp/ipykernel_18001/1951054575.py:54: FutureWarning: The frame.append method is deprecated and will be removed from pandas in a future version. Use pandas.concat instead.\n",
      "  df_eeg_features = df_eeg_features.append(eeg_band_fft, ignore_index=True)\n"
     ]
    },
    {
     "name": "stdout",
     "output_type": "stream",
     "text": [
      "Effective window size : 0.619 (s)\n",
      "Effective window size : 0.619 (s)\n",
      "Effective window size : 0.619 (s)\n",
      "Effective window size : 0.619 (s)\n",
      "Effective window size : 0.619 (s)\n",
      "Effective window size : 0.619 (s)\n",
      "Effective window size : 0.619 (s)\n",
      "Effective window size : 0.619 (s)\n"
     ]
    },
    {
     "name": "stderr",
     "output_type": "stream",
     "text": [
      "/tmp/ipykernel_18001/1951054575.py:54: FutureWarning: The frame.append method is deprecated and will be removed from pandas in a future version. Use pandas.concat instead.\n",
      "  df_eeg_features = df_eeg_features.append(eeg_band_fft, ignore_index=True)\n",
      "/tmp/ipykernel_18001/1951054575.py:54: FutureWarning: The frame.append method is deprecated and will be removed from pandas in a future version. Use pandas.concat instead.\n",
      "  df_eeg_features = df_eeg_features.append(eeg_band_fft, ignore_index=True)\n",
      "/tmp/ipykernel_18001/1951054575.py:54: FutureWarning: The frame.append method is deprecated and will be removed from pandas in a future version. Use pandas.concat instead.\n",
      "  df_eeg_features = df_eeg_features.append(eeg_band_fft, ignore_index=True)\n",
      "/tmp/ipykernel_18001/1951054575.py:54: FutureWarning: The frame.append method is deprecated and will be removed from pandas in a future version. Use pandas.concat instead.\n",
      "  df_eeg_features = df_eeg_features.append(eeg_band_fft, ignore_index=True)\n"
     ]
    },
    {
     "name": "stdout",
     "output_type": "stream",
     "text": [
      "Effective window size : 0.619 (s)\n",
      "Effective window size : 0.619 (s)\n",
      "Effective window size : 0.619 (s)\n",
      "Effective window size : 0.619 (s)\n",
      "Effective window size : 0.619 (s)\n",
      "Effective window size : 0.619 (s)\n"
     ]
    },
    {
     "name": "stderr",
     "output_type": "stream",
     "text": [
      "/tmp/ipykernel_18001/1951054575.py:54: FutureWarning: The frame.append method is deprecated and will be removed from pandas in a future version. Use pandas.concat instead.\n",
      "  df_eeg_features = df_eeg_features.append(eeg_band_fft, ignore_index=True)\n",
      "/tmp/ipykernel_18001/1951054575.py:54: FutureWarning: The frame.append method is deprecated and will be removed from pandas in a future version. Use pandas.concat instead.\n",
      "  df_eeg_features = df_eeg_features.append(eeg_band_fft, ignore_index=True)\n",
      "/tmp/ipykernel_18001/1951054575.py:54: FutureWarning: The frame.append method is deprecated and will be removed from pandas in a future version. Use pandas.concat instead.\n",
      "  df_eeg_features = df_eeg_features.append(eeg_band_fft, ignore_index=True)\n",
      "/tmp/ipykernel_18001/1951054575.py:54: FutureWarning: The frame.append method is deprecated and will be removed from pandas in a future version. Use pandas.concat instead.\n",
      "  df_eeg_features = df_eeg_features.append(eeg_band_fft, ignore_index=True)\n",
      "Downloading file 'S029/S029R03.edf' from 'https://physionet.org/files/eegmmidb/1.0.0/S029/S029R03.edf' to '/home/vanilla_skies/mne_data/MNE-eegbci-data/files/eegmmidb/1.0.0'.\n"
     ]
    },
    {
     "ename": "SSLError",
     "evalue": "[SSL: DECRYPTION_FAILED_OR_BAD_RECORD_MAC] decryption failed or bad record mac (_ssl.c:2635)",
     "output_type": "error",
     "traceback": [
      "\u001b[0;31m---------------------------------------------------------------------------\u001b[0m",
      "\u001b[0;31mSSLError\u001b[0m                                  Traceback (most recent call last)",
      "File \u001b[0;32m~/.local/lib/python3.8/site-packages/urllib3/response.py:441\u001b[0m, in \u001b[0;36mHTTPResponse._error_catcher\u001b[0;34m(self)\u001b[0m\n\u001b[1;32m    440\u001b[0m \u001b[38;5;28;01mtry\u001b[39;00m:\n\u001b[0;32m--> 441\u001b[0m     \u001b[38;5;28;01myield\u001b[39;00m\n\u001b[1;32m    443\u001b[0m \u001b[38;5;28;01mexcept\u001b[39;00m SocketTimeout:\n\u001b[1;32m    444\u001b[0m     \u001b[38;5;66;03m# FIXME: Ideally we'd like to include the url in the ReadTimeoutError but\u001b[39;00m\n\u001b[1;32m    445\u001b[0m     \u001b[38;5;66;03m# there is yet no clean way to get at it from this context.\u001b[39;00m\n",
      "File \u001b[0;32m~/.local/lib/python3.8/site-packages/urllib3/response.py:522\u001b[0m, in \u001b[0;36mHTTPResponse.read\u001b[0;34m(self, amt, decode_content, cache_content)\u001b[0m\n\u001b[1;32m    521\u001b[0m cache_content \u001b[38;5;241m=\u001b[39m \u001b[38;5;28;01mFalse\u001b[39;00m\n\u001b[0;32m--> 522\u001b[0m data \u001b[38;5;241m=\u001b[39m \u001b[38;5;28;43mself\u001b[39;49m\u001b[38;5;241;43m.\u001b[39;49m\u001b[43m_fp\u001b[49m\u001b[38;5;241;43m.\u001b[39;49m\u001b[43mread\u001b[49m\u001b[43m(\u001b[49m\u001b[43mamt\u001b[49m\u001b[43m)\u001b[49m \u001b[38;5;28;01mif\u001b[39;00m \u001b[38;5;129;01mnot\u001b[39;00m fp_closed \u001b[38;5;28;01melse\u001b[39;00m \u001b[38;5;124mb\u001b[39m\u001b[38;5;124m\"\u001b[39m\u001b[38;5;124m\"\u001b[39m\n\u001b[1;32m    523\u001b[0m \u001b[38;5;28;01mif\u001b[39;00m (\n\u001b[1;32m    524\u001b[0m     amt \u001b[38;5;241m!=\u001b[39m \u001b[38;5;241m0\u001b[39m \u001b[38;5;129;01mand\u001b[39;00m \u001b[38;5;129;01mnot\u001b[39;00m data\n\u001b[1;32m    525\u001b[0m ):  \u001b[38;5;66;03m# Platform-specific: Buggy versions of Python.\u001b[39;00m\n\u001b[0;32m   (...)\u001b[0m\n\u001b[1;32m    531\u001b[0m     \u001b[38;5;66;03m# not properly close the connection in all cases. There is\u001b[39;00m\n\u001b[1;32m    532\u001b[0m     \u001b[38;5;66;03m# no harm in redundantly calling close.\u001b[39;00m\n",
      "File \u001b[0;32m/usr/lib/python3.8/http/client.py:459\u001b[0m, in \u001b[0;36mHTTPResponse.read\u001b[0;34m(self, amt)\u001b[0m\n\u001b[1;32m    458\u001b[0m b \u001b[38;5;241m=\u001b[39m \u001b[38;5;28mbytearray\u001b[39m(amt)\n\u001b[0;32m--> 459\u001b[0m n \u001b[38;5;241m=\u001b[39m \u001b[38;5;28;43mself\u001b[39;49m\u001b[38;5;241;43m.\u001b[39;49m\u001b[43mreadinto\u001b[49m\u001b[43m(\u001b[49m\u001b[43mb\u001b[49m\u001b[43m)\u001b[49m\n\u001b[1;32m    460\u001b[0m \u001b[38;5;28;01mreturn\u001b[39;00m \u001b[38;5;28mmemoryview\u001b[39m(b)[:n]\u001b[38;5;241m.\u001b[39mtobytes()\n",
      "File \u001b[0;32m/usr/lib/python3.8/http/client.py:503\u001b[0m, in \u001b[0;36mHTTPResponse.readinto\u001b[0;34m(self, b)\u001b[0m\n\u001b[1;32m    500\u001b[0m \u001b[38;5;66;03m# we do not use _safe_read() here because this may be a .will_close\u001b[39;00m\n\u001b[1;32m    501\u001b[0m \u001b[38;5;66;03m# connection, and the user is reading more bytes than will be provided\u001b[39;00m\n\u001b[1;32m    502\u001b[0m \u001b[38;5;66;03m# (for example, reading in 1k chunks)\u001b[39;00m\n\u001b[0;32m--> 503\u001b[0m n \u001b[38;5;241m=\u001b[39m \u001b[38;5;28;43mself\u001b[39;49m\u001b[38;5;241;43m.\u001b[39;49m\u001b[43mfp\u001b[49m\u001b[38;5;241;43m.\u001b[39;49m\u001b[43mreadinto\u001b[49m\u001b[43m(\u001b[49m\u001b[43mb\u001b[49m\u001b[43m)\u001b[49m\n\u001b[1;32m    504\u001b[0m \u001b[38;5;28;01mif\u001b[39;00m \u001b[38;5;129;01mnot\u001b[39;00m n \u001b[38;5;129;01mand\u001b[39;00m b:\n\u001b[1;32m    505\u001b[0m     \u001b[38;5;66;03m# Ideally, we would raise IncompleteRead if the content-length\u001b[39;00m\n\u001b[1;32m    506\u001b[0m     \u001b[38;5;66;03m# wasn't satisfied, but it might break compatibility.\u001b[39;00m\n",
      "File \u001b[0;32m/usr/lib/python3.8/socket.py:669\u001b[0m, in \u001b[0;36mSocketIO.readinto\u001b[0;34m(self, b)\u001b[0m\n\u001b[1;32m    668\u001b[0m \u001b[38;5;28;01mtry\u001b[39;00m:\n\u001b[0;32m--> 669\u001b[0m     \u001b[38;5;28;01mreturn\u001b[39;00m \u001b[38;5;28;43mself\u001b[39;49m\u001b[38;5;241;43m.\u001b[39;49m\u001b[43m_sock\u001b[49m\u001b[38;5;241;43m.\u001b[39;49m\u001b[43mrecv_into\u001b[49m\u001b[43m(\u001b[49m\u001b[43mb\u001b[49m\u001b[43m)\u001b[49m\n\u001b[1;32m    670\u001b[0m \u001b[38;5;28;01mexcept\u001b[39;00m timeout:\n",
      "File \u001b[0;32m/usr/lib/python3.8/ssl.py:1241\u001b[0m, in \u001b[0;36mSSLSocket.recv_into\u001b[0;34m(self, buffer, nbytes, flags)\u001b[0m\n\u001b[1;32m   1238\u001b[0m         \u001b[38;5;28;01mraise\u001b[39;00m \u001b[38;5;167;01mValueError\u001b[39;00m(\n\u001b[1;32m   1239\u001b[0m           \u001b[38;5;124m\"\u001b[39m\u001b[38;5;124mnon-zero flags not allowed in calls to recv_into() on \u001b[39m\u001b[38;5;132;01m%s\u001b[39;00m\u001b[38;5;124m\"\u001b[39m \u001b[38;5;241m%\u001b[39m\n\u001b[1;32m   1240\u001b[0m           \u001b[38;5;28mself\u001b[39m\u001b[38;5;241m.\u001b[39m\u001b[38;5;18m__class__\u001b[39m)\n\u001b[0;32m-> 1241\u001b[0m     \u001b[38;5;28;01mreturn\u001b[39;00m \u001b[38;5;28;43mself\u001b[39;49m\u001b[38;5;241;43m.\u001b[39;49m\u001b[43mread\u001b[49m\u001b[43m(\u001b[49m\u001b[43mnbytes\u001b[49m\u001b[43m,\u001b[49m\u001b[43m \u001b[49m\u001b[43mbuffer\u001b[49m\u001b[43m)\u001b[49m\n\u001b[1;32m   1242\u001b[0m \u001b[38;5;28;01melse\u001b[39;00m:\n",
      "File \u001b[0;32m/usr/lib/python3.8/ssl.py:1099\u001b[0m, in \u001b[0;36mSSLSocket.read\u001b[0;34m(self, len, buffer)\u001b[0m\n\u001b[1;32m   1098\u001b[0m \u001b[38;5;28;01mif\u001b[39;00m buffer \u001b[38;5;129;01mis\u001b[39;00m \u001b[38;5;129;01mnot\u001b[39;00m \u001b[38;5;28;01mNone\u001b[39;00m:\n\u001b[0;32m-> 1099\u001b[0m     \u001b[38;5;28;01mreturn\u001b[39;00m \u001b[38;5;28;43mself\u001b[39;49m\u001b[38;5;241;43m.\u001b[39;49m\u001b[43m_sslobj\u001b[49m\u001b[38;5;241;43m.\u001b[39;49m\u001b[43mread\u001b[49m\u001b[43m(\u001b[49m\u001b[38;5;28;43mlen\u001b[39;49m\u001b[43m,\u001b[49m\u001b[43m \u001b[49m\u001b[43mbuffer\u001b[49m\u001b[43m)\u001b[49m\n\u001b[1;32m   1100\u001b[0m \u001b[38;5;28;01melse\u001b[39;00m:\n",
      "\u001b[0;31mSSLError\u001b[0m: [SSL: DECRYPTION_FAILED_OR_BAD_RECORD_MAC] decryption failed or bad record mac (_ssl.c:2635)",
      "\nDuring handling of the above exception, another exception occurred:\n",
      "\u001b[0;31mSSLError\u001b[0m                                  Traceback (most recent call last)",
      "Input \u001b[0;32mIn [6]\u001b[0m, in \u001b[0;36m<cell line: 1>\u001b[0;34m()\u001b[0m\n\u001b[0;32m----> 1\u001b[0m df_bands \u001b[38;5;241m=\u001b[39m \u001b[43mload_participant_data_extract_features\u001b[49m\u001b[43m(\u001b[49m\u001b[38;5;241;43m30\u001b[39;49m\u001b[43m)\u001b[49m\n",
      "Input \u001b[0;32mIn [5]\u001b[0m, in \u001b[0;36mload_participant_data_extract_features\u001b[0;34m(num_of_participants)\u001b[0m\n\u001b[1;32m      4\u001b[0m df_eeg_features \u001b[38;5;241m=\u001b[39m pd\u001b[38;5;241m.\u001b[39mDataFrame()\n\u001b[1;32m      5\u001b[0m \u001b[38;5;28;01mfor\u001b[39;00m i \u001b[38;5;129;01min\u001b[39;00m \u001b[38;5;28mrange\u001b[39m(\u001b[38;5;241m1\u001b[39m, num_of_participants \u001b[38;5;241m+\u001b[39m \u001b[38;5;241m1\u001b[39m):\n\u001b[0;32m----> 6\u001b[0m     subject_raw, subject_events \u001b[38;5;241m=\u001b[39m \u001b[43mload_subjects_task\u001b[49m\u001b[43m(\u001b[49m\u001b[43mi\u001b[49m\u001b[43m,\u001b[49m\u001b[43m \u001b[49m\u001b[38;5;241;43m0\u001b[39;49m\u001b[43m)\u001b[49m\n\u001b[1;32m      7\u001b[0m     df_eeg_features \u001b[38;5;241m=\u001b[39m preprocess_raw_data_2d_extract_features(subject_raw, subject_events, i, df_eeg_features, plotting \u001b[38;5;241m=\u001b[39m \u001b[38;5;241m0\u001b[39m)\n\u001b[1;32m      8\u001b[0m \u001b[38;5;28;01mreturn\u001b[39;00m df_eeg_features\n",
      "Input \u001b[0;32mIn [2]\u001b[0m, in \u001b[0;36mload_subjects_task\u001b[0;34m(subject, task, run_number_left, run_number_right)\u001b[0m\n\u001b[1;32m      4\u001b[0m \u001b[38;5;66;03m# runs[0] open and close left or right fist\u001b[39;00m\n\u001b[1;32m      5\u001b[0m \u001b[38;5;66;03m# runs[1] imagine opening and closing left or right fist\u001b[39;00m\n\u001b[1;32m      6\u001b[0m \u001b[38;5;66;03m# runs[2] open and close both fists or both feet\u001b[39;00m\n\u001b[1;32m      7\u001b[0m \u001b[38;5;66;03m# runs[3] imagine opening and closing both fists or both feet\u001b[39;00m\n\u001b[1;32m      9\u001b[0m \u001b[38;5;124;03m\"\"\"\u001b[39;00m\n\u001b[1;32m     10\u001b[0m \u001b[38;5;124;03m    T0 corresponds to rest\u001b[39;00m\n\u001b[1;32m     11\u001b[0m \u001b[38;5;124;03m    T1 corresponds to onset of motion (real or imagined) of\u001b[39;00m\n\u001b[0;32m   (...)\u001b[0m\n\u001b[1;32m     16\u001b[0m \u001b[38;5;124;03m        both feet (in runs 5, 6, 9, 10, 13, and 14)\u001b[39;00m\n\u001b[1;32m     17\u001b[0m \u001b[38;5;124;03m\"\"\"\u001b[39;00m\n\u001b[0;32m---> 18\u001b[0m raw_fnames \u001b[38;5;241m=\u001b[39m \u001b[43mmne\u001b[49m\u001b[38;5;241;43m.\u001b[39;49m\u001b[43mdatasets\u001b[49m\u001b[38;5;241;43m.\u001b[39;49m\u001b[43meegbci\u001b[49m\u001b[38;5;241;43m.\u001b[39;49m\u001b[43mload_data\u001b[49m\u001b[43m(\u001b[49m\u001b[43msubject\u001b[49m\u001b[43m,\u001b[49m\u001b[43m \u001b[49m\u001b[43mruns\u001b[49m\u001b[43m[\u001b[49m\u001b[43mtask\u001b[49m\u001b[43m]\u001b[49m\u001b[43m[\u001b[49m\u001b[43mrun_number_left\u001b[49m\u001b[43m:\u001b[49m\u001b[43mrun_number_right\u001b[49m\u001b[43m]\u001b[49m\u001b[43m)\u001b[49m\n\u001b[1;32m     19\u001b[0m raw \u001b[38;5;241m=\u001b[39m mne\u001b[38;5;241m.\u001b[39mio\u001b[38;5;241m.\u001b[39mconcatenate_raws([mne\u001b[38;5;241m.\u001b[39mio\u001b[38;5;241m.\u001b[39mread_raw_edf(f, preload\u001b[38;5;241m=\u001b[39m\u001b[38;5;28;01mTrue\u001b[39;00m) \u001b[38;5;28;01mfor\u001b[39;00m f \u001b[38;5;129;01min\u001b[39;00m raw_fnames])\n\u001b[1;32m     20\u001b[0m channel_rename_dict \u001b[38;5;241m=\u001b[39m {\u001b[38;5;124m'\u001b[39m\u001b[38;5;124mFc5.\u001b[39m\u001b[38;5;124m'\u001b[39m:\u001b[38;5;124m'\u001b[39m\u001b[38;5;124mFC5\u001b[39m\u001b[38;5;124m'\u001b[39m, \u001b[38;5;124m'\u001b[39m\u001b[38;5;124mFc3.\u001b[39m\u001b[38;5;124m'\u001b[39m:\u001b[38;5;124m'\u001b[39m\u001b[38;5;124mFC3\u001b[39m\u001b[38;5;124m'\u001b[39m, \u001b[38;5;124m'\u001b[39m\u001b[38;5;124mFc1.\u001b[39m\u001b[38;5;124m'\u001b[39m:\u001b[38;5;124m'\u001b[39m\u001b[38;5;124mFC1\u001b[39m\u001b[38;5;124m'\u001b[39m, \u001b[38;5;124m'\u001b[39m\u001b[38;5;124mFcz.\u001b[39m\u001b[38;5;124m'\u001b[39m:\u001b[38;5;124m'\u001b[39m\u001b[38;5;124mFCz\u001b[39m\u001b[38;5;124m'\u001b[39m, \n\u001b[1;32m     21\u001b[0m                   \u001b[38;5;124m'\u001b[39m\u001b[38;5;124mFc2.\u001b[39m\u001b[38;5;124m'\u001b[39m:\u001b[38;5;124m'\u001b[39m\u001b[38;5;124mFC2\u001b[39m\u001b[38;5;124m'\u001b[39m, \u001b[38;5;124m'\u001b[39m\u001b[38;5;124mFc4.\u001b[39m\u001b[38;5;124m'\u001b[39m:\u001b[38;5;124m'\u001b[39m\u001b[38;5;124mFC4\u001b[39m\u001b[38;5;124m'\u001b[39m, \u001b[38;5;124m'\u001b[39m\u001b[38;5;124mFc6.\u001b[39m\u001b[38;5;124m'\u001b[39m:\u001b[38;5;124m'\u001b[39m\u001b[38;5;124mFC6\u001b[39m\u001b[38;5;124m'\u001b[39m, \u001b[38;5;124m'\u001b[39m\u001b[38;5;124mC5..\u001b[39m\u001b[38;5;124m'\u001b[39m:\u001b[38;5;124m'\u001b[39m\u001b[38;5;124mC5\u001b[39m\u001b[38;5;124m'\u001b[39m, \n\u001b[1;32m     22\u001b[0m                   \u001b[38;5;124m'\u001b[39m\u001b[38;5;124mC3..\u001b[39m\u001b[38;5;124m'\u001b[39m:\u001b[38;5;124m'\u001b[39m\u001b[38;5;124mC3\u001b[39m\u001b[38;5;124m'\u001b[39m, \u001b[38;5;124m'\u001b[39m\u001b[38;5;124mC1..\u001b[39m\u001b[38;5;124m'\u001b[39m:\u001b[38;5;124m'\u001b[39m\u001b[38;5;124mC1\u001b[39m\u001b[38;5;124m'\u001b[39m, \u001b[38;5;124m'\u001b[39m\u001b[38;5;124mCz..\u001b[39m\u001b[38;5;124m'\u001b[39m:\u001b[38;5;124m'\u001b[39m\u001b[38;5;124mCz\u001b[39m\u001b[38;5;124m'\u001b[39m, \u001b[38;5;124m'\u001b[39m\u001b[38;5;124mC2..\u001b[39m\u001b[38;5;124m'\u001b[39m:\u001b[38;5;124m'\u001b[39m\u001b[38;5;124mC2\u001b[39m\u001b[38;5;124m'\u001b[39m, \n\u001b[0;32m   (...)\u001b[0m\n\u001b[1;32m     34\u001b[0m                   \u001b[38;5;124m'\u001b[39m\u001b[38;5;124mPo3.\u001b[39m\u001b[38;5;124m'\u001b[39m:\u001b[38;5;124m'\u001b[39m\u001b[38;5;124mPO3\u001b[39m\u001b[38;5;124m'\u001b[39m, \u001b[38;5;124m'\u001b[39m\u001b[38;5;124mPoz.\u001b[39m\u001b[38;5;124m'\u001b[39m:\u001b[38;5;124m'\u001b[39m\u001b[38;5;124mPOz\u001b[39m\u001b[38;5;124m'\u001b[39m, \u001b[38;5;124m'\u001b[39m\u001b[38;5;124mPo4.\u001b[39m\u001b[38;5;124m'\u001b[39m:\u001b[38;5;124m'\u001b[39m\u001b[38;5;124mPO4\u001b[39m\u001b[38;5;124m'\u001b[39m, \u001b[38;5;124m'\u001b[39m\u001b[38;5;124mPo8.\u001b[39m\u001b[38;5;124m'\u001b[39m:\u001b[38;5;124m'\u001b[39m\u001b[38;5;124mPO8\u001b[39m\u001b[38;5;124m'\u001b[39m, \n\u001b[1;32m     35\u001b[0m                   \u001b[38;5;124m'\u001b[39m\u001b[38;5;124mO1..\u001b[39m\u001b[38;5;124m'\u001b[39m:\u001b[38;5;124m'\u001b[39m\u001b[38;5;124mO1\u001b[39m\u001b[38;5;124m'\u001b[39m, \u001b[38;5;124m'\u001b[39m\u001b[38;5;124mOz..\u001b[39m\u001b[38;5;124m'\u001b[39m:\u001b[38;5;124m'\u001b[39m\u001b[38;5;124mOz\u001b[39m\u001b[38;5;124m'\u001b[39m, \u001b[38;5;124m'\u001b[39m\u001b[38;5;124mO2..\u001b[39m\u001b[38;5;124m'\u001b[39m:\u001b[38;5;124m'\u001b[39m\u001b[38;5;124mO2\u001b[39m\u001b[38;5;124m'\u001b[39m, \u001b[38;5;124m'\u001b[39m\u001b[38;5;124mIz..\u001b[39m\u001b[38;5;124m'\u001b[39m:\u001b[38;5;124m'\u001b[39m\u001b[38;5;124mIz\u001b[39m\u001b[38;5;124m'\u001b[39m}\n",
      "File \u001b[0;32m<decorator-gen-533>:12\u001b[0m, in \u001b[0;36mload_data\u001b[0;34m(subject, runs, path, force_update, update_path, base_url, verbose)\u001b[0m\n",
      "File \u001b[0;32m~/.local/lib/python3.8/site-packages/mne/datasets/eegbci/eegbci.py:198\u001b[0m, in \u001b[0;36mload_data\u001b[0;34m(subject, runs, path, force_update, update_path, base_url, verbose)\u001b[0m\n\u001b[1;32m    196\u001b[0m \u001b[38;5;28;01mif\u001b[39;00m force_update \u001b[38;5;129;01mand\u001b[39;00m op\u001b[38;5;241m.\u001b[39misfile(destination):\n\u001b[1;32m    197\u001b[0m     os\u001b[38;5;241m.\u001b[39mremove(destination)\n\u001b[0;32m--> 198\u001b[0m data_paths\u001b[38;5;241m.\u001b[39mappend(\u001b[43mfetcher\u001b[49m\u001b[38;5;241;43m.\u001b[39;49m\u001b[43mfetch\u001b[49m\u001b[43m(\u001b[49m\u001b[43mfile_part\u001b[49m\u001b[43m)\u001b[49m)\n\u001b[1;32m    199\u001b[0m \u001b[38;5;66;03m# update path in config if desired\u001b[39;00m\n\u001b[1;32m    200\u001b[0m _do_path_update(path, update_path, config_key, name)\n",
      "File \u001b[0;32m~/.local/lib/python3.8/site-packages/pooch/core.py:587\u001b[0m, in \u001b[0;36mPooch.fetch\u001b[0;34m(self, fname, processor, downloader, progressbar)\u001b[0m\n\u001b[1;32m    584\u001b[0m     \u001b[38;5;28;01mif\u001b[39;00m downloader \u001b[38;5;129;01mis\u001b[39;00m \u001b[38;5;28;01mNone\u001b[39;00m:\n\u001b[1;32m    585\u001b[0m         downloader \u001b[38;5;241m=\u001b[39m choose_downloader(url, progressbar\u001b[38;5;241m=\u001b[39mprogressbar)\n\u001b[0;32m--> 587\u001b[0m     \u001b[43mstream_download\u001b[49m\u001b[43m(\u001b[49m\n\u001b[1;32m    588\u001b[0m \u001b[43m        \u001b[49m\u001b[43murl\u001b[49m\u001b[43m,\u001b[49m\n\u001b[1;32m    589\u001b[0m \u001b[43m        \u001b[49m\u001b[43mfull_path\u001b[49m\u001b[43m,\u001b[49m\n\u001b[1;32m    590\u001b[0m \u001b[43m        \u001b[49m\u001b[43mknown_hash\u001b[49m\u001b[43m,\u001b[49m\n\u001b[1;32m    591\u001b[0m \u001b[43m        \u001b[49m\u001b[43mdownloader\u001b[49m\u001b[43m,\u001b[49m\n\u001b[1;32m    592\u001b[0m \u001b[43m        \u001b[49m\u001b[43mpooch\u001b[49m\u001b[38;5;241;43m=\u001b[39;49m\u001b[38;5;28;43mself\u001b[39;49m\u001b[43m,\u001b[49m\n\u001b[1;32m    593\u001b[0m \u001b[43m        \u001b[49m\u001b[43mretry_if_failed\u001b[49m\u001b[38;5;241;43m=\u001b[39;49m\u001b[38;5;28;43mself\u001b[39;49m\u001b[38;5;241;43m.\u001b[39;49m\u001b[43mretry_if_failed\u001b[49m\u001b[43m,\u001b[49m\n\u001b[1;32m    594\u001b[0m \u001b[43m    \u001b[49m\u001b[43m)\u001b[49m\n\u001b[1;32m    596\u001b[0m \u001b[38;5;28;01mif\u001b[39;00m processor \u001b[38;5;129;01mis\u001b[39;00m \u001b[38;5;129;01mnot\u001b[39;00m \u001b[38;5;28;01mNone\u001b[39;00m:\n\u001b[1;32m    597\u001b[0m     \u001b[38;5;28;01mreturn\u001b[39;00m processor(\u001b[38;5;28mstr\u001b[39m(full_path), action, \u001b[38;5;28mself\u001b[39m)\n",
      "File \u001b[0;32m~/.local/lib/python3.8/site-packages/pooch/core.py:772\u001b[0m, in \u001b[0;36mstream_download\u001b[0;34m(url, fname, known_hash, downloader, pooch, retry_if_failed)\u001b[0m\n\u001b[1;32m    768\u001b[0m \u001b[38;5;28;01mtry\u001b[39;00m:\n\u001b[1;32m    769\u001b[0m     \u001b[38;5;66;03m# Stream the file to a temporary so that we can safely check its\u001b[39;00m\n\u001b[1;32m    770\u001b[0m     \u001b[38;5;66;03m# hash before overwriting the original.\u001b[39;00m\n\u001b[1;32m    771\u001b[0m     \u001b[38;5;28;01mwith\u001b[39;00m temporary_file(path\u001b[38;5;241m=\u001b[39m\u001b[38;5;28mstr\u001b[39m(fname\u001b[38;5;241m.\u001b[39mparent)) \u001b[38;5;28;01mas\u001b[39;00m tmp:\n\u001b[0;32m--> 772\u001b[0m         \u001b[43mdownloader\u001b[49m\u001b[43m(\u001b[49m\u001b[43murl\u001b[49m\u001b[43m,\u001b[49m\u001b[43m \u001b[49m\u001b[43mtmp\u001b[49m\u001b[43m,\u001b[49m\u001b[43m \u001b[49m\u001b[43mpooch\u001b[49m\u001b[43m)\u001b[49m\n\u001b[1;32m    773\u001b[0m         hash_matches(tmp, known_hash, strict\u001b[38;5;241m=\u001b[39m\u001b[38;5;28;01mTrue\u001b[39;00m, source\u001b[38;5;241m=\u001b[39m\u001b[38;5;28mstr\u001b[39m(fname\u001b[38;5;241m.\u001b[39mname))\n\u001b[1;32m    774\u001b[0m         shutil\u001b[38;5;241m.\u001b[39mmove(tmp, \u001b[38;5;28mstr\u001b[39m(fname))\n",
      "File \u001b[0;32m~/.local/lib/python3.8/site-packages/pooch/downloaders.py:209\u001b[0m, in \u001b[0;36mHTTPDownloader.__call__\u001b[0;34m(self, url, output_file, pooch)\u001b[0m\n\u001b[1;32m    207\u001b[0m     progress \u001b[38;5;241m=\u001b[39m \u001b[38;5;28mself\u001b[39m\u001b[38;5;241m.\u001b[39mprogressbar\n\u001b[1;32m    208\u001b[0m     progress\u001b[38;5;241m.\u001b[39mtotal \u001b[38;5;241m=\u001b[39m total\n\u001b[0;32m--> 209\u001b[0m \u001b[38;5;28;01mfor\u001b[39;00m chunk \u001b[38;5;129;01min\u001b[39;00m content:\n\u001b[1;32m    210\u001b[0m     \u001b[38;5;28;01mif\u001b[39;00m chunk:\n\u001b[1;32m    211\u001b[0m         output_file\u001b[38;5;241m.\u001b[39mwrite(chunk)\n",
      "File \u001b[0;32m~/.local/lib/python3.8/site-packages/requests/models.py:760\u001b[0m, in \u001b[0;36mResponse.iter_content.<locals>.generate\u001b[0;34m()\u001b[0m\n\u001b[1;32m    758\u001b[0m \u001b[38;5;28;01mif\u001b[39;00m \u001b[38;5;28mhasattr\u001b[39m(\u001b[38;5;28mself\u001b[39m\u001b[38;5;241m.\u001b[39mraw, \u001b[38;5;124m'\u001b[39m\u001b[38;5;124mstream\u001b[39m\u001b[38;5;124m'\u001b[39m):\n\u001b[1;32m    759\u001b[0m     \u001b[38;5;28;01mtry\u001b[39;00m:\n\u001b[0;32m--> 760\u001b[0m         \u001b[38;5;28;01mfor\u001b[39;00m chunk \u001b[38;5;129;01min\u001b[39;00m \u001b[38;5;28mself\u001b[39m\u001b[38;5;241m.\u001b[39mraw\u001b[38;5;241m.\u001b[39mstream(chunk_size, decode_content\u001b[38;5;241m=\u001b[39m\u001b[38;5;28;01mTrue\u001b[39;00m):\n\u001b[1;32m    761\u001b[0m             \u001b[38;5;28;01myield\u001b[39;00m chunk\n\u001b[1;32m    762\u001b[0m     \u001b[38;5;28;01mexcept\u001b[39;00m ProtocolError \u001b[38;5;28;01mas\u001b[39;00m e:\n",
      "File \u001b[0;32m~/.local/lib/python3.8/site-packages/urllib3/response.py:579\u001b[0m, in \u001b[0;36mHTTPResponse.stream\u001b[0;34m(self, amt, decode_content)\u001b[0m\n\u001b[1;32m    577\u001b[0m \u001b[38;5;28;01melse\u001b[39;00m:\n\u001b[1;32m    578\u001b[0m     \u001b[38;5;28;01mwhile\u001b[39;00m \u001b[38;5;129;01mnot\u001b[39;00m is_fp_closed(\u001b[38;5;28mself\u001b[39m\u001b[38;5;241m.\u001b[39m_fp):\n\u001b[0;32m--> 579\u001b[0m         data \u001b[38;5;241m=\u001b[39m \u001b[38;5;28;43mself\u001b[39;49m\u001b[38;5;241;43m.\u001b[39;49m\u001b[43mread\u001b[49m\u001b[43m(\u001b[49m\u001b[43mamt\u001b[49m\u001b[38;5;241;43m=\u001b[39;49m\u001b[43mamt\u001b[49m\u001b[43m,\u001b[49m\u001b[43m \u001b[49m\u001b[43mdecode_content\u001b[49m\u001b[38;5;241;43m=\u001b[39;49m\u001b[43mdecode_content\u001b[49m\u001b[43m)\u001b[49m\n\u001b[1;32m    581\u001b[0m         \u001b[38;5;28;01mif\u001b[39;00m data:\n\u001b[1;32m    582\u001b[0m             \u001b[38;5;28;01myield\u001b[39;00m data\n",
      "File \u001b[0;32m~/.local/lib/python3.8/site-packages/urllib3/response.py:544\u001b[0m, in \u001b[0;36mHTTPResponse.read\u001b[0;34m(self, amt, decode_content, cache_content)\u001b[0m\n\u001b[1;32m    534\u001b[0m             flush_decoder \u001b[38;5;241m=\u001b[39m \u001b[38;5;28;01mTrue\u001b[39;00m\n\u001b[1;32m    535\u001b[0m             \u001b[38;5;28;01mif\u001b[39;00m \u001b[38;5;28mself\u001b[39m\u001b[38;5;241m.\u001b[39menforce_content_length \u001b[38;5;129;01mand\u001b[39;00m \u001b[38;5;28mself\u001b[39m\u001b[38;5;241m.\u001b[39mlength_remaining \u001b[38;5;129;01mnot\u001b[39;00m \u001b[38;5;129;01min\u001b[39;00m (\n\u001b[1;32m    536\u001b[0m                 \u001b[38;5;241m0\u001b[39m,\n\u001b[1;32m    537\u001b[0m                 \u001b[38;5;28;01mNone\u001b[39;00m,\n\u001b[0;32m   (...)\u001b[0m\n\u001b[1;32m    542\u001b[0m                 \u001b[38;5;66;03m# raised during streaming, so all calls with incorrect\u001b[39;00m\n\u001b[1;32m    543\u001b[0m                 \u001b[38;5;66;03m# Content-Length are caught.\u001b[39;00m\n\u001b[0;32m--> 544\u001b[0m                 \u001b[38;5;28;01mraise\u001b[39;00m IncompleteRead(\u001b[38;5;28mself\u001b[39m\u001b[38;5;241m.\u001b[39m_fp_bytes_read, \u001b[38;5;28mself\u001b[39m\u001b[38;5;241m.\u001b[39mlength_remaining)\n\u001b[1;32m    546\u001b[0m \u001b[38;5;28;01mif\u001b[39;00m data:\n\u001b[1;32m    547\u001b[0m     \u001b[38;5;28mself\u001b[39m\u001b[38;5;241m.\u001b[39m_fp_bytes_read \u001b[38;5;241m+\u001b[39m\u001b[38;5;241m=\u001b[39m \u001b[38;5;28mlen\u001b[39m(data)\n",
      "File \u001b[0;32m/usr/lib/python3.8/contextlib.py:131\u001b[0m, in \u001b[0;36m_GeneratorContextManager.__exit__\u001b[0;34m(self, type, value, traceback)\u001b[0m\n\u001b[1;32m    129\u001b[0m     value \u001b[38;5;241m=\u001b[39m \u001b[38;5;28mtype\u001b[39m()\n\u001b[1;32m    130\u001b[0m \u001b[38;5;28;01mtry\u001b[39;00m:\n\u001b[0;32m--> 131\u001b[0m     \u001b[38;5;28;43mself\u001b[39;49m\u001b[38;5;241;43m.\u001b[39;49m\u001b[43mgen\u001b[49m\u001b[38;5;241;43m.\u001b[39;49m\u001b[43mthrow\u001b[49m\u001b[43m(\u001b[49m\u001b[38;5;28;43mtype\u001b[39;49m\u001b[43m,\u001b[49m\u001b[43m \u001b[49m\u001b[43mvalue\u001b[49m\u001b[43m,\u001b[49m\u001b[43m \u001b[49m\u001b[43mtraceback\u001b[49m\u001b[43m)\u001b[49m\n\u001b[1;32m    132\u001b[0m \u001b[38;5;28;01mexcept\u001b[39;00m \u001b[38;5;167;01mStopIteration\u001b[39;00m \u001b[38;5;28;01mas\u001b[39;00m exc:\n\u001b[1;32m    133\u001b[0m     \u001b[38;5;66;03m# Suppress StopIteration *unless* it's the same exception that\u001b[39;00m\n\u001b[1;32m    134\u001b[0m     \u001b[38;5;66;03m# was passed to throw().  This prevents a StopIteration\u001b[39;00m\n\u001b[1;32m    135\u001b[0m     \u001b[38;5;66;03m# raised inside the \"with\" statement from being suppressed.\u001b[39;00m\n\u001b[1;32m    136\u001b[0m     \u001b[38;5;28;01mreturn\u001b[39;00m exc \u001b[38;5;129;01mis\u001b[39;00m \u001b[38;5;129;01mnot\u001b[39;00m value\n",
      "File \u001b[0;32m~/.local/lib/python3.8/site-packages/urllib3/response.py:452\u001b[0m, in \u001b[0;36mHTTPResponse._error_catcher\u001b[0;34m(self)\u001b[0m\n\u001b[1;32m    448\u001b[0m \u001b[38;5;28;01mexcept\u001b[39;00m BaseSSLError \u001b[38;5;28;01mas\u001b[39;00m e:\n\u001b[1;32m    449\u001b[0m     \u001b[38;5;66;03m# FIXME: Is there a better way to differentiate between SSLErrors?\u001b[39;00m\n\u001b[1;32m    450\u001b[0m     \u001b[38;5;28;01mif\u001b[39;00m \u001b[38;5;124m\"\u001b[39m\u001b[38;5;124mread operation timed out\u001b[39m\u001b[38;5;124m\"\u001b[39m \u001b[38;5;129;01mnot\u001b[39;00m \u001b[38;5;129;01min\u001b[39;00m \u001b[38;5;28mstr\u001b[39m(e):\n\u001b[1;32m    451\u001b[0m         \u001b[38;5;66;03m# SSL errors related to framing/MAC get wrapped and reraised here\u001b[39;00m\n\u001b[0;32m--> 452\u001b[0m         \u001b[38;5;28;01mraise\u001b[39;00m SSLError(e)\n\u001b[1;32m    454\u001b[0m     \u001b[38;5;28;01mraise\u001b[39;00m ReadTimeoutError(\u001b[38;5;28mself\u001b[39m\u001b[38;5;241m.\u001b[39m_pool, \u001b[38;5;28;01mNone\u001b[39;00m, \u001b[38;5;124m\"\u001b[39m\u001b[38;5;124mRead timed out.\u001b[39m\u001b[38;5;124m\"\u001b[39m)\n\u001b[1;32m    456\u001b[0m \u001b[38;5;28;01mexcept\u001b[39;00m (HTTPException, SocketError) \u001b[38;5;28;01mas\u001b[39;00m e:\n\u001b[1;32m    457\u001b[0m     \u001b[38;5;66;03m# This includes IncompleteRead.\u001b[39;00m\n",
      "\u001b[0;31mSSLError\u001b[0m: [SSL: DECRYPTION_FAILED_OR_BAD_RECORD_MAC] decryption failed or bad record mac (_ssl.c:2635)"
     ]
    }
   ],
   "source": [
    "df_bands = load_participant_data_extract_features(30)"
   ]
  },
  {
   "cell_type": "code",
   "execution_count": null,
   "metadata": {},
   "outputs": [],
   "source": [
    "df_bands[\"label\"] = df_bands[\"label\"].astype('int')\n",
    "df_bands"
   ]
  },
  {
   "cell_type": "code",
   "execution_count": null,
   "metadata": {},
   "outputs": [],
   "source": [
    "df_bands_2 = df_bands.drop([\"participant_id\"], axis=1)"
   ]
  },
  {
   "cell_type": "code",
   "execution_count": null,
   "metadata": {},
   "outputs": [],
   "source": [
    "X = df_bands_2[df_bands_2.columns.difference([\"label\"])]\n",
    "y = df_bands_2[\"label\"]"
   ]
  },
  {
   "cell_type": "code",
   "execution_count": null,
   "metadata": {},
   "outputs": [],
   "source": [
    "X_train, X_test, y_train, y_test = train_test_split(X, y, test_size=0.10, random_state=4, stratify=y)\n",
    "print(X_train.shape, y_train.shape, X_test.shape, y_test.shape)"
   ]
  },
  {
   "cell_type": "code",
   "execution_count": null,
   "metadata": {},
   "outputs": [],
   "source": [
    "model = SVC()\n",
    "model.fit(X_train, y_train)\n",
    "predictions = model.predict(X_test)\n",
    "print(list(predictions))\n",
    "print(list(y_test))"
   ]
  },
  {
   "cell_type": "code",
   "execution_count": null,
   "metadata": {},
   "outputs": [],
   "source": [
    "score_of_the_model = model.score(X_test, y_test)\n",
    "print('model score: {}'.format(score_of_the_model))"
   ]
  },
  {
   "cell_type": "code",
   "execution_count": null,
   "metadata": {},
   "outputs": [],
   "source": [
    "clf = make_pipeline(StandardScaler(), SVC(gamma='auto'))\n",
    "clf.fit(X_train, y_train)\n",
    "score_of_the_model = clf.score(X_test, y_test)\n",
    "print('model score: {}'.format(score_of_the_model))"
   ]
  },
  {
   "cell_type": "code",
   "execution_count": null,
   "metadata": {},
   "outputs": [],
   "source": []
  }
 ],
 "metadata": {
  "kernelspec": {
   "display_name": "Python 3 (ipykernel)",
   "language": "python",
   "name": "python3"
  },
  "language_info": {
   "codemirror_mode": {
    "name": "ipython",
    "version": 3
   },
   "file_extension": ".py",
   "mimetype": "text/x-python",
   "name": "python",
   "nbconvert_exporter": "python",
   "pygments_lexer": "ipython3",
   "version": "3.8.10"
  }
 },
 "nbformat": 4,
 "nbformat_minor": 4
}
